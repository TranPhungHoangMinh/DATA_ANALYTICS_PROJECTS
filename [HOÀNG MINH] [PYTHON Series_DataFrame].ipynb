{
 "cells": [
  {
   "cell_type": "markdown",
   "id": "948468cd-1f6c-44c9-9b03-91018f172a7e",
   "metadata": {
    "jp-MarkdownHeadingCollapsed": true
   },
   "source": [
    "# CHAPTER 6 - EXERCISE 1: TRUY XUẤT CÁC PHẦN TỬ VÀ THỐNG KÊ TRÊN SERIES"
   ]
  },
  {
   "cell_type": "markdown",
   "id": "8bdf85a6-01b6-4ad7-8e4d-6d234640f1a6",
   "metadata": {
    "jp-MarkdownHeadingCollapsed": true
   },
   "source": [
    "## Ghi chú về dữ liệu\n",
    "**Ghi chú về dữ liệu:** Major League Baseball (MLB) là giải đấu bóng chày chuyên nghiệp. Major League Baseball có tổng cộng 30 đội bóng đến từ nhiều bang khác nhau của Mỹ và Canada (29 đội từ Mỹ và 1 đội từ Canada). MLB luôn được sự quan tâm lớn của hầu hết fan bóng chày trên toàn thế giới, và cũng được xem là giải đấu nổi tiếng và uy tín nhất, tập hợp những cầu thủ có trình độ cao nhất trong bộ môn này. Dữ liệu heights (tính theo inches) và weights (tính theo pounds) là chiều cao và cân nặng của các cầu thủ có tham gia 1 số giải của MLB.\n",
    "\n",
    "**_Đọc và chuyển dữ liệu, sau đó tính BMI theo điều kiện, truy xuất dữ liệu._**"
   ]
  },
  {
   "cell_type": "code",
   "execution_count": 1,
   "id": "86e7e3ea-99df-4a3a-b4a8-bbd320c36920",
   "metadata": {},
   "outputs": [],
   "source": [
    "import pandas as pd"
   ]
  },
  {
   "cell_type": "code",
   "execution_count": 2,
   "id": "c4f40d20-36f4-4dfd-a30f-125e28504709",
   "metadata": {},
   "outputs": [],
   "source": [
    "def get_data(fname):\n",
    "    f = open(fname)\n",
    "    data = f.read()\n",
    "    f.close()\n",
    "    return list(eval(data))"
   ]
  },
  {
   "cell_type": "markdown",
   "id": "4c6d7151-7687-4c01-b0da-88ddc6d68015",
   "metadata": {},
   "source": [
    "**_Đọc dữ liệu từ 2 tập tin 'heights.txt' và 'weights.txt' vào list là height, weight._**"
   ]
  },
  {
   "cell_type": "code",
   "execution_count": 3,
   "id": "89482990-c637-4213-a9b0-103da842d008",
   "metadata": {},
   "outputs": [],
   "source": [
    "height = get_data('data6/heights.txt')\n",
    "weight = get_data('data6/weights.txt')"
   ]
  },
  {
   "cell_type": "markdown",
   "id": "789dc1ce-4c92-42fa-9f6e-404aa19bd2d5",
   "metadata": {
    "jp-MarkdownHeadingCollapsed": true
   },
   "source": [
    "### Yêu cầu 1:"
   ]
  },
  {
   "cell_type": "markdown",
   "id": "6f2ce7c9-ebe8-41af-ab1a-b4c9264c3b1b",
   "metadata": {},
   "source": [
    "**a. Tạo Series ser_height từ list height**"
   ]
  },
  {
   "cell_type": "code",
   "execution_count": 4,
   "id": "d6439701-1a39-44ed-b556-d96e6934e83e",
   "metadata": {
    "scrolled": true
   },
   "outputs": [],
   "source": [
    "ser_height = pd.Series(height)"
   ]
  },
  {
   "cell_type": "markdown",
   "id": "9f1201b3-0fe0-46fc-809c-a645629d711e",
   "metadata": {},
   "source": [
    "**b. In danh sách các phần tử của ser_height**"
   ]
  },
  {
   "cell_type": "code",
   "execution_count": 5,
   "id": "25df8025-8f5f-4278-844d-bc041e7b5ab7",
   "metadata": {},
   "outputs": [
    {
     "data": {
      "text/plain": [
       "0       74\n",
       "1       74\n",
       "2       72\n",
       "3       72\n",
       "4       73\n",
       "        ..\n",
       "1010    73\n",
       "1011    74\n",
       "1012    75\n",
       "1013    75\n",
       "1014    73\n",
       "Length: 1015, dtype: int64"
      ]
     },
     "execution_count": 5,
     "metadata": {},
     "output_type": "execute_result"
    }
   ],
   "source": [
    "ser_height"
   ]
  },
  {
   "cell_type": "markdown",
   "id": "126019cc-debf-456a-b2e4-45bde4202a10",
   "metadata": {},
   "source": [
    "**c. Cho biết kích thước (shape) của ser_height**"
   ]
  },
  {
   "cell_type": "code",
   "execution_count": 6,
   "id": "bce15403-ecce-4b99-85ec-32feabde8dc6",
   "metadata": {},
   "outputs": [
    {
     "data": {
      "text/plain": [
       "(1015,)"
      ]
     },
     "execution_count": 6,
     "metadata": {},
     "output_type": "execute_result"
    }
   ],
   "source": [
    "ser_height.shape"
   ]
  },
  {
   "cell_type": "markdown",
   "id": "29e1302b-d928-47be-a5f4-d6919598e2f7",
   "metadata": {},
   "source": [
    "**d. Cho biết kiểu dữ liệu của các phần tử trong ser_height**"
   ]
  },
  {
   "cell_type": "code",
   "execution_count": 7,
   "id": "6dc27bbe-e2d1-451b-935b-27a1ab6e7760",
   "metadata": {},
   "outputs": [
    {
     "data": {
      "text/plain": [
       "dtype('int64')"
      ]
     },
     "execution_count": 7,
     "metadata": {},
     "output_type": "execute_result"
    }
   ],
   "source": [
    "ser_height.dtype"
   ]
  },
  {
   "cell_type": "markdown",
   "id": "039df68f-077a-49e0-a3a2-05231072834d",
   "metadata": {
    "jp-MarkdownHeadingCollapsed": true
   },
   "source": [
    "### Yêu cầu 2:"
   ]
  },
  {
   "cell_type": "markdown",
   "id": "7931fc4d-5d56-4ebf-becf-2ef3d6b3e167",
   "metadata": {},
   "source": [
    "**a. Tạo Series ser_weight từ list weight**"
   ]
  },
  {
   "cell_type": "code",
   "execution_count": 8,
   "id": "eabae829-9c77-495f-867f-6b9c379d4c64",
   "metadata": {},
   "outputs": [],
   "source": [
    "ser_weight = pd.Series(weight) "
   ]
  },
  {
   "cell_type": "markdown",
   "id": "24b17d92-af91-4982-b186-b65f94e1f184",
   "metadata": {},
   "source": [
    "**b. In danh sách các phần tử của ser_weight**"
   ]
  },
  {
   "cell_type": "code",
   "execution_count": 9,
   "id": "563b9f5e-a6af-40b0-82e3-5f0bd758336c",
   "metadata": {},
   "outputs": [
    {
     "data": {
      "text/plain": [
       "0       180\n",
       "1       215\n",
       "2       210\n",
       "3       210\n",
       "4       188\n",
       "       ... \n",
       "1010    190\n",
       "1011    180\n",
       "1012    205\n",
       "1013    190\n",
       "1014    195\n",
       "Length: 1015, dtype: int64"
      ]
     },
     "execution_count": 9,
     "metadata": {},
     "output_type": "execute_result"
    }
   ],
   "source": [
    "ser_weight"
   ]
  },
  {
   "cell_type": "markdown",
   "id": "543bab4d-3c57-488f-a067-36e460d792b0",
   "metadata": {},
   "source": [
    "**c. Cho biết kích thước (shape) của ser_weight**"
   ]
  },
  {
   "cell_type": "code",
   "execution_count": 10,
   "id": "9c8130f4-09d2-4182-a53b-ca974ad47684",
   "metadata": {},
   "outputs": [
    {
     "data": {
      "text/plain": [
       "(1015,)"
      ]
     },
     "execution_count": 10,
     "metadata": {},
     "output_type": "execute_result"
    }
   ],
   "source": [
    "ser_weight.shape"
   ]
  },
  {
   "cell_type": "markdown",
   "id": "03465631-6ae1-40f0-97a2-b8c2b5e27212",
   "metadata": {},
   "source": [
    "**d. Cho biết kiểu dữ liệu của các phần tử trong ser_height**"
   ]
  },
  {
   "cell_type": "code",
   "execution_count": 11,
   "id": "d0a2a797-1f15-4e10-a871-325935845336",
   "metadata": {},
   "outputs": [
    {
     "data": {
      "text/plain": [
       "dtype('int64')"
      ]
     },
     "execution_count": 11,
     "metadata": {},
     "output_type": "execute_result"
    }
   ],
   "source": [
    "ser_weight.dtype"
   ]
  },
  {
   "cell_type": "markdown",
   "id": "95babdab-a4e5-4398-88bf-9b79bd758045",
   "metadata": {
    "jp-MarkdownHeadingCollapsed": true
   },
   "source": [
    "### Yêu cầu 3:"
   ]
  },
  {
   "cell_type": "markdown",
   "id": "bcbf58d7-1b12-477a-bc14-60097bd3290c",
   "metadata": {},
   "source": [
    "**Cho hệ số quy đổi từ inch sang m là 0.0254**"
   ]
  },
  {
   "cell_type": "markdown",
   "id": "2da2726a-664c-4250-9535-04b6ee8f61c6",
   "metadata": {},
   "source": [
    "**a. Tạo Series height_m dựa trên công thức: ser_height * hệ số quy đổi, làm tròn đến 2 chữ số thập phân**"
   ]
  },
  {
   "cell_type": "code",
   "execution_count": 12,
   "id": "a8a4e22e-1bb2-4971-b96d-a586f448fb1c",
   "metadata": {},
   "outputs": [],
   "source": [
    "height_m = pd.Series(round(ser_height*0.0254,2))"
   ]
  },
  {
   "cell_type": "markdown",
   "id": "2194e9c8-b19d-4992-810d-aa88cba43415",
   "metadata": {},
   "source": [
    "**b. In danh sách các phần tử của height_m**"
   ]
  },
  {
   "cell_type": "code",
   "execution_count": 13,
   "id": "09dc1f0e-7c01-4ca8-b2bc-c33a327bb959",
   "metadata": {},
   "outputs": [
    {
     "data": {
      "text/plain": [
       "0       1.88\n",
       "1       1.88\n",
       "2       1.83\n",
       "3       1.83\n",
       "4       1.85\n",
       "        ... \n",
       "1010    1.85\n",
       "1011    1.88\n",
       "1012    1.90\n",
       "1013    1.90\n",
       "1014    1.85\n",
       "Length: 1015, dtype: float64"
      ]
     },
     "execution_count": 13,
     "metadata": {},
     "output_type": "execute_result"
    }
   ],
   "source": [
    "height_m"
   ]
  },
  {
   "cell_type": "markdown",
   "id": "7acc82d3-bbb6-4c0c-a6ff-7158ad173574",
   "metadata": {
    "jp-MarkdownHeadingCollapsed": true
   },
   "source": [
    "### Yêu cầu 4:"
   ]
  },
  {
   "cell_type": "markdown",
   "id": "9e51ccf5-438b-428a-9fff-35ae17b3ac53",
   "metadata": {},
   "source": [
    "**Cho hệ số quy đổi từ pound sang kg là 0.453592**"
   ]
  },
  {
   "cell_type": "markdown",
   "id": "660dd166-e92b-4fa3-8b73-5def51cd2a2b",
   "metadata": {},
   "source": [
    "**a. Tạo Series weight_kg dựa trên công thức: ser_weight * hệ số quy đổi Làm tròn đến hàng đơn vị**"
   ]
  },
  {
   "cell_type": "code",
   "execution_count": 14,
   "id": "a7836a28-0d3e-4132-8467-2337e76de3c7",
   "metadata": {},
   "outputs": [],
   "source": [
    "weight_kg = pd.Series(round(ser_weight*0.453592))"
   ]
  },
  {
   "cell_type": "markdown",
   "id": "190e4551-e840-4962-94fc-8afffec559d0",
   "metadata": {},
   "source": [
    "**b. In danh sách các phần tử của weight_kg**"
   ]
  },
  {
   "cell_type": "code",
   "execution_count": 15,
   "id": "d1d75829-851d-4eb2-9802-657f3b4ddb28",
   "metadata": {},
   "outputs": [
    {
     "data": {
      "text/plain": [
       "0       82.0\n",
       "1       98.0\n",
       "2       95.0\n",
       "3       95.0\n",
       "4       85.0\n",
       "        ... \n",
       "1010    86.0\n",
       "1011    82.0\n",
       "1012    93.0\n",
       "1013    86.0\n",
       "1014    88.0\n",
       "Length: 1015, dtype: float64"
      ]
     },
     "execution_count": 15,
     "metadata": {},
     "output_type": "execute_result"
    }
   ],
   "source": [
    "weight_kg"
   ]
  },
  {
   "cell_type": "markdown",
   "id": "a61829ed-2d1e-4bf3-bb9a-e2f8f6fecf87",
   "metadata": {
    "jp-MarkdownHeadingCollapsed": true
   },
   "source": [
    "### Yêu cầu 5:"
   ]
  },
  {
   "cell_type": "markdown",
   "id": "bb9c31f5-22dd-49bc-9d25-3e6c79233e5b",
   "metadata": {},
   "source": [
    "**a. Tính giá trị BMI (Body Mass Index) của height_m và weight_kg và lưu vào bmi**"
   ]
  },
  {
   "cell_type": "code",
   "execution_count": 16,
   "id": "b5ab8703-191a-4d80-9a12-262b995d1b8a",
   "metadata": {},
   "outputs": [],
   "source": [
    "BMI = pd.Series(weight_kg/(height_m*height_m))"
   ]
  },
  {
   "cell_type": "markdown",
   "id": "27116254-7b5d-416c-a213-076bcb8e589a",
   "metadata": {},
   "source": [
    "**b. In ra danh sách các phần tử của Series bmi**"
   ]
  },
  {
   "cell_type": "code",
   "execution_count": 17,
   "id": "9f831266-f7d5-4db3-a36d-3e99f556e900",
   "metadata": {},
   "outputs": [
    {
     "data": {
      "text/plain": [
       "0       23.200543\n",
       "1       27.727478\n",
       "2       28.367524\n",
       "3       28.367524\n",
       "4       24.835646\n",
       "          ...    \n",
       "1010    25.127831\n",
       "1011    23.200543\n",
       "1012    25.761773\n",
       "1013    23.822715\n",
       "1014    25.712199\n",
       "Length: 1015, dtype: float64"
      ]
     },
     "execution_count": 17,
     "metadata": {},
     "output_type": "execute_result"
    }
   ],
   "source": [
    "BMI"
   ]
  },
  {
   "cell_type": "markdown",
   "id": "2e19dfee-da89-4a45-8110-746f5086dcef",
   "metadata": {
    "jp-MarkdownHeadingCollapsed": true
   },
   "source": [
    "### Yêu cầu 6:"
   ]
  },
  {
   "cell_type": "markdown",
   "id": "04d82bc4-1cea-4fd6-ab02-d76eafd215e4",
   "metadata": {},
   "source": [
    "**Cho biết giá trị cân nặng của VĐV ở vị trí index = 50 trong weight_kg**"
   ]
  },
  {
   "cell_type": "code",
   "execution_count": 18,
   "id": "ebac1c38-dacb-41fc-8d40-4b8ce9fa6336",
   "metadata": {},
   "outputs": [
    {
     "data": {
      "text/plain": [
       "91.0"
      ]
     },
     "execution_count": 18,
     "metadata": {},
     "output_type": "execute_result"
    }
   ],
   "source": [
    "weight_kg[50]"
   ]
  },
  {
   "cell_type": "markdown",
   "id": "49ce6d3d-a862-4f57-86d8-7afee21e21e0",
   "metadata": {
    "jp-MarkdownHeadingCollapsed": true
   },
   "source": [
    "### Yêu cầu 7:"
   ]
  },
  {
   "cell_type": "markdown",
   "id": "26104964-a73a-44fd-b5fa-da4be006649a",
   "metadata": {},
   "source": [
    "**Lọc ra chiều cao của các VĐV ở vị trí index từ 100 đến 110 (lấy cả index 110) trong height_m**"
   ]
  },
  {
   "cell_type": "code",
   "execution_count": 19,
   "id": "56c39b65-f89f-467d-9ad9-eece196bf328",
   "metadata": {},
   "outputs": [
    {
     "data": {
      "text/plain": [
       "100    1.85\n",
       "101    1.88\n",
       "102    1.83\n",
       "103    1.85\n",
       "104    1.75\n",
       "105    1.83\n",
       "106    1.85\n",
       "107    1.90\n",
       "108    1.90\n",
       "109    1.85\n",
       "110    1.83\n",
       "dtype: float64"
      ]
     },
     "execution_count": 19,
     "metadata": {},
     "output_type": "execute_result"
    }
   ],
   "source": [
    "height_m[100:111]"
   ]
  },
  {
   "cell_type": "markdown",
   "id": "e6547a03-74fe-48be-b7bf-50358ee702d0",
   "metadata": {
    "jp-MarkdownHeadingCollapsed": true
   },
   "source": [
    "### Yêu cầu 8:"
   ]
  },
  {
   "cell_type": "markdown",
   "id": "23bc69d5-2b65-42fd-98fb-5a01bd7d04f5",
   "metadata": {},
   "source": [
    "**a. Tạo và in kết quả của biểu thức điều kiện dùng để lấy ra các cầu thủ bóng chày có bmi < 21**"
   ]
  },
  {
   "cell_type": "code",
   "execution_count": 20,
   "id": "62f1a610-7713-4f51-93a2-a3971adfaddf",
   "metadata": {},
   "outputs": [
    {
     "data": {
      "text/plain": [
       "0       False\n",
       "1       False\n",
       "2       False\n",
       "3       False\n",
       "4       False\n",
       "        ...  \n",
       "1010    False\n",
       "1011    False\n",
       "1012    False\n",
       "1013    False\n",
       "1014    False\n",
       "Length: 1015, dtype: bool"
      ]
     },
     "execution_count": 20,
     "metadata": {},
     "output_type": "execute_result"
    }
   ],
   "source": [
    "light = BMI < 21\n",
    "light"
   ]
  },
  {
   "cell_type": "markdown",
   "id": "fbd1a86b-a2f2-43e3-bd38-354306a1f983",
   "metadata": {},
   "source": [
    "**b. Áp dụng biểu thức điều kiện để in ra các cầu thủ bóng chày có bmi < 21 trong bmi**"
   ]
  },
  {
   "cell_type": "code",
   "execution_count": 21,
   "id": "147f85eb-130b-4a3c-9c63-2294ccaccbcd",
   "metadata": {},
   "outputs": [
    {
     "data": {
      "text/plain": [
       "13     20.654142\n",
       "89     20.654142\n",
       "159    20.671696\n",
       "271    20.671696\n",
       "279    20.305175\n",
       "357    20.305175\n",
       "499    20.671696\n",
       "658    20.043732\n",
       "742    19.667590\n",
       "793    20.671696\n",
       "906    20.987654\n",
       "dtype: float64"
      ]
     },
     "execution_count": 21,
     "metadata": {},
     "output_type": "execute_result"
    }
   ],
   "source": [
    "BMI_LowerThan_21 = BMI[light]\n",
    "BMI_LowerThan_21"
   ]
  },
  {
   "cell_type": "markdown",
   "id": "ab2cfba8-ebfd-4830-aadb-131781b9ccd9",
   "metadata": {
    "jp-MarkdownHeadingCollapsed": true
   },
   "source": [
    "### Yêu cầu 9:"
   ]
  },
  {
   "cell_type": "markdown",
   "id": "27c57e26-871c-436a-ab79-94c8b06d448c",
   "metadata": {},
   "source": [
    "**Cho biết chiều cao và cân nặng trung bình của các VĐV**"
   ]
  },
  {
   "cell_type": "code",
   "execution_count": 22,
   "id": "2d387d3f-7b01-47ce-95ea-0556d3d23532",
   "metadata": {},
   "outputs": [
    {
     "name": "stdout",
     "output_type": "stream",
     "text": [
      "Chiều cao trung bình của các VĐV là:  1.87 m\n",
      "Cân nặng trung bình của các VĐV là:  91.35 kg\n"
     ]
    }
   ],
   "source": [
    "AverageHeight = round(height_m.mean(),2)\n",
    "print('Chiều cao trung bình của các VĐV là: ', AverageHeight, 'm')\n",
    "AverageWeight = round(weight_kg.mean(),2)\n",
    "print('Cân nặng trung bình của các VĐV là: ', AverageWeight, 'kg')"
   ]
  },
  {
   "cell_type": "markdown",
   "id": "bbebdc14-bd01-484a-98a8-0a9c914c91af",
   "metadata": {
    "jp-MarkdownHeadingCollapsed": true
   },
   "source": [
    "### Yêu cầu 10:"
   ]
  },
  {
   "cell_type": "markdown",
   "id": "dc6b3017-598c-48ff-842c-80e0e92241cc",
   "metadata": {},
   "source": [
    "**a.Cho biết mức chiều cao và cân nặng có nhiều VĐV nhất**"
   ]
  },
  {
   "cell_type": "code",
   "execution_count": 23,
   "id": "6d586c12-eb5a-48ab-9ae8-89ddfe32380e",
   "metadata": {},
   "outputs": [
    {
     "name": "stdout",
     "output_type": "stream",
     "text": [
      "Mức chiều cao mà nhiều VĐV sở hữu là:  1.88 m\n",
      "Mức cân nặng mà nhiều VĐV sở hữu nhất là:  91.0 kg\n"
     ]
    }
   ],
   "source": [
    "ModeHeight = height_m.mode().to_string(index = False, dtype = False)\n",
    "print('Mức chiều cao mà nhiều VĐV sở hữu là: ', ModeHeight, 'm')\n",
    "ModeWeight = weight_kg.mode().to_string(index = False, dtype = False)\n",
    "print('Mức cân nặng mà nhiều VĐV sở hữu nhất là: ', ModeWeight, 'kg')"
   ]
  },
  {
   "cell_type": "markdown",
   "id": "a6e1617c-1432-4f81-9e5e-ec763de35ef9",
   "metadata": {},
   "source": [
    "**b. Đếm số VĐV theo chiều cao**"
   ]
  },
  {
   "cell_type": "code",
   "execution_count": 24,
   "id": "a34a3d3b-133c-44f8-a8f3-2cdc4a7461ca",
   "metadata": {},
   "outputs": [
    {
     "data": {
      "text/plain": [
       "1.88    173\n",
       "1.85    162\n",
       "1.90    155\n",
       "1.83    150\n",
       "1.93    101\n",
       "1.80     89\n",
       "1.96     55\n",
       "1.78     51\n",
       "1.98     27\n",
       "1.75     19\n",
       "2.01     14\n",
       "1.73      7\n",
       "2.03      5\n",
       "2.06      2\n",
       "2.08      2\n",
       "1.70      2\n",
       "2.11      1\n",
       "Name: count, dtype: int64"
      ]
     },
     "execution_count": 24,
     "metadata": {},
     "output_type": "execute_result"
    }
   ],
   "source": [
    "CountByHeight = height_m.value_counts()\n",
    "CountByHeight"
   ]
  },
  {
   "cell_type": "markdown",
   "id": "c422ef49-8a97-41e7-bf1a-c131f9284653",
   "metadata": {},
   "source": [
    "**c. 10 mức cân nặng có nhiều VĐV nhất**"
   ]
  },
  {
   "cell_type": "code",
   "execution_count": 25,
   "id": "de351bbf-6fcb-4285-8750-dd75141e49a4",
   "metadata": {},
   "outputs": [
    {
     "data": {
      "text/plain": [
       "91.0     109\n",
       "86.0     100\n",
       "82.0      82\n",
       "95.0      76\n",
       "100.0     74\n",
       "93.0      64\n",
       "84.0      56\n",
       "88.0      52\n",
       "98.0      42\n",
       "77.0      40\n",
       "Name: count, dtype: int64"
      ]
     },
     "execution_count": 25,
     "metadata": {},
     "output_type": "execute_result"
    }
   ],
   "source": [
    "CountByWeight = weight_kg.sort_values().value_counts()\n",
    "CountByWeight.head(10)"
   ]
  },
  {
   "cell_type": "markdown",
   "id": "26d688cd-33aa-4c5a-a3b0-d8b818320094",
   "metadata": {
    "jp-MarkdownHeadingCollapsed": true
   },
   "source": [
    "### Yêu cầu 11: "
   ]
  },
  {
   "cell_type": "markdown",
   "id": "8009c076-83e7-411d-af83-9cc64312c09f",
   "metadata": {},
   "source": [
    "**a. Cho biết chiều cao và cân nặng lớn nhất của các VĐV**"
   ]
  },
  {
   "cell_type": "code",
   "execution_count": 26,
   "id": "471cfc03-748e-4937-9902-dc09bc98deef",
   "metadata": {},
   "outputs": [
    {
     "name": "stdout",
     "output_type": "stream",
     "text": [
      "Chiều cao lớn nhất của các VĐV là:  2.11 m\n",
      "Cân nặng lớn nhất của các VĐV là:  132.0 kg\n"
     ]
    }
   ],
   "source": [
    "MaxHeight = height_m.max()\n",
    "MaxWeight = weight_kg.max()\n",
    "print('Chiều cao lớn nhất của các VĐV là: ', MaxHeight, 'm')\n",
    "print('Cân nặng lớn nhất của các VĐV là: ', MaxWeight, 'kg')"
   ]
  },
  {
   "cell_type": "markdown",
   "id": "97372d5a-b525-4e9f-ab90-2735e411094b",
   "metadata": {},
   "source": [
    "**b. Cho biết các cầu thủ có chiều cao lớn nhất. Vị trí index các cầu thủ có chiều cao lớn nhất. Chiều cao lớn nhất là bao nhiêu?**"
   ]
  },
  {
   "cell_type": "code",
   "execution_count": 27,
   "id": "bf026f3d-1266-410d-86f1-0843b53d180f",
   "metadata": {},
   "outputs": [
    {
     "name": "stdout",
     "output_type": "stream",
     "text": [
      "Vị trí cầu thủ có chiều cao lớn nhất trong Series là:  909\n",
      "Chiều cao lớn nhất là:  2.11 m\n"
     ]
    }
   ],
   "source": [
    "IndexHeightMax = height_m.idxmax()\n",
    "print('Vị trí cầu thủ có chiều cao lớn nhất trong Series là: ', IndexHeightMax)\n",
    "print('Chiều cao lớn nhất là: ', MaxHeight, 'm')"
   ]
  },
  {
   "cell_type": "code",
   "execution_count": 28,
   "id": "0578dd64-d2cb-487c-aa73-db1142f63862",
   "metadata": {},
   "outputs": [
    {
     "name": "stdout",
     "output_type": "stream",
     "text": [
      "Vị trí cầu thủ có chiều cao lớn nhất trong Series là: \n",
      "909    2.11\n",
      "dtype: float64\n",
      "Chiều cao lớn nhất là:  2.11 m\n"
     ]
    }
   ],
   "source": [
    "print('Vị trí cầu thủ có chiều cao lớn nhất trong Series là: ')\n",
    "print(height_m.sort_values(ascending = False).head(1))\n",
    "print('Chiều cao lớn nhất là: ', MaxHeight, 'm')"
   ]
  },
  {
   "cell_type": "markdown",
   "id": "8fa246ca-7e02-41cc-8833-c83c6f9db901",
   "metadata": {},
   "source": [
    "**c. Cho biết có bao nhiêu VĐV cao từ 2m trở lên**"
   ]
  },
  {
   "cell_type": "code",
   "execution_count": 29,
   "id": "f4483ac0-b019-4cd5-8efe-b19bfe60bfad",
   "metadata": {},
   "outputs": [
    {
     "data": {
      "text/plain": [
       "24"
      ]
     },
     "execution_count": 29,
     "metadata": {},
     "output_type": "execute_result"
    }
   ],
   "source": [
    "HigherThan2 = height_m[height_m > 2]\n",
    "HigherThan2.count()"
   ]
  },
  {
   "cell_type": "code",
   "execution_count": 30,
   "id": "99cc97a8-8408-41cb-8e94-9531dd90e2a6",
   "metadata": {},
   "outputs": [
    {
     "data": {
      "text/plain": [
       "24"
      ]
     },
     "execution_count": 30,
     "metadata": {},
     "output_type": "execute_result"
    }
   ],
   "source": [
    "height_m[height_m > 2].count()"
   ]
  },
  {
   "cell_type": "markdown",
   "id": "66b2e583-666d-48c0-ad08-1be7343c3349",
   "metadata": {
    "jp-MarkdownHeadingCollapsed": true
   },
   "source": [
    "### Yêu cầu 12:"
   ]
  },
  {
   "cell_type": "markdown",
   "id": "9f68a7a7-9606-4e51-b9d0-e08231151ff0",
   "metadata": {},
   "source": [
    "**Cho biết chiều cao và cân nặng nhỏ nhất của các VĐV**"
   ]
  },
  {
   "cell_type": "code",
   "execution_count": 31,
   "id": "7058a71d-4538-4264-a153-497f91e5ef6a",
   "metadata": {},
   "outputs": [
    {
     "name": "stdout",
     "output_type": "stream",
     "text": [
      "Chiều cao thấp nhất của các VĐV:  1.7 m\n",
      "Cân nặng nhỏ nhất của các VĐV:  68.0 kg\n"
     ]
    }
   ],
   "source": [
    "print('Chiều cao thấp nhất của các VĐV: ', height_m.min(), 'm')\n",
    "print('Cân nặng nhỏ nhất của các VĐV: ', weight_kg.min(), 'kg')"
   ]
  },
  {
   "cell_type": "markdown",
   "id": "168c3049-3ad2-4243-859a-d58a1fd5c9b7",
   "metadata": {
    "jp-MarkdownHeadingCollapsed": true
   },
   "source": [
    "### Yêu cầu 13:"
   ]
  },
  {
   "cell_type": "markdown",
   "id": "50322cec-6476-47bd-9050-8135e6a3ae8a",
   "metadata": {},
   "source": [
    "**a. In ra chiều cao tăng dần**"
   ]
  },
  {
   "cell_type": "code",
   "execution_count": 32,
   "id": "43c420dc-f47e-4e12-a76c-8d4acc6a8c3b",
   "metadata": {},
   "outputs": [
    {
     "name": "stdout",
     "output_type": "stream",
     "text": [
      "Danh sách chiều cao tăng dần: \n"
     ]
    },
    {
     "data": {
      "text/plain": [
       "989    1.70\n",
       "988    1.70\n",
       "83     1.73\n",
       "809    1.73\n",
       "784    1.73\n",
       "       ... \n",
       "59     2.06\n",
       "764    2.06\n",
       "862    2.08\n",
       "558    2.08\n",
       "909    2.11\n",
       "Length: 1015, dtype: float64"
      ]
     },
     "execution_count": 32,
     "metadata": {},
     "output_type": "execute_result"
    }
   ],
   "source": [
    "print('Danh sách chiều cao tăng dần: ')\n",
    "height_m.sort_values()"
   ]
  },
  {
   "cell_type": "markdown",
   "id": "c6e6665e-3481-4657-a4fe-e9cc3bfc9754",
   "metadata": {},
   "source": [
    "**b. 5 VĐV thấp nhất**"
   ]
  },
  {
   "cell_type": "code",
   "execution_count": 33,
   "id": "d772f90c-71f6-48f0-a013-6540599d5d8a",
   "metadata": {},
   "outputs": [
    {
     "name": "stdout",
     "output_type": "stream",
     "text": [
      "5 VĐV thấp nhất là: \n"
     ]
    },
    {
     "data": {
      "text/plain": [
       "989    1.70\n",
       "988    1.70\n",
       "83     1.73\n",
       "809    1.73\n",
       "784    1.73\n",
       "dtype: float64"
      ]
     },
     "execution_count": 33,
     "metadata": {},
     "output_type": "execute_result"
    }
   ],
   "source": [
    "print('5 VĐV thấp nhất là: ')\n",
    "height_m.sort_values().head(5)"
   ]
  },
  {
   "cell_type": "markdown",
   "id": "eb5d49df-ce44-439f-8712-5c7e53417881",
   "metadata": {
    "jp-MarkdownHeadingCollapsed": true
   },
   "source": [
    "### Yêu cầu 14:"
   ]
  },
  {
   "cell_type": "markdown",
   "id": "27dbc2c9-380a-4ec3-9959-24bf310969e6",
   "metadata": {},
   "source": [
    "**a. In ra chiều cao giảm dần**"
   ]
  },
  {
   "cell_type": "code",
   "execution_count": 34,
   "id": "f3ce11c5-cbee-4cbd-ab9a-0e81f64c5ec2",
   "metadata": {},
   "outputs": [
    {
     "name": "stdout",
     "output_type": "stream",
     "text": [
      "Danh sách chiều cao giảm dần: \n"
     ]
    },
    {
     "data": {
      "text/plain": [
       "909    2.11\n",
       "558    2.08\n",
       "862    2.08\n",
       "59     2.06\n",
       "764    2.06\n",
       "       ... \n",
       "809    1.73\n",
       "756    1.73\n",
       "953    1.73\n",
       "988    1.70\n",
       "989    1.70\n",
       "Length: 1015, dtype: float64"
      ]
     },
     "execution_count": 34,
     "metadata": {},
     "output_type": "execute_result"
    }
   ],
   "source": [
    "print('Danh sách chiều cao giảm dần: ')\n",
    "height_m.sort_values(ascending = False)"
   ]
  },
  {
   "cell_type": "markdown",
   "id": "9bc6d419-8175-49b5-a8ab-b5e988f52ac7",
   "metadata": {},
   "source": [
    "**b. 5 VĐV cao nhất**"
   ]
  },
  {
   "cell_type": "code",
   "execution_count": 35,
   "id": "afd8ec7c-bc38-449d-8dca-c4939b01c861",
   "metadata": {},
   "outputs": [
    {
     "name": "stdout",
     "output_type": "stream",
     "text": [
      "5 VĐV cao nhất là: \n"
     ]
    },
    {
     "data": {
      "text/plain": [
       "909    2.11\n",
       "558    2.08\n",
       "862    2.08\n",
       "59     2.06\n",
       "764    2.06\n",
       "dtype: float64"
      ]
     },
     "execution_count": 35,
     "metadata": {},
     "output_type": "execute_result"
    }
   ],
   "source": [
    "print('5 VĐV cao nhất là: ')\n",
    "height_m.sort_values(ascending = False).head(5)"
   ]
  },
  {
   "cell_type": "markdown",
   "id": "41b153f5-7de6-4edd-b00e-033cd15a76de",
   "metadata": {},
   "source": [
    "### Yêu cầu 15:"
   ]
  },
  {
   "cell_type": "markdown",
   "id": "59c0742a-2cce-4beb-b02f-a0f9ec0bc052",
   "metadata": {},
   "source": [
    "**a. Thống kê chung về cân nặng các VĐV**"
   ]
  },
  {
   "cell_type": "code",
   "execution_count": 36,
   "id": "beaa11b5-7571-4204-95c6-65eb12ceec5b",
   "metadata": {},
   "outputs": [
    {
     "data": {
      "text/plain": [
       "count    1015.000000\n",
       "mean       91.351724\n",
       "std         9.447218\n",
       "min        68.000000\n",
       "25%        84.000000\n",
       "50%        91.000000\n",
       "75%        98.000000\n",
       "max       132.000000\n",
       "dtype: float64"
      ]
     },
     "execution_count": 36,
     "metadata": {},
     "output_type": "execute_result"
    }
   ],
   "source": [
    "weight_kg.describe()"
   ]
  },
  {
   "cell_type": "markdown",
   "id": "b2a21ddc-0ee6-416f-ae82-b0f2c2f379ca",
   "metadata": {},
   "source": [
    "**b. Thống kê chung về chiều cao các VĐV**"
   ]
  },
  {
   "cell_type": "code",
   "execution_count": 37,
   "id": "c9563400-0a7e-4770-9e28-df730ea2be8b",
   "metadata": {},
   "outputs": [
    {
     "data": {
      "text/plain": [
       "count    1015.000000\n",
       "mean        1.870493\n",
       "std         0.059047\n",
       "min         1.700000\n",
       "25%         1.830000\n",
       "50%         1.880000\n",
       "75%         1.900000\n",
       "max         2.110000\n",
       "dtype: float64"
      ]
     },
     "execution_count": 37,
     "metadata": {},
     "output_type": "execute_result"
    }
   ],
   "source": [
    "height_m.describe()"
   ]
  },
  {
   "cell_type": "markdown",
   "id": "85c5abb0-16c8-4165-97da-ed8e4b6b4671",
   "metadata": {
    "jp-MarkdownHeadingCollapsed": true
   },
   "source": [
    "# CHAPTER 6 - EXCERCISE 2: DATAFRAME (NIFTY-50 STOCKS DATASET)"
   ]
  },
  {
   "cell_type": "markdown",
   "id": "ca50ede4-2863-4a0f-ae55-f0301575931c",
   "metadata": {
    "jp-MarkdownHeadingCollapsed": true
   },
   "source": [
    "## Ghi chú về dữ liệu\n",
    "**_It contains Stock Data for 50 of the Largest Indian Companies Listed on the NSE_**\n",
    "\n",
    "**NIFTY 50** là chỉ số chuẩn của thị trường chứng khoán Ấn Độ đại diện cho mức bình quân gia quyền của 50 công ty Ấn Độ lớn nhất được niêm yết trên Sở Giao dịch Chứng khoán Quốc gia. Đây là một trong hai chỉ số chứng khoán chính được sử dụng ở Ấn Độ, chỉ số còn lại là **BSE SENSEX.**\n",
    "\n",
    "**Nifty 50 được sở hữu và quản lý bởi NSE Indices.**\n",
    "\n",
    "**_Dữ liệu ngày 26 tháng 11 năm 2021. Đây chỉ là dữ liệu thị trường trong một ngày cho các cổ phiếu NIFTY50._**\n",
    "+ **Symbol:** A symbol or generally a ticker symbol is an abbreviation of a publicly traded share on stock market.\n",
    "+ **Open:** It is the price of the first transaction of a business day.\n",
    "+ **High:** It is the price of the highest transaction of a business day.\n",
    "+ **Low:** It is the price of the lowest transaction of a business day.\n",
    "+ **LTP:** LTP is the Last Traded Price of the stock.\n",
    "+ **Chng:** Change in the stock price from the previous day close\n",
    "    + % Chng = Percentage of change from the previous day close\n",
    "+ **Volume:** The total number of shares traded in a specified time frame\n",
    "+ **Turnover:** The amount of revenue generated annually.\n",
    "+ **52w H:** The highest value of the stock in the last 52 weeks.\n",
    "+ **52w L:** The lowest value of the stock in the last 52 weeks.\n",
    "    + 365 d % chng = Stock price percentage change from one year\n",
    "    + 30 d % chng = Stock price percentage change from last 30 days\n",
    " \n",
    "Lý do cho sự khác biệt giữa **Close Price** và **Last Traded Price (LTP)** là **LTP** đại diện cho giá giao dịch cuối cùng thực tế, trong khi **Close Price** của **_NSE_** được tính bằng giá trị trung bình của 30 phút giao dịch cuối cùng.\n",
    "\n",
    "Tại sao cổ phiếu không bắt đầu giao dịch ở mức **Close Price** của ngày hôm trước? Sau giờ làm việc, có những tin tức, biến động xảy ra làm thay đổi số tiền mà các nhà đầu tư sẵn sàng trả để sở hữu cổ phần của công ty và thay đổi giá cổ phiếu của công ty mà không có bất kỳ giao dịch nào xảy ra.\n",
    "\n",
    "https://www1.nseindia.com/products/content/equities/equities/eq_security.htm \n",
    "\n",
    "+ Change: so với Prev Close (762.45) \n",
    "+ 365d % change: so với Close price của ngày 25/11/2020 (398.95)\n",
    "+ 30d % change: so với Close price của ngày 26/10/2021 (749.90) (10/2021 có 31 ngày)\n",
    "\n",
    "**_Số liệu minh họa là của mã CK 'ADANIPORTS'_**"
   ]
  },
  {
   "cell_type": "code",
   "execution_count": 68,
   "id": "bfe11042-6b69-4c52-ad92-1f9b3fb5ce7a",
   "metadata": {},
   "outputs": [],
   "source": [
    "import pandas as pd"
   ]
  },
  {
   "cell_type": "markdown",
   "id": "28dd0c38-c872-4f16-8211-0f2864b012e7",
   "metadata": {},
   "source": [
    "### Yêu cầu 1:"
   ]
  },
  {
   "cell_type": "markdown",
   "id": "859e14b9-7165-4732-8c47-2491d8cd7909",
   "metadata": {},
   "source": [
    "**a. Đọc dữ liệu từ 'National_Stock_Exchange_of_India_Ltd.csv' vào dataframe stocks**"
   ]
  },
  {
   "cell_type": "code",
   "execution_count": 69,
   "id": "9e13ea57-8929-48d1-936a-446b31d68edd",
   "metadata": {},
   "outputs": [],
   "source": [
    "National_Stock_Exchange_of_India_Ltd = pd.read_csv('data6/National_Stock_Exchange_of_India_Ltd.csv')"
   ]
  },
  {
   "cell_type": "markdown",
   "id": "ed58bee8-e232-464f-80a1-8d63fb2b35d9",
   "metadata": {},
   "source": [
    "**b. Hiển thị 5 dòng dữ liệu đầu tiên**"
   ]
  },
  {
   "cell_type": "code",
   "execution_count": 70,
   "id": "5434ec75-87b9-487e-97f1-4262237915f3",
   "metadata": {},
   "outputs": [
    {
     "data": {
      "text/html": [
       "<div>\n",
       "<style scoped>\n",
       "    .dataframe tbody tr th:only-of-type {\n",
       "        vertical-align: middle;\n",
       "    }\n",
       "\n",
       "    .dataframe tbody tr th {\n",
       "        vertical-align: top;\n",
       "    }\n",
       "\n",
       "    .dataframe thead th {\n",
       "        text-align: right;\n",
       "    }\n",
       "</style>\n",
       "<table border=\"1\" class=\"dataframe\">\n",
       "  <thead>\n",
       "    <tr style=\"text-align: right;\">\n",
       "      <th></th>\n",
       "      <th>Symbol</th>\n",
       "      <th>Open</th>\n",
       "      <th>High</th>\n",
       "      <th>Low</th>\n",
       "      <th>LTP</th>\n",
       "      <th>Chng</th>\n",
       "      <th>% Chng</th>\n",
       "      <th>Volume (lacs)</th>\n",
       "      <th>Turnover (crs.)</th>\n",
       "      <th>52w H</th>\n",
       "      <th>52w L</th>\n",
       "      <th>365 d % chng</th>\n",
       "      <th>30 d % chng</th>\n",
       "    </tr>\n",
       "  </thead>\n",
       "  <tbody>\n",
       "    <tr>\n",
       "      <th>0</th>\n",
       "      <td>ADANIPORTS</td>\n",
       "      <td>750</td>\n",
       "      <td>766</td>\n",
       "      <td>713.25</td>\n",
       "      <td>715</td>\n",
       "      <td>-47.45</td>\n",
       "      <td>-6.22</td>\n",
       "      <td>72.20</td>\n",
       "      <td>532.63</td>\n",
       "      <td>901</td>\n",
       "      <td>384.4</td>\n",
       "      <td>79.22</td>\n",
       "      <td>-4.65</td>\n",
       "    </tr>\n",
       "    <tr>\n",
       "      <th>1</th>\n",
       "      <td>ASIANPAINT</td>\n",
       "      <td>3,101.00</td>\n",
       "      <td>3,167.35</td>\n",
       "      <td>3,091.00</td>\n",
       "      <td>3,138.00</td>\n",
       "      <td>-6.25</td>\n",
       "      <td>-0.20</td>\n",
       "      <td>10.29</td>\n",
       "      <td>322.53</td>\n",
       "      <td>3,505.00</td>\n",
       "      <td>2,117.15</td>\n",
       "      <td>45.66</td>\n",
       "      <td>5.66</td>\n",
       "    </tr>\n",
       "    <tr>\n",
       "      <th>2</th>\n",
       "      <td>AXISBANK</td>\n",
       "      <td>669</td>\n",
       "      <td>674.9</td>\n",
       "      <td>660.45</td>\n",
       "      <td>661</td>\n",
       "      <td>-18.90</td>\n",
       "      <td>-2.78</td>\n",
       "      <td>102.53</td>\n",
       "      <td>684</td>\n",
       "      <td>866.9</td>\n",
       "      <td>568.4</td>\n",
       "      <td>10.19</td>\n",
       "      <td>-21.49</td>\n",
       "    </tr>\n",
       "    <tr>\n",
       "      <th>3</th>\n",
       "      <td>BAJAJ-AUTO</td>\n",
       "      <td>3,370.00</td>\n",
       "      <td>3,383.50</td>\n",
       "      <td>3,320.00</td>\n",
       "      <td>3,335.00</td>\n",
       "      <td>-56.70</td>\n",
       "      <td>-1.67</td>\n",
       "      <td>3.42</td>\n",
       "      <td>114.59</td>\n",
       "      <td>4,361.40</td>\n",
       "      <td>3,041.00</td>\n",
       "      <td>9.30</td>\n",
       "      <td>-12.05</td>\n",
       "    </tr>\n",
       "    <tr>\n",
       "      <th>4</th>\n",
       "      <td>BAJAJFINSV</td>\n",
       "      <td>17,200.00</td>\n",
       "      <td>17,237.20</td>\n",
       "      <td>16,610.00</td>\n",
       "      <td>16,684.00</td>\n",
       "      <td>-684.85</td>\n",
       "      <td>-3.94</td>\n",
       "      <td>3.42</td>\n",
       "      <td>576.79</td>\n",
       "      <td>19,325.00</td>\n",
       "      <td>8,273.70</td>\n",
       "      <td>91.38</td>\n",
       "      <td>-9.10</td>\n",
       "    </tr>\n",
       "  </tbody>\n",
       "</table>\n",
       "</div>"
      ],
      "text/plain": [
       "       Symbol       Open       High        Low        LTP    Chng  % Chng  \\\n",
       "0  ADANIPORTS        750        766     713.25        715  -47.45   -6.22   \n",
       "1  ASIANPAINT   3,101.00   3,167.35   3,091.00   3,138.00   -6.25   -0.20   \n",
       "2    AXISBANK        669      674.9     660.45        661  -18.90   -2.78   \n",
       "3  BAJAJ-AUTO   3,370.00   3,383.50   3,320.00   3,335.00  -56.70   -1.67   \n",
       "4  BAJAJFINSV  17,200.00  17,237.20  16,610.00  16,684.00 -684.85   -3.94   \n",
       "\n",
       "   Volume (lacs) Turnover (crs.)      52w H     52w L  365 d % chng  \\\n",
       "0          72.20          532.63        901     384.4         79.22   \n",
       "1          10.29          322.53   3,505.00  2,117.15         45.66   \n",
       "2         102.53             684      866.9     568.4         10.19   \n",
       "3           3.42          114.59   4,361.40  3,041.00          9.30   \n",
       "4           3.42          576.79  19,325.00  8,273.70         91.38   \n",
       "\n",
       "   30 d % chng  \n",
       "0        -4.65  \n",
       "1         5.66  \n",
       "2       -21.49  \n",
       "3       -12.05  \n",
       "4        -9.10  "
      ]
     },
     "execution_count": 70,
     "metadata": {},
     "output_type": "execute_result"
    }
   ],
   "source": [
    "National_Stock_Exchange_of_India_Ltd.head(5)"
   ]
  },
  {
   "cell_type": "markdown",
   "id": "e0eaff8a-c510-4579-8d1a-f7f87d013a8c",
   "metadata": {},
   "source": [
    "**c. Hiển thị thông tin info của dataframe**"
   ]
  },
  {
   "cell_type": "code",
   "execution_count": 41,
   "id": "10f773af-f80b-4fe1-8d2c-910a8a44d551",
   "metadata": {},
   "outputs": [
    {
     "name": "stdout",
     "output_type": "stream",
     "text": [
      "<class 'pandas.core.frame.DataFrame'>\n",
      "RangeIndex: 50 entries, 0 to 49\n",
      "Data columns (total 13 columns):\n",
      " #   Column           Non-Null Count  Dtype  \n",
      "---  ------           --------------  -----  \n",
      " 0   Symbol           50 non-null     object \n",
      " 1   Open             50 non-null     object \n",
      " 2   High             50 non-null     object \n",
      " 3   Low              50 non-null     object \n",
      " 4   LTP              50 non-null     object \n",
      " 5   Chng             50 non-null     float64\n",
      " 6   % Chng           50 non-null     float64\n",
      " 7   Volume (lacs)    50 non-null     float64\n",
      " 8   Turnover (crs.)  50 non-null     object \n",
      " 9   52w H            50 non-null     object \n",
      " 10  52w L            50 non-null     object \n",
      " 11  365 d % chng     50 non-null     float64\n",
      " 12  30 d % chng      50 non-null     float64\n",
      "dtypes: float64(5), object(8)\n",
      "memory usage: 5.2+ KB\n"
     ]
    }
   ],
   "source": [
    "National_Stock_Exchange_of_India_Ltd.info()"
   ]
  },
  {
   "cell_type": "markdown",
   "id": "dcdf0c63-bded-4fe4-a2cc-e26bba42eb7a",
   "metadata": {},
   "source": [
    "### Yêu cầu 2:"
   ]
  },
  {
   "cell_type": "markdown",
   "id": "876c527a-1fb0-47c4-a1bd-938054f40577",
   "metadata": {},
   "source": [
    "**Chuyển đổi các cột Open, High, Low, LTP, Turnover (crs.), 52w H, 52w L về kiểu dữ liệu float**"
   ]
  },
  {
   "cell_type": "code",
   "execution_count": 71,
   "id": "1db566e0-a12e-4890-85f2-f57bd6d80be4",
   "metadata": {},
   "outputs": [],
   "source": [
    "National_Stock_Exchange_of_India_Ltd['Turnover (crs.)'] = National_Stock_Exchange_of_India_Ltd['Turnover (crs.)'].str.replace(',', '').astype(float)"
   ]
  },
  {
   "cell_type": "code",
   "execution_count": 72,
   "id": "e11ba239-4327-42ed-9a18-6efecdd3d6df",
   "metadata": {},
   "outputs": [],
   "source": [
    "columns_to_convert = ['Open', 'High', 'Low', 'LTP', '52w H', '52w L']\n",
    "for i in columns_to_convert:\n",
    "    National_Stock_Exchange_of_India_Ltd[i] = National_Stock_Exchange_of_India_Ltd[i].str.replace(',', '').astype(float)"
   ]
  },
  {
   "cell_type": "markdown",
   "id": "969e17ad-bbd0-4162-aac4-8808eace3927",
   "metadata": {},
   "source": [
    "### Yêu cầu 3:"
   ]
  },
  {
   "cell_type": "markdown",
   "id": "c2df9e38-c17c-4d16-a7f0-fd59752db5a9",
   "metadata": {},
   "source": [
    "**a. Đổi tên các cột % Chng, Volume (lacs), Turnover (crs.), 52w H, 52w L, 365 d % chng, 30 d % chng thành 'Chng_pct', 'Volume_lacs', 'Turnover_crs', 'H_52w', 'L_52w', 'chng_365d_pct', 'chng_30d_pct'**"
   ]
  },
  {
   "cell_type": "code",
   "execution_count": 73,
   "id": "16642ad0-c7fa-44de-bf94-8571f4c24f19",
   "metadata": {},
   "outputs": [],
   "source": [
    "columns_change_name = {\n",
    "    '% Chng': 'Chng_pct',\n",
    "    'Volume (lacs)': 'Volume_lacs',\n",
    "    'Turnover (crs.)': 'Turnover_crs',\n",
    "    '52w H': 'H_52w',\n",
    "    '52w L': 'L_52w',\n",
    "    '365 d % chng': 'chng_365d_pct',\n",
    "    '30 d % chng': 'chng_30d_pct'\n",
    "}\n",
    "National_Stock_Exchange_of_India_Ltd.rename(columns = columns_change_name, inplace = True)\n",
    "    "
   ]
  },
  {
   "cell_type": "markdown",
   "id": "da384fb0-786f-447f-ad0b-6e8752b62f92",
   "metadata": {},
   "source": [
    "**b. Hiển thị lại 5 dòng dữ liệu đầu tiên**"
   ]
  },
  {
   "cell_type": "code",
   "execution_count": 74,
   "id": "affe5de2-26b3-4eae-ac64-8207210da0aa",
   "metadata": {},
   "outputs": [
    {
     "data": {
      "text/html": [
       "<div>\n",
       "<style scoped>\n",
       "    .dataframe tbody tr th:only-of-type {\n",
       "        vertical-align: middle;\n",
       "    }\n",
       "\n",
       "    .dataframe tbody tr th {\n",
       "        vertical-align: top;\n",
       "    }\n",
       "\n",
       "    .dataframe thead th {\n",
       "        text-align: right;\n",
       "    }\n",
       "</style>\n",
       "<table border=\"1\" class=\"dataframe\">\n",
       "  <thead>\n",
       "    <tr style=\"text-align: right;\">\n",
       "      <th></th>\n",
       "      <th>Symbol</th>\n",
       "      <th>Open</th>\n",
       "      <th>High</th>\n",
       "      <th>Low</th>\n",
       "      <th>LTP</th>\n",
       "      <th>Chng</th>\n",
       "      <th>Chng_pct</th>\n",
       "      <th>Volume_lacs</th>\n",
       "      <th>Turnover_crs</th>\n",
       "      <th>H_52w</th>\n",
       "      <th>L_52w</th>\n",
       "      <th>chng_365d_pct</th>\n",
       "      <th>chng_30d_pct</th>\n",
       "    </tr>\n",
       "  </thead>\n",
       "  <tbody>\n",
       "    <tr>\n",
       "      <th>0</th>\n",
       "      <td>ADANIPORTS</td>\n",
       "      <td>750.0</td>\n",
       "      <td>766.00</td>\n",
       "      <td>713.25</td>\n",
       "      <td>715.0</td>\n",
       "      <td>-47.45</td>\n",
       "      <td>-6.22</td>\n",
       "      <td>72.20</td>\n",
       "      <td>532.63</td>\n",
       "      <td>901.0</td>\n",
       "      <td>384.40</td>\n",
       "      <td>79.22</td>\n",
       "      <td>-4.65</td>\n",
       "    </tr>\n",
       "    <tr>\n",
       "      <th>1</th>\n",
       "      <td>ASIANPAINT</td>\n",
       "      <td>3101.0</td>\n",
       "      <td>3167.35</td>\n",
       "      <td>3091.00</td>\n",
       "      <td>3138.0</td>\n",
       "      <td>-6.25</td>\n",
       "      <td>-0.20</td>\n",
       "      <td>10.29</td>\n",
       "      <td>322.53</td>\n",
       "      <td>3505.0</td>\n",
       "      <td>2117.15</td>\n",
       "      <td>45.66</td>\n",
       "      <td>5.66</td>\n",
       "    </tr>\n",
       "    <tr>\n",
       "      <th>2</th>\n",
       "      <td>AXISBANK</td>\n",
       "      <td>669.0</td>\n",
       "      <td>674.90</td>\n",
       "      <td>660.45</td>\n",
       "      <td>661.0</td>\n",
       "      <td>-18.90</td>\n",
       "      <td>-2.78</td>\n",
       "      <td>102.53</td>\n",
       "      <td>684.00</td>\n",
       "      <td>866.9</td>\n",
       "      <td>568.40</td>\n",
       "      <td>10.19</td>\n",
       "      <td>-21.49</td>\n",
       "    </tr>\n",
       "    <tr>\n",
       "      <th>3</th>\n",
       "      <td>BAJAJ-AUTO</td>\n",
       "      <td>3370.0</td>\n",
       "      <td>3383.50</td>\n",
       "      <td>3320.00</td>\n",
       "      <td>3335.0</td>\n",
       "      <td>-56.70</td>\n",
       "      <td>-1.67</td>\n",
       "      <td>3.42</td>\n",
       "      <td>114.59</td>\n",
       "      <td>4361.4</td>\n",
       "      <td>3041.00</td>\n",
       "      <td>9.30</td>\n",
       "      <td>-12.05</td>\n",
       "    </tr>\n",
       "    <tr>\n",
       "      <th>4</th>\n",
       "      <td>BAJAJFINSV</td>\n",
       "      <td>17200.0</td>\n",
       "      <td>17237.20</td>\n",
       "      <td>16610.00</td>\n",
       "      <td>16684.0</td>\n",
       "      <td>-684.85</td>\n",
       "      <td>-3.94</td>\n",
       "      <td>3.42</td>\n",
       "      <td>576.79</td>\n",
       "      <td>19325.0</td>\n",
       "      <td>8273.70</td>\n",
       "      <td>91.38</td>\n",
       "      <td>-9.10</td>\n",
       "    </tr>\n",
       "  </tbody>\n",
       "</table>\n",
       "</div>"
      ],
      "text/plain": [
       "       Symbol     Open      High       Low      LTP    Chng  Chng_pct  \\\n",
       "0  ADANIPORTS    750.0    766.00    713.25    715.0  -47.45     -6.22   \n",
       "1  ASIANPAINT   3101.0   3167.35   3091.00   3138.0   -6.25     -0.20   \n",
       "2    AXISBANK    669.0    674.90    660.45    661.0  -18.90     -2.78   \n",
       "3  BAJAJ-AUTO   3370.0   3383.50   3320.00   3335.0  -56.70     -1.67   \n",
       "4  BAJAJFINSV  17200.0  17237.20  16610.00  16684.0 -684.85     -3.94   \n",
       "\n",
       "   Volume_lacs  Turnover_crs    H_52w    L_52w  chng_365d_pct  chng_30d_pct  \n",
       "0        72.20        532.63    901.0   384.40          79.22         -4.65  \n",
       "1        10.29        322.53   3505.0  2117.15          45.66          5.66  \n",
       "2       102.53        684.00    866.9   568.40          10.19        -21.49  \n",
       "3         3.42        114.59   4361.4  3041.00           9.30        -12.05  \n",
       "4         3.42        576.79  19325.0  8273.70          91.38         -9.10  "
      ]
     },
     "execution_count": 74,
     "metadata": {},
     "output_type": "execute_result"
    }
   ],
   "source": [
    "National_Stock_Exchange_of_India_Ltd.head(5)"
   ]
  },
  {
   "cell_type": "markdown",
   "id": "c174d214-3af6-43cd-94f6-d62620823bdb",
   "metadata": {
    "jp-MarkdownHeadingCollapsed": true
   },
   "source": [
    "### Yêu cầu 4:"
   ]
  },
  {
   "cell_type": "markdown",
   "id": "7db16034-7882-4953-8288-c67cafbedf6c",
   "metadata": {},
   "source": [
    "**Hiển thị thông tin thống kê chung của stocks**"
   ]
  },
  {
   "cell_type": "code",
   "execution_count": 75,
   "id": "95466521-ca02-43ce-a070-60cd4df7080c",
   "metadata": {},
   "outputs": [
    {
     "data": {
      "text/html": [
       "<div>\n",
       "<style scoped>\n",
       "    .dataframe tbody tr th:only-of-type {\n",
       "        vertical-align: middle;\n",
       "    }\n",
       "\n",
       "    .dataframe tbody tr th {\n",
       "        vertical-align: top;\n",
       "    }\n",
       "\n",
       "    .dataframe thead th {\n",
       "        text-align: right;\n",
       "    }\n",
       "</style>\n",
       "<table border=\"1\" class=\"dataframe\">\n",
       "  <thead>\n",
       "    <tr style=\"text-align: right;\">\n",
       "      <th></th>\n",
       "      <th>Open</th>\n",
       "      <th>High</th>\n",
       "      <th>Low</th>\n",
       "      <th>LTP</th>\n",
       "      <th>Chng</th>\n",
       "      <th>Chng_pct</th>\n",
       "      <th>Volume_lacs</th>\n",
       "      <th>Turnover_crs</th>\n",
       "      <th>H_52w</th>\n",
       "      <th>L_52w</th>\n",
       "      <th>chng_365d_pct</th>\n",
       "      <th>chng_30d_pct</th>\n",
       "    </tr>\n",
       "  </thead>\n",
       "  <tbody>\n",
       "    <tr>\n",
       "      <th>count</th>\n",
       "      <td>50.000000</td>\n",
       "      <td>50.000000</td>\n",
       "      <td>50.000000</td>\n",
       "      <td>50.000000</td>\n",
       "      <td>50.000000</td>\n",
       "      <td>50.000000</td>\n",
       "      <td>50.000000</td>\n",
       "      <td>50.000000</td>\n",
       "      <td>50.000000</td>\n",
       "      <td>50.000000</td>\n",
       "      <td>50.000000</td>\n",
       "      <td>50.000000</td>\n",
       "    </tr>\n",
       "    <tr>\n",
       "      <th>mean</th>\n",
       "      <td>2985.739000</td>\n",
       "      <td>3017.261000</td>\n",
       "      <td>2914.208000</td>\n",
       "      <td>2939.569000</td>\n",
       "      <td>-70.133000</td>\n",
       "      <td>-2.930200</td>\n",
       "      <td>71.266600</td>\n",
       "      <td>569.706800</td>\n",
       "      <td>3440.588000</td>\n",
       "      <td>2208.556800</td>\n",
       "      <td>41.203000</td>\n",
       "      <td>-5.996800</td>\n",
       "    </tr>\n",
       "    <tr>\n",
       "      <th>std</th>\n",
       "      <td>5024.412163</td>\n",
       "      <td>5057.739037</td>\n",
       "      <td>4911.417131</td>\n",
       "      <td>4943.921262</td>\n",
       "      <td>163.203678</td>\n",
       "      <td>2.677007</td>\n",
       "      <td>93.462062</td>\n",
       "      <td>492.383108</td>\n",
       "      <td>5813.045344</td>\n",
       "      <td>3962.991087</td>\n",
       "      <td>37.358646</td>\n",
       "      <td>6.322546</td>\n",
       "    </tr>\n",
       "    <tr>\n",
       "      <th>min</th>\n",
       "      <td>125.600000</td>\n",
       "      <td>125.600000</td>\n",
       "      <td>120.500000</td>\n",
       "      <td>121.150000</td>\n",
       "      <td>-770.500000</td>\n",
       "      <td>-7.480000</td>\n",
       "      <td>0.300000</td>\n",
       "      <td>76.940000</td>\n",
       "      <td>141.500000</td>\n",
       "      <td>77.050000</td>\n",
       "      <td>-16.020000</td>\n",
       "      <td>-22.080000</td>\n",
       "    </tr>\n",
       "    <tr>\n",
       "      <th>25%</th>\n",
       "      <td>673.000000</td>\n",
       "      <td>678.425000</td>\n",
       "      <td>662.112500</td>\n",
       "      <td>663.187500</td>\n",
       "      <td>-66.775000</td>\n",
       "      <td>-4.527500</td>\n",
       "      <td>13.472500</td>\n",
       "      <td>195.897500</td>\n",
       "      <td>777.825000</td>\n",
       "      <td>391.837500</td>\n",
       "      <td>9.375000</td>\n",
       "      <td>-9.665000</td>\n",
       "    </tr>\n",
       "    <tr>\n",
       "      <th>50%</th>\n",
       "      <td>1155.950000</td>\n",
       "      <td>1156.750000</td>\n",
       "      <td>1105.750000</td>\n",
       "      <td>1121.250000</td>\n",
       "      <td>-29.975000</td>\n",
       "      <td>-3.300000</td>\n",
       "      <td>30.750000</td>\n",
       "      <td>463.430000</td>\n",
       "      <td>1456.125000</td>\n",
       "      <td>819.775000</td>\n",
       "      <td>35.860000</td>\n",
       "      <td>-5.705000</td>\n",
       "    </tr>\n",
       "    <tr>\n",
       "      <th>75%</th>\n",
       "      <td>2760.262500</td>\n",
       "      <td>2789.425000</td>\n",
       "      <td>2668.537500</td>\n",
       "      <td>2690.450000</td>\n",
       "      <td>-7.812500</td>\n",
       "      <td>-1.932500</td>\n",
       "      <td>99.200000</td>\n",
       "      <td>744.502500</td>\n",
       "      <td>3388.000000</td>\n",
       "      <td>2272.600000</td>\n",
       "      <td>65.942500</td>\n",
       "      <td>-2.222500</td>\n",
       "    </tr>\n",
       "    <tr>\n",
       "      <th>max</th>\n",
       "      <td>26450.000000</td>\n",
       "      <td>26539.900000</td>\n",
       "      <td>25812.000000</td>\n",
       "      <td>25900.000000</td>\n",
       "      <td>158.400000</td>\n",
       "      <td>7.230000</td>\n",
       "      <td>517.880000</td>\n",
       "      <td>2430.360000</td>\n",
       "      <td>32048.000000</td>\n",
       "      <td>22531.000000</td>\n",
       "      <td>167.950000</td>\n",
       "      <td>6.360000</td>\n",
       "    </tr>\n",
       "  </tbody>\n",
       "</table>\n",
       "</div>"
      ],
      "text/plain": [
       "               Open          High           Low           LTP        Chng  \\\n",
       "count     50.000000     50.000000     50.000000     50.000000   50.000000   \n",
       "mean    2985.739000   3017.261000   2914.208000   2939.569000  -70.133000   \n",
       "std     5024.412163   5057.739037   4911.417131   4943.921262  163.203678   \n",
       "min      125.600000    125.600000    120.500000    121.150000 -770.500000   \n",
       "25%      673.000000    678.425000    662.112500    663.187500  -66.775000   \n",
       "50%     1155.950000   1156.750000   1105.750000   1121.250000  -29.975000   \n",
       "75%     2760.262500   2789.425000   2668.537500   2690.450000   -7.812500   \n",
       "max    26450.000000  26539.900000  25812.000000  25900.000000  158.400000   \n",
       "\n",
       "        Chng_pct  Volume_lacs  Turnover_crs         H_52w         L_52w  \\\n",
       "count  50.000000    50.000000     50.000000     50.000000     50.000000   \n",
       "mean   -2.930200    71.266600    569.706800   3440.588000   2208.556800   \n",
       "std     2.677007    93.462062    492.383108   5813.045344   3962.991087   \n",
       "min    -7.480000     0.300000     76.940000    141.500000     77.050000   \n",
       "25%    -4.527500    13.472500    195.897500    777.825000    391.837500   \n",
       "50%    -3.300000    30.750000    463.430000   1456.125000    819.775000   \n",
       "75%    -1.932500    99.200000    744.502500   3388.000000   2272.600000   \n",
       "max     7.230000   517.880000   2430.360000  32048.000000  22531.000000   \n",
       "\n",
       "       chng_365d_pct  chng_30d_pct  \n",
       "count      50.000000     50.000000  \n",
       "mean       41.203000     -5.996800  \n",
       "std        37.358646      6.322546  \n",
       "min       -16.020000    -22.080000  \n",
       "25%         9.375000     -9.665000  \n",
       "50%        35.860000     -5.705000  \n",
       "75%        65.942500     -2.222500  \n",
       "max       167.950000      6.360000  "
      ]
     },
     "execution_count": 75,
     "metadata": {},
     "output_type": "execute_result"
    }
   ],
   "source": [
    "National_Stock_Exchange_of_India_Ltd.describe()"
   ]
  },
  {
   "cell_type": "markdown",
   "id": "a2c3275d-b1bc-46a0-b39a-fd86bbfac8cf",
   "metadata": {
    "jp-MarkdownHeadingCollapsed": true
   },
   "source": [
    "### Yêu cầu 5:"
   ]
  },
  {
   "cell_type": "markdown",
   "id": "c0f9142e-71bb-43f7-b885-9133fd0b2e01",
   "metadata": {},
   "source": [
    "**Lấy ra thông tin các mã cổ phiếu của ngân hàng (Symbol chứa 'BANK')**"
   ]
  },
  {
   "cell_type": "code",
   "execution_count": 76,
   "id": "8483321d-7818-40f4-a31a-5342e47c1b47",
   "metadata": {},
   "outputs": [
    {
     "data": {
      "text/html": [
       "<div>\n",
       "<style scoped>\n",
       "    .dataframe tbody tr th:only-of-type {\n",
       "        vertical-align: middle;\n",
       "    }\n",
       "\n",
       "    .dataframe tbody tr th {\n",
       "        vertical-align: top;\n",
       "    }\n",
       "\n",
       "    .dataframe thead th {\n",
       "        text-align: right;\n",
       "    }\n",
       "</style>\n",
       "<table border=\"1\" class=\"dataframe\">\n",
       "  <thead>\n",
       "    <tr style=\"text-align: right;\">\n",
       "      <th></th>\n",
       "      <th>Symbol</th>\n",
       "      <th>Open</th>\n",
       "      <th>High</th>\n",
       "      <th>Low</th>\n",
       "      <th>LTP</th>\n",
       "      <th>Chng</th>\n",
       "      <th>Chng_pct</th>\n",
       "      <th>Volume_lacs</th>\n",
       "      <th>Turnover_crs</th>\n",
       "      <th>H_52w</th>\n",
       "      <th>L_52w</th>\n",
       "      <th>chng_365d_pct</th>\n",
       "      <th>chng_30d_pct</th>\n",
       "    </tr>\n",
       "  </thead>\n",
       "  <tbody>\n",
       "    <tr>\n",
       "      <th>2</th>\n",
       "      <td>AXISBANK</td>\n",
       "      <td>669.0</td>\n",
       "      <td>674.90</td>\n",
       "      <td>660.45</td>\n",
       "      <td>661.00</td>\n",
       "      <td>-18.90</td>\n",
       "      <td>-2.78</td>\n",
       "      <td>102.53</td>\n",
       "      <td>684.00</td>\n",
       "      <td>866.9</td>\n",
       "      <td>568.4</td>\n",
       "      <td>10.19</td>\n",
       "      <td>-21.49</td>\n",
       "    </tr>\n",
       "    <tr>\n",
       "      <th>17</th>\n",
       "      <td>HDFCBANK</td>\n",
       "      <td>1500.0</td>\n",
       "      <td>1506.70</td>\n",
       "      <td>1485.00</td>\n",
       "      <td>1489.50</td>\n",
       "      <td>-36.45</td>\n",
       "      <td>-2.39</td>\n",
       "      <td>93.12</td>\n",
       "      <td>1394.10</td>\n",
       "      <td>1725.0</td>\n",
       "      <td>1342.0</td>\n",
       "      <td>6.18</td>\n",
       "      <td>-9.88</td>\n",
       "    </tr>\n",
       "    <tr>\n",
       "      <th>22</th>\n",
       "      <td>ICICIBANK</td>\n",
       "      <td>739.0</td>\n",
       "      <td>742.05</td>\n",
       "      <td>718.60</td>\n",
       "      <td>720.45</td>\n",
       "      <td>-30.60</td>\n",
       "      <td>-4.07</td>\n",
       "      <td>189.88</td>\n",
       "      <td>1385.86</td>\n",
       "      <td>867.0</td>\n",
       "      <td>465.8</td>\n",
       "      <td>52.41</td>\n",
       "      <td>-13.14</td>\n",
       "    </tr>\n",
       "    <tr>\n",
       "      <th>28</th>\n",
       "      <td>KOTAKBANK</td>\n",
       "      <td>2002.0</td>\n",
       "      <td>2007.00</td>\n",
       "      <td>1955.10</td>\n",
       "      <td>1960.00</td>\n",
       "      <td>-75.10</td>\n",
       "      <td>-3.69</td>\n",
       "      <td>26.48</td>\n",
       "      <td>522.52</td>\n",
       "      <td>2253.0</td>\n",
       "      <td>1626.0</td>\n",
       "      <td>5.24</td>\n",
       "      <td>-11.35</td>\n",
       "    </tr>\n",
       "  </tbody>\n",
       "</table>\n",
       "</div>"
      ],
      "text/plain": [
       "       Symbol    Open     High      Low      LTP   Chng  Chng_pct  \\\n",
       "2    AXISBANK   669.0   674.90   660.45   661.00 -18.90     -2.78   \n",
       "17   HDFCBANK  1500.0  1506.70  1485.00  1489.50 -36.45     -2.39   \n",
       "22  ICICIBANK   739.0   742.05   718.60   720.45 -30.60     -4.07   \n",
       "28  KOTAKBANK  2002.0  2007.00  1955.10  1960.00 -75.10     -3.69   \n",
       "\n",
       "    Volume_lacs  Turnover_crs   H_52w   L_52w  chng_365d_pct  chng_30d_pct  \n",
       "2        102.53        684.00   866.9   568.4          10.19        -21.49  \n",
       "17        93.12       1394.10  1725.0  1342.0           6.18         -9.88  \n",
       "22       189.88       1385.86   867.0   465.8          52.41        -13.14  \n",
       "28        26.48        522.52  2253.0  1626.0           5.24        -11.35  "
      ]
     },
     "execution_count": 76,
     "metadata": {},
     "output_type": "execute_result"
    }
   ],
   "source": [
    "StockIDBank = National_Stock_Exchange_of_India_Ltd[National_Stock_Exchange_of_India_Ltd['Symbol'].str.contains('BANK')]\n",
    "StockIDBank"
   ]
  },
  {
   "cell_type": "markdown",
   "id": "1b3d4128-5ecc-4b5e-9bcd-c13b618a7a2b",
   "metadata": {
    "jp-MarkdownHeadingCollapsed": true
   },
   "source": [
    "### Yêu cầu 6:"
   ]
  },
  {
   "cell_type": "markdown",
   "id": "9f98f0da-34f5-4dbc-93ba-bb760eedc267",
   "metadata": {},
   "source": [
    "**Lấy ra thông tin các mã cổ phiếu: 'CIPLA', 'HINDALCO', 'MARUTI', 'SHREECEM', 'WIPRO'**\n"
   ]
  },
  {
   "cell_type": "code",
   "execution_count": 77,
   "id": "9c3db09f-cf9b-4691-819e-fdf14849c033",
   "metadata": {},
   "outputs": [
    {
     "data": {
      "text/html": [
       "<div>\n",
       "<style scoped>\n",
       "    .dataframe tbody tr th:only-of-type {\n",
       "        vertical-align: middle;\n",
       "    }\n",
       "\n",
       "    .dataframe tbody tr th {\n",
       "        vertical-align: top;\n",
       "    }\n",
       "\n",
       "    .dataframe thead th {\n",
       "        text-align: right;\n",
       "    }\n",
       "</style>\n",
       "<table border=\"1\" class=\"dataframe\">\n",
       "  <thead>\n",
       "    <tr style=\"text-align: right;\">\n",
       "      <th></th>\n",
       "      <th>Symbol</th>\n",
       "      <th>Open</th>\n",
       "      <th>High</th>\n",
       "      <th>Low</th>\n",
       "      <th>LTP</th>\n",
       "      <th>Chng</th>\n",
       "      <th>Chng_pct</th>\n",
       "      <th>Volume_lacs</th>\n",
       "      <th>Turnover_crs</th>\n",
       "      <th>H_52w</th>\n",
       "      <th>L_52w</th>\n",
       "      <th>chng_365d_pct</th>\n",
       "      <th>chng_30d_pct</th>\n",
       "    </tr>\n",
       "  </thead>\n",
       "  <tbody>\n",
       "    <tr>\n",
       "      <th>9</th>\n",
       "      <td>CIPLA</td>\n",
       "      <td>892.0</td>\n",
       "      <td>976.05</td>\n",
       "      <td>890.65</td>\n",
       "      <td>965.0</td>\n",
       "      <td>65.05</td>\n",
       "      <td>7.23</td>\n",
       "      <td>144.59</td>\n",
       "      <td>1380.90</td>\n",
       "      <td>1005.00</td>\n",
       "      <td>726.50</td>\n",
       "      <td>31.89</td>\n",
       "      <td>6.34</td>\n",
       "    </tr>\n",
       "    <tr>\n",
       "      <th>20</th>\n",
       "      <td>HINDALCO</td>\n",
       "      <td>441.8</td>\n",
       "      <td>442.70</td>\n",
       "      <td>414.70</td>\n",
       "      <td>417.7</td>\n",
       "      <td>-29.35</td>\n",
       "      <td>-6.57</td>\n",
       "      <td>148.26</td>\n",
       "      <td>631.93</td>\n",
       "      <td>551.85</td>\n",
       "      <td>220.35</td>\n",
       "      <td>86.93</td>\n",
       "      <td>-14.06</td>\n",
       "    </tr>\n",
       "    <tr>\n",
       "      <th>31</th>\n",
       "      <td>MARUTI</td>\n",
       "      <td>7520.0</td>\n",
       "      <td>7520.00</td>\n",
       "      <td>7130.00</td>\n",
       "      <td>7150.0</td>\n",
       "      <td>-422.50</td>\n",
       "      <td>-5.58</td>\n",
       "      <td>11.55</td>\n",
       "      <td>840.81</td>\n",
       "      <td>8368.00</td>\n",
       "      <td>6400.00</td>\n",
       "      <td>1.34</td>\n",
       "      <td>-2.02</td>\n",
       "    </tr>\n",
       "    <tr>\n",
       "      <th>39</th>\n",
       "      <td>SHREECEM</td>\n",
       "      <td>26450.0</td>\n",
       "      <td>26539.90</td>\n",
       "      <td>25812.00</td>\n",
       "      <td>25900.0</td>\n",
       "      <td>-770.50</td>\n",
       "      <td>-2.89</td>\n",
       "      <td>0.30</td>\n",
       "      <td>76.94</td>\n",
       "      <td>32048.00</td>\n",
       "      <td>22531.00</td>\n",
       "      <td>9.29</td>\n",
       "      <td>-6.76</td>\n",
       "    </tr>\n",
       "    <tr>\n",
       "      <th>49</th>\n",
       "      <td>WIPRO</td>\n",
       "      <td>632.0</td>\n",
       "      <td>634.40</td>\n",
       "      <td>619.65</td>\n",
       "      <td>621.3</td>\n",
       "      <td>-15.40</td>\n",
       "      <td>-2.42</td>\n",
       "      <td>41.39</td>\n",
       "      <td>259.37</td>\n",
       "      <td>739.85</td>\n",
       "      <td>346.25</td>\n",
       "      <td>77.51</td>\n",
       "      <td>-7.01</td>\n",
       "    </tr>\n",
       "  </tbody>\n",
       "</table>\n",
       "</div>"
      ],
      "text/plain": [
       "      Symbol     Open      High       Low      LTP    Chng  Chng_pct  \\\n",
       "9      CIPLA    892.0    976.05    890.65    965.0   65.05      7.23   \n",
       "20  HINDALCO    441.8    442.70    414.70    417.7  -29.35     -6.57   \n",
       "31    MARUTI   7520.0   7520.00   7130.00   7150.0 -422.50     -5.58   \n",
       "39  SHREECEM  26450.0  26539.90  25812.00  25900.0 -770.50     -2.89   \n",
       "49     WIPRO    632.0    634.40    619.65    621.3  -15.40     -2.42   \n",
       "\n",
       "    Volume_lacs  Turnover_crs     H_52w     L_52w  chng_365d_pct  chng_30d_pct  \n",
       "9        144.59       1380.90   1005.00    726.50          31.89          6.34  \n",
       "20       148.26        631.93    551.85    220.35          86.93        -14.06  \n",
       "31        11.55        840.81   8368.00   6400.00           1.34         -2.02  \n",
       "39         0.30         76.94  32048.00  22531.00           9.29         -6.76  \n",
       "49        41.39        259.37    739.85    346.25          77.51         -7.01  "
      ]
     },
     "execution_count": 77,
     "metadata": {},
     "output_type": "execute_result"
    }
   ],
   "source": [
    "National_Stock_Exchange_of_India_Ltd[National_Stock_Exchange_of_India_Ltd.Symbol.isin(['CIPLA','HINDALCO','MARUTI','SHREECEM','WIPRO'])]"
   ]
  },
  {
   "cell_type": "markdown",
   "id": "86edc19b-1f1a-4ee8-888c-3089e614cbc0",
   "metadata": {
    "jp-MarkdownHeadingCollapsed": true
   },
   "source": [
    "### Yêu cầu 7:"
   ]
  },
  {
   "cell_type": "markdown",
   "id": "4b5bb840-ddc1-45d0-a646-9a804f715869",
   "metadata": {},
   "source": [
    "**Cho biết giá cao nhất trong năm của mã CP 'DIVISLAB'**"
   ]
  },
  {
   "cell_type": "code",
   "execution_count": 82,
   "id": "0f4530c2-4469-4d2a-8134-7c609d0f5f5e",
   "metadata": {},
   "outputs": [
    {
     "name": "stdout",
     "output_type": "stream",
     "text": [
      "Giá cổ phiếu cao nhất của mã cổ phiếu 'DIVISLAB' là: 5425.1\n"
     ]
    }
   ],
   "source": [
    "# Lọc ra thông tin của mã cổ phiếu 'DIVISLAB'\n",
    "divislab_info = National_Stock_Exchange_of_India_Ltd[National_Stock_Exchange_of_India_Ltd['Symbol'] == 'DIVISLAB']\n",
    "divislab_info\n",
    "\n",
    "# Truy xuất giá cổ phiếu cao nhất trong cột 'H_52w' của mã cổ phiếu 'DIVISLAB'\n",
    "max_price = divislab_info['H_52w'].max()\n",
    "\n",
    "# In giá cổ phiếu cao nhất của mã cổ phiếu 'DIVISLAB'\n",
    "print(\"Giá cổ phiếu cao nhất của mã cổ phiếu 'DIVISLAB' là:\", max_price)\n"
   ]
  },
  {
   "cell_type": "markdown",
   "id": "419f6b14-b777-48c2-a8e9-2310a9ed6f87",
   "metadata": {
    "jp-MarkdownHeadingCollapsed": true
   },
   "source": [
    "### Yêu cầu 8:"
   ]
  },
  {
   "cell_type": "markdown",
   "id": "5a01cb46-9bec-41f4-969e-62101e4e1ba9",
   "metadata": {},
   "source": [
    "**Mã CP có High cao nhất**"
   ]
  },
  {
   "cell_type": "code",
   "execution_count": 94,
   "id": "7a235a8a-9f8c-45a6-9f06-18f4a97abb28",
   "metadata": {},
   "outputs": [
    {
     "data": {
      "text/html": [
       "<div>\n",
       "<style scoped>\n",
       "    .dataframe tbody tr th:only-of-type {\n",
       "        vertical-align: middle;\n",
       "    }\n",
       "\n",
       "    .dataframe tbody tr th {\n",
       "        vertical-align: top;\n",
       "    }\n",
       "\n",
       "    .dataframe thead th {\n",
       "        text-align: right;\n",
       "    }\n",
       "</style>\n",
       "<table border=\"1\" class=\"dataframe\">\n",
       "  <thead>\n",
       "    <tr style=\"text-align: right;\">\n",
       "      <th></th>\n",
       "      <th>Symbol</th>\n",
       "      <th>Open</th>\n",
       "      <th>High</th>\n",
       "      <th>Low</th>\n",
       "      <th>LTP</th>\n",
       "      <th>Chng</th>\n",
       "      <th>Chng_pct</th>\n",
       "      <th>Volume_lacs</th>\n",
       "      <th>Turnover_crs</th>\n",
       "      <th>H_52w</th>\n",
       "      <th>L_52w</th>\n",
       "      <th>chng_365d_pct</th>\n",
       "      <th>chng_30d_pct</th>\n",
       "    </tr>\n",
       "  </thead>\n",
       "  <tbody>\n",
       "    <tr>\n",
       "      <th>39</th>\n",
       "      <td>SHREECEM</td>\n",
       "      <td>26450.0</td>\n",
       "      <td>26539.9</td>\n",
       "      <td>25812.0</td>\n",
       "      <td>25900.0</td>\n",
       "      <td>-770.5</td>\n",
       "      <td>-2.89</td>\n",
       "      <td>0.3</td>\n",
       "      <td>76.94</td>\n",
       "      <td>32048.0</td>\n",
       "      <td>22531.0</td>\n",
       "      <td>9.29</td>\n",
       "      <td>-6.76</td>\n",
       "    </tr>\n",
       "  </tbody>\n",
       "</table>\n",
       "</div>"
      ],
      "text/plain": [
       "      Symbol     Open     High      Low      LTP   Chng  Chng_pct  \\\n",
       "39  SHREECEM  26450.0  26539.9  25812.0  25900.0 -770.5     -2.89   \n",
       "\n",
       "    Volume_lacs  Turnover_crs    H_52w    L_52w  chng_365d_pct  chng_30d_pct  \n",
       "39          0.3         76.94  32048.0  22531.0           9.29         -6.76  "
      ]
     },
     "execution_count": 94,
     "metadata": {},
     "output_type": "execute_result"
    }
   ],
   "source": [
    "CodeHighMax = National_Stock_Exchange_of_India_Ltd[National_Stock_Exchange_of_India_Ltd['High'] == National_Stock_Exchange_of_India_Ltd['High'].max()]\n",
    "CodeHighMax"
   ]
  },
  {
   "cell_type": "markdown",
   "id": "4984ddfc-e36b-4f93-8d01-725321b27c3f",
   "metadata": {
    "jp-MarkdownHeadingCollapsed": true
   },
   "source": [
    "### Yêu cầu 9:"
   ]
  },
  {
   "cell_type": "markdown",
   "id": "ddde77ca-c453-409a-8efb-74dc9990b283",
   "metadata": {},
   "source": [
    "**Mã CP có Low thấp nhất**"
   ]
  },
  {
   "cell_type": "code",
   "execution_count": 88,
   "id": "47abd03a-da34-431a-b8fd-3f7c09c0ffd6",
   "metadata": {},
   "outputs": [
    {
     "data": {
      "text/html": [
       "<div>\n",
       "<style scoped>\n",
       "    .dataframe tbody tr th:only-of-type {\n",
       "        vertical-align: middle;\n",
       "    }\n",
       "\n",
       "    .dataframe tbody tr th {\n",
       "        vertical-align: top;\n",
       "    }\n",
       "\n",
       "    .dataframe thead th {\n",
       "        text-align: right;\n",
       "    }\n",
       "</style>\n",
       "<table border=\"1\" class=\"dataframe\">\n",
       "  <thead>\n",
       "    <tr style=\"text-align: right;\">\n",
       "      <th></th>\n",
       "      <th>Symbol</th>\n",
       "      <th>Open</th>\n",
       "      <th>High</th>\n",
       "      <th>Low</th>\n",
       "      <th>LTP</th>\n",
       "      <th>Chng</th>\n",
       "      <th>Chng_pct</th>\n",
       "      <th>Volume_lacs</th>\n",
       "      <th>Turnover_crs</th>\n",
       "      <th>H_52w</th>\n",
       "      <th>L_52w</th>\n",
       "      <th>chng_365d_pct</th>\n",
       "      <th>chng_30d_pct</th>\n",
       "    </tr>\n",
       "  </thead>\n",
       "  <tbody>\n",
       "    <tr>\n",
       "      <th>25</th>\n",
       "      <td>IOC</td>\n",
       "      <td>125.6</td>\n",
       "      <td>125.6</td>\n",
       "      <td>120.5</td>\n",
       "      <td>121.15</td>\n",
       "      <td>-4.5</td>\n",
       "      <td>-3.58</td>\n",
       "      <td>77.25</td>\n",
       "      <td>94.57</td>\n",
       "      <td>141.5</td>\n",
       "      <td>84.0</td>\n",
       "      <td>41.28</td>\n",
       "      <td>-7.87</td>\n",
       "    </tr>\n",
       "  </tbody>\n",
       "</table>\n",
       "</div>"
      ],
      "text/plain": [
       "   Symbol   Open   High    Low     LTP  Chng  Chng_pct  Volume_lacs  \\\n",
       "25    IOC  125.6  125.6  120.5  121.15  -4.5     -3.58        77.25   \n",
       "\n",
       "    Turnover_crs  H_52w  L_52w  chng_365d_pct  chng_30d_pct  \n",
       "25         94.57  141.5   84.0          41.28         -7.87  "
      ]
     },
     "execution_count": 88,
     "metadata": {},
     "output_type": "execute_result"
    }
   ],
   "source": [
    "CodeLowMin = National_Stock_Exchange_of_India_Ltd[National_Stock_Exchange_of_India_Ltd['Low'] == National_Stock_Exchange_of_India_Ltd['Low'].min()]\n",
    "CodeLowMin"
   ]
  },
  {
   "cell_type": "markdown",
   "id": "62240f1a-76df-42f4-9052-e324735aa826",
   "metadata": {
    "jp-MarkdownHeadingCollapsed": true
   },
   "source": [
    "### Yêu cầu 10:"
   ]
  },
  {
   "cell_type": "markdown",
   "id": "0ccce72d-81ef-43a2-b709-c04ecab50c14",
   "metadata": {},
   "source": [
    "**Mã cổ phiếu có LTP lớn hơn giá mở cửa Open**"
   ]
  },
  {
   "cell_type": "code",
   "execution_count": 89,
   "id": "a9119366-aeb7-4061-b364-c0afbe6f7fc4",
   "metadata": {},
   "outputs": [
    {
     "data": {
      "text/html": [
       "<div>\n",
       "<style scoped>\n",
       "    .dataframe tbody tr th:only-of-type {\n",
       "        vertical-align: middle;\n",
       "    }\n",
       "\n",
       "    .dataframe tbody tr th {\n",
       "        vertical-align: top;\n",
       "    }\n",
       "\n",
       "    .dataframe thead th {\n",
       "        text-align: right;\n",
       "    }\n",
       "</style>\n",
       "<table border=\"1\" class=\"dataframe\">\n",
       "  <thead>\n",
       "    <tr style=\"text-align: right;\">\n",
       "      <th></th>\n",
       "      <th>Symbol</th>\n",
       "      <th>Open</th>\n",
       "      <th>High</th>\n",
       "      <th>Low</th>\n",
       "      <th>LTP</th>\n",
       "      <th>Chng</th>\n",
       "      <th>Chng_pct</th>\n",
       "      <th>Volume_lacs</th>\n",
       "      <th>Turnover_crs</th>\n",
       "      <th>H_52w</th>\n",
       "      <th>L_52w</th>\n",
       "      <th>chng_365d_pct</th>\n",
       "      <th>chng_30d_pct</th>\n",
       "    </tr>\n",
       "  </thead>\n",
       "  <tbody>\n",
       "    <tr>\n",
       "      <th>1</th>\n",
       "      <td>ASIANPAINT</td>\n",
       "      <td>3101.00</td>\n",
       "      <td>3167.35</td>\n",
       "      <td>3091.00</td>\n",
       "      <td>3138.0</td>\n",
       "      <td>-6.25</td>\n",
       "      <td>-0.20</td>\n",
       "      <td>10.29</td>\n",
       "      <td>322.53</td>\n",
       "      <td>3505.00</td>\n",
       "      <td>2117.15</td>\n",
       "      <td>45.66</td>\n",
       "      <td>5.66</td>\n",
       "    </tr>\n",
       "    <tr>\n",
       "      <th>8</th>\n",
       "      <td>BRITANNIA</td>\n",
       "      <td>3560.00</td>\n",
       "      <td>3635.10</td>\n",
       "      <td>3533.95</td>\n",
       "      <td>3566.6</td>\n",
       "      <td>-6.80</td>\n",
       "      <td>-0.19</td>\n",
       "      <td>3.73</td>\n",
       "      <td>133.23</td>\n",
       "      <td>4153.00</td>\n",
       "      <td>3317.30</td>\n",
       "      <td>0.30</td>\n",
       "      <td>-3.42</td>\n",
       "    </tr>\n",
       "    <tr>\n",
       "      <th>9</th>\n",
       "      <td>CIPLA</td>\n",
       "      <td>892.00</td>\n",
       "      <td>976.05</td>\n",
       "      <td>890.65</td>\n",
       "      <td>965.0</td>\n",
       "      <td>65.05</td>\n",
       "      <td>7.23</td>\n",
       "      <td>144.59</td>\n",
       "      <td>1380.90</td>\n",
       "      <td>1005.00</td>\n",
       "      <td>726.50</td>\n",
       "      <td>31.89</td>\n",
       "      <td>6.34</td>\n",
       "    </tr>\n",
       "    <tr>\n",
       "      <th>11</th>\n",
       "      <td>DIVISLAB</td>\n",
       "      <td>4770.00</td>\n",
       "      <td>5077.70</td>\n",
       "      <td>4756.75</td>\n",
       "      <td>4940.0</td>\n",
       "      <td>140.20</td>\n",
       "      <td>2.92</td>\n",
       "      <td>15.71</td>\n",
       "      <td>775.37</td>\n",
       "      <td>5425.10</td>\n",
       "      <td>3153.30</td>\n",
       "      <td>42.39</td>\n",
       "      <td>-1.57</td>\n",
       "    </tr>\n",
       "    <tr>\n",
       "      <th>12</th>\n",
       "      <td>DRREDDY</td>\n",
       "      <td>4580.00</td>\n",
       "      <td>4820.00</td>\n",
       "      <td>4576.15</td>\n",
       "      <td>4750.0</td>\n",
       "      <td>158.40</td>\n",
       "      <td>3.45</td>\n",
       "      <td>10.72</td>\n",
       "      <td>508.97</td>\n",
       "      <td>5614.60</td>\n",
       "      <td>4135.00</td>\n",
       "      <td>-1.17</td>\n",
       "      <td>1.80</td>\n",
       "    </tr>\n",
       "    <tr>\n",
       "      <th>32</th>\n",
       "      <td>NESTLEIND</td>\n",
       "      <td>19148.85</td>\n",
       "      <td>19434.10</td>\n",
       "      <td>18982.50</td>\n",
       "      <td>19250.0</td>\n",
       "      <td>71.95</td>\n",
       "      <td>0.38</td>\n",
       "      <td>0.56</td>\n",
       "      <td>108.61</td>\n",
       "      <td>20609.15</td>\n",
       "      <td>16002.10</td>\n",
       "      <td>9.87</td>\n",
       "      <td>0.17</td>\n",
       "    </tr>\n",
       "    <tr>\n",
       "      <th>44</th>\n",
       "      <td>TCS</td>\n",
       "      <td>3425.00</td>\n",
       "      <td>3490.00</td>\n",
       "      <td>3411.90</td>\n",
       "      <td>3439.2</td>\n",
       "      <td>-6.70</td>\n",
       "      <td>-0.19</td>\n",
       "      <td>19.41</td>\n",
       "      <td>670.58</td>\n",
       "      <td>3989.90</td>\n",
       "      <td>2624.45</td>\n",
       "      <td>27.32</td>\n",
       "      <td>-1.25</td>\n",
       "    </tr>\n",
       "  </tbody>\n",
       "</table>\n",
       "</div>"
      ],
      "text/plain": [
       "        Symbol      Open      High       Low      LTP    Chng  Chng_pct  \\\n",
       "1   ASIANPAINT   3101.00   3167.35   3091.00   3138.0   -6.25     -0.20   \n",
       "8    BRITANNIA   3560.00   3635.10   3533.95   3566.6   -6.80     -0.19   \n",
       "9        CIPLA    892.00    976.05    890.65    965.0   65.05      7.23   \n",
       "11    DIVISLAB   4770.00   5077.70   4756.75   4940.0  140.20      2.92   \n",
       "12     DRREDDY   4580.00   4820.00   4576.15   4750.0  158.40      3.45   \n",
       "32   NESTLEIND  19148.85  19434.10  18982.50  19250.0   71.95      0.38   \n",
       "44         TCS   3425.00   3490.00   3411.90   3439.2   -6.70     -0.19   \n",
       "\n",
       "    Volume_lacs  Turnover_crs     H_52w     L_52w  chng_365d_pct  chng_30d_pct  \n",
       "1         10.29        322.53   3505.00   2117.15          45.66          5.66  \n",
       "8          3.73        133.23   4153.00   3317.30           0.30         -3.42  \n",
       "9        144.59       1380.90   1005.00    726.50          31.89          6.34  \n",
       "11        15.71        775.37   5425.10   3153.30          42.39         -1.57  \n",
       "12        10.72        508.97   5614.60   4135.00          -1.17          1.80  \n",
       "32         0.56        108.61  20609.15  16002.10           9.87          0.17  \n",
       "44        19.41        670.58   3989.90   2624.45          27.32         -1.25  "
      ]
     },
     "execution_count": 89,
     "metadata": {},
     "output_type": "execute_result"
    }
   ],
   "source": [
    "LTPHigherThanOpen = National_Stock_Exchange_of_India_Ltd[National_Stock_Exchange_of_India_Ltd['LTP'] > National_Stock_Exchange_of_India_Ltd['Open']]\n",
    "LTPHigherThanOpen"
   ]
  },
  {
   "cell_type": "markdown",
   "id": "cee3cb5a-abb7-48d2-bcc3-cbd8eef88a9c",
   "metadata": {
    "jp-MarkdownHeadingCollapsed": true
   },
   "source": [
    "### Yêu cầu 11:"
   ]
  },
  {
   "cell_type": "markdown",
   "id": "759b1d40-31f1-481f-b396-87c7e86e7824",
   "metadata": {},
   "source": [
    "**Thông tin thống kê chung về 'Chng_pct'**"
   ]
  },
  {
   "cell_type": "code",
   "execution_count": 93,
   "id": "ac303ae7-afc1-4974-88e7-238b03e23e11",
   "metadata": {},
   "outputs": [
    {
     "data": {
      "text/plain": [
       "count    50.000000\n",
       "mean     -2.930200\n",
       "std       2.677007\n",
       "min      -7.480000\n",
       "25%      -4.527500\n",
       "50%      -3.300000\n",
       "75%      -1.932500\n",
       "max       7.230000\n",
       "Name: Chng_pct, dtype: float64"
      ]
     },
     "execution_count": 93,
     "metadata": {},
     "output_type": "execute_result"
    }
   ],
   "source": [
    "DescribeChng_pct = National_Stock_Exchange_of_India_Ltd['Chng_pct'].describe()\n",
    "DescribeChng_pct"
   ]
  },
  {
   "cell_type": "markdown",
   "id": "f31a702b-e0cc-4bc5-9d9f-cee06b912031",
   "metadata": {
    "jp-MarkdownHeadingCollapsed": true
   },
   "source": [
    "### Yêu cầu 12:"
   ]
  },
  {
   "cell_type": "markdown",
   "id": "90a8ebd8-67b4-4cfa-9f74-be604b30342b",
   "metadata": {},
   "source": [
    "**Các mã cổ phiếu tăng giá so với ngày hôm trước, sắp xếp giảm dần theo Chng_pct**"
   ]
  },
  {
   "cell_type": "code",
   "execution_count": 100,
   "id": "6137e081-0eb3-4401-8546-751bc09a16f5",
   "metadata": {},
   "outputs": [
    {
     "data": {
      "text/html": [
       "<div>\n",
       "<style scoped>\n",
       "    .dataframe tbody tr th:only-of-type {\n",
       "        vertical-align: middle;\n",
       "    }\n",
       "\n",
       "    .dataframe tbody tr th {\n",
       "        vertical-align: top;\n",
       "    }\n",
       "\n",
       "    .dataframe thead th {\n",
       "        text-align: right;\n",
       "    }\n",
       "</style>\n",
       "<table border=\"1\" class=\"dataframe\">\n",
       "  <thead>\n",
       "    <tr style=\"text-align: right;\">\n",
       "      <th></th>\n",
       "      <th>Symbol</th>\n",
       "      <th>Open</th>\n",
       "      <th>High</th>\n",
       "      <th>Low</th>\n",
       "      <th>LTP</th>\n",
       "      <th>Chng</th>\n",
       "      <th>Chng_pct</th>\n",
       "      <th>Volume_lacs</th>\n",
       "      <th>Turnover_crs</th>\n",
       "      <th>H_52w</th>\n",
       "      <th>L_52w</th>\n",
       "      <th>chng_365d_pct</th>\n",
       "      <th>chng_30d_pct</th>\n",
       "    </tr>\n",
       "  </thead>\n",
       "  <tbody>\n",
       "    <tr>\n",
       "      <th>9</th>\n",
       "      <td>CIPLA</td>\n",
       "      <td>892.00</td>\n",
       "      <td>976.05</td>\n",
       "      <td>890.65</td>\n",
       "      <td>965.0</td>\n",
       "      <td>65.05</td>\n",
       "      <td>7.23</td>\n",
       "      <td>144.59</td>\n",
       "      <td>1380.90</td>\n",
       "      <td>1005.00</td>\n",
       "      <td>726.5</td>\n",
       "      <td>31.89</td>\n",
       "      <td>6.34</td>\n",
       "    </tr>\n",
       "    <tr>\n",
       "      <th>12</th>\n",
       "      <td>DRREDDY</td>\n",
       "      <td>4580.00</td>\n",
       "      <td>4820.00</td>\n",
       "      <td>4576.15</td>\n",
       "      <td>4750.0</td>\n",
       "      <td>158.40</td>\n",
       "      <td>3.45</td>\n",
       "      <td>10.72</td>\n",
       "      <td>508.97</td>\n",
       "      <td>5614.60</td>\n",
       "      <td>4135.0</td>\n",
       "      <td>-1.17</td>\n",
       "      <td>1.80</td>\n",
       "    </tr>\n",
       "    <tr>\n",
       "      <th>11</th>\n",
       "      <td>DIVISLAB</td>\n",
       "      <td>4770.00</td>\n",
       "      <td>5077.70</td>\n",
       "      <td>4756.75</td>\n",
       "      <td>4940.0</td>\n",
       "      <td>140.20</td>\n",
       "      <td>2.92</td>\n",
       "      <td>15.71</td>\n",
       "      <td>775.37</td>\n",
       "      <td>5425.10</td>\n",
       "      <td>3153.3</td>\n",
       "      <td>42.39</td>\n",
       "      <td>-1.57</td>\n",
       "    </tr>\n",
       "    <tr>\n",
       "      <th>32</th>\n",
       "      <td>NESTLEIND</td>\n",
       "      <td>19148.85</td>\n",
       "      <td>19434.10</td>\n",
       "      <td>18982.50</td>\n",
       "      <td>19250.0</td>\n",
       "      <td>71.95</td>\n",
       "      <td>0.38</td>\n",
       "      <td>0.56</td>\n",
       "      <td>108.61</td>\n",
       "      <td>20609.15</td>\n",
       "      <td>16002.1</td>\n",
       "      <td>9.87</td>\n",
       "      <td>0.17</td>\n",
       "    </tr>\n",
       "  </tbody>\n",
       "</table>\n",
       "</div>"
      ],
      "text/plain": [
       "       Symbol      Open      High       Low      LTP    Chng  Chng_pct  \\\n",
       "9       CIPLA    892.00    976.05    890.65    965.0   65.05      7.23   \n",
       "12    DRREDDY   4580.00   4820.00   4576.15   4750.0  158.40      3.45   \n",
       "11   DIVISLAB   4770.00   5077.70   4756.75   4940.0  140.20      2.92   \n",
       "32  NESTLEIND  19148.85  19434.10  18982.50  19250.0   71.95      0.38   \n",
       "\n",
       "    Volume_lacs  Turnover_crs     H_52w    L_52w  chng_365d_pct  chng_30d_pct  \n",
       "9        144.59       1380.90   1005.00    726.5          31.89          6.34  \n",
       "12        10.72        508.97   5614.60   4135.0          -1.17          1.80  \n",
       "11        15.71        775.37   5425.10   3153.3          42.39         -1.57  \n",
       "32         0.56        108.61  20609.15  16002.1           9.87          0.17  "
      ]
     },
     "execution_count": 100,
     "metadata": {},
     "output_type": "execute_result"
    }
   ],
   "source": [
    "# Mã cổ phiếu tăng giá so với ngày hôm trước => Chng_pct > 0\n",
    "Chng_pctIsPositive = National_Stock_Exchange_of_India_Ltd[National_Stock_Exchange_of_India_Ltd['Chng_pct'] > 0]\n",
    "Chng_pctIsPositive.sort_values(by = 'Chng_pct', ascending = False)"
   ]
  },
  {
   "cell_type": "markdown",
   "id": "c8e5da56-6c3f-4d57-9fa7-4e6efeb4d2ff",
   "metadata": {
    "jp-MarkdownHeadingCollapsed": true
   },
   "source": [
    "### Yêu cầu 13:"
   ]
  },
  {
   "cell_type": "markdown",
   "id": "a88db414-42ec-40aa-98aa-0b52939f723b",
   "metadata": {},
   "source": [
    "**Mã cổ phiếu có tỷ lệ tăng giá cao nhất (so với ngày hôm trước)**"
   ]
  },
  {
   "cell_type": "code",
   "execution_count": 99,
   "id": "b194d250-fa9a-4438-9d69-9ae53731b28f",
   "metadata": {},
   "outputs": [
    {
     "data": {
      "text/html": [
       "<div>\n",
       "<style scoped>\n",
       "    .dataframe tbody tr th:only-of-type {\n",
       "        vertical-align: middle;\n",
       "    }\n",
       "\n",
       "    .dataframe tbody tr th {\n",
       "        vertical-align: top;\n",
       "    }\n",
       "\n",
       "    .dataframe thead th {\n",
       "        text-align: right;\n",
       "    }\n",
       "</style>\n",
       "<table border=\"1\" class=\"dataframe\">\n",
       "  <thead>\n",
       "    <tr style=\"text-align: right;\">\n",
       "      <th></th>\n",
       "      <th>Symbol</th>\n",
       "      <th>Open</th>\n",
       "      <th>High</th>\n",
       "      <th>Low</th>\n",
       "      <th>LTP</th>\n",
       "      <th>Chng</th>\n",
       "      <th>Chng_pct</th>\n",
       "      <th>Volume_lacs</th>\n",
       "      <th>Turnover_crs</th>\n",
       "      <th>H_52w</th>\n",
       "      <th>L_52w</th>\n",
       "      <th>chng_365d_pct</th>\n",
       "      <th>chng_30d_pct</th>\n",
       "    </tr>\n",
       "  </thead>\n",
       "  <tbody>\n",
       "    <tr>\n",
       "      <th>9</th>\n",
       "      <td>CIPLA</td>\n",
       "      <td>892.0</td>\n",
       "      <td>976.05</td>\n",
       "      <td>890.65</td>\n",
       "      <td>965.0</td>\n",
       "      <td>65.05</td>\n",
       "      <td>7.23</td>\n",
       "      <td>144.59</td>\n",
       "      <td>1380.9</td>\n",
       "      <td>1005.0</td>\n",
       "      <td>726.5</td>\n",
       "      <td>31.89</td>\n",
       "      <td>6.34</td>\n",
       "    </tr>\n",
       "  </tbody>\n",
       "</table>\n",
       "</div>"
      ],
      "text/plain": [
       "  Symbol   Open    High     Low    LTP   Chng  Chng_pct  Volume_lacs  \\\n",
       "9  CIPLA  892.0  976.05  890.65  965.0  65.05      7.23       144.59   \n",
       "\n",
       "   Turnover_crs   H_52w  L_52w  chng_365d_pct  chng_30d_pct  \n",
       "9        1380.9  1005.0  726.5          31.89          6.34  "
      ]
     },
     "execution_count": 99,
     "metadata": {},
     "output_type": "execute_result"
    }
   ],
   "source": [
    "Chng_pctIsHighest = National_Stock_Exchange_of_India_Ltd[National_Stock_Exchange_of_India_Ltd['Chng_pct'] == National_Stock_Exchange_of_India_Ltd['Chng_pct'].max()]\n",
    "Chng_pctIsHighest"
   ]
  },
  {
   "cell_type": "markdown",
   "id": "6fb8954f-9761-4350-80e8-cd4cd7155703",
   "metadata": {},
   "source": [
    "### Yêu cầu 14:"
   ]
  },
  {
   "cell_type": "markdown",
   "id": "85abda13-2703-4d6e-a2c6-fa918d914e93",
   "metadata": {},
   "source": [
    "**Mã cổ phiếu có khối lượng giao dịch nhiều nhất**"
   ]
  },
  {
   "cell_type": "code",
   "execution_count": 116,
   "id": "2857b077-306b-4ab0-b0af-37e9abebaa30",
   "metadata": {},
   "outputs": [
    {
     "data": {
      "text/html": [
       "<div>\n",
       "<style scoped>\n",
       "    .dataframe tbody tr th:only-of-type {\n",
       "        vertical-align: middle;\n",
       "    }\n",
       "\n",
       "    .dataframe tbody tr th {\n",
       "        vertical-align: top;\n",
       "    }\n",
       "\n",
       "    .dataframe thead th {\n",
       "        text-align: right;\n",
       "    }\n",
       "</style>\n",
       "<table border=\"1\" class=\"dataframe\">\n",
       "  <thead>\n",
       "    <tr style=\"text-align: right;\">\n",
       "      <th></th>\n",
       "      <th>Symbol</th>\n",
       "      <th>Open</th>\n",
       "      <th>High</th>\n",
       "      <th>Low</th>\n",
       "      <th>LTP</th>\n",
       "      <th>Chng</th>\n",
       "      <th>Chng_pct</th>\n",
       "      <th>Volume_lacs</th>\n",
       "      <th>Turnover_crs</th>\n",
       "      <th>H_52w</th>\n",
       "      <th>L_52w</th>\n",
       "      <th>chng_365d_pct</th>\n",
       "      <th>chng_30d_pct</th>\n",
       "    </tr>\n",
       "  </thead>\n",
       "  <tbody>\n",
       "    <tr>\n",
       "      <th>42</th>\n",
       "      <td>TATAMOTORS</td>\n",
       "      <td>486.0</td>\n",
       "      <td>486.75</td>\n",
       "      <td>458.0</td>\n",
       "      <td>459.4</td>\n",
       "      <td>-33.35</td>\n",
       "      <td>-6.77</td>\n",
       "      <td>517.88</td>\n",
       "      <td>2430.36</td>\n",
       "      <td>536.7</td>\n",
       "      <td>156.7</td>\n",
       "      <td>167.95</td>\n",
       "      <td>-9.68</td>\n",
       "    </tr>\n",
       "  </tbody>\n",
       "</table>\n",
       "</div>"
      ],
      "text/plain": [
       "        Symbol   Open    High    Low    LTP   Chng  Chng_pct  Volume_lacs  \\\n",
       "42  TATAMOTORS  486.0  486.75  458.0  459.4 -33.35     -6.77       517.88   \n",
       "\n",
       "    Turnover_crs  H_52w  L_52w  chng_365d_pct  chng_30d_pct  \n",
       "42       2430.36  536.7  156.7         167.95         -9.68  "
      ]
     },
     "execution_count": 116,
     "metadata": {},
     "output_type": "execute_result"
    }
   ],
   "source": [
    "StockVolumeMax = National_Stock_Exchange_of_India_Ltd[National_Stock_Exchange_of_India_Ltd['Volume_lacs'] == National_Stock_Exchange_of_India_Ltd['Volume_lacs'].max()]\n",
    "StockVolumeMax"
   ]
  },
  {
   "cell_type": "markdown",
   "id": "687a4cbe-3835-4771-b604-a140dcf3efbf",
   "metadata": {},
   "source": [
    "### Yêu cầu 15:"
   ]
  },
  {
   "cell_type": "markdown",
   "id": "f77623c1-8b9a-4a98-8302-4d0ad03685a1",
   "metadata": {},
   "source": [
    "**a. Mã cổ phiếu có tổng tiền giao dịch nhiều nhất**"
   ]
  },
  {
   "cell_type": "code",
   "execution_count": 124,
   "id": "e59234a1-f168-49bc-a70c-18eb79e46add",
   "metadata": {},
   "outputs": [
    {
     "data": {
      "text/plain": [
       "Symbol\n",
       "TATAMOTORS    2430.36\n",
       "Name: Turnover_crs, dtype: float64"
      ]
     },
     "execution_count": 124,
     "metadata": {},
     "output_type": "execute_result"
    }
   ],
   "source": [
    "SumStockTurnover = National_Stock_Exchange_of_India_Ltd.groupby('Symbol')['Turnover_crs'].sum()\n",
    "SumStockTurnover[SumStockTurnover == SumStockTurnover.max()]"
   ]
  },
  {
   "cell_type": "code",
   "execution_count": 129,
   "id": "66792d90-4745-4d60-b3d4-24ac9d9a89b8",
   "metadata": {},
   "outputs": [
    {
     "data": {
      "text/html": [
       "<div>\n",
       "<style scoped>\n",
       "    .dataframe tbody tr th:only-of-type {\n",
       "        vertical-align: middle;\n",
       "    }\n",
       "\n",
       "    .dataframe tbody tr th {\n",
       "        vertical-align: top;\n",
       "    }\n",
       "\n",
       "    .dataframe thead th {\n",
       "        text-align: right;\n",
       "    }\n",
       "</style>\n",
       "<table border=\"1\" class=\"dataframe\">\n",
       "  <thead>\n",
       "    <tr style=\"text-align: right;\">\n",
       "      <th></th>\n",
       "      <th>Symbol</th>\n",
       "      <th>Open</th>\n",
       "      <th>High</th>\n",
       "      <th>Low</th>\n",
       "      <th>LTP</th>\n",
       "      <th>Chng</th>\n",
       "      <th>Chng_pct</th>\n",
       "      <th>Volume_lacs</th>\n",
       "      <th>Turnover_crs</th>\n",
       "      <th>H_52w</th>\n",
       "      <th>L_52w</th>\n",
       "      <th>chng_365d_pct</th>\n",
       "      <th>chng_30d_pct</th>\n",
       "    </tr>\n",
       "  </thead>\n",
       "  <tbody>\n",
       "    <tr>\n",
       "      <th>42</th>\n",
       "      <td>TATAMOTORS</td>\n",
       "      <td>486.0</td>\n",
       "      <td>486.75</td>\n",
       "      <td>458.0</td>\n",
       "      <td>459.4</td>\n",
       "      <td>-33.35</td>\n",
       "      <td>-6.77</td>\n",
       "      <td>517.88</td>\n",
       "      <td>2430.36</td>\n",
       "      <td>536.7</td>\n",
       "      <td>156.7</td>\n",
       "      <td>167.95</td>\n",
       "      <td>-9.68</td>\n",
       "    </tr>\n",
       "  </tbody>\n",
       "</table>\n",
       "</div>"
      ],
      "text/plain": [
       "        Symbol   Open    High    Low    LTP   Chng  Chng_pct  Volume_lacs  \\\n",
       "42  TATAMOTORS  486.0  486.75  458.0  459.4 -33.35     -6.77       517.88   \n",
       "\n",
       "    Turnover_crs  H_52w  L_52w  chng_365d_pct  chng_30d_pct  \n",
       "42       2430.36  536.7  156.7         167.95         -9.68  "
      ]
     },
     "execution_count": 129,
     "metadata": {},
     "output_type": "execute_result"
    }
   ],
   "source": [
    "StockTurnoverMax = National_Stock_Exchange_of_India_Ltd[National_Stock_Exchange_of_India_Ltd['Turnover_crs'] == National_Stock_Exchange_of_India_Ltd['Turnover_crs'].max()]\n",
    "StockTurnoverMax"
   ]
  },
  {
   "cell_type": "markdown",
   "id": "80618127-d2e5-469d-858f-310b9b145bf8",
   "metadata": {},
   "source": [
    "**b. 5 mã cổ phiếu có tổng tiền giao dịch nhiều nhất**"
   ]
  },
  {
   "cell_type": "code",
   "execution_count": 125,
   "id": "a5407ca2-0c82-4758-9e11-aa475d514922",
   "metadata": {},
   "outputs": [
    {
     "data": {
      "text/plain": [
       "Symbol\n",
       "TATAMOTORS    2430.36\n",
       "RELIANCE      1770.19\n",
       "HDFCBANK      1394.10\n",
       "ICICIBANK     1385.86\n",
       "CIPLA         1380.90\n",
       "Name: Turnover_crs, dtype: float64"
      ]
     },
     "execution_count": 125,
     "metadata": {},
     "output_type": "execute_result"
    }
   ],
   "source": [
    "SumStockTurnover.sort_values(ascending = False).head(5)"
   ]
  },
  {
   "cell_type": "code",
   "execution_count": 135,
   "id": "7fd1dc1f-c43d-47fb-8787-f9c6e94f1198",
   "metadata": {},
   "outputs": [
    {
     "data": {
      "text/html": [
       "<div>\n",
       "<style scoped>\n",
       "    .dataframe tbody tr th:only-of-type {\n",
       "        vertical-align: middle;\n",
       "    }\n",
       "\n",
       "    .dataframe tbody tr th {\n",
       "        vertical-align: top;\n",
       "    }\n",
       "\n",
       "    .dataframe thead th {\n",
       "        text-align: right;\n",
       "    }\n",
       "</style>\n",
       "<table border=\"1\" class=\"dataframe\">\n",
       "  <thead>\n",
       "    <tr style=\"text-align: right;\">\n",
       "      <th></th>\n",
       "      <th>Symbol</th>\n",
       "      <th>Open</th>\n",
       "      <th>High</th>\n",
       "      <th>Low</th>\n",
       "      <th>LTP</th>\n",
       "      <th>Chng</th>\n",
       "      <th>Chng_pct</th>\n",
       "      <th>Volume_lacs</th>\n",
       "      <th>Turnover_crs</th>\n",
       "      <th>H_52w</th>\n",
       "      <th>L_52w</th>\n",
       "      <th>chng_365d_pct</th>\n",
       "      <th>chng_30d_pct</th>\n",
       "    </tr>\n",
       "  </thead>\n",
       "  <tbody>\n",
       "    <tr>\n",
       "      <th>42</th>\n",
       "      <td>TATAMOTORS</td>\n",
       "      <td>486.0</td>\n",
       "      <td>486.75</td>\n",
       "      <td>458.00</td>\n",
       "      <td>459.40</td>\n",
       "      <td>-33.35</td>\n",
       "      <td>-6.77</td>\n",
       "      <td>517.88</td>\n",
       "      <td>2430.36</td>\n",
       "      <td>536.70</td>\n",
       "      <td>156.7</td>\n",
       "      <td>167.95</td>\n",
       "      <td>-9.68</td>\n",
       "    </tr>\n",
       "    <tr>\n",
       "      <th>36</th>\n",
       "      <td>RELIANCE</td>\n",
       "      <td>2467.8</td>\n",
       "      <td>2477.60</td>\n",
       "      <td>2401.50</td>\n",
       "      <td>2405.10</td>\n",
       "      <td>-87.85</td>\n",
       "      <td>-3.52</td>\n",
       "      <td>72.75</td>\n",
       "      <td>1770.19</td>\n",
       "      <td>2751.35</td>\n",
       "      <td>1830.0</td>\n",
       "      <td>23.48</td>\n",
       "      <td>-9.62</td>\n",
       "    </tr>\n",
       "    <tr>\n",
       "      <th>17</th>\n",
       "      <td>HDFCBANK</td>\n",
       "      <td>1500.0</td>\n",
       "      <td>1506.70</td>\n",
       "      <td>1485.00</td>\n",
       "      <td>1489.50</td>\n",
       "      <td>-36.45</td>\n",
       "      <td>-2.39</td>\n",
       "      <td>93.12</td>\n",
       "      <td>1394.10</td>\n",
       "      <td>1725.00</td>\n",
       "      <td>1342.0</td>\n",
       "      <td>6.18</td>\n",
       "      <td>-9.88</td>\n",
       "    </tr>\n",
       "    <tr>\n",
       "      <th>22</th>\n",
       "      <td>ICICIBANK</td>\n",
       "      <td>739.0</td>\n",
       "      <td>742.05</td>\n",
       "      <td>718.60</td>\n",
       "      <td>720.45</td>\n",
       "      <td>-30.60</td>\n",
       "      <td>-4.07</td>\n",
       "      <td>189.88</td>\n",
       "      <td>1385.86</td>\n",
       "      <td>867.00</td>\n",
       "      <td>465.8</td>\n",
       "      <td>52.41</td>\n",
       "      <td>-13.14</td>\n",
       "    </tr>\n",
       "    <tr>\n",
       "      <th>9</th>\n",
       "      <td>CIPLA</td>\n",
       "      <td>892.0</td>\n",
       "      <td>976.05</td>\n",
       "      <td>890.65</td>\n",
       "      <td>965.00</td>\n",
       "      <td>65.05</td>\n",
       "      <td>7.23</td>\n",
       "      <td>144.59</td>\n",
       "      <td>1380.90</td>\n",
       "      <td>1005.00</td>\n",
       "      <td>726.5</td>\n",
       "      <td>31.89</td>\n",
       "      <td>6.34</td>\n",
       "    </tr>\n",
       "  </tbody>\n",
       "</table>\n",
       "</div>"
      ],
      "text/plain": [
       "        Symbol    Open     High      Low      LTP   Chng  Chng_pct  \\\n",
       "42  TATAMOTORS   486.0   486.75   458.00   459.40 -33.35     -6.77   \n",
       "36    RELIANCE  2467.8  2477.60  2401.50  2405.10 -87.85     -3.52   \n",
       "17    HDFCBANK  1500.0  1506.70  1485.00  1489.50 -36.45     -2.39   \n",
       "22   ICICIBANK   739.0   742.05   718.60   720.45 -30.60     -4.07   \n",
       "9        CIPLA   892.0   976.05   890.65   965.00  65.05      7.23   \n",
       "\n",
       "    Volume_lacs  Turnover_crs    H_52w   L_52w  chng_365d_pct  chng_30d_pct  \n",
       "42       517.88       2430.36   536.70   156.7         167.95         -9.68  \n",
       "36        72.75       1770.19  2751.35  1830.0          23.48         -9.62  \n",
       "17        93.12       1394.10  1725.00  1342.0           6.18         -9.88  \n",
       "22       189.88       1385.86   867.00   465.8          52.41        -13.14  \n",
       "9        144.59       1380.90  1005.00   726.5          31.89          6.34  "
      ]
     },
     "execution_count": 135,
     "metadata": {},
     "output_type": "execute_result"
    }
   ],
   "source": [
    "Top5TurnoverStock = National_Stock_Exchange_of_India_Ltd.sort_values(by = 'Turnover_crs', ascending = False).head(5)\n",
    "Top5TurnoverStock"
   ]
  },
  {
   "cell_type": "markdown",
   "id": "cea050f1-6460-48d9-b526-5c3c0cffb1e0",
   "metadata": {},
   "source": [
    "### Yêu cầu 16:"
   ]
  },
  {
   "cell_type": "markdown",
   "id": "d1bb146e-8b13-4c34-b6f7-977e1022b2b7",
   "metadata": {},
   "source": [
    "**a. Mã cổ phiếu giảm giá so với năm trước (chng_365d_pct < 0)**"
   ]
  },
  {
   "cell_type": "code",
   "execution_count": 139,
   "id": "37d3fa05-a3f0-4beb-b4c9-478dd01366e0",
   "metadata": {},
   "outputs": [
    {
     "data": {
      "text/html": [
       "<div>\n",
       "<style scoped>\n",
       "    .dataframe tbody tr th:only-of-type {\n",
       "        vertical-align: middle;\n",
       "    }\n",
       "\n",
       "    .dataframe tbody tr th {\n",
       "        vertical-align: top;\n",
       "    }\n",
       "\n",
       "    .dataframe thead th {\n",
       "        text-align: right;\n",
       "    }\n",
       "</style>\n",
       "<table border=\"1\" class=\"dataframe\">\n",
       "  <thead>\n",
       "    <tr style=\"text-align: right;\">\n",
       "      <th></th>\n",
       "      <th>Symbol</th>\n",
       "      <th>Open</th>\n",
       "      <th>High</th>\n",
       "      <th>Low</th>\n",
       "      <th>LTP</th>\n",
       "      <th>Chng</th>\n",
       "      <th>Chng_pct</th>\n",
       "      <th>Volume_lacs</th>\n",
       "      <th>Turnover_crs</th>\n",
       "      <th>H_52w</th>\n",
       "      <th>L_52w</th>\n",
       "      <th>chng_365d_pct</th>\n",
       "      <th>chng_30d_pct</th>\n",
       "    </tr>\n",
       "  </thead>\n",
       "  <tbody>\n",
       "    <tr>\n",
       "      <th>19</th>\n",
       "      <td>HEROMOTOCO</td>\n",
       "      <td>2580.00</td>\n",
       "      <td>2589.7</td>\n",
       "      <td>2505.15</td>\n",
       "      <td>2526.80</td>\n",
       "      <td>-67.90</td>\n",
       "      <td>-2.62</td>\n",
       "      <td>6.85</td>\n",
       "      <td>174.04</td>\n",
       "      <td>3629.05</td>\n",
       "      <td>2505.15</td>\n",
       "      <td>-16.02</td>\n",
       "      <td>-6.43</td>\n",
       "    </tr>\n",
       "    <tr>\n",
       "      <th>13</th>\n",
       "      <td>EICHERMOT</td>\n",
       "      <td>2495.00</td>\n",
       "      <td>2506.1</td>\n",
       "      <td>2421.50</td>\n",
       "      <td>2440.75</td>\n",
       "      <td>-79.65</td>\n",
       "      <td>-3.16</td>\n",
       "      <td>5.55</td>\n",
       "      <td>136.56</td>\n",
       "      <td>3037.00</td>\n",
       "      <td>2303.70</td>\n",
       "      <td>-5.95</td>\n",
       "      <td>-5.77</td>\n",
       "    </tr>\n",
       "    <tr>\n",
       "      <th>7</th>\n",
       "      <td>BPCL</td>\n",
       "      <td>397.15</td>\n",
       "      <td>397.2</td>\n",
       "      <td>375.00</td>\n",
       "      <td>377.40</td>\n",
       "      <td>-22.70</td>\n",
       "      <td>-5.67</td>\n",
       "      <td>100.23</td>\n",
       "      <td>383.54</td>\n",
       "      <td>503.00</td>\n",
       "      <td>357.00</td>\n",
       "      <td>-1.22</td>\n",
       "      <td>-12.45</td>\n",
       "    </tr>\n",
       "    <tr>\n",
       "      <th>12</th>\n",
       "      <td>DRREDDY</td>\n",
       "      <td>4580.00</td>\n",
       "      <td>4820.0</td>\n",
       "      <td>4576.15</td>\n",
       "      <td>4750.00</td>\n",
       "      <td>158.40</td>\n",
       "      <td>3.45</td>\n",
       "      <td>10.72</td>\n",
       "      <td>508.97</td>\n",
       "      <td>5614.60</td>\n",
       "      <td>4135.00</td>\n",
       "      <td>-1.17</td>\n",
       "      <td>1.80</td>\n",
       "    </tr>\n",
       "  </tbody>\n",
       "</table>\n",
       "</div>"
      ],
      "text/plain": [
       "        Symbol     Open    High      Low      LTP    Chng  Chng_pct  \\\n",
       "19  HEROMOTOCO  2580.00  2589.7  2505.15  2526.80  -67.90     -2.62   \n",
       "13   EICHERMOT  2495.00  2506.1  2421.50  2440.75  -79.65     -3.16   \n",
       "7         BPCL   397.15   397.2   375.00   377.40  -22.70     -5.67   \n",
       "12     DRREDDY  4580.00  4820.0  4576.15  4750.00  158.40      3.45   \n",
       "\n",
       "    Volume_lacs  Turnover_crs    H_52w    L_52w  chng_365d_pct  chng_30d_pct  \n",
       "19         6.85        174.04  3629.05  2505.15         -16.02         -6.43  \n",
       "13         5.55        136.56  3037.00  2303.70          -5.95         -5.77  \n",
       "7        100.23        383.54   503.00   357.00          -1.22        -12.45  \n",
       "12        10.72        508.97  5614.60  4135.00          -1.17          1.80  "
      ]
     },
     "execution_count": 139,
     "metadata": {},
     "output_type": "execute_result"
    }
   ],
   "source": [
    "StockDropYearPast = National_Stock_Exchange_of_India_Ltd[National_Stock_Exchange_of_India_Ltd['chng_365d_pct'] < 0]\n",
    "StockDropYearPast.sort_values(by = 'chng_365d_pct')"
   ]
  },
  {
   "cell_type": "markdown",
   "id": "6d8ac4ac-9522-4a50-9a53-41e962ed91db",
   "metadata": {},
   "source": [
    "**b. mã cP tăng giá so với 30 ngày trước**"
   ]
  },
  {
   "cell_type": "code",
   "execution_count": 137,
   "id": "314dd2bb-57c3-4d8d-86af-2070938835f0",
   "metadata": {},
   "outputs": [
    {
     "data": {
      "text/html": [
       "<div>\n",
       "<style scoped>\n",
       "    .dataframe tbody tr th:only-of-type {\n",
       "        vertical-align: middle;\n",
       "    }\n",
       "\n",
       "    .dataframe tbody tr th {\n",
       "        vertical-align: top;\n",
       "    }\n",
       "\n",
       "    .dataframe thead th {\n",
       "        text-align: right;\n",
       "    }\n",
       "</style>\n",
       "<table border=\"1\" class=\"dataframe\">\n",
       "  <thead>\n",
       "    <tr style=\"text-align: right;\">\n",
       "      <th></th>\n",
       "      <th>Symbol</th>\n",
       "      <th>Open</th>\n",
       "      <th>High</th>\n",
       "      <th>Low</th>\n",
       "      <th>LTP</th>\n",
       "      <th>Chng</th>\n",
       "      <th>Chng_pct</th>\n",
       "      <th>Volume_lacs</th>\n",
       "      <th>Turnover_crs</th>\n",
       "      <th>H_52w</th>\n",
       "      <th>L_52w</th>\n",
       "      <th>chng_365d_pct</th>\n",
       "      <th>chng_30d_pct</th>\n",
       "    </tr>\n",
       "  </thead>\n",
       "  <tbody>\n",
       "    <tr>\n",
       "      <th>35</th>\n",
       "      <td>POWERGRID</td>\n",
       "      <td>204.05</td>\n",
       "      <td>204.95</td>\n",
       "      <td>200.80</td>\n",
       "      <td>202.50</td>\n",
       "      <td>-1.75</td>\n",
       "      <td>-0.86</td>\n",
       "      <td>96.11</td>\n",
       "      <td>195.09</td>\n",
       "      <td>209.95</td>\n",
       "      <td>136.88</td>\n",
       "      <td>3.69</td>\n",
       "      <td>6.36</td>\n",
       "    </tr>\n",
       "    <tr>\n",
       "      <th>9</th>\n",
       "      <td>CIPLA</td>\n",
       "      <td>892.00</td>\n",
       "      <td>976.05</td>\n",
       "      <td>890.65</td>\n",
       "      <td>965.00</td>\n",
       "      <td>65.05</td>\n",
       "      <td>7.23</td>\n",
       "      <td>144.59</td>\n",
       "      <td>1380.90</td>\n",
       "      <td>1005.00</td>\n",
       "      <td>726.50</td>\n",
       "      <td>31.89</td>\n",
       "      <td>6.34</td>\n",
       "    </tr>\n",
       "    <tr>\n",
       "      <th>6</th>\n",
       "      <td>BHARTIARTL</td>\n",
       "      <td>763.00</td>\n",
       "      <td>763.00</td>\n",
       "      <td>733.10</td>\n",
       "      <td>735.85</td>\n",
       "      <td>-29.30</td>\n",
       "      <td>-3.83</td>\n",
       "      <td>111.43</td>\n",
       "      <td>830.06</td>\n",
       "      <td>781.80</td>\n",
       "      <td>454.11</td>\n",
       "      <td>58.55</td>\n",
       "      <td>5.70</td>\n",
       "    </tr>\n",
       "    <tr>\n",
       "      <th>1</th>\n",
       "      <td>ASIANPAINT</td>\n",
       "      <td>3101.00</td>\n",
       "      <td>3167.35</td>\n",
       "      <td>3091.00</td>\n",
       "      <td>3138.00</td>\n",
       "      <td>-6.25</td>\n",
       "      <td>-0.20</td>\n",
       "      <td>10.29</td>\n",
       "      <td>322.53</td>\n",
       "      <td>3505.00</td>\n",
       "      <td>2117.15</td>\n",
       "      <td>45.66</td>\n",
       "      <td>5.66</td>\n",
       "    </tr>\n",
       "    <tr>\n",
       "      <th>12</th>\n",
       "      <td>DRREDDY</td>\n",
       "      <td>4580.00</td>\n",
       "      <td>4820.00</td>\n",
       "      <td>4576.15</td>\n",
       "      <td>4750.00</td>\n",
       "      <td>158.40</td>\n",
       "      <td>3.45</td>\n",
       "      <td>10.72</td>\n",
       "      <td>508.97</td>\n",
       "      <td>5614.60</td>\n",
       "      <td>4135.00</td>\n",
       "      <td>-1.17</td>\n",
       "      <td>1.80</td>\n",
       "    </tr>\n",
       "    <tr>\n",
       "      <th>47</th>\n",
       "      <td>ULTRACEMCO</td>\n",
       "      <td>7550.00</td>\n",
       "      <td>7599.00</td>\n",
       "      <td>7370.10</td>\n",
       "      <td>7398.45</td>\n",
       "      <td>-210.35</td>\n",
       "      <td>-2.76</td>\n",
       "      <td>2.66</td>\n",
       "      <td>198.32</td>\n",
       "      <td>8269.00</td>\n",
       "      <td>4770.00</td>\n",
       "      <td>53.50</td>\n",
       "      <td>1.78</td>\n",
       "    </tr>\n",
       "    <tr>\n",
       "      <th>32</th>\n",
       "      <td>NESTLEIND</td>\n",
       "      <td>19148.85</td>\n",
       "      <td>19434.10</td>\n",
       "      <td>18982.50</td>\n",
       "      <td>19250.00</td>\n",
       "      <td>71.95</td>\n",
       "      <td>0.38</td>\n",
       "      <td>0.56</td>\n",
       "      <td>108.61</td>\n",
       "      <td>20609.15</td>\n",
       "      <td>16002.10</td>\n",
       "      <td>9.87</td>\n",
       "      <td>0.17</td>\n",
       "    </tr>\n",
       "  </tbody>\n",
       "</table>\n",
       "</div>"
      ],
      "text/plain": [
       "        Symbol      Open      High       Low       LTP    Chng  Chng_pct  \\\n",
       "35   POWERGRID    204.05    204.95    200.80    202.50   -1.75     -0.86   \n",
       "9        CIPLA    892.00    976.05    890.65    965.00   65.05      7.23   \n",
       "6   BHARTIARTL    763.00    763.00    733.10    735.85  -29.30     -3.83   \n",
       "1   ASIANPAINT   3101.00   3167.35   3091.00   3138.00   -6.25     -0.20   \n",
       "12     DRREDDY   4580.00   4820.00   4576.15   4750.00  158.40      3.45   \n",
       "47  ULTRACEMCO   7550.00   7599.00   7370.10   7398.45 -210.35     -2.76   \n",
       "32   NESTLEIND  19148.85  19434.10  18982.50  19250.00   71.95      0.38   \n",
       "\n",
       "    Volume_lacs  Turnover_crs     H_52w     L_52w  chng_365d_pct  chng_30d_pct  \n",
       "35        96.11        195.09    209.95    136.88           3.69          6.36  \n",
       "9        144.59       1380.90   1005.00    726.50          31.89          6.34  \n",
       "6        111.43        830.06    781.80    454.11          58.55          5.70  \n",
       "1         10.29        322.53   3505.00   2117.15          45.66          5.66  \n",
       "12        10.72        508.97   5614.60   4135.00          -1.17          1.80  \n",
       "47         2.66        198.32   8269.00   4770.00          53.50          1.78  \n",
       "32         0.56        108.61  20609.15  16002.10           9.87          0.17  "
      ]
     },
     "execution_count": 137,
     "metadata": {},
     "output_type": "execute_result"
    }
   ],
   "source": [
    "ChngIsPositive30daysPast = National_Stock_Exchange_of_India_Ltd[National_Stock_Exchange_of_India_Ltd['chng_30d_pct'] > 0]\n",
    "ChngIsPositive30daysPast.sort_values(by = 'chng_30d_pct', ascending = False)"
   ]
  },
  {
   "cell_type": "markdown",
   "id": "d5c0dfe4-3e40-425b-b9cf-7f48677ab4db",
   "metadata": {},
   "source": [
    "### Yêu cầu 17:"
   ]
  },
  {
   "cell_type": "markdown",
   "id": "6494889a-b094-43ee-bbd6-733fb522d351",
   "metadata": {},
   "source": [
    "**a. Tạo cột 'volatility' thể hiện khoảng biến động của giá CP trong 1 năm**"
   ]
  },
  {
   "cell_type": "code",
   "execution_count": 148,
   "id": "4d319626-13cc-4f5c-8092-27da220dc93d",
   "metadata": {},
   "outputs": [],
   "source": [
    "National_Stock_Exchange_of_India_Ltd['volatility'] = National_Stock_Exchange_of_India_Ltd['H_52w'] - National_Stock_Exchange_of_India_Ltd['L_52w']"
   ]
  },
  {
   "cell_type": "markdown",
   "id": "78afe5ed-fdf1-4f45-ab82-e168364fb930",
   "metadata": {},
   "source": [
    "**b. 5 mã CP biến động nhiều nhất**"
   ]
  },
  {
   "cell_type": "code",
   "execution_count": 147,
   "id": "dbb073f7-47fd-4452-be58-dadf3824a898",
   "metadata": {},
   "outputs": [
    {
     "data": {
      "text/html": [
       "<div>\n",
       "<style scoped>\n",
       "    .dataframe tbody tr th:only-of-type {\n",
       "        vertical-align: middle;\n",
       "    }\n",
       "\n",
       "    .dataframe tbody tr th {\n",
       "        vertical-align: top;\n",
       "    }\n",
       "\n",
       "    .dataframe thead th {\n",
       "        text-align: right;\n",
       "    }\n",
       "</style>\n",
       "<table border=\"1\" class=\"dataframe\">\n",
       "  <thead>\n",
       "    <tr style=\"text-align: right;\">\n",
       "      <th></th>\n",
       "      <th>Symbol</th>\n",
       "      <th>Open</th>\n",
       "      <th>High</th>\n",
       "      <th>Low</th>\n",
       "      <th>LTP</th>\n",
       "      <th>Chng</th>\n",
       "      <th>Chng_pct</th>\n",
       "      <th>Volume_lacs</th>\n",
       "      <th>Turnover_crs</th>\n",
       "      <th>H_52w</th>\n",
       "      <th>L_52w</th>\n",
       "      <th>chng_365d_pct</th>\n",
       "      <th>chng_30d_pct</th>\n",
       "      <th>volatility</th>\n",
       "    </tr>\n",
       "  </thead>\n",
       "  <tbody>\n",
       "    <tr>\n",
       "      <th>4</th>\n",
       "      <td>BAJAJFINSV</td>\n",
       "      <td>17200.00</td>\n",
       "      <td>17237.2</td>\n",
       "      <td>16610.0</td>\n",
       "      <td>16684.00</td>\n",
       "      <td>-684.85</td>\n",
       "      <td>-3.94</td>\n",
       "      <td>3.42</td>\n",
       "      <td>576.79</td>\n",
       "      <td>19325.00</td>\n",
       "      <td>8273.7</td>\n",
       "      <td>91.38</td>\n",
       "      <td>-9.10</td>\n",
       "      <td>11051.30</td>\n",
       "    </tr>\n",
       "    <tr>\n",
       "      <th>39</th>\n",
       "      <td>SHREECEM</td>\n",
       "      <td>26450.00</td>\n",
       "      <td>26539.9</td>\n",
       "      <td>25812.0</td>\n",
       "      <td>25900.00</td>\n",
       "      <td>-770.50</td>\n",
       "      <td>-2.89</td>\n",
       "      <td>0.30</td>\n",
       "      <td>76.94</td>\n",
       "      <td>32048.00</td>\n",
       "      <td>22531.0</td>\n",
       "      <td>9.29</td>\n",
       "      <td>-6.76</td>\n",
       "      <td>9517.00</td>\n",
       "    </tr>\n",
       "    <tr>\n",
       "      <th>32</th>\n",
       "      <td>NESTLEIND</td>\n",
       "      <td>19148.85</td>\n",
       "      <td>19434.1</td>\n",
       "      <td>18982.5</td>\n",
       "      <td>19250.00</td>\n",
       "      <td>71.95</td>\n",
       "      <td>0.38</td>\n",
       "      <td>0.56</td>\n",
       "      <td>108.61</td>\n",
       "      <td>20609.15</td>\n",
       "      <td>16002.1</td>\n",
       "      <td>9.87</td>\n",
       "      <td>0.17</td>\n",
       "      <td>4607.05</td>\n",
       "    </tr>\n",
       "    <tr>\n",
       "      <th>5</th>\n",
       "      <td>BAJFINANCE</td>\n",
       "      <td>7021.00</td>\n",
       "      <td>7047.9</td>\n",
       "      <td>6775.0</td>\n",
       "      <td>6780.00</td>\n",
       "      <td>-345.80</td>\n",
       "      <td>-4.85</td>\n",
       "      <td>16.89</td>\n",
       "      <td>1161.63</td>\n",
       "      <td>8050.00</td>\n",
       "      <td>4362.0</td>\n",
       "      <td>44.57</td>\n",
       "      <td>-13.69</td>\n",
       "      <td>3688.00</td>\n",
       "    </tr>\n",
       "    <tr>\n",
       "      <th>47</th>\n",
       "      <td>ULTRACEMCO</td>\n",
       "      <td>7550.00</td>\n",
       "      <td>7599.0</td>\n",
       "      <td>7370.1</td>\n",
       "      <td>7398.45</td>\n",
       "      <td>-210.35</td>\n",
       "      <td>-2.76</td>\n",
       "      <td>2.66</td>\n",
       "      <td>198.32</td>\n",
       "      <td>8269.00</td>\n",
       "      <td>4770.0</td>\n",
       "      <td>53.50</td>\n",
       "      <td>1.78</td>\n",
       "      <td>3499.00</td>\n",
       "    </tr>\n",
       "  </tbody>\n",
       "</table>\n",
       "</div>"
      ],
      "text/plain": [
       "        Symbol      Open     High      Low       LTP    Chng  Chng_pct  \\\n",
       "4   BAJAJFINSV  17200.00  17237.2  16610.0  16684.00 -684.85     -3.94   \n",
       "39    SHREECEM  26450.00  26539.9  25812.0  25900.00 -770.50     -2.89   \n",
       "32   NESTLEIND  19148.85  19434.1  18982.5  19250.00   71.95      0.38   \n",
       "5   BAJFINANCE   7021.00   7047.9   6775.0   6780.00 -345.80     -4.85   \n",
       "47  ULTRACEMCO   7550.00   7599.0   7370.1   7398.45 -210.35     -2.76   \n",
       "\n",
       "    Volume_lacs  Turnover_crs     H_52w    L_52w  chng_365d_pct  chng_30d_pct  \\\n",
       "4          3.42        576.79  19325.00   8273.7          91.38         -9.10   \n",
       "39         0.30         76.94  32048.00  22531.0           9.29         -6.76   \n",
       "32         0.56        108.61  20609.15  16002.1           9.87          0.17   \n",
       "5         16.89       1161.63   8050.00   4362.0          44.57        -13.69   \n",
       "47         2.66        198.32   8269.00   4770.0          53.50          1.78   \n",
       "\n",
       "    volatility  \n",
       "4     11051.30  \n",
       "39     9517.00  \n",
       "32     4607.05  \n",
       "5      3688.00  \n",
       "47     3499.00  "
      ]
     },
     "execution_count": 147,
     "metadata": {},
     "output_type": "execute_result"
    }
   ],
   "source": [
    "National_Stock_Exchange_of_India_Ltd.sort_values(by = 'volatility', ascending = False).head(5)"
   ]
  },
  {
   "cell_type": "markdown",
   "id": "5b42dfb6-a9c3-4137-9984-e3a6dc096721",
   "metadata": {},
   "source": [
    "### Yêu cầu 18:"
   ]
  },
  {
   "cell_type": "markdown",
   "id": "def0d0a2-cea7-4c4b-8e26-4ce5fbeb6df0",
   "metadata": {},
   "source": [
    "**Tạo dataframe top_5_High là 5 mã CP có High cao nhất, chỉ lấy các cột Symbol, Open, High, Low**"
   ]
  },
  {
   "cell_type": "code",
   "execution_count": 151,
   "id": "3bdca1bf-250e-4f0b-b6db-64daeeb722d8",
   "metadata": {},
   "outputs": [
    {
     "data": {
      "text/html": [
       "<div>\n",
       "<style scoped>\n",
       "    .dataframe tbody tr th:only-of-type {\n",
       "        vertical-align: middle;\n",
       "    }\n",
       "\n",
       "    .dataframe tbody tr th {\n",
       "        vertical-align: top;\n",
       "    }\n",
       "\n",
       "    .dataframe thead th {\n",
       "        text-align: right;\n",
       "    }\n",
       "</style>\n",
       "<table border=\"1\" class=\"dataframe\">\n",
       "  <thead>\n",
       "    <tr style=\"text-align: right;\">\n",
       "      <th></th>\n",
       "      <th>Symbol</th>\n",
       "      <th>Open</th>\n",
       "      <th>High</th>\n",
       "      <th>Low</th>\n",
       "    </tr>\n",
       "  </thead>\n",
       "  <tbody>\n",
       "    <tr>\n",
       "      <th>39</th>\n",
       "      <td>SHREECEM</td>\n",
       "      <td>26450.00</td>\n",
       "      <td>26539.9</td>\n",
       "      <td>25812.0</td>\n",
       "    </tr>\n",
       "    <tr>\n",
       "      <th>32</th>\n",
       "      <td>NESTLEIND</td>\n",
       "      <td>19148.85</td>\n",
       "      <td>19434.1</td>\n",
       "      <td>18982.5</td>\n",
       "    </tr>\n",
       "    <tr>\n",
       "      <th>4</th>\n",
       "      <td>BAJAJFINSV</td>\n",
       "      <td>17200.00</td>\n",
       "      <td>17237.2</td>\n",
       "      <td>16610.0</td>\n",
       "    </tr>\n",
       "    <tr>\n",
       "      <th>47</th>\n",
       "      <td>ULTRACEMCO</td>\n",
       "      <td>7550.00</td>\n",
       "      <td>7599.0</td>\n",
       "      <td>7370.1</td>\n",
       "    </tr>\n",
       "    <tr>\n",
       "      <th>31</th>\n",
       "      <td>MARUTI</td>\n",
       "      <td>7520.00</td>\n",
       "      <td>7520.0</td>\n",
       "      <td>7130.0</td>\n",
       "    </tr>\n",
       "  </tbody>\n",
       "</table>\n",
       "</div>"
      ],
      "text/plain": [
       "        Symbol      Open     High      Low\n",
       "39    SHREECEM  26450.00  26539.9  25812.0\n",
       "32   NESTLEIND  19148.85  19434.1  18982.5\n",
       "4   BAJAJFINSV  17200.00  17237.2  16610.0\n",
       "47  ULTRACEMCO   7550.00   7599.0   7370.1\n",
       "31      MARUTI   7520.00   7520.0   7130.0"
      ]
     },
     "execution_count": 151,
     "metadata": {},
     "output_type": "execute_result"
    }
   ],
   "source": [
    "top_5_High = National_Stock_Exchange_of_India_Ltd[['Symbol', 'Open', 'High', 'Low']].sort_values(by = 'High', ascending = False).head(5)\n",
    "top_5_High"
   ]
  },
  {
   "cell_type": "markdown",
   "id": "83191ed5-b70a-4912-8954-eb570c1d2d5f",
   "metadata": {},
   "source": [
    "### Yêu cầu 19:"
   ]
  },
  {
   "cell_type": "markdown",
   "id": "63cadc9c-eb06-4fbd-a446-283d3d668420",
   "metadata": {},
   "source": [
    "**Hiển thị thông tin giá cao nhất, giá thấp nhất trong ngày của các mã CP theo mẫu:**\n",
    "+ [Symbol] có giá cao nhất trong ngày là [High] và giá thấp nhất trong ngày là [Low]"
   ]
  },
  {
   "cell_type": "code",
   "execution_count": 152,
   "id": "01617af5-7bd1-4a73-9a6d-bcbb57055480",
   "metadata": {},
   "outputs": [
    {
     "name": "stdout",
     "output_type": "stream",
     "text": [
      "5 mã CP có High cao nhất trong ngày 26/11/2021:\n",
      "Mã CP: SHREECEM\n",
      "Giá mở cửa: 26450.0\n",
      "Giá cao nhất: 26539.9\n",
      "Giá thấp nhất: 25812.0\n",
      "\n",
      "Mã CP: NESTLEIND\n",
      "Giá mở cửa: 19148.85\n",
      "Giá cao nhất: 19434.1\n",
      "Giá thấp nhất: 18982.5\n",
      "\n",
      "Mã CP: BAJAJFINSV\n",
      "Giá mở cửa: 17200.0\n",
      "Giá cao nhất: 17237.2\n",
      "Giá thấp nhất: 16610.0\n",
      "\n",
      "Mã CP: ULTRACEMCO\n",
      "Giá mở cửa: 7550.0\n",
      "Giá cao nhất: 7599.0\n",
      "Giá thấp nhất: 7370.1\n",
      "\n",
      "Mã CP: MARUTI\n",
      "Giá mở cửa: 7520.0\n",
      "Giá cao nhất: 7520.0\n",
      "Giá thấp nhất: 7130.0\n",
      "\n"
     ]
    }
   ],
   "source": [
    "print('5 mã CP có High cao nhất trong ngày 26/11/2021:')\n",
    "for index, row in top_5_High.iterrows():\n",
    "    print(\"Mã CP:\", row['Symbol'])\n",
    "    print(\"Giá mở cửa:\", row['Open'])\n",
    "    print(\"Giá cao nhất:\", row['High'])\n",
    "    print(\"Giá thấp nhất:\", row['Low'])\n",
    "    print()"
   ]
  },
  {
   "cell_type": "markdown",
   "id": "86fc0946-7d4b-4cec-b3c8-74103c911c3b",
   "metadata": {
    "jp-MarkdownHeadingCollapsed": true
   },
   "source": [
    "# CHAPTER 6 - EXCERCISE 3: COMBINING DATA (IllINOIS MALE BABY NAMES)"
   ]
  },
  {
   "cell_type": "markdown",
   "id": "ce785f78-8a25-442f-a1e2-64aadfd97d14",
   "metadata": {},
   "source": [
    "## Ghi chú về dữ liệu"
   ]
  },
  {
   "cell_type": "markdown",
   "id": "939837a2-7c0e-421a-897c-7c0004fa69c7",
   "metadata": {},
   "source": [
    "+ Cho dữ liệu 201*-baby-names-illinois.csv. \n",
    "+ Bộ dữ liệu này thống kê tần suất các tên gọi được đặt.\n",
    "+ Dữ liệu được lưu tại nhiều files\n",
    "+ Tên files 201-baby-names-illinois.csv chứa 201 là năm tương ứng\n",
    "\n",
    "**Yêu cầu:**\n",
    "+ Hãy tạo thêm cột year là 4 ký tự đầu tiên của tên file\n",
    "+ Kết hợp dữ liệu thành 1 dataframe hoàn chỉnh."
   ]
  },
  {
   "cell_type": "code",
   "execution_count": 1,
   "id": "5b55fec0-6ba9-4d13-927b-ba23b5c080c4",
   "metadata": {},
   "outputs": [],
   "source": [
    "import pandas as pd\n",
    "import glob"
   ]
  },
  {
   "cell_type": "code",
   "execution_count": 2,
   "id": "b4a5692a-e8a6-4bc8-bdfb-b0deb94615ff",
   "metadata": {},
   "outputs": [
    {
     "name": "stdout",
     "output_type": "stream",
     "text": [
      "data6\\2014-baby-names-illinois.csv (101, 4)\n",
      "data6\\2015-baby-names-illinois.csv (100, 4)\n"
     ]
    }
   ],
   "source": [
    "allFiles = glob.glob(\"data6/201*-baby-names-illinois.csv\")\n",
    "frame = pd.DataFrame()\n",
    "df_list= []\n",
    "for file_ in allFiles:\n",
    "    df = pd.read_csv(file_,index_col=None)\n",
    "    print(file_, df.shape)\n",
    "    df.columns = map(str.lower, df.columns)\n",
    "    df[\"year\"] = file_[5:9]\n",
    "    df_list.append(df)"
   ]
  },
  {
   "cell_type": "code",
   "execution_count": 5,
   "id": "a854bf7d-5acf-4b5e-9293-d4566fd5d385",
   "metadata": {},
   "outputs": [
    {
     "data": {
      "text/html": [
       "<div>\n",
       "<style scoped>\n",
       "    .dataframe tbody tr th:only-of-type {\n",
       "        vertical-align: middle;\n",
       "    }\n",
       "\n",
       "    .dataframe tbody tr th {\n",
       "        vertical-align: top;\n",
       "    }\n",
       "\n",
       "    .dataframe thead th {\n",
       "        text-align: right;\n",
       "    }\n",
       "</style>\n",
       "<table border=\"1\" class=\"dataframe\">\n",
       "  <thead>\n",
       "    <tr style=\"text-align: right;\">\n",
       "      <th></th>\n",
       "      <th>rank</th>\n",
       "      <th>name</th>\n",
       "      <th>frequency</th>\n",
       "      <th>sex</th>\n",
       "      <th>year</th>\n",
       "    </tr>\n",
       "  </thead>\n",
       "  <tbody>\n",
       "    <tr>\n",
       "      <th>0</th>\n",
       "      <td>1</td>\n",
       "      <td>Noah</td>\n",
       "      <td>837</td>\n",
       "      <td>Male</td>\n",
       "      <td>\\201</td>\n",
       "    </tr>\n",
       "    <tr>\n",
       "      <th>1</th>\n",
       "      <td>2</td>\n",
       "      <td>Alexander</td>\n",
       "      <td>747</td>\n",
       "      <td>Male</td>\n",
       "      <td>\\201</td>\n",
       "    </tr>\n",
       "    <tr>\n",
       "      <th>2</th>\n",
       "      <td>3</td>\n",
       "      <td>William</td>\n",
       "      <td>687</td>\n",
       "      <td>Male</td>\n",
       "      <td>\\201</td>\n",
       "    </tr>\n",
       "    <tr>\n",
       "      <th>3</th>\n",
       "      <td>4</td>\n",
       "      <td>Michael</td>\n",
       "      <td>680</td>\n",
       "      <td>Male</td>\n",
       "      <td>\\201</td>\n",
       "    </tr>\n",
       "    <tr>\n",
       "      <th>4</th>\n",
       "      <td>5</td>\n",
       "      <td>Liam</td>\n",
       "      <td>670</td>\n",
       "      <td>Male</td>\n",
       "      <td>\\201</td>\n",
       "    </tr>\n",
       "  </tbody>\n",
       "</table>\n",
       "</div>"
      ],
      "text/plain": [
       "   rank       name  frequency   sex  year\n",
       "0     1       Noah        837  Male  \\201\n",
       "1     2  Alexander        747  Male  \\201\n",
       "2     3    William        687  Male  \\201\n",
       "3     4    Michael        680  Male  \\201\n",
       "4     5       Liam        670  Male  \\201"
      ]
     },
     "execution_count": 5,
     "metadata": {},
     "output_type": "execute_result"
    }
   ],
   "source": [
    "df4 = pd.concat(df_list)\n",
    "df4.head(5)"
   ]
  },
  {
   "cell_type": "code",
   "execution_count": 4,
   "id": "054fa3fd-9e07-4357-9ec5-445cff1ba18e",
   "metadata": {},
   "outputs": [
    {
     "data": {
      "text/plain": [
       "(201, 5)"
      ]
     },
     "execution_count": 4,
     "metadata": {},
     "output_type": "execute_result"
    }
   ],
   "source": [
    "df4.shape"
   ]
  },
  {
   "cell_type": "markdown",
   "id": "84fd48d8-cfb7-4361-ad59-1c20f3f43848",
   "metadata": {
    "jp-MarkdownHeadingCollapsed": true
   },
   "source": [
    "# CHAPTER 6 - EXERCISE 4: COMBINING DATA"
   ]
  },
  {
   "cell_type": "code",
   "execution_count": 8,
   "id": "3414ec43-a92f-4c89-812a-0406c37f14ae",
   "metadata": {},
   "outputs": [],
   "source": [
    "import pandas as pd\n",
    "import glob"
   ]
  },
  {
   "cell_type": "markdown",
   "id": "72505196-1e93-4a80-a919-4863121d328a",
   "metadata": {},
   "source": [
    "### Yêu cầu 1: Cho dữ liệu employees1.csv và employees2.csv"
   ]
  },
  {
   "cell_type": "markdown",
   "id": "9c44438f-3251-4592-a518-5fe9d9519fa4",
   "metadata": {},
   "source": [
    "**a. Đọc dữ liệu từ 2 tập tin trên**"
   ]
  },
  {
   "cell_type": "code",
   "execution_count": 7,
   "id": "0049397d-1c09-4ae0-ba23-2eca2ba9360e",
   "metadata": {},
   "outputs": [],
   "source": [
    "emp1 = pd.read_csv('data6/employees1.csv', index_col = 0)\n",
    "emp2 = pd.read_csv('data6/employees2.csv', index_col = 0)"
   ]
  },
  {
   "cell_type": "code",
   "execution_count": 9,
   "id": "90439947-b410-4355-9865-a08f425a3cff",
   "metadata": {},
   "outputs": [
    {
     "data": {
      "text/html": [
       "<div>\n",
       "<style scoped>\n",
       "    .dataframe tbody tr th:only-of-type {\n",
       "        vertical-align: middle;\n",
       "    }\n",
       "\n",
       "    .dataframe tbody tr th {\n",
       "        vertical-align: top;\n",
       "    }\n",
       "\n",
       "    .dataframe thead th {\n",
       "        text-align: right;\n",
       "    }\n",
       "</style>\n",
       "<table border=\"1\" class=\"dataframe\">\n",
       "  <thead>\n",
       "    <tr style=\"text-align: right;\">\n",
       "      <th></th>\n",
       "      <th>employee</th>\n",
       "      <th>group</th>\n",
       "    </tr>\n",
       "  </thead>\n",
       "  <tbody>\n",
       "    <tr>\n",
       "      <th>0</th>\n",
       "      <td>Bob</td>\n",
       "      <td>Accounting</td>\n",
       "    </tr>\n",
       "    <tr>\n",
       "      <th>1</th>\n",
       "      <td>Jake</td>\n",
       "      <td>Engineering</td>\n",
       "    </tr>\n",
       "    <tr>\n",
       "      <th>2</th>\n",
       "      <td>Lisa</td>\n",
       "      <td>Engineering</td>\n",
       "    </tr>\n",
       "    <tr>\n",
       "      <th>3</th>\n",
       "      <td>Sue</td>\n",
       "      <td>HR</td>\n",
       "    </tr>\n",
       "    <tr>\n",
       "      <th>4</th>\n",
       "      <td>John</td>\n",
       "      <td>IT</td>\n",
       "    </tr>\n",
       "    <tr>\n",
       "      <th>5</th>\n",
       "      <td>Billy</td>\n",
       "      <td>HR</td>\n",
       "    </tr>\n",
       "  </tbody>\n",
       "</table>\n",
       "</div>"
      ],
      "text/plain": [
       "  employee        group\n",
       "0      Bob   Accounting\n",
       "1     Jake  Engineering\n",
       "2     Lisa  Engineering\n",
       "3      Sue           HR\n",
       "4     John           IT\n",
       "5    Billy           HR"
      ]
     },
     "execution_count": 9,
     "metadata": {},
     "output_type": "execute_result"
    }
   ],
   "source": [
    "emp1"
   ]
  },
  {
   "cell_type": "code",
   "execution_count": 10,
   "id": "15485594-dcde-43fb-984d-20f77c375791",
   "metadata": {},
   "outputs": [
    {
     "data": {
      "text/html": [
       "<div>\n",
       "<style scoped>\n",
       "    .dataframe tbody tr th:only-of-type {\n",
       "        vertical-align: middle;\n",
       "    }\n",
       "\n",
       "    .dataframe tbody tr th {\n",
       "        vertical-align: top;\n",
       "    }\n",
       "\n",
       "    .dataframe thead th {\n",
       "        text-align: right;\n",
       "    }\n",
       "</style>\n",
       "<table border=\"1\" class=\"dataframe\">\n",
       "  <thead>\n",
       "    <tr style=\"text-align: right;\">\n",
       "      <th></th>\n",
       "      <th>employee</th>\n",
       "      <th>hire_date</th>\n",
       "    </tr>\n",
       "  </thead>\n",
       "  <tbody>\n",
       "    <tr>\n",
       "      <th>0</th>\n",
       "      <td>Lisa</td>\n",
       "      <td>2004</td>\n",
       "    </tr>\n",
       "    <tr>\n",
       "      <th>1</th>\n",
       "      <td>Bob</td>\n",
       "      <td>2008</td>\n",
       "    </tr>\n",
       "    <tr>\n",
       "      <th>2</th>\n",
       "      <td>Jake</td>\n",
       "      <td>2012</td>\n",
       "    </tr>\n",
       "    <tr>\n",
       "      <th>3</th>\n",
       "      <td>Sue</td>\n",
       "      <td>2014</td>\n",
       "    </tr>\n",
       "    <tr>\n",
       "      <th>4</th>\n",
       "      <td>John</td>\n",
       "      <td>2010</td>\n",
       "    </tr>\n",
       "    <tr>\n",
       "      <th>5</th>\n",
       "      <td>Billy</td>\n",
       "      <td>2015</td>\n",
       "    </tr>\n",
       "  </tbody>\n",
       "</table>\n",
       "</div>"
      ],
      "text/plain": [
       "  employee  hire_date\n",
       "0     Lisa       2004\n",
       "1      Bob       2008\n",
       "2     Jake       2012\n",
       "3      Sue       2014\n",
       "4     John       2010\n",
       "5    Billy       2015"
      ]
     },
     "execution_count": 10,
     "metadata": {},
     "output_type": "execute_result"
    }
   ],
   "source": [
    "emp2"
   ]
  },
  {
   "cell_type": "markdown",
   "id": "e0f05f63-b684-48c8-9d6a-2f3742d8c2a2",
   "metadata": {},
   "source": [
    "**b. Kết hợp 2 dữ liệu trên thành 1 DataFrame**"
   ]
  },
  {
   "cell_type": "code",
   "execution_count": 22,
   "id": "960693e7-d53c-456b-9da1-c45840b33319",
   "metadata": {},
   "outputs": [
    {
     "data": {
      "text/html": [
       "<div>\n",
       "<style scoped>\n",
       "    .dataframe tbody tr th:only-of-type {\n",
       "        vertical-align: middle;\n",
       "    }\n",
       "\n",
       "    .dataframe tbody tr th {\n",
       "        vertical-align: top;\n",
       "    }\n",
       "\n",
       "    .dataframe thead th {\n",
       "        text-align: right;\n",
       "    }\n",
       "</style>\n",
       "<table border=\"1\" class=\"dataframe\">\n",
       "  <thead>\n",
       "    <tr style=\"text-align: right;\">\n",
       "      <th></th>\n",
       "      <th>employee</th>\n",
       "      <th>group</th>\n",
       "      <th>hire_date</th>\n",
       "    </tr>\n",
       "  </thead>\n",
       "  <tbody>\n",
       "    <tr>\n",
       "      <th>0</th>\n",
       "      <td>Bob</td>\n",
       "      <td>Accounting</td>\n",
       "      <td>2008</td>\n",
       "    </tr>\n",
       "    <tr>\n",
       "      <th>1</th>\n",
       "      <td>Jake</td>\n",
       "      <td>Engineering</td>\n",
       "      <td>2012</td>\n",
       "    </tr>\n",
       "    <tr>\n",
       "      <th>2</th>\n",
       "      <td>Lisa</td>\n",
       "      <td>Engineering</td>\n",
       "      <td>2004</td>\n",
       "    </tr>\n",
       "    <tr>\n",
       "      <th>3</th>\n",
       "      <td>Sue</td>\n",
       "      <td>HR</td>\n",
       "      <td>2014</td>\n",
       "    </tr>\n",
       "    <tr>\n",
       "      <th>4</th>\n",
       "      <td>John</td>\n",
       "      <td>IT</td>\n",
       "      <td>2010</td>\n",
       "    </tr>\n",
       "    <tr>\n",
       "      <th>5</th>\n",
       "      <td>Billy</td>\n",
       "      <td>HR</td>\n",
       "      <td>2015</td>\n",
       "    </tr>\n",
       "  </tbody>\n",
       "</table>\n",
       "</div>"
      ],
      "text/plain": [
       "  employee        group  hire_date\n",
       "0      Bob   Accounting       2008\n",
       "1     Jake  Engineering       2012\n",
       "2     Lisa  Engineering       2004\n",
       "3      Sue           HR       2014\n",
       "4     John           IT       2010\n",
       "5    Billy           HR       2015"
      ]
     },
     "execution_count": 22,
     "metadata": {},
     "output_type": "execute_result"
    }
   ],
   "source": [
    "employees = pd.merge(emp1, emp2)\n",
    "employees"
   ]
  },
  {
   "cell_type": "markdown",
   "id": "a225d19d-0307-4df8-8f75-e78a3f94b799",
   "metadata": {},
   "source": [
    "### Yêu cầu 2: Cho dữ liệu department.csv"
   ]
  },
  {
   "cell_type": "markdown",
   "id": "1c85b090-503d-4802-81f7-c45ceb44555e",
   "metadata": {},
   "source": [
    "**a. Đọc dữ liệu từ tập tin trên**"
   ]
  },
  {
   "cell_type": "code",
   "execution_count": 24,
   "id": "9910c6eb-b764-4970-97de-1c405179df0f",
   "metadata": {},
   "outputs": [
    {
     "data": {
      "text/html": [
       "<div>\n",
       "<style scoped>\n",
       "    .dataframe tbody tr th:only-of-type {\n",
       "        vertical-align: middle;\n",
       "    }\n",
       "\n",
       "    .dataframe tbody tr th {\n",
       "        vertical-align: top;\n",
       "    }\n",
       "\n",
       "    .dataframe thead th {\n",
       "        text-align: right;\n",
       "    }\n",
       "</style>\n",
       "<table border=\"1\" class=\"dataframe\">\n",
       "  <thead>\n",
       "    <tr style=\"text-align: right;\">\n",
       "      <th></th>\n",
       "      <th>group</th>\n",
       "      <th>supervisor</th>\n",
       "    </tr>\n",
       "  </thead>\n",
       "  <tbody>\n",
       "    <tr>\n",
       "      <th>0</th>\n",
       "      <td>Accounting</td>\n",
       "      <td>Carly</td>\n",
       "    </tr>\n",
       "    <tr>\n",
       "      <th>1</th>\n",
       "      <td>Engineering</td>\n",
       "      <td>Guido</td>\n",
       "    </tr>\n",
       "    <tr>\n",
       "      <th>2</th>\n",
       "      <td>HR</td>\n",
       "      <td>Steve</td>\n",
       "    </tr>\n",
       "    <tr>\n",
       "      <th>3</th>\n",
       "      <td>IT</td>\n",
       "      <td>Jame</td>\n",
       "    </tr>\n",
       "  </tbody>\n",
       "</table>\n",
       "</div>"
      ],
      "text/plain": [
       "         group supervisor\n",
       "0   Accounting      Carly\n",
       "1  Engineering      Guido\n",
       "2           HR      Steve\n",
       "3           IT       Jame"
      ]
     },
     "execution_count": 24,
     "metadata": {},
     "output_type": "execute_result"
    }
   ],
   "source": [
    "department = pd.read_csv('data6/department.csv', index_col = 0)\n",
    "department"
   ]
  },
  {
   "cell_type": "markdown",
   "id": "e2c6c280-3832-4f8b-8ded-84e66f3fc9ec",
   "metadata": {},
   "source": [
    "**b. Kết hợp dữ liệu này với dữ liệu kết quả từ câu 1**"
   ]
  },
  {
   "cell_type": "code",
   "execution_count": 25,
   "id": "36dce17c-5b53-4166-950c-6309c9ecb3d6",
   "metadata": {},
   "outputs": [
    {
     "data": {
      "text/html": [
       "<div>\n",
       "<style scoped>\n",
       "    .dataframe tbody tr th:only-of-type {\n",
       "        vertical-align: middle;\n",
       "    }\n",
       "\n",
       "    .dataframe tbody tr th {\n",
       "        vertical-align: top;\n",
       "    }\n",
       "\n",
       "    .dataframe thead th {\n",
       "        text-align: right;\n",
       "    }\n",
       "</style>\n",
       "<table border=\"1\" class=\"dataframe\">\n",
       "  <thead>\n",
       "    <tr style=\"text-align: right;\">\n",
       "      <th></th>\n",
       "      <th>employee</th>\n",
       "      <th>group</th>\n",
       "      <th>hire_date</th>\n",
       "      <th>supervisor</th>\n",
       "    </tr>\n",
       "  </thead>\n",
       "  <tbody>\n",
       "    <tr>\n",
       "      <th>0</th>\n",
       "      <td>Bob</td>\n",
       "      <td>Accounting</td>\n",
       "      <td>2008</td>\n",
       "      <td>Carly</td>\n",
       "    </tr>\n",
       "    <tr>\n",
       "      <th>1</th>\n",
       "      <td>Jake</td>\n",
       "      <td>Engineering</td>\n",
       "      <td>2012</td>\n",
       "      <td>Guido</td>\n",
       "    </tr>\n",
       "    <tr>\n",
       "      <th>2</th>\n",
       "      <td>Lisa</td>\n",
       "      <td>Engineering</td>\n",
       "      <td>2004</td>\n",
       "      <td>Guido</td>\n",
       "    </tr>\n",
       "    <tr>\n",
       "      <th>3</th>\n",
       "      <td>Sue</td>\n",
       "      <td>HR</td>\n",
       "      <td>2014</td>\n",
       "      <td>Steve</td>\n",
       "    </tr>\n",
       "    <tr>\n",
       "      <th>4</th>\n",
       "      <td>John</td>\n",
       "      <td>IT</td>\n",
       "      <td>2010</td>\n",
       "      <td>Jame</td>\n",
       "    </tr>\n",
       "    <tr>\n",
       "      <th>5</th>\n",
       "      <td>Billy</td>\n",
       "      <td>HR</td>\n",
       "      <td>2015</td>\n",
       "      <td>Steve</td>\n",
       "    </tr>\n",
       "  </tbody>\n",
       "</table>\n",
       "</div>"
      ],
      "text/plain": [
       "  employee        group  hire_date supervisor\n",
       "0      Bob   Accounting       2008      Carly\n",
       "1     Jake  Engineering       2012      Guido\n",
       "2     Lisa  Engineering       2004      Guido\n",
       "3      Sue           HR       2014      Steve\n",
       "4     John           IT       2010       Jame\n",
       "5    Billy           HR       2015      Steve"
      ]
     },
     "execution_count": 25,
     "metadata": {},
     "output_type": "execute_result"
    }
   ],
   "source": [
    "employeesdepartment = pd.merge(emp1emp2, department)\n",
    "employeesdepartment"
   ]
  },
  {
   "cell_type": "markdown",
   "id": "d6fef32f-019c-4789-a332-5f09e1123f99",
   "metadata": {},
   "source": [
    "### Yêu cầu 3: Cho dữ liệu skills.csv"
   ]
  },
  {
   "cell_type": "markdown",
   "id": "dfede77d-7b84-4c8c-94f3-0a65d788ecb6",
   "metadata": {},
   "source": [
    "**a. Đọc dữ liệu từ tập tin trên**"
   ]
  },
  {
   "cell_type": "code",
   "execution_count": 26,
   "id": "2953d577-e199-4912-a824-ee400694c235",
   "metadata": {},
   "outputs": [
    {
     "data": {
      "text/html": [
       "<div>\n",
       "<style scoped>\n",
       "    .dataframe tbody tr th:only-of-type {\n",
       "        vertical-align: middle;\n",
       "    }\n",
       "\n",
       "    .dataframe tbody tr th {\n",
       "        vertical-align: top;\n",
       "    }\n",
       "\n",
       "    .dataframe thead th {\n",
       "        text-align: right;\n",
       "    }\n",
       "</style>\n",
       "<table border=\"1\" class=\"dataframe\">\n",
       "  <thead>\n",
       "    <tr style=\"text-align: right;\">\n",
       "      <th></th>\n",
       "      <th>group</th>\n",
       "      <th>skills</th>\n",
       "    </tr>\n",
       "  </thead>\n",
       "  <tbody>\n",
       "    <tr>\n",
       "      <th>0</th>\n",
       "      <td>Accounting</td>\n",
       "      <td>math</td>\n",
       "    </tr>\n",
       "    <tr>\n",
       "      <th>1</th>\n",
       "      <td>Accounting</td>\n",
       "      <td>spreadsheets</td>\n",
       "    </tr>\n",
       "    <tr>\n",
       "      <th>2</th>\n",
       "      <td>Engineering</td>\n",
       "      <td>coding</td>\n",
       "    </tr>\n",
       "    <tr>\n",
       "      <th>3</th>\n",
       "      <td>Engineering</td>\n",
       "      <td>linux</td>\n",
       "    </tr>\n",
       "    <tr>\n",
       "      <th>4</th>\n",
       "      <td>HR</td>\n",
       "      <td>spreadsheets</td>\n",
       "    </tr>\n",
       "    <tr>\n",
       "      <th>5</th>\n",
       "      <td>HR</td>\n",
       "      <td>organization</td>\n",
       "    </tr>\n",
       "    <tr>\n",
       "      <th>6</th>\n",
       "      <td>IT</td>\n",
       "      <td>coding</td>\n",
       "    </tr>\n",
       "    <tr>\n",
       "      <th>7</th>\n",
       "      <td>IT</td>\n",
       "      <td>math</td>\n",
       "    </tr>\n",
       "  </tbody>\n",
       "</table>\n",
       "</div>"
      ],
      "text/plain": [
       "         group        skills\n",
       "0   Accounting          math\n",
       "1   Accounting  spreadsheets\n",
       "2  Engineering        coding\n",
       "3  Engineering         linux\n",
       "4           HR  spreadsheets\n",
       "5           HR  organization\n",
       "6           IT        coding\n",
       "7           IT          math"
      ]
     },
     "execution_count": 26,
     "metadata": {},
     "output_type": "execute_result"
    }
   ],
   "source": [
    "skills = pd.read_csv('data6/skills.csv', index_col = 0)\n",
    "skills"
   ]
  },
  {
   "cell_type": "markdown",
   "id": "f430733d-d422-4ceb-8ae0-4084ebb3ef10",
   "metadata": {},
   "source": [
    "**b. Kết hợp dữ liệu này với dữ liệu kết quả từ câu 2**"
   ]
  },
  {
   "cell_type": "code",
   "execution_count": 27,
   "id": "66f6dd84-cd84-44b0-8fe7-cf946eab86c5",
   "metadata": {},
   "outputs": [
    {
     "data": {
      "text/html": [
       "<div>\n",
       "<style scoped>\n",
       "    .dataframe tbody tr th:only-of-type {\n",
       "        vertical-align: middle;\n",
       "    }\n",
       "\n",
       "    .dataframe tbody tr th {\n",
       "        vertical-align: top;\n",
       "    }\n",
       "\n",
       "    .dataframe thead th {\n",
       "        text-align: right;\n",
       "    }\n",
       "</style>\n",
       "<table border=\"1\" class=\"dataframe\">\n",
       "  <thead>\n",
       "    <tr style=\"text-align: right;\">\n",
       "      <th></th>\n",
       "      <th>employee</th>\n",
       "      <th>group</th>\n",
       "      <th>hire_date</th>\n",
       "      <th>supervisor</th>\n",
       "      <th>skills</th>\n",
       "    </tr>\n",
       "  </thead>\n",
       "  <tbody>\n",
       "    <tr>\n",
       "      <th>0</th>\n",
       "      <td>Bob</td>\n",
       "      <td>Accounting</td>\n",
       "      <td>2008</td>\n",
       "      <td>Carly</td>\n",
       "      <td>math</td>\n",
       "    </tr>\n",
       "    <tr>\n",
       "      <th>1</th>\n",
       "      <td>Bob</td>\n",
       "      <td>Accounting</td>\n",
       "      <td>2008</td>\n",
       "      <td>Carly</td>\n",
       "      <td>spreadsheets</td>\n",
       "    </tr>\n",
       "    <tr>\n",
       "      <th>2</th>\n",
       "      <td>Jake</td>\n",
       "      <td>Engineering</td>\n",
       "      <td>2012</td>\n",
       "      <td>Guido</td>\n",
       "      <td>coding</td>\n",
       "    </tr>\n",
       "    <tr>\n",
       "      <th>3</th>\n",
       "      <td>Jake</td>\n",
       "      <td>Engineering</td>\n",
       "      <td>2012</td>\n",
       "      <td>Guido</td>\n",
       "      <td>linux</td>\n",
       "    </tr>\n",
       "    <tr>\n",
       "      <th>4</th>\n",
       "      <td>Lisa</td>\n",
       "      <td>Engineering</td>\n",
       "      <td>2004</td>\n",
       "      <td>Guido</td>\n",
       "      <td>coding</td>\n",
       "    </tr>\n",
       "    <tr>\n",
       "      <th>5</th>\n",
       "      <td>Lisa</td>\n",
       "      <td>Engineering</td>\n",
       "      <td>2004</td>\n",
       "      <td>Guido</td>\n",
       "      <td>linux</td>\n",
       "    </tr>\n",
       "    <tr>\n",
       "      <th>6</th>\n",
       "      <td>Sue</td>\n",
       "      <td>HR</td>\n",
       "      <td>2014</td>\n",
       "      <td>Steve</td>\n",
       "      <td>spreadsheets</td>\n",
       "    </tr>\n",
       "    <tr>\n",
       "      <th>7</th>\n",
       "      <td>Sue</td>\n",
       "      <td>HR</td>\n",
       "      <td>2014</td>\n",
       "      <td>Steve</td>\n",
       "      <td>organization</td>\n",
       "    </tr>\n",
       "    <tr>\n",
       "      <th>8</th>\n",
       "      <td>John</td>\n",
       "      <td>IT</td>\n",
       "      <td>2010</td>\n",
       "      <td>Jame</td>\n",
       "      <td>coding</td>\n",
       "    </tr>\n",
       "    <tr>\n",
       "      <th>9</th>\n",
       "      <td>John</td>\n",
       "      <td>IT</td>\n",
       "      <td>2010</td>\n",
       "      <td>Jame</td>\n",
       "      <td>math</td>\n",
       "    </tr>\n",
       "    <tr>\n",
       "      <th>10</th>\n",
       "      <td>Billy</td>\n",
       "      <td>HR</td>\n",
       "      <td>2015</td>\n",
       "      <td>Steve</td>\n",
       "      <td>spreadsheets</td>\n",
       "    </tr>\n",
       "    <tr>\n",
       "      <th>11</th>\n",
       "      <td>Billy</td>\n",
       "      <td>HR</td>\n",
       "      <td>2015</td>\n",
       "      <td>Steve</td>\n",
       "      <td>organization</td>\n",
       "    </tr>\n",
       "  </tbody>\n",
       "</table>\n",
       "</div>"
      ],
      "text/plain": [
       "   employee        group  hire_date supervisor        skills\n",
       "0       Bob   Accounting       2008      Carly          math\n",
       "1       Bob   Accounting       2008      Carly  spreadsheets\n",
       "2      Jake  Engineering       2012      Guido        coding\n",
       "3      Jake  Engineering       2012      Guido         linux\n",
       "4      Lisa  Engineering       2004      Guido        coding\n",
       "5      Lisa  Engineering       2004      Guido         linux\n",
       "6       Sue           HR       2014      Steve  spreadsheets\n",
       "7       Sue           HR       2014      Steve  organization\n",
       "8      John           IT       2010       Jame        coding\n",
       "9      John           IT       2010       Jame          math\n",
       "10    Billy           HR       2015      Steve  spreadsheets\n",
       "11    Billy           HR       2015      Steve  organization"
      ]
     },
     "execution_count": 27,
     "metadata": {},
     "output_type": "execute_result"
    }
   ],
   "source": [
    "employeesdepartmentskills = pd.merge(emp1emp2department, skills)\n",
    "employeesdepartmentskills"
   ]
  },
  {
   "cell_type": "markdown",
   "id": "b6008d5b-9195-4e1a-98bf-944fa66de3ab",
   "metadata": {},
   "source": [
    "### Yêu cầu 4: Cho dữ liệu salary.csv"
   ]
  },
  {
   "cell_type": "markdown",
   "id": "a042fcce-27f3-44db-a92b-71e0bc56f648",
   "metadata": {},
   "source": [
    "**a. Đọc dữ liệu từ tập tin trên**"
   ]
  },
  {
   "cell_type": "code",
   "execution_count": 28,
   "id": "14e8c323-3b52-4417-a23e-571eb723f67e",
   "metadata": {},
   "outputs": [
    {
     "data": {
      "text/html": [
       "<div>\n",
       "<style scoped>\n",
       "    .dataframe tbody tr th:only-of-type {\n",
       "        vertical-align: middle;\n",
       "    }\n",
       "\n",
       "    .dataframe tbody tr th {\n",
       "        vertical-align: top;\n",
       "    }\n",
       "\n",
       "    .dataframe thead th {\n",
       "        text-align: right;\n",
       "    }\n",
       "</style>\n",
       "<table border=\"1\" class=\"dataframe\">\n",
       "  <thead>\n",
       "    <tr style=\"text-align: right;\">\n",
       "      <th></th>\n",
       "      <th>name</th>\n",
       "      <th>salary</th>\n",
       "    </tr>\n",
       "  </thead>\n",
       "  <tbody>\n",
       "    <tr>\n",
       "      <th>0</th>\n",
       "      <td>Bob</td>\n",
       "      <td>70000</td>\n",
       "    </tr>\n",
       "    <tr>\n",
       "      <th>1</th>\n",
       "      <td>Jake</td>\n",
       "      <td>80000</td>\n",
       "    </tr>\n",
       "    <tr>\n",
       "      <th>2</th>\n",
       "      <td>Lisa</td>\n",
       "      <td>120000</td>\n",
       "    </tr>\n",
       "    <tr>\n",
       "      <th>3</th>\n",
       "      <td>Sue</td>\n",
       "      <td>90000</td>\n",
       "    </tr>\n",
       "    <tr>\n",
       "      <th>4</th>\n",
       "      <td>John</td>\n",
       "      <td>125000</td>\n",
       "    </tr>\n",
       "    <tr>\n",
       "      <th>5</th>\n",
       "      <td>Billy</td>\n",
       "      <td>92000</td>\n",
       "    </tr>\n",
       "  </tbody>\n",
       "</table>\n",
       "</div>"
      ],
      "text/plain": [
       "    name  salary\n",
       "0    Bob   70000\n",
       "1   Jake   80000\n",
       "2   Lisa  120000\n",
       "3    Sue   90000\n",
       "4   John  125000\n",
       "5  Billy   92000"
      ]
     },
     "execution_count": 28,
     "metadata": {},
     "output_type": "execute_result"
    }
   ],
   "source": [
    "salary = pd.read_csv('data6/salary.csv', index_col = 0)\n",
    "salary"
   ]
  },
  {
   "cell_type": "markdown",
   "id": "ec7446b2-c353-4feb-8c8d-1c8f9bb6835e",
   "metadata": {},
   "source": [
    "**b. Kết hợp dữ liệu này với dữ liệu ở câu 1**\n",
    "\n",
    "**Gợi ý:** dùng right_on & left_on khi merge vì trong salary không có cột name, còn df ở câu 1 lại có cột employee trùng nội dung, bỏ cột name)"
   ]
  },
  {
   "cell_type": "code",
   "execution_count": 34,
   "id": "4e91d393-ea07-44b5-ad0e-80355b72a5bd",
   "metadata": {},
   "outputs": [
    {
     "data": {
      "text/html": [
       "<div>\n",
       "<style scoped>\n",
       "    .dataframe tbody tr th:only-of-type {\n",
       "        vertical-align: middle;\n",
       "    }\n",
       "\n",
       "    .dataframe tbody tr th {\n",
       "        vertical-align: top;\n",
       "    }\n",
       "\n",
       "    .dataframe thead th {\n",
       "        text-align: right;\n",
       "    }\n",
       "</style>\n",
       "<table border=\"1\" class=\"dataframe\">\n",
       "  <thead>\n",
       "    <tr style=\"text-align: right;\">\n",
       "      <th></th>\n",
       "      <th>employee</th>\n",
       "      <th>group</th>\n",
       "      <th>hire_date</th>\n",
       "      <th>salary</th>\n",
       "    </tr>\n",
       "  </thead>\n",
       "  <tbody>\n",
       "    <tr>\n",
       "      <th>0</th>\n",
       "      <td>Bob</td>\n",
       "      <td>Accounting</td>\n",
       "      <td>2008</td>\n",
       "      <td>70000</td>\n",
       "    </tr>\n",
       "    <tr>\n",
       "      <th>1</th>\n",
       "      <td>Jake</td>\n",
       "      <td>Engineering</td>\n",
       "      <td>2012</td>\n",
       "      <td>80000</td>\n",
       "    </tr>\n",
       "    <tr>\n",
       "      <th>2</th>\n",
       "      <td>Lisa</td>\n",
       "      <td>Engineering</td>\n",
       "      <td>2004</td>\n",
       "      <td>120000</td>\n",
       "    </tr>\n",
       "    <tr>\n",
       "      <th>3</th>\n",
       "      <td>Sue</td>\n",
       "      <td>HR</td>\n",
       "      <td>2014</td>\n",
       "      <td>90000</td>\n",
       "    </tr>\n",
       "    <tr>\n",
       "      <th>4</th>\n",
       "      <td>John</td>\n",
       "      <td>IT</td>\n",
       "      <td>2010</td>\n",
       "      <td>125000</td>\n",
       "    </tr>\n",
       "    <tr>\n",
       "      <th>5</th>\n",
       "      <td>Billy</td>\n",
       "      <td>HR</td>\n",
       "      <td>2015</td>\n",
       "      <td>92000</td>\n",
       "    </tr>\n",
       "  </tbody>\n",
       "</table>\n",
       "</div>"
      ],
      "text/plain": [
       "  employee        group  hire_date  salary\n",
       "0      Bob   Accounting       2008   70000\n",
       "1     Jake  Engineering       2012   80000\n",
       "2     Lisa  Engineering       2004  120000\n",
       "3      Sue           HR       2014   90000\n",
       "4     John           IT       2010  125000\n",
       "5    Billy           HR       2015   92000"
      ]
     },
     "execution_count": 34,
     "metadata": {},
     "output_type": "execute_result"
    }
   ],
   "source": [
    "employeessalary = pd.merge(employees, salary, right_on = 'name', left_on = 'employee')\n",
    "employeessalary.drop('name', axis = 1)"
   ]
  },
  {
   "cell_type": "markdown",
   "id": "8b8c555c-2686-4e6e-b77f-cb18a58f507a",
   "metadata": {
    "jp-MarkdownHeadingCollapsed": true
   },
   "source": [
    "### Yêu cầu 5: Cho dữ liệu như sau:\n",
    "\n",
    "**1. df6 = pd.DataFrame({'name': ['Peter', 'Paul', 'Mary'], 'food': ['fish', 'beans', 'bread']}, columns=['name', 'food'])**\n",
    "\n",
    "**2. df7 = pd.DataFrame({'name': ['Mary', 'Joseph'], 'drink': ['wine', 'beer']}, columns=['name', 'drink'])**\n",
    "    \n",
    "- Kết hợp 2 bộ dữ liệu này với tham số how='inner', how='outer', how='left', how='right'. Quan sát kết quả trong từng trường hợp."
   ]
  },
  {
   "cell_type": "code",
   "execution_count": 35,
   "id": "9a08f937-9721-4811-a063-0388af4ea74e",
   "metadata": {},
   "outputs": [],
   "source": [
    "df6 = pd.DataFrame({'name': ['Peter', 'Paul', 'Mary'], \n",
    "                    'food': ['fish', 'beans', 'bread']}, \n",
    "                    columns=['name', 'food'])\n",
    "df7 = pd.DataFrame({'name': ['Mary', 'Joseph'], \n",
    "                    'drink': ['wine', 'beer']}, \n",
    "                    columns=['name', 'drink'])"
   ]
  },
  {
   "cell_type": "code",
   "execution_count": 36,
   "id": "6f23e6cd-94be-4b55-90fe-8c842c114704",
   "metadata": {},
   "outputs": [
    {
     "data": {
      "text/html": [
       "<div>\n",
       "<style scoped>\n",
       "    .dataframe tbody tr th:only-of-type {\n",
       "        vertical-align: middle;\n",
       "    }\n",
       "\n",
       "    .dataframe tbody tr th {\n",
       "        vertical-align: top;\n",
       "    }\n",
       "\n",
       "    .dataframe thead th {\n",
       "        text-align: right;\n",
       "    }\n",
       "</style>\n",
       "<table border=\"1\" class=\"dataframe\">\n",
       "  <thead>\n",
       "    <tr style=\"text-align: right;\">\n",
       "      <th></th>\n",
       "      <th>name</th>\n",
       "      <th>food</th>\n",
       "    </tr>\n",
       "  </thead>\n",
       "  <tbody>\n",
       "    <tr>\n",
       "      <th>0</th>\n",
       "      <td>Peter</td>\n",
       "      <td>fish</td>\n",
       "    </tr>\n",
       "    <tr>\n",
       "      <th>1</th>\n",
       "      <td>Paul</td>\n",
       "      <td>beans</td>\n",
       "    </tr>\n",
       "    <tr>\n",
       "      <th>2</th>\n",
       "      <td>Mary</td>\n",
       "      <td>bread</td>\n",
       "    </tr>\n",
       "  </tbody>\n",
       "</table>\n",
       "</div>"
      ],
      "text/plain": [
       "    name   food\n",
       "0  Peter   fish\n",
       "1   Paul  beans\n",
       "2   Mary  bread"
      ]
     },
     "metadata": {},
     "output_type": "display_data"
    },
    {
     "data": {
      "text/html": [
       "<div>\n",
       "<style scoped>\n",
       "    .dataframe tbody tr th:only-of-type {\n",
       "        vertical-align: middle;\n",
       "    }\n",
       "\n",
       "    .dataframe tbody tr th {\n",
       "        vertical-align: top;\n",
       "    }\n",
       "\n",
       "    .dataframe thead th {\n",
       "        text-align: right;\n",
       "    }\n",
       "</style>\n",
       "<table border=\"1\" class=\"dataframe\">\n",
       "  <thead>\n",
       "    <tr style=\"text-align: right;\">\n",
       "      <th></th>\n",
       "      <th>name</th>\n",
       "      <th>drink</th>\n",
       "    </tr>\n",
       "  </thead>\n",
       "  <tbody>\n",
       "    <tr>\n",
       "      <th>0</th>\n",
       "      <td>Mary</td>\n",
       "      <td>wine</td>\n",
       "    </tr>\n",
       "    <tr>\n",
       "      <th>1</th>\n",
       "      <td>Joseph</td>\n",
       "      <td>beer</td>\n",
       "    </tr>\n",
       "  </tbody>\n",
       "</table>\n",
       "</div>"
      ],
      "text/plain": [
       "     name drink\n",
       "0    Mary  wine\n",
       "1  Joseph  beer"
      ]
     },
     "metadata": {},
     "output_type": "display_data"
    }
   ],
   "source": [
    "display(df6, df7)"
   ]
  },
  {
   "cell_type": "code",
   "execution_count": 38,
   "id": "457edbfb-946f-4cf8-acd8-9fc8a4995fa7",
   "metadata": {},
   "outputs": [
    {
     "data": {
      "text/html": [
       "<div>\n",
       "<style scoped>\n",
       "    .dataframe tbody tr th:only-of-type {\n",
       "        vertical-align: middle;\n",
       "    }\n",
       "\n",
       "    .dataframe tbody tr th {\n",
       "        vertical-align: top;\n",
       "    }\n",
       "\n",
       "    .dataframe thead th {\n",
       "        text-align: right;\n",
       "    }\n",
       "</style>\n",
       "<table border=\"1\" class=\"dataframe\">\n",
       "  <thead>\n",
       "    <tr style=\"text-align: right;\">\n",
       "      <th></th>\n",
       "      <th>name</th>\n",
       "      <th>food</th>\n",
       "      <th>drink</th>\n",
       "    </tr>\n",
       "  </thead>\n",
       "  <tbody>\n",
       "    <tr>\n",
       "      <th>0</th>\n",
       "      <td>Mary</td>\n",
       "      <td>bread</td>\n",
       "      <td>wine</td>\n",
       "    </tr>\n",
       "  </tbody>\n",
       "</table>\n",
       "</div>"
      ],
      "text/plain": [
       "   name   food drink\n",
       "0  Mary  bread  wine"
      ]
     },
     "execution_count": 38,
     "metadata": {},
     "output_type": "execute_result"
    }
   ],
   "source": [
    "df67_merge = pd.merge(df6, df7)\n",
    "df67_merge"
   ]
  },
  {
   "cell_type": "code",
   "execution_count": 39,
   "id": "d15c941b-7936-4994-a8a8-2c04186c81eb",
   "metadata": {},
   "outputs": [
    {
     "data": {
      "text/html": [
       "<div>\n",
       "<style scoped>\n",
       "    .dataframe tbody tr th:only-of-type {\n",
       "        vertical-align: middle;\n",
       "    }\n",
       "\n",
       "    .dataframe tbody tr th {\n",
       "        vertical-align: top;\n",
       "    }\n",
       "\n",
       "    .dataframe thead th {\n",
       "        text-align: right;\n",
       "    }\n",
       "</style>\n",
       "<table border=\"1\" class=\"dataframe\">\n",
       "  <thead>\n",
       "    <tr style=\"text-align: right;\">\n",
       "      <th></th>\n",
       "      <th>name</th>\n",
       "      <th>food</th>\n",
       "      <th>drink</th>\n",
       "    </tr>\n",
       "  </thead>\n",
       "  <tbody>\n",
       "    <tr>\n",
       "      <th>0</th>\n",
       "      <td>Mary</td>\n",
       "      <td>bread</td>\n",
       "      <td>wine</td>\n",
       "    </tr>\n",
       "  </tbody>\n",
       "</table>\n",
       "</div>"
      ],
      "text/plain": [
       "   name   food drink\n",
       "0  Mary  bread  wine"
      ]
     },
     "execution_count": 39,
     "metadata": {},
     "output_type": "execute_result"
    }
   ],
   "source": [
    "df67_inner = pd.merge(df6, df7, how = 'inner')\n",
    "df67_inner"
   ]
  },
  {
   "cell_type": "code",
   "execution_count": 40,
   "id": "940b95e4-c7df-4b59-9362-26ffc0acd599",
   "metadata": {},
   "outputs": [
    {
     "data": {
      "text/html": [
       "<div>\n",
       "<style scoped>\n",
       "    .dataframe tbody tr th:only-of-type {\n",
       "        vertical-align: middle;\n",
       "    }\n",
       "\n",
       "    .dataframe tbody tr th {\n",
       "        vertical-align: top;\n",
       "    }\n",
       "\n",
       "    .dataframe thead th {\n",
       "        text-align: right;\n",
       "    }\n",
       "</style>\n",
       "<table border=\"1\" class=\"dataframe\">\n",
       "  <thead>\n",
       "    <tr style=\"text-align: right;\">\n",
       "      <th></th>\n",
       "      <th>name</th>\n",
       "      <th>food</th>\n",
       "      <th>drink</th>\n",
       "    </tr>\n",
       "  </thead>\n",
       "  <tbody>\n",
       "    <tr>\n",
       "      <th>0</th>\n",
       "      <td>Peter</td>\n",
       "      <td>fish</td>\n",
       "      <td>NaN</td>\n",
       "    </tr>\n",
       "    <tr>\n",
       "      <th>1</th>\n",
       "      <td>Paul</td>\n",
       "      <td>beans</td>\n",
       "      <td>NaN</td>\n",
       "    </tr>\n",
       "    <tr>\n",
       "      <th>2</th>\n",
       "      <td>Mary</td>\n",
       "      <td>bread</td>\n",
       "      <td>wine</td>\n",
       "    </tr>\n",
       "  </tbody>\n",
       "</table>\n",
       "</div>"
      ],
      "text/plain": [
       "    name   food drink\n",
       "0  Peter   fish   NaN\n",
       "1   Paul  beans   NaN\n",
       "2   Mary  bread  wine"
      ]
     },
     "execution_count": 40,
     "metadata": {},
     "output_type": "execute_result"
    }
   ],
   "source": [
    "df67_left = pd.merge(df6, df7, how = 'left')\n",
    "df67_left"
   ]
  },
  {
   "cell_type": "code",
   "execution_count": 41,
   "id": "2e89877f-39a2-4e90-8c5a-44f98d46d487",
   "metadata": {},
   "outputs": [
    {
     "data": {
      "text/html": [
       "<div>\n",
       "<style scoped>\n",
       "    .dataframe tbody tr th:only-of-type {\n",
       "        vertical-align: middle;\n",
       "    }\n",
       "\n",
       "    .dataframe tbody tr th {\n",
       "        vertical-align: top;\n",
       "    }\n",
       "\n",
       "    .dataframe thead th {\n",
       "        text-align: right;\n",
       "    }\n",
       "</style>\n",
       "<table border=\"1\" class=\"dataframe\">\n",
       "  <thead>\n",
       "    <tr style=\"text-align: right;\">\n",
       "      <th></th>\n",
       "      <th>name</th>\n",
       "      <th>food</th>\n",
       "      <th>drink</th>\n",
       "    </tr>\n",
       "  </thead>\n",
       "  <tbody>\n",
       "    <tr>\n",
       "      <th>0</th>\n",
       "      <td>Mary</td>\n",
       "      <td>bread</td>\n",
       "      <td>wine</td>\n",
       "    </tr>\n",
       "    <tr>\n",
       "      <th>1</th>\n",
       "      <td>Joseph</td>\n",
       "      <td>NaN</td>\n",
       "      <td>beer</td>\n",
       "    </tr>\n",
       "  </tbody>\n",
       "</table>\n",
       "</div>"
      ],
      "text/plain": [
       "     name   food drink\n",
       "0    Mary  bread  wine\n",
       "1  Joseph    NaN  beer"
      ]
     },
     "execution_count": 41,
     "metadata": {},
     "output_type": "execute_result"
    }
   ],
   "source": [
    "df67_right = pd.merge(df6, df7, how = 'right')\n",
    "df67_right"
   ]
  },
  {
   "cell_type": "code",
   "execution_count": 42,
   "id": "8b62bd6c-0d32-4276-8387-091ba2c25d80",
   "metadata": {},
   "outputs": [
    {
     "data": {
      "text/html": [
       "<div>\n",
       "<style scoped>\n",
       "    .dataframe tbody tr th:only-of-type {\n",
       "        vertical-align: middle;\n",
       "    }\n",
       "\n",
       "    .dataframe tbody tr th {\n",
       "        vertical-align: top;\n",
       "    }\n",
       "\n",
       "    .dataframe thead th {\n",
       "        text-align: right;\n",
       "    }\n",
       "</style>\n",
       "<table border=\"1\" class=\"dataframe\">\n",
       "  <thead>\n",
       "    <tr style=\"text-align: right;\">\n",
       "      <th></th>\n",
       "      <th>name</th>\n",
       "      <th>food</th>\n",
       "      <th>drink</th>\n",
       "    </tr>\n",
       "  </thead>\n",
       "  <tbody>\n",
       "    <tr>\n",
       "      <th>0</th>\n",
       "      <td>Joseph</td>\n",
       "      <td>NaN</td>\n",
       "      <td>beer</td>\n",
       "    </tr>\n",
       "    <tr>\n",
       "      <th>1</th>\n",
       "      <td>Mary</td>\n",
       "      <td>bread</td>\n",
       "      <td>wine</td>\n",
       "    </tr>\n",
       "    <tr>\n",
       "      <th>2</th>\n",
       "      <td>Paul</td>\n",
       "      <td>beans</td>\n",
       "      <td>NaN</td>\n",
       "    </tr>\n",
       "    <tr>\n",
       "      <th>3</th>\n",
       "      <td>Peter</td>\n",
       "      <td>fish</td>\n",
       "      <td>NaN</td>\n",
       "    </tr>\n",
       "  </tbody>\n",
       "</table>\n",
       "</div>"
      ],
      "text/plain": [
       "     name   food drink\n",
       "0  Joseph    NaN  beer\n",
       "1    Mary  bread  wine\n",
       "2    Paul  beans   NaN\n",
       "3   Peter   fish   NaN"
      ]
     },
     "execution_count": 42,
     "metadata": {},
     "output_type": "execute_result"
    }
   ],
   "source": [
    "df67_outer = pd.merge(df6, df7, how = 'outer')\n",
    "df67_outer"
   ]
  },
  {
   "cell_type": "markdown",
   "id": "e22a5afa-85e0-4755-b01c-3b2e634884db",
   "metadata": {},
   "source": [
    "### Yêu cầu 1+: Cho dữ liệu employees1.csv và employees2.csv"
   ]
  },
  {
   "cell_type": "markdown",
   "id": "ecd065c9-881b-430e-804d-63d7ef9d7393",
   "metadata": {},
   "source": [
    "**a. Đọc dữ liệu từ 2 tập tin trên vào 2 DataFrame với index của các DataFrame là 'employee'**"
   ]
  },
  {
   "cell_type": "code",
   "execution_count": 71,
   "id": "1b199dfa-ffb6-4562-ad29-c2ba81ae873e",
   "metadata": {},
   "outputs": [],
   "source": [
    "employees1 = pd.read_csv('data6/employees1.csv', index_col = 'employee')\n",
    "employees2 = pd.read_csv('data6/employees2.csv', index_col = 'employee')"
   ]
  },
  {
   "cell_type": "code",
   "execution_count": 72,
   "id": "d1c64ec4-559b-4b3b-92d2-834d2417e2d1",
   "metadata": {},
   "outputs": [
    {
     "data": {
      "text/html": [
       "<div>\n",
       "<style scoped>\n",
       "    .dataframe tbody tr th:only-of-type {\n",
       "        vertical-align: middle;\n",
       "    }\n",
       "\n",
       "    .dataframe tbody tr th {\n",
       "        vertical-align: top;\n",
       "    }\n",
       "\n",
       "    .dataframe thead th {\n",
       "        text-align: right;\n",
       "    }\n",
       "</style>\n",
       "<table border=\"1\" class=\"dataframe\">\n",
       "  <thead>\n",
       "    <tr style=\"text-align: right;\">\n",
       "      <th></th>\n",
       "      <th>group</th>\n",
       "    </tr>\n",
       "    <tr>\n",
       "      <th>employee</th>\n",
       "      <th></th>\n",
       "    </tr>\n",
       "  </thead>\n",
       "  <tbody>\n",
       "    <tr>\n",
       "      <th>Bob</th>\n",
       "      <td>Accounting</td>\n",
       "    </tr>\n",
       "    <tr>\n",
       "      <th>Jake</th>\n",
       "      <td>Engineering</td>\n",
       "    </tr>\n",
       "    <tr>\n",
       "      <th>Lisa</th>\n",
       "      <td>Engineering</td>\n",
       "    </tr>\n",
       "    <tr>\n",
       "      <th>Sue</th>\n",
       "      <td>HR</td>\n",
       "    </tr>\n",
       "    <tr>\n",
       "      <th>John</th>\n",
       "      <td>IT</td>\n",
       "    </tr>\n",
       "    <tr>\n",
       "      <th>Billy</th>\n",
       "      <td>HR</td>\n",
       "    </tr>\n",
       "  </tbody>\n",
       "</table>\n",
       "</div>"
      ],
      "text/plain": [
       "                group\n",
       "employee             \n",
       "Bob        Accounting\n",
       "Jake      Engineering\n",
       "Lisa      Engineering\n",
       "Sue                HR\n",
       "John               IT\n",
       "Billy              HR"
      ]
     },
     "execution_count": 72,
     "metadata": {},
     "output_type": "execute_result"
    }
   ],
   "source": [
    "employees1.drop(employees1.columns[0], axis = 1, inplace = True)\n",
    "employees1"
   ]
  },
  {
   "cell_type": "code",
   "execution_count": 73,
   "id": "b5612bbc-9bb3-490e-96c2-98897f7c444f",
   "metadata": {},
   "outputs": [
    {
     "data": {
      "text/html": [
       "<div>\n",
       "<style scoped>\n",
       "    .dataframe tbody tr th:only-of-type {\n",
       "        vertical-align: middle;\n",
       "    }\n",
       "\n",
       "    .dataframe tbody tr th {\n",
       "        vertical-align: top;\n",
       "    }\n",
       "\n",
       "    .dataframe thead th {\n",
       "        text-align: right;\n",
       "    }\n",
       "</style>\n",
       "<table border=\"1\" class=\"dataframe\">\n",
       "  <thead>\n",
       "    <tr style=\"text-align: right;\">\n",
       "      <th></th>\n",
       "      <th>hire_date</th>\n",
       "    </tr>\n",
       "    <tr>\n",
       "      <th>employee</th>\n",
       "      <th></th>\n",
       "    </tr>\n",
       "  </thead>\n",
       "  <tbody>\n",
       "    <tr>\n",
       "      <th>Lisa</th>\n",
       "      <td>2004</td>\n",
       "    </tr>\n",
       "    <tr>\n",
       "      <th>Bob</th>\n",
       "      <td>2008</td>\n",
       "    </tr>\n",
       "    <tr>\n",
       "      <th>Jake</th>\n",
       "      <td>2012</td>\n",
       "    </tr>\n",
       "    <tr>\n",
       "      <th>Sue</th>\n",
       "      <td>2014</td>\n",
       "    </tr>\n",
       "    <tr>\n",
       "      <th>John</th>\n",
       "      <td>2010</td>\n",
       "    </tr>\n",
       "    <tr>\n",
       "      <th>Billy</th>\n",
       "      <td>2015</td>\n",
       "    </tr>\n",
       "  </tbody>\n",
       "</table>\n",
       "</div>"
      ],
      "text/plain": [
       "          hire_date\n",
       "employee           \n",
       "Lisa           2004\n",
       "Bob            2008\n",
       "Jake           2012\n",
       "Sue            2014\n",
       "John           2010\n",
       "Billy          2015"
      ]
     },
     "execution_count": 73,
     "metadata": {},
     "output_type": "execute_result"
    }
   ],
   "source": [
    "employees2.drop(employees2.columns[0], axis = 1, inplace = True)\n",
    "employees2"
   ]
  },
  {
   "cell_type": "markdown",
   "id": "885b9317-f83a-4aa5-aded-12736d2d30f8",
   "metadata": {},
   "source": [
    "**b. Kết hợp 2 DataFrame trên thành 1 DataFrame dùng chung 1 index là 'employee' (gợi ý: dùng left_index hoặc/và right_index hoặc dùng dataframe1.join(dataframe2))**"
   ]
  },
  {
   "cell_type": "code",
   "execution_count": 76,
   "id": "97c671d8-d229-41ec-973d-b656aad91ee8",
   "metadata": {},
   "outputs": [
    {
     "data": {
      "text/html": [
       "<div>\n",
       "<style scoped>\n",
       "    .dataframe tbody tr th:only-of-type {\n",
       "        vertical-align: middle;\n",
       "    }\n",
       "\n",
       "    .dataframe tbody tr th {\n",
       "        vertical-align: top;\n",
       "    }\n",
       "\n",
       "    .dataframe thead th {\n",
       "        text-align: right;\n",
       "    }\n",
       "</style>\n",
       "<table border=\"1\" class=\"dataframe\">\n",
       "  <thead>\n",
       "    <tr style=\"text-align: right;\">\n",
       "      <th></th>\n",
       "      <th>group</th>\n",
       "      <th>hire_date</th>\n",
       "    </tr>\n",
       "    <tr>\n",
       "      <th>employee</th>\n",
       "      <th></th>\n",
       "      <th></th>\n",
       "    </tr>\n",
       "  </thead>\n",
       "  <tbody>\n",
       "    <tr>\n",
       "      <th>Bob</th>\n",
       "      <td>Accounting</td>\n",
       "      <td>2008</td>\n",
       "    </tr>\n",
       "    <tr>\n",
       "      <th>Jake</th>\n",
       "      <td>Engineering</td>\n",
       "      <td>2012</td>\n",
       "    </tr>\n",
       "    <tr>\n",
       "      <th>Lisa</th>\n",
       "      <td>Engineering</td>\n",
       "      <td>2004</td>\n",
       "    </tr>\n",
       "    <tr>\n",
       "      <th>Sue</th>\n",
       "      <td>HR</td>\n",
       "      <td>2014</td>\n",
       "    </tr>\n",
       "    <tr>\n",
       "      <th>John</th>\n",
       "      <td>IT</td>\n",
       "      <td>2010</td>\n",
       "    </tr>\n",
       "    <tr>\n",
       "      <th>Billy</th>\n",
       "      <td>HR</td>\n",
       "      <td>2015</td>\n",
       "    </tr>\n",
       "  </tbody>\n",
       "</table>\n",
       "</div>"
      ],
      "text/plain": [
       "                group  hire_date\n",
       "employee                        \n",
       "Bob        Accounting       2008\n",
       "Jake      Engineering       2012\n",
       "Lisa      Engineering       2004\n",
       "Sue                HR       2014\n",
       "John               IT       2010\n",
       "Billy              HR       2015"
      ]
     },
     "execution_count": 76,
     "metadata": {},
     "output_type": "execute_result"
    }
   ],
   "source": [
    "employees12_merge = pd.merge(employees1, employees2, right_index = True, left_index = True)\n",
    "employees12_merge"
   ]
  },
  {
   "cell_type": "code",
   "execution_count": 78,
   "id": "47fe580e-b557-42d7-b801-02ec65057058",
   "metadata": {},
   "outputs": [
    {
     "data": {
      "text/html": [
       "<div>\n",
       "<style scoped>\n",
       "    .dataframe tbody tr th:only-of-type {\n",
       "        vertical-align: middle;\n",
       "    }\n",
       "\n",
       "    .dataframe tbody tr th {\n",
       "        vertical-align: top;\n",
       "    }\n",
       "\n",
       "    .dataframe thead th {\n",
       "        text-align: right;\n",
       "    }\n",
       "</style>\n",
       "<table border=\"1\" class=\"dataframe\">\n",
       "  <thead>\n",
       "    <tr style=\"text-align: right;\">\n",
       "      <th></th>\n",
       "      <th>group</th>\n",
       "      <th>hire_date</th>\n",
       "    </tr>\n",
       "    <tr>\n",
       "      <th>employee</th>\n",
       "      <th></th>\n",
       "      <th></th>\n",
       "    </tr>\n",
       "  </thead>\n",
       "  <tbody>\n",
       "    <tr>\n",
       "      <th>Bob</th>\n",
       "      <td>Accounting</td>\n",
       "      <td>2008</td>\n",
       "    </tr>\n",
       "    <tr>\n",
       "      <th>Jake</th>\n",
       "      <td>Engineering</td>\n",
       "      <td>2012</td>\n",
       "    </tr>\n",
       "    <tr>\n",
       "      <th>Lisa</th>\n",
       "      <td>Engineering</td>\n",
       "      <td>2004</td>\n",
       "    </tr>\n",
       "    <tr>\n",
       "      <th>Sue</th>\n",
       "      <td>HR</td>\n",
       "      <td>2014</td>\n",
       "    </tr>\n",
       "    <tr>\n",
       "      <th>John</th>\n",
       "      <td>IT</td>\n",
       "      <td>2010</td>\n",
       "    </tr>\n",
       "    <tr>\n",
       "      <th>Billy</th>\n",
       "      <td>HR</td>\n",
       "      <td>2015</td>\n",
       "    </tr>\n",
       "  </tbody>\n",
       "</table>\n",
       "</div>"
      ],
      "text/plain": [
       "                group  hire_date\n",
       "employee                        \n",
       "Bob        Accounting       2008\n",
       "Jake      Engineering       2012\n",
       "Lisa      Engineering       2004\n",
       "Sue                HR       2014\n",
       "John               IT       2010\n",
       "Billy              HR       2015"
      ]
     },
     "execution_count": 78,
     "metadata": {},
     "output_type": "execute_result"
    }
   ],
   "source": [
    "employees_join = employees1.join(employees2)\n",
    "employees_join"
   ]
  }
 ],
 "metadata": {
  "kernelspec": {
   "display_name": "Python 3 (ipykernel)",
   "language": "python",
   "name": "python3"
  },
  "language_info": {
   "codemirror_mode": {
    "name": "ipython",
    "version": 3
   },
   "file_extension": ".py",
   "mimetype": "text/x-python",
   "name": "python",
   "nbconvert_exporter": "python",
   "pygments_lexer": "ipython3",
   "version": "3.11.8"
  }
 },
 "nbformat": 4,
 "nbformat_minor": 5
}
