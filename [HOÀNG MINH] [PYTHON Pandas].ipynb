{
 "cells": [
  {
   "cell_type": "markdown",
   "id": "78deb2b7-f8ed-419b-bc2b-b7cb40e549d8",
   "metadata": {
    "jp-MarkdownHeadingCollapsed": true
   },
   "source": [
    "# CHAPTER 7 - EXERCISE 1: DRINKS"
   ]
  },
  {
   "cell_type": "markdown",
   "id": "d7b403da-d707-46cc-b6df-48baa729454d",
   "metadata": {
    "jp-MarkdownHeadingCollapsed": true
   },
   "source": [
    "## Ghi chú về dữ liệu\n",
    "\n",
    "**drinks.csv là tập tin cung cấp dữ liệu về tình hình tiêu thụ rượu bia ở các quốc gia theo từng châu lục**\n",
    "\n",
    "+ **country:** tên quốc gia tiêu thụ\n",
    "+ **beer_servings:** số lượng bia tiêu thụ\n",
    "+ **spirit_servings:** số lượng rượu mạnh (>= 400)\n",
    "+ **wine_servings:** số lượng rượu vang\n",
    "+ **total_litres_of_pure_alcohol:** tổng số lít rượu nguyên chất\n",
    "+ **continent:** châu lục"
   ]
  },
  {
   "cell_type": "code",
   "execution_count": 1,
   "id": "ae135e71-3add-41ce-995c-84d6800d4e31",
   "metadata": {},
   "outputs": [],
   "source": [
    "import pandas as pd"
   ]
  },
  {
   "cell_type": "markdown",
   "id": "b3ec6225-36ac-4092-b1ba-e9af81bbeed5",
   "metadata": {
    "jp-MarkdownHeadingCollapsed": true
   },
   "source": [
    "### Yêu cầu 1:"
   ]
  },
  {
   "cell_type": "markdown",
   "id": "e7efc071-476b-4757-8063-9492e7d466e5",
   "metadata": {},
   "source": [
    "**a. Đọc dữ liệu từ tập tin drinks.csv với index_col là cột đầu tiên của dữ liệu, và lưu vào biến drinks.**"
   ]
  },
  {
   "cell_type": "code",
   "execution_count": 2,
   "id": "24fb1807-ee2d-41aa-9bff-6774ae0b303d",
   "metadata": {},
   "outputs": [],
   "source": [
    "drinks = pd.read_csv('data7/data/drinks.csv', index_col = 0)"
   ]
  },
  {
   "cell_type": "markdown",
   "id": "1b612f7d-b0b6-496d-96ea-f8e773a18835",
   "metadata": {},
   "source": [
    "**b. Cho biết kích thước (shape) của drinks**"
   ]
  },
  {
   "cell_type": "code",
   "execution_count": 3,
   "id": "037a7330-7d81-4717-b8b9-acd42378fbf1",
   "metadata": {},
   "outputs": [
    {
     "data": {
      "text/plain": [
       "(193, 6)"
      ]
     },
     "execution_count": 3,
     "metadata": {},
     "output_type": "execute_result"
    }
   ],
   "source": [
    "drinks.shape"
   ]
  },
  {
   "cell_type": "markdown",
   "id": "ce4218a2-6e82-4632-81a1-0ac03ded3432",
   "metadata": {},
   "source": [
    "**c. Hiển thị tên các cột (columns) của drinks**"
   ]
  },
  {
   "cell_type": "code",
   "execution_count": 4,
   "id": "49ef67ce-b50e-4132-b352-c33d2ce65079",
   "metadata": {},
   "outputs": [
    {
     "data": {
      "text/plain": [
       "Index(['country', 'beer_servings', 'spirit_servings', 'wine_servings',\n",
       "       'total_litres_of_pure_alcohol', 'continent'],\n",
       "      dtype='object')"
      ]
     },
     "execution_count": 4,
     "metadata": {},
     "output_type": "execute_result"
    }
   ],
   "source": [
    "drinks.columns"
   ]
  },
  {
   "cell_type": "markdown",
   "id": "3d01520f-c556-4f22-a511-bd4dc85fb279",
   "metadata": {},
   "source": [
    "**d. Xem thông tin info()**"
   ]
  },
  {
   "cell_type": "code",
   "execution_count": 5,
   "id": "e773af95-8700-46a5-a218-0761eecc4a66",
   "metadata": {},
   "outputs": [
    {
     "name": "stdout",
     "output_type": "stream",
     "text": [
      "<class 'pandas.core.frame.DataFrame'>\n",
      "Index: 193 entries, 0 to 192\n",
      "Data columns (total 6 columns):\n",
      " #   Column                        Non-Null Count  Dtype  \n",
      "---  ------                        --------------  -----  \n",
      " 0   country                       193 non-null    object \n",
      " 1   beer_servings                 193 non-null    int64  \n",
      " 2   spirit_servings               193 non-null    int64  \n",
      " 3   wine_servings                 193 non-null    int64  \n",
      " 4   total_litres_of_pure_alcohol  193 non-null    float64\n",
      " 5   continent                     170 non-null    object \n",
      "dtypes: float64(1), int64(3), object(2)\n",
      "memory usage: 10.6+ KB\n"
     ]
    }
   ],
   "source": [
    "drinks.info()"
   ]
  },
  {
   "cell_type": "markdown",
   "id": "6a5dfe81-a574-4b68-b585-1a93dbc97732",
   "metadata": {},
   "source": [
    "**e. Xem 5 dòng dữ liệu đầu tiên (head) của drinks**"
   ]
  },
  {
   "cell_type": "code",
   "execution_count": 6,
   "id": "a70bb5c1-dac6-4b53-bed0-36ae8cfd1f2c",
   "metadata": {},
   "outputs": [
    {
     "data": {
      "text/html": [
       "<div>\n",
       "<style scoped>\n",
       "    .dataframe tbody tr th:only-of-type {\n",
       "        vertical-align: middle;\n",
       "    }\n",
       "\n",
       "    .dataframe tbody tr th {\n",
       "        vertical-align: top;\n",
       "    }\n",
       "\n",
       "    .dataframe thead th {\n",
       "        text-align: right;\n",
       "    }\n",
       "</style>\n",
       "<table border=\"1\" class=\"dataframe\">\n",
       "  <thead>\n",
       "    <tr style=\"text-align: right;\">\n",
       "      <th></th>\n",
       "      <th>country</th>\n",
       "      <th>beer_servings</th>\n",
       "      <th>spirit_servings</th>\n",
       "      <th>wine_servings</th>\n",
       "      <th>total_litres_of_pure_alcohol</th>\n",
       "      <th>continent</th>\n",
       "    </tr>\n",
       "  </thead>\n",
       "  <tbody>\n",
       "    <tr>\n",
       "      <th>0</th>\n",
       "      <td>Afghanistan</td>\n",
       "      <td>0</td>\n",
       "      <td>0</td>\n",
       "      <td>0</td>\n",
       "      <td>0.0</td>\n",
       "      <td>AS</td>\n",
       "    </tr>\n",
       "    <tr>\n",
       "      <th>1</th>\n",
       "      <td>Albania</td>\n",
       "      <td>89</td>\n",
       "      <td>132</td>\n",
       "      <td>54</td>\n",
       "      <td>4.9</td>\n",
       "      <td>EU</td>\n",
       "    </tr>\n",
       "    <tr>\n",
       "      <th>2</th>\n",
       "      <td>Algeria</td>\n",
       "      <td>25</td>\n",
       "      <td>0</td>\n",
       "      <td>14</td>\n",
       "      <td>0.7</td>\n",
       "      <td>AF</td>\n",
       "    </tr>\n",
       "    <tr>\n",
       "      <th>3</th>\n",
       "      <td>Andorra</td>\n",
       "      <td>245</td>\n",
       "      <td>138</td>\n",
       "      <td>312</td>\n",
       "      <td>12.4</td>\n",
       "      <td>EU</td>\n",
       "    </tr>\n",
       "    <tr>\n",
       "      <th>4</th>\n",
       "      <td>Angola</td>\n",
       "      <td>217</td>\n",
       "      <td>57</td>\n",
       "      <td>45</td>\n",
       "      <td>5.9</td>\n",
       "      <td>AF</td>\n",
       "    </tr>\n",
       "  </tbody>\n",
       "</table>\n",
       "</div>"
      ],
      "text/plain": [
       "       country  beer_servings  spirit_servings  wine_servings  \\\n",
       "0  Afghanistan              0                0              0   \n",
       "1      Albania             89              132             54   \n",
       "2      Algeria             25                0             14   \n",
       "3      Andorra            245              138            312   \n",
       "4       Angola            217               57             45   \n",
       "\n",
       "   total_litres_of_pure_alcohol continent  \n",
       "0                           0.0        AS  \n",
       "1                           4.9        EU  \n",
       "2                           0.7        AF  \n",
       "3                          12.4        EU  \n",
       "4                           5.9        AF  "
      ]
     },
     "execution_count": 6,
     "metadata": {},
     "output_type": "execute_result"
    }
   ],
   "source": [
    "drinks.head()"
   ]
  },
  {
   "cell_type": "markdown",
   "id": "ec6d9037-4d76-4ca8-8ce7-9780c684f089",
   "metadata": {},
   "source": [
    "**f. Xem 5 dòng dữ liệu cuối cùng (tail) của drinks**"
   ]
  },
  {
   "cell_type": "code",
   "execution_count": 7,
   "id": "43f46abf-7165-46a1-a297-adb4b657096b",
   "metadata": {},
   "outputs": [
    {
     "data": {
      "text/html": [
       "<div>\n",
       "<style scoped>\n",
       "    .dataframe tbody tr th:only-of-type {\n",
       "        vertical-align: middle;\n",
       "    }\n",
       "\n",
       "    .dataframe tbody tr th {\n",
       "        vertical-align: top;\n",
       "    }\n",
       "\n",
       "    .dataframe thead th {\n",
       "        text-align: right;\n",
       "    }\n",
       "</style>\n",
       "<table border=\"1\" class=\"dataframe\">\n",
       "  <thead>\n",
       "    <tr style=\"text-align: right;\">\n",
       "      <th></th>\n",
       "      <th>country</th>\n",
       "      <th>beer_servings</th>\n",
       "      <th>spirit_servings</th>\n",
       "      <th>wine_servings</th>\n",
       "      <th>total_litres_of_pure_alcohol</th>\n",
       "      <th>continent</th>\n",
       "    </tr>\n",
       "  </thead>\n",
       "  <tbody>\n",
       "    <tr>\n",
       "      <th>188</th>\n",
       "      <td>Venezuela</td>\n",
       "      <td>333</td>\n",
       "      <td>100</td>\n",
       "      <td>3</td>\n",
       "      <td>7.7</td>\n",
       "      <td>SA</td>\n",
       "    </tr>\n",
       "    <tr>\n",
       "      <th>189</th>\n",
       "      <td>Vietnam</td>\n",
       "      <td>111</td>\n",
       "      <td>2</td>\n",
       "      <td>1</td>\n",
       "      <td>2.0</td>\n",
       "      <td>AS</td>\n",
       "    </tr>\n",
       "    <tr>\n",
       "      <th>190</th>\n",
       "      <td>Yemen</td>\n",
       "      <td>6</td>\n",
       "      <td>0</td>\n",
       "      <td>0</td>\n",
       "      <td>0.1</td>\n",
       "      <td>AS</td>\n",
       "    </tr>\n",
       "    <tr>\n",
       "      <th>191</th>\n",
       "      <td>Zambia</td>\n",
       "      <td>32</td>\n",
       "      <td>19</td>\n",
       "      <td>4</td>\n",
       "      <td>2.5</td>\n",
       "      <td>AF</td>\n",
       "    </tr>\n",
       "    <tr>\n",
       "      <th>192</th>\n",
       "      <td>Zimbabwe</td>\n",
       "      <td>64</td>\n",
       "      <td>18</td>\n",
       "      <td>4</td>\n",
       "      <td>4.7</td>\n",
       "      <td>AF</td>\n",
       "    </tr>\n",
       "  </tbody>\n",
       "</table>\n",
       "</div>"
      ],
      "text/plain": [
       "       country  beer_servings  spirit_servings  wine_servings  \\\n",
       "188  Venezuela            333              100              3   \n",
       "189    Vietnam            111                2              1   \n",
       "190      Yemen              6                0              0   \n",
       "191     Zambia             32               19              4   \n",
       "192   Zimbabwe             64               18              4   \n",
       "\n",
       "     total_litres_of_pure_alcohol continent  \n",
       "188                           7.7        SA  \n",
       "189                           2.0        AS  \n",
       "190                           0.1        AS  \n",
       "191                           2.5        AF  \n",
       "192                           4.7        AF  "
      ]
     },
     "execution_count": 7,
     "metadata": {},
     "output_type": "execute_result"
    }
   ],
   "source": [
    "drinks.tail()"
   ]
  },
  {
   "cell_type": "markdown",
   "id": "f4f5a2e4-8ba9-4a77-a75b-d87a35a1be10",
   "metadata": {
    "jp-MarkdownHeadingCollapsed": true
   },
   "source": [
    "### Yêu cầu 2:"
   ]
  },
  {
   "cell_type": "markdown",
   "id": "cb297749-8bc0-410a-b705-513496922e8e",
   "metadata": {},
   "source": [
    "**a. Đếm dữ liệu NULL**"
   ]
  },
  {
   "cell_type": "code",
   "execution_count": 8,
   "id": "c67042c1-8261-4a1e-b59e-32240c701b7a",
   "metadata": {},
   "outputs": [
    {
     "data": {
      "text/plain": [
       "country                          0\n",
       "beer_servings                    0\n",
       "spirit_servings                  0\n",
       "wine_servings                    0\n",
       "total_litres_of_pure_alcohol     0\n",
       "continent                       23\n",
       "dtype: int64"
      ]
     },
     "execution_count": 8,
     "metadata": {},
     "output_type": "execute_result"
    }
   ],
   "source": [
    "drinks.isnull().sum()"
   ]
  },
  {
   "cell_type": "markdown",
   "id": "bbc5c63a-4521-4651-b484-a55f1aa94f27",
   "metadata": {},
   "source": [
    "**b. Hiển thị các dòng null**"
   ]
  },
  {
   "cell_type": "code",
   "execution_count": 9,
   "id": "31585ac4-38a9-45ad-9152-003c12b5ea49",
   "metadata": {},
   "outputs": [
    {
     "data": {
      "text/html": [
       "<div>\n",
       "<style scoped>\n",
       "    .dataframe tbody tr th:only-of-type {\n",
       "        vertical-align: middle;\n",
       "    }\n",
       "\n",
       "    .dataframe tbody tr th {\n",
       "        vertical-align: top;\n",
       "    }\n",
       "\n",
       "    .dataframe thead th {\n",
       "        text-align: right;\n",
       "    }\n",
       "</style>\n",
       "<table border=\"1\" class=\"dataframe\">\n",
       "  <thead>\n",
       "    <tr style=\"text-align: right;\">\n",
       "      <th></th>\n",
       "      <th>country</th>\n",
       "      <th>beer_servings</th>\n",
       "      <th>spirit_servings</th>\n",
       "      <th>wine_servings</th>\n",
       "      <th>total_litres_of_pure_alcohol</th>\n",
       "      <th>continent</th>\n",
       "    </tr>\n",
       "  </thead>\n",
       "  <tbody>\n",
       "    <tr>\n",
       "      <th>5</th>\n",
       "      <td>Antigua &amp; Barbuda</td>\n",
       "      <td>102</td>\n",
       "      <td>128</td>\n",
       "      <td>45</td>\n",
       "      <td>4.9</td>\n",
       "      <td>NaN</td>\n",
       "    </tr>\n",
       "    <tr>\n",
       "      <th>11</th>\n",
       "      <td>Bahamas</td>\n",
       "      <td>122</td>\n",
       "      <td>176</td>\n",
       "      <td>51</td>\n",
       "      <td>6.3</td>\n",
       "      <td>NaN</td>\n",
       "    </tr>\n",
       "    <tr>\n",
       "      <th>14</th>\n",
       "      <td>Barbados</td>\n",
       "      <td>143</td>\n",
       "      <td>173</td>\n",
       "      <td>36</td>\n",
       "      <td>6.3</td>\n",
       "      <td>NaN</td>\n",
       "    </tr>\n",
       "    <tr>\n",
       "      <th>17</th>\n",
       "      <td>Belize</td>\n",
       "      <td>263</td>\n",
       "      <td>114</td>\n",
       "      <td>8</td>\n",
       "      <td>6.8</td>\n",
       "      <td>NaN</td>\n",
       "    </tr>\n",
       "    <tr>\n",
       "      <th>32</th>\n",
       "      <td>Canada</td>\n",
       "      <td>240</td>\n",
       "      <td>122</td>\n",
       "      <td>100</td>\n",
       "      <td>8.2</td>\n",
       "      <td>NaN</td>\n",
       "    </tr>\n",
       "    <tr>\n",
       "      <th>41</th>\n",
       "      <td>Costa Rica</td>\n",
       "      <td>149</td>\n",
       "      <td>87</td>\n",
       "      <td>11</td>\n",
       "      <td>4.4</td>\n",
       "      <td>NaN</td>\n",
       "    </tr>\n",
       "    <tr>\n",
       "      <th>43</th>\n",
       "      <td>Cuba</td>\n",
       "      <td>93</td>\n",
       "      <td>137</td>\n",
       "      <td>5</td>\n",
       "      <td>4.2</td>\n",
       "      <td>NaN</td>\n",
       "    </tr>\n",
       "    <tr>\n",
       "      <th>50</th>\n",
       "      <td>Dominica</td>\n",
       "      <td>52</td>\n",
       "      <td>286</td>\n",
       "      <td>26</td>\n",
       "      <td>6.6</td>\n",
       "      <td>NaN</td>\n",
       "    </tr>\n",
       "    <tr>\n",
       "      <th>51</th>\n",
       "      <td>Dominican Republic</td>\n",
       "      <td>193</td>\n",
       "      <td>147</td>\n",
       "      <td>9</td>\n",
       "      <td>6.2</td>\n",
       "      <td>NaN</td>\n",
       "    </tr>\n",
       "    <tr>\n",
       "      <th>54</th>\n",
       "      <td>El Salvador</td>\n",
       "      <td>52</td>\n",
       "      <td>69</td>\n",
       "      <td>2</td>\n",
       "      <td>2.2</td>\n",
       "      <td>NaN</td>\n",
       "    </tr>\n",
       "    <tr>\n",
       "      <th>68</th>\n",
       "      <td>Grenada</td>\n",
       "      <td>199</td>\n",
       "      <td>438</td>\n",
       "      <td>28</td>\n",
       "      <td>11.9</td>\n",
       "      <td>NaN</td>\n",
       "    </tr>\n",
       "    <tr>\n",
       "      <th>69</th>\n",
       "      <td>Guatemala</td>\n",
       "      <td>53</td>\n",
       "      <td>69</td>\n",
       "      <td>2</td>\n",
       "      <td>2.2</td>\n",
       "      <td>NaN</td>\n",
       "    </tr>\n",
       "    <tr>\n",
       "      <th>73</th>\n",
       "      <td>Haiti</td>\n",
       "      <td>1</td>\n",
       "      <td>326</td>\n",
       "      <td>1</td>\n",
       "      <td>5.9</td>\n",
       "      <td>NaN</td>\n",
       "    </tr>\n",
       "    <tr>\n",
       "      <th>74</th>\n",
       "      <td>Honduras</td>\n",
       "      <td>69</td>\n",
       "      <td>98</td>\n",
       "      <td>2</td>\n",
       "      <td>3.0</td>\n",
       "      <td>NaN</td>\n",
       "    </tr>\n",
       "    <tr>\n",
       "      <th>84</th>\n",
       "      <td>Jamaica</td>\n",
       "      <td>82</td>\n",
       "      <td>97</td>\n",
       "      <td>9</td>\n",
       "      <td>3.4</td>\n",
       "      <td>NaN</td>\n",
       "    </tr>\n",
       "    <tr>\n",
       "      <th>109</th>\n",
       "      <td>Mexico</td>\n",
       "      <td>238</td>\n",
       "      <td>68</td>\n",
       "      <td>5</td>\n",
       "      <td>5.5</td>\n",
       "      <td>NaN</td>\n",
       "    </tr>\n",
       "    <tr>\n",
       "      <th>122</th>\n",
       "      <td>Nicaragua</td>\n",
       "      <td>78</td>\n",
       "      <td>118</td>\n",
       "      <td>1</td>\n",
       "      <td>3.5</td>\n",
       "      <td>NaN</td>\n",
       "    </tr>\n",
       "    <tr>\n",
       "      <th>130</th>\n",
       "      <td>Panama</td>\n",
       "      <td>285</td>\n",
       "      <td>104</td>\n",
       "      <td>18</td>\n",
       "      <td>7.2</td>\n",
       "      <td>NaN</td>\n",
       "    </tr>\n",
       "    <tr>\n",
       "      <th>143</th>\n",
       "      <td>St. Kitts &amp; Nevis</td>\n",
       "      <td>194</td>\n",
       "      <td>205</td>\n",
       "      <td>32</td>\n",
       "      <td>7.7</td>\n",
       "      <td>NaN</td>\n",
       "    </tr>\n",
       "    <tr>\n",
       "      <th>144</th>\n",
       "      <td>St. Lucia</td>\n",
       "      <td>171</td>\n",
       "      <td>315</td>\n",
       "      <td>71</td>\n",
       "      <td>10.1</td>\n",
       "      <td>NaN</td>\n",
       "    </tr>\n",
       "    <tr>\n",
       "      <th>145</th>\n",
       "      <td>St. Vincent &amp; the Grenadines</td>\n",
       "      <td>120</td>\n",
       "      <td>221</td>\n",
       "      <td>11</td>\n",
       "      <td>6.3</td>\n",
       "      <td>NaN</td>\n",
       "    </tr>\n",
       "    <tr>\n",
       "      <th>174</th>\n",
       "      <td>Trinidad &amp; Tobago</td>\n",
       "      <td>197</td>\n",
       "      <td>156</td>\n",
       "      <td>7</td>\n",
       "      <td>6.4</td>\n",
       "      <td>NaN</td>\n",
       "    </tr>\n",
       "    <tr>\n",
       "      <th>184</th>\n",
       "      <td>USA</td>\n",
       "      <td>249</td>\n",
       "      <td>158</td>\n",
       "      <td>84</td>\n",
       "      <td>8.7</td>\n",
       "      <td>NaN</td>\n",
       "    </tr>\n",
       "  </tbody>\n",
       "</table>\n",
       "</div>"
      ],
      "text/plain": [
       "                          country  beer_servings  spirit_servings  \\\n",
       "5               Antigua & Barbuda            102              128   \n",
       "11                        Bahamas            122              176   \n",
       "14                       Barbados            143              173   \n",
       "17                         Belize            263              114   \n",
       "32                         Canada            240              122   \n",
       "41                     Costa Rica            149               87   \n",
       "43                           Cuba             93              137   \n",
       "50                       Dominica             52              286   \n",
       "51             Dominican Republic            193              147   \n",
       "54                    El Salvador             52               69   \n",
       "68                        Grenada            199              438   \n",
       "69                      Guatemala             53               69   \n",
       "73                          Haiti              1              326   \n",
       "74                       Honduras             69               98   \n",
       "84                        Jamaica             82               97   \n",
       "109                        Mexico            238               68   \n",
       "122                     Nicaragua             78              118   \n",
       "130                        Panama            285              104   \n",
       "143             St. Kitts & Nevis            194              205   \n",
       "144                     St. Lucia            171              315   \n",
       "145  St. Vincent & the Grenadines            120              221   \n",
       "174             Trinidad & Tobago            197              156   \n",
       "184                           USA            249              158   \n",
       "\n",
       "     wine_servings  total_litres_of_pure_alcohol continent  \n",
       "5               45                           4.9       NaN  \n",
       "11              51                           6.3       NaN  \n",
       "14              36                           6.3       NaN  \n",
       "17               8                           6.8       NaN  \n",
       "32             100                           8.2       NaN  \n",
       "41              11                           4.4       NaN  \n",
       "43               5                           4.2       NaN  \n",
       "50              26                           6.6       NaN  \n",
       "51               9                           6.2       NaN  \n",
       "54               2                           2.2       NaN  \n",
       "68              28                          11.9       NaN  \n",
       "69               2                           2.2       NaN  \n",
       "73               1                           5.9       NaN  \n",
       "74               2                           3.0       NaN  \n",
       "84               9                           3.4       NaN  \n",
       "109              5                           5.5       NaN  \n",
       "122              1                           3.5       NaN  \n",
       "130             18                           7.2       NaN  \n",
       "143             32                           7.7       NaN  \n",
       "144             71                          10.1       NaN  \n",
       "145             11                           6.3       NaN  \n",
       "174              7                           6.4       NaN  \n",
       "184             84                           8.7       NaN  "
      ]
     },
     "execution_count": 9,
     "metadata": {},
     "output_type": "execute_result"
    }
   ],
   "source": [
    "drinks[drinks.isnull().any(axis = 1)]"
   ]
  },
  {
   "cell_type": "markdown",
   "id": "b748e25c-6808-4c3b-a413-f18bbdd77cdd",
   "metadata": {},
   "source": [
    "**c. Xem xét thấy đây đều là các quốc gia ở Bắc Mỹ (continent: NA) nhưng bị hiểu nhầm là NaN, thay thế các giá trị NaN thành 'NA'**"
   ]
  },
  {
   "cell_type": "code",
   "execution_count": 10,
   "id": "69129711-42b4-4b8e-9983-6f07939b9149",
   "metadata": {},
   "outputs": [
    {
     "data": {
      "text/html": [
       "<div>\n",
       "<style scoped>\n",
       "    .dataframe tbody tr th:only-of-type {\n",
       "        vertical-align: middle;\n",
       "    }\n",
       "\n",
       "    .dataframe tbody tr th {\n",
       "        vertical-align: top;\n",
       "    }\n",
       "\n",
       "    .dataframe thead th {\n",
       "        text-align: right;\n",
       "    }\n",
       "</style>\n",
       "<table border=\"1\" class=\"dataframe\">\n",
       "  <thead>\n",
       "    <tr style=\"text-align: right;\">\n",
       "      <th></th>\n",
       "      <th>country</th>\n",
       "      <th>beer_servings</th>\n",
       "      <th>spirit_servings</th>\n",
       "      <th>wine_servings</th>\n",
       "      <th>total_litres_of_pure_alcohol</th>\n",
       "      <th>continent</th>\n",
       "    </tr>\n",
       "  </thead>\n",
       "  <tbody>\n",
       "    <tr>\n",
       "      <th>5</th>\n",
       "      <td>Antigua &amp; Barbuda</td>\n",
       "      <td>102</td>\n",
       "      <td>128</td>\n",
       "      <td>45</td>\n",
       "      <td>4.9</td>\n",
       "      <td>NA</td>\n",
       "    </tr>\n",
       "    <tr>\n",
       "      <th>11</th>\n",
       "      <td>Bahamas</td>\n",
       "      <td>122</td>\n",
       "      <td>176</td>\n",
       "      <td>51</td>\n",
       "      <td>6.3</td>\n",
       "      <td>NA</td>\n",
       "    </tr>\n",
       "    <tr>\n",
       "      <th>14</th>\n",
       "      <td>Barbados</td>\n",
       "      <td>143</td>\n",
       "      <td>173</td>\n",
       "      <td>36</td>\n",
       "      <td>6.3</td>\n",
       "      <td>NA</td>\n",
       "    </tr>\n",
       "    <tr>\n",
       "      <th>17</th>\n",
       "      <td>Belize</td>\n",
       "      <td>263</td>\n",
       "      <td>114</td>\n",
       "      <td>8</td>\n",
       "      <td>6.8</td>\n",
       "      <td>NA</td>\n",
       "    </tr>\n",
       "    <tr>\n",
       "      <th>32</th>\n",
       "      <td>Canada</td>\n",
       "      <td>240</td>\n",
       "      <td>122</td>\n",
       "      <td>100</td>\n",
       "      <td>8.2</td>\n",
       "      <td>NA</td>\n",
       "    </tr>\n",
       "    <tr>\n",
       "      <th>41</th>\n",
       "      <td>Costa Rica</td>\n",
       "      <td>149</td>\n",
       "      <td>87</td>\n",
       "      <td>11</td>\n",
       "      <td>4.4</td>\n",
       "      <td>NA</td>\n",
       "    </tr>\n",
       "    <tr>\n",
       "      <th>43</th>\n",
       "      <td>Cuba</td>\n",
       "      <td>93</td>\n",
       "      <td>137</td>\n",
       "      <td>5</td>\n",
       "      <td>4.2</td>\n",
       "      <td>NA</td>\n",
       "    </tr>\n",
       "    <tr>\n",
       "      <th>50</th>\n",
       "      <td>Dominica</td>\n",
       "      <td>52</td>\n",
       "      <td>286</td>\n",
       "      <td>26</td>\n",
       "      <td>6.6</td>\n",
       "      <td>NA</td>\n",
       "    </tr>\n",
       "    <tr>\n",
       "      <th>51</th>\n",
       "      <td>Dominican Republic</td>\n",
       "      <td>193</td>\n",
       "      <td>147</td>\n",
       "      <td>9</td>\n",
       "      <td>6.2</td>\n",
       "      <td>NA</td>\n",
       "    </tr>\n",
       "    <tr>\n",
       "      <th>54</th>\n",
       "      <td>El Salvador</td>\n",
       "      <td>52</td>\n",
       "      <td>69</td>\n",
       "      <td>2</td>\n",
       "      <td>2.2</td>\n",
       "      <td>NA</td>\n",
       "    </tr>\n",
       "    <tr>\n",
       "      <th>68</th>\n",
       "      <td>Grenada</td>\n",
       "      <td>199</td>\n",
       "      <td>438</td>\n",
       "      <td>28</td>\n",
       "      <td>11.9</td>\n",
       "      <td>NA</td>\n",
       "    </tr>\n",
       "    <tr>\n",
       "      <th>69</th>\n",
       "      <td>Guatemala</td>\n",
       "      <td>53</td>\n",
       "      <td>69</td>\n",
       "      <td>2</td>\n",
       "      <td>2.2</td>\n",
       "      <td>NA</td>\n",
       "    </tr>\n",
       "    <tr>\n",
       "      <th>73</th>\n",
       "      <td>Haiti</td>\n",
       "      <td>1</td>\n",
       "      <td>326</td>\n",
       "      <td>1</td>\n",
       "      <td>5.9</td>\n",
       "      <td>NA</td>\n",
       "    </tr>\n",
       "    <tr>\n",
       "      <th>74</th>\n",
       "      <td>Honduras</td>\n",
       "      <td>69</td>\n",
       "      <td>98</td>\n",
       "      <td>2</td>\n",
       "      <td>3.0</td>\n",
       "      <td>NA</td>\n",
       "    </tr>\n",
       "    <tr>\n",
       "      <th>84</th>\n",
       "      <td>Jamaica</td>\n",
       "      <td>82</td>\n",
       "      <td>97</td>\n",
       "      <td>9</td>\n",
       "      <td>3.4</td>\n",
       "      <td>NA</td>\n",
       "    </tr>\n",
       "    <tr>\n",
       "      <th>109</th>\n",
       "      <td>Mexico</td>\n",
       "      <td>238</td>\n",
       "      <td>68</td>\n",
       "      <td>5</td>\n",
       "      <td>5.5</td>\n",
       "      <td>NA</td>\n",
       "    </tr>\n",
       "    <tr>\n",
       "      <th>122</th>\n",
       "      <td>Nicaragua</td>\n",
       "      <td>78</td>\n",
       "      <td>118</td>\n",
       "      <td>1</td>\n",
       "      <td>3.5</td>\n",
       "      <td>NA</td>\n",
       "    </tr>\n",
       "    <tr>\n",
       "      <th>130</th>\n",
       "      <td>Panama</td>\n",
       "      <td>285</td>\n",
       "      <td>104</td>\n",
       "      <td>18</td>\n",
       "      <td>7.2</td>\n",
       "      <td>NA</td>\n",
       "    </tr>\n",
       "    <tr>\n",
       "      <th>143</th>\n",
       "      <td>St. Kitts &amp; Nevis</td>\n",
       "      <td>194</td>\n",
       "      <td>205</td>\n",
       "      <td>32</td>\n",
       "      <td>7.7</td>\n",
       "      <td>NA</td>\n",
       "    </tr>\n",
       "    <tr>\n",
       "      <th>144</th>\n",
       "      <td>St. Lucia</td>\n",
       "      <td>171</td>\n",
       "      <td>315</td>\n",
       "      <td>71</td>\n",
       "      <td>10.1</td>\n",
       "      <td>NA</td>\n",
       "    </tr>\n",
       "    <tr>\n",
       "      <th>145</th>\n",
       "      <td>St. Vincent &amp; the Grenadines</td>\n",
       "      <td>120</td>\n",
       "      <td>221</td>\n",
       "      <td>11</td>\n",
       "      <td>6.3</td>\n",
       "      <td>NA</td>\n",
       "    </tr>\n",
       "    <tr>\n",
       "      <th>174</th>\n",
       "      <td>Trinidad &amp; Tobago</td>\n",
       "      <td>197</td>\n",
       "      <td>156</td>\n",
       "      <td>7</td>\n",
       "      <td>6.4</td>\n",
       "      <td>NA</td>\n",
       "    </tr>\n",
       "    <tr>\n",
       "      <th>184</th>\n",
       "      <td>USA</td>\n",
       "      <td>249</td>\n",
       "      <td>158</td>\n",
       "      <td>84</td>\n",
       "      <td>8.7</td>\n",
       "      <td>NA</td>\n",
       "    </tr>\n",
       "  </tbody>\n",
       "</table>\n",
       "</div>"
      ],
      "text/plain": [
       "                          country  beer_servings  spirit_servings  \\\n",
       "5               Antigua & Barbuda            102              128   \n",
       "11                        Bahamas            122              176   \n",
       "14                       Barbados            143              173   \n",
       "17                         Belize            263              114   \n",
       "32                         Canada            240              122   \n",
       "41                     Costa Rica            149               87   \n",
       "43                           Cuba             93              137   \n",
       "50                       Dominica             52              286   \n",
       "51             Dominican Republic            193              147   \n",
       "54                    El Salvador             52               69   \n",
       "68                        Grenada            199              438   \n",
       "69                      Guatemala             53               69   \n",
       "73                          Haiti              1              326   \n",
       "74                       Honduras             69               98   \n",
       "84                        Jamaica             82               97   \n",
       "109                        Mexico            238               68   \n",
       "122                     Nicaragua             78              118   \n",
       "130                        Panama            285              104   \n",
       "143             St. Kitts & Nevis            194              205   \n",
       "144                     St. Lucia            171              315   \n",
       "145  St. Vincent & the Grenadines            120              221   \n",
       "174             Trinidad & Tobago            197              156   \n",
       "184                           USA            249              158   \n",
       "\n",
       "     wine_servings  total_litres_of_pure_alcohol continent  \n",
       "5               45                           4.9        NA  \n",
       "11              51                           6.3        NA  \n",
       "14              36                           6.3        NA  \n",
       "17               8                           6.8        NA  \n",
       "32             100                           8.2        NA  \n",
       "41              11                           4.4        NA  \n",
       "43               5                           4.2        NA  \n",
       "50              26                           6.6        NA  \n",
       "51               9                           6.2        NA  \n",
       "54               2                           2.2        NA  \n",
       "68              28                          11.9        NA  \n",
       "69               2                           2.2        NA  \n",
       "73               1                           5.9        NA  \n",
       "74               2                           3.0        NA  \n",
       "84               9                           3.4        NA  \n",
       "109              5                           5.5        NA  \n",
       "122              1                           3.5        NA  \n",
       "130             18                           7.2        NA  \n",
       "143             32                           7.7        NA  \n",
       "144             71                          10.1        NA  \n",
       "145             11                           6.3        NA  \n",
       "174              7                           6.4        NA  \n",
       "184             84                           8.7        NA  "
      ]
     },
     "execution_count": 10,
     "metadata": {},
     "output_type": "execute_result"
    }
   ],
   "source": [
    "drinks.continent = drinks.continent.fillna('NA')\n",
    "drinks[drinks['continent'].str.contains('NA')]"
   ]
  },
  {
   "cell_type": "markdown",
   "id": "6af8459e-823a-45de-b536-4f419b2edfeb",
   "metadata": {},
   "source": [
    "**d. Cho biết số lượng quốc gia ở mỗi châu lục**"
   ]
  },
  {
   "cell_type": "code",
   "execution_count": 11,
   "id": "146e12df-0a94-4938-ad44-86c43a1ea09a",
   "metadata": {},
   "outputs": [
    {
     "data": {
      "text/plain": [
       "continent\n",
       "AF    53\n",
       "AS    44\n",
       "EU    45\n",
       "NA    23\n",
       "OC    16\n",
       "SA    12\n",
       "Name: country, dtype: int64"
      ]
     },
     "execution_count": 11,
     "metadata": {},
     "output_type": "execute_result"
    }
   ],
   "source": [
    "# CÁCH 1:\n",
    "NumberCountriesEachContinent = drinks.groupby('continent').count()\n",
    "NumberCountriesEachContinent['country']"
   ]
  },
  {
   "cell_type": "code",
   "execution_count": 12,
   "id": "05ff8f09-24b2-4643-aed0-bb36d10726e4",
   "metadata": {},
   "outputs": [
    {
     "data": {
      "text/plain": [
       "continent\n",
       "AF    53\n",
       "AS    44\n",
       "EU    45\n",
       "NA    23\n",
       "OC    16\n",
       "SA    12\n",
       "Name: country, dtype: int64"
      ]
     },
     "execution_count": 12,
     "metadata": {},
     "output_type": "execute_result"
    }
   ],
   "source": [
    "# CÁCH 2:\n",
    "drinks.groupby('continent').country.count()"
   ]
  },
  {
   "cell_type": "markdown",
   "id": "03c576ca-8301-4efa-96f9-ee092ee43c48",
   "metadata": {
    "jp-MarkdownHeadingCollapsed": true
   },
   "source": [
    "### Yêu cầu 3"
   ]
  },
  {
   "cell_type": "markdown",
   "id": "4ff9a849-c18b-4413-9d4f-5b559e208d4f",
   "metadata": {},
   "source": [
    "**a. Cho biết số lượng bia tiêu thụ trung bình (mean) ở mỗi châu lục**"
   ]
  },
  {
   "cell_type": "code",
   "execution_count": 13,
   "id": "d874b6bb-6858-4c33-bd52-92729f55ebdd",
   "metadata": {},
   "outputs": [
    {
     "data": {
      "text/plain": [
       "continent\n",
       "AF     61.471698\n",
       "AS     37.045455\n",
       "EU    193.777778\n",
       "NA    145.434783\n",
       "OC     89.687500\n",
       "SA    175.083333\n",
       "Name: beer_servings, dtype: float64"
      ]
     },
     "execution_count": 13,
     "metadata": {},
     "output_type": "execute_result"
    }
   ],
   "source": [
    "BeerServingsEachContinent = drinks.groupby('continent').beer_servings.mean()\n",
    "BeerServingsEachContinent"
   ]
  },
  {
   "cell_type": "markdown",
   "id": "de81feb4-6c04-4b24-b855-8e27e8602d80",
   "metadata": {},
   "source": [
    "**b. Sắp giảm dần theo lượng bia tiêu thụ trung bình ở mỗi châu lục**"
   ]
  },
  {
   "cell_type": "code",
   "execution_count": 14,
   "id": "f9811bec-3286-4bea-9818-d692f12eddf6",
   "metadata": {},
   "outputs": [
    {
     "data": {
      "text/plain": [
       "continent\n",
       "EU    193.777778\n",
       "SA    175.083333\n",
       "NA    145.434783\n",
       "OC     89.687500\n",
       "AF     61.471698\n",
       "AS     37.045455\n",
       "Name: beer_servings, dtype: float64"
      ]
     },
     "execution_count": 14,
     "metadata": {},
     "output_type": "execute_result"
    }
   ],
   "source": [
    "BeerServingsEachContinent.sort_values(ascending = False)"
   ]
  },
  {
   "cell_type": "markdown",
   "id": "f885aee5-74f0-4941-b7e5-17e9dd9b636c",
   "metadata": {
    "jp-MarkdownHeadingCollapsed": true
   },
   "source": [
    "### Yêu cầu 4:"
   ]
  },
  {
   "cell_type": "markdown",
   "id": "c24e661d-eb1b-4451-a5a4-0bbc688c1505",
   "metadata": {},
   "source": [
    "**Cho biết thông tin thống kê tổng quát (describe) số lượng rượu vang được tiêu thụ ở mỗi châu lục**"
   ]
  },
  {
   "cell_type": "code",
   "execution_count": 15,
   "id": "3f3a73ab-4103-4cd8-b84f-10002be534ea",
   "metadata": {},
   "outputs": [
    {
     "data": {
      "text/html": [
       "<div>\n",
       "<style scoped>\n",
       "    .dataframe tbody tr th:only-of-type {\n",
       "        vertical-align: middle;\n",
       "    }\n",
       "\n",
       "    .dataframe tbody tr th {\n",
       "        vertical-align: top;\n",
       "    }\n",
       "\n",
       "    .dataframe thead th {\n",
       "        text-align: right;\n",
       "    }\n",
       "</style>\n",
       "<table border=\"1\" class=\"dataframe\">\n",
       "  <thead>\n",
       "    <tr style=\"text-align: right;\">\n",
       "      <th></th>\n",
       "      <th>count</th>\n",
       "      <th>mean</th>\n",
       "      <th>std</th>\n",
       "      <th>min</th>\n",
       "      <th>25%</th>\n",
       "      <th>50%</th>\n",
       "      <th>75%</th>\n",
       "      <th>max</th>\n",
       "    </tr>\n",
       "    <tr>\n",
       "      <th>continent</th>\n",
       "      <th></th>\n",
       "      <th></th>\n",
       "      <th></th>\n",
       "      <th></th>\n",
       "      <th></th>\n",
       "      <th></th>\n",
       "      <th></th>\n",
       "      <th></th>\n",
       "    </tr>\n",
       "  </thead>\n",
       "  <tbody>\n",
       "    <tr>\n",
       "      <th>AF</th>\n",
       "      <td>53.0</td>\n",
       "      <td>16.264151</td>\n",
       "      <td>38.846419</td>\n",
       "      <td>0.0</td>\n",
       "      <td>1.0</td>\n",
       "      <td>2.0</td>\n",
       "      <td>13.00</td>\n",
       "      <td>233.0</td>\n",
       "    </tr>\n",
       "    <tr>\n",
       "      <th>AS</th>\n",
       "      <td>44.0</td>\n",
       "      <td>9.068182</td>\n",
       "      <td>21.667034</td>\n",
       "      <td>0.0</td>\n",
       "      <td>0.0</td>\n",
       "      <td>1.0</td>\n",
       "      <td>8.00</td>\n",
       "      <td>123.0</td>\n",
       "    </tr>\n",
       "    <tr>\n",
       "      <th>EU</th>\n",
       "      <td>45.0</td>\n",
       "      <td>142.222222</td>\n",
       "      <td>97.421738</td>\n",
       "      <td>0.0</td>\n",
       "      <td>59.0</td>\n",
       "      <td>128.0</td>\n",
       "      <td>195.00</td>\n",
       "      <td>370.0</td>\n",
       "    </tr>\n",
       "    <tr>\n",
       "      <th>NA</th>\n",
       "      <td>23.0</td>\n",
       "      <td>24.521739</td>\n",
       "      <td>28.266378</td>\n",
       "      <td>1.0</td>\n",
       "      <td>5.0</td>\n",
       "      <td>11.0</td>\n",
       "      <td>34.00</td>\n",
       "      <td>100.0</td>\n",
       "    </tr>\n",
       "    <tr>\n",
       "      <th>OC</th>\n",
       "      <td>16.0</td>\n",
       "      <td>35.625000</td>\n",
       "      <td>64.555790</td>\n",
       "      <td>0.0</td>\n",
       "      <td>1.0</td>\n",
       "      <td>8.5</td>\n",
       "      <td>23.25</td>\n",
       "      <td>212.0</td>\n",
       "    </tr>\n",
       "    <tr>\n",
       "      <th>SA</th>\n",
       "      <td>12.0</td>\n",
       "      <td>62.416667</td>\n",
       "      <td>88.620189</td>\n",
       "      <td>1.0</td>\n",
       "      <td>3.0</td>\n",
       "      <td>12.0</td>\n",
       "      <td>98.50</td>\n",
       "      <td>221.0</td>\n",
       "    </tr>\n",
       "  </tbody>\n",
       "</table>\n",
       "</div>"
      ],
      "text/plain": [
       "           count        mean        std  min   25%    50%     75%    max\n",
       "continent                                                               \n",
       "AF          53.0   16.264151  38.846419  0.0   1.0    2.0   13.00  233.0\n",
       "AS          44.0    9.068182  21.667034  0.0   0.0    1.0    8.00  123.0\n",
       "EU          45.0  142.222222  97.421738  0.0  59.0  128.0  195.00  370.0\n",
       "NA          23.0   24.521739  28.266378  1.0   5.0   11.0   34.00  100.0\n",
       "OC          16.0   35.625000  64.555790  0.0   1.0    8.5   23.25  212.0\n",
       "SA          12.0   62.416667  88.620189  1.0   3.0   12.0   98.50  221.0"
      ]
     },
     "execution_count": 15,
     "metadata": {},
     "output_type": "execute_result"
    }
   ],
   "source": [
    "drinks.groupby('continent').wine_servings.describe()"
   ]
  },
  {
   "cell_type": "markdown",
   "id": "2efd21c0-212f-47e9-b220-eaa7cbec0891",
   "metadata": {
    "jp-MarkdownHeadingCollapsed": true
   },
   "source": [
    "### Yêu cầu 5:"
   ]
  },
  {
   "cell_type": "markdown",
   "id": "daefe9f5-5b98-47e3-a118-ddd908cf2c75",
   "metadata": {},
   "source": [
    "**Cho biết số lượng bia và rượu tiêu thụ trung bình (mean) ở mỗi châu lục**"
   ]
  },
  {
   "cell_type": "code",
   "execution_count": 16,
   "id": "e7f2e992-76b5-47ae-ab8b-6aaafde53b7e",
   "metadata": {},
   "outputs": [
    {
     "data": {
      "text/html": [
       "<div>\n",
       "<style scoped>\n",
       "    .dataframe tbody tr th:only-of-type {\n",
       "        vertical-align: middle;\n",
       "    }\n",
       "\n",
       "    .dataframe tbody tr th {\n",
       "        vertical-align: top;\n",
       "    }\n",
       "\n",
       "    .dataframe thead th {\n",
       "        text-align: right;\n",
       "    }\n",
       "</style>\n",
       "<table border=\"1\" class=\"dataframe\">\n",
       "  <thead>\n",
       "    <tr style=\"text-align: right;\">\n",
       "      <th></th>\n",
       "      <th>beer_servings</th>\n",
       "      <th>wine_servings</th>\n",
       "      <th>spirit_servings</th>\n",
       "    </tr>\n",
       "    <tr>\n",
       "      <th>continent</th>\n",
       "      <th></th>\n",
       "      <th></th>\n",
       "      <th></th>\n",
       "    </tr>\n",
       "  </thead>\n",
       "  <tbody>\n",
       "    <tr>\n",
       "      <th>AF</th>\n",
       "      <td>61.471698</td>\n",
       "      <td>16.264151</td>\n",
       "      <td>16.339623</td>\n",
       "    </tr>\n",
       "    <tr>\n",
       "      <th>AS</th>\n",
       "      <td>37.045455</td>\n",
       "      <td>9.068182</td>\n",
       "      <td>60.840909</td>\n",
       "    </tr>\n",
       "    <tr>\n",
       "      <th>EU</th>\n",
       "      <td>193.777778</td>\n",
       "      <td>142.222222</td>\n",
       "      <td>132.555556</td>\n",
       "    </tr>\n",
       "    <tr>\n",
       "      <th>NA</th>\n",
       "      <td>145.434783</td>\n",
       "      <td>24.521739</td>\n",
       "      <td>165.739130</td>\n",
       "    </tr>\n",
       "    <tr>\n",
       "      <th>OC</th>\n",
       "      <td>89.687500</td>\n",
       "      <td>35.625000</td>\n",
       "      <td>58.437500</td>\n",
       "    </tr>\n",
       "    <tr>\n",
       "      <th>SA</th>\n",
       "      <td>175.083333</td>\n",
       "      <td>62.416667</td>\n",
       "      <td>114.750000</td>\n",
       "    </tr>\n",
       "  </tbody>\n",
       "</table>\n",
       "</div>"
      ],
      "text/plain": [
       "           beer_servings  wine_servings  spirit_servings\n",
       "continent                                               \n",
       "AF             61.471698      16.264151        16.339623\n",
       "AS             37.045455       9.068182        60.840909\n",
       "EU            193.777778     142.222222       132.555556\n",
       "NA            145.434783      24.521739       165.739130\n",
       "OC             89.687500      35.625000        58.437500\n",
       "SA            175.083333      62.416667       114.750000"
      ]
     },
     "execution_count": 16,
     "metadata": {},
     "output_type": "execute_result"
    }
   ],
   "source": [
    "drinks.groupby('continent')[['beer_servings', 'wine_servings', 'spirit_servings']].mean()"
   ]
  },
  {
   "cell_type": "markdown",
   "id": "c446bcb1-39e2-4e1a-bca5-b6ec73f3cb57",
   "metadata": {
    "jp-MarkdownHeadingCollapsed": true
   },
   "source": [
    "### Yêu cầu 6:"
   ]
  },
  {
   "cell_type": "markdown",
   "id": "1a917b23-512c-4f3b-8175-f670db7331ea",
   "metadata": {},
   "source": [
    "**Cho biết giá trị trung vị (median) của các loại bia và rượu tiêu thụ ở mỗi châu lục**"
   ]
  },
  {
   "cell_type": "code",
   "execution_count": 17,
   "id": "09af6662-3e44-43b2-94bc-e55fa683811c",
   "metadata": {},
   "outputs": [
    {
     "data": {
      "text/html": [
       "<div>\n",
       "<style scoped>\n",
       "    .dataframe tbody tr th:only-of-type {\n",
       "        vertical-align: middle;\n",
       "    }\n",
       "\n",
       "    .dataframe tbody tr th {\n",
       "        vertical-align: top;\n",
       "    }\n",
       "\n",
       "    .dataframe thead th {\n",
       "        text-align: right;\n",
       "    }\n",
       "</style>\n",
       "<table border=\"1\" class=\"dataframe\">\n",
       "  <thead>\n",
       "    <tr style=\"text-align: right;\">\n",
       "      <th></th>\n",
       "      <th>beer_servings</th>\n",
       "      <th>wine_servings</th>\n",
       "      <th>spirit_servings</th>\n",
       "    </tr>\n",
       "    <tr>\n",
       "      <th>continent</th>\n",
       "      <th></th>\n",
       "      <th></th>\n",
       "      <th></th>\n",
       "    </tr>\n",
       "  </thead>\n",
       "  <tbody>\n",
       "    <tr>\n",
       "      <th>AF</th>\n",
       "      <td>32.0</td>\n",
       "      <td>2.0</td>\n",
       "      <td>3.0</td>\n",
       "    </tr>\n",
       "    <tr>\n",
       "      <th>AS</th>\n",
       "      <td>17.5</td>\n",
       "      <td>1.0</td>\n",
       "      <td>16.0</td>\n",
       "    </tr>\n",
       "    <tr>\n",
       "      <th>EU</th>\n",
       "      <td>219.0</td>\n",
       "      <td>128.0</td>\n",
       "      <td>122.0</td>\n",
       "    </tr>\n",
       "    <tr>\n",
       "      <th>NA</th>\n",
       "      <td>143.0</td>\n",
       "      <td>11.0</td>\n",
       "      <td>137.0</td>\n",
       "    </tr>\n",
       "    <tr>\n",
       "      <th>OC</th>\n",
       "      <td>52.5</td>\n",
       "      <td>8.5</td>\n",
       "      <td>37.0</td>\n",
       "    </tr>\n",
       "    <tr>\n",
       "      <th>SA</th>\n",
       "      <td>162.5</td>\n",
       "      <td>12.0</td>\n",
       "      <td>108.5</td>\n",
       "    </tr>\n",
       "  </tbody>\n",
       "</table>\n",
       "</div>"
      ],
      "text/plain": [
       "           beer_servings  wine_servings  spirit_servings\n",
       "continent                                               \n",
       "AF                  32.0            2.0              3.0\n",
       "AS                  17.5            1.0             16.0\n",
       "EU                 219.0          128.0            122.0\n",
       "NA                 143.0           11.0            137.0\n",
       "OC                  52.5            8.5             37.0\n",
       "SA                 162.5           12.0            108.5"
      ]
     },
     "execution_count": 17,
     "metadata": {},
     "output_type": "execute_result"
    }
   ],
   "source": [
    "drinks.groupby('continent')[['beer_servings', 'wine_servings', 'spirit_servings']].median()"
   ]
  },
  {
   "cell_type": "markdown",
   "id": "680a64fa-41d2-4ceb-b990-64af6b56a25c",
   "metadata": {
    "jp-MarkdownHeadingCollapsed": true
   },
   "source": [
    "### Yêu cầu 7:"
   ]
  },
  {
   "cell_type": "markdown",
   "id": "a0cd5d9e-ea6a-4ef8-80d2-a0787772bc63",
   "metadata": {},
   "source": [
    "**Cho biết số lượng rượu mạnh (spirit_servings) tiêu thụ trung bình, lớn nhất và nhỏ nhất ở mỗi châu lục, chỉ tính ở các quốc gia có tiêu thụ rượu mạnh**"
   ]
  },
  {
   "cell_type": "code",
   "execution_count": 18,
   "id": "b116d147-1976-4460-acb8-fac3026c4812",
   "metadata": {},
   "outputs": [
    {
     "data": {
      "text/html": [
       "<div>\n",
       "<style scoped>\n",
       "    .dataframe tbody tr th:only-of-type {\n",
       "        vertical-align: middle;\n",
       "    }\n",
       "\n",
       "    .dataframe tbody tr th {\n",
       "        vertical-align: top;\n",
       "    }\n",
       "\n",
       "    .dataframe thead th {\n",
       "        text-align: right;\n",
       "    }\n",
       "</style>\n",
       "<table border=\"1\" class=\"dataframe\">\n",
       "  <thead>\n",
       "    <tr style=\"text-align: right;\">\n",
       "      <th></th>\n",
       "      <th>country</th>\n",
       "      <th>beer_servings</th>\n",
       "      <th>spirit_servings</th>\n",
       "      <th>wine_servings</th>\n",
       "      <th>total_litres_of_pure_alcohol</th>\n",
       "      <th>continent</th>\n",
       "    </tr>\n",
       "  </thead>\n",
       "  <tbody>\n",
       "    <tr>\n",
       "      <th>1</th>\n",
       "      <td>Albania</td>\n",
       "      <td>89</td>\n",
       "      <td>132</td>\n",
       "      <td>54</td>\n",
       "      <td>4.9</td>\n",
       "      <td>EU</td>\n",
       "    </tr>\n",
       "    <tr>\n",
       "      <th>3</th>\n",
       "      <td>Andorra</td>\n",
       "      <td>245</td>\n",
       "      <td>138</td>\n",
       "      <td>312</td>\n",
       "      <td>12.4</td>\n",
       "      <td>EU</td>\n",
       "    </tr>\n",
       "    <tr>\n",
       "      <th>4</th>\n",
       "      <td>Angola</td>\n",
       "      <td>217</td>\n",
       "      <td>57</td>\n",
       "      <td>45</td>\n",
       "      <td>5.9</td>\n",
       "      <td>AF</td>\n",
       "    </tr>\n",
       "    <tr>\n",
       "      <th>5</th>\n",
       "      <td>Antigua &amp; Barbuda</td>\n",
       "      <td>102</td>\n",
       "      <td>128</td>\n",
       "      <td>45</td>\n",
       "      <td>4.9</td>\n",
       "      <td>NA</td>\n",
       "    </tr>\n",
       "    <tr>\n",
       "      <th>6</th>\n",
       "      <td>Argentina</td>\n",
       "      <td>193</td>\n",
       "      <td>25</td>\n",
       "      <td>221</td>\n",
       "      <td>8.3</td>\n",
       "      <td>SA</td>\n",
       "    </tr>\n",
       "    <tr>\n",
       "      <th>...</th>\n",
       "      <td>...</td>\n",
       "      <td>...</td>\n",
       "      <td>...</td>\n",
       "      <td>...</td>\n",
       "      <td>...</td>\n",
       "      <td>...</td>\n",
       "    </tr>\n",
       "    <tr>\n",
       "      <th>187</th>\n",
       "      <td>Vanuatu</td>\n",
       "      <td>21</td>\n",
       "      <td>18</td>\n",
       "      <td>11</td>\n",
       "      <td>0.9</td>\n",
       "      <td>OC</td>\n",
       "    </tr>\n",
       "    <tr>\n",
       "      <th>188</th>\n",
       "      <td>Venezuela</td>\n",
       "      <td>333</td>\n",
       "      <td>100</td>\n",
       "      <td>3</td>\n",
       "      <td>7.7</td>\n",
       "      <td>SA</td>\n",
       "    </tr>\n",
       "    <tr>\n",
       "      <th>189</th>\n",
       "      <td>Vietnam</td>\n",
       "      <td>111</td>\n",
       "      <td>2</td>\n",
       "      <td>1</td>\n",
       "      <td>2.0</td>\n",
       "      <td>AS</td>\n",
       "    </tr>\n",
       "    <tr>\n",
       "      <th>191</th>\n",
       "      <td>Zambia</td>\n",
       "      <td>32</td>\n",
       "      <td>19</td>\n",
       "      <td>4</td>\n",
       "      <td>2.5</td>\n",
       "      <td>AF</td>\n",
       "    </tr>\n",
       "    <tr>\n",
       "      <th>192</th>\n",
       "      <td>Zimbabwe</td>\n",
       "      <td>64</td>\n",
       "      <td>18</td>\n",
       "      <td>4</td>\n",
       "      <td>4.7</td>\n",
       "      <td>AF</td>\n",
       "    </tr>\n",
       "  </tbody>\n",
       "</table>\n",
       "<p>170 rows × 6 columns</p>\n",
       "</div>"
      ],
      "text/plain": [
       "               country  beer_servings  spirit_servings  wine_servings  \\\n",
       "1              Albania             89              132             54   \n",
       "3              Andorra            245              138            312   \n",
       "4               Angola            217               57             45   \n",
       "5    Antigua & Barbuda            102              128             45   \n",
       "6            Argentina            193               25            221   \n",
       "..                 ...            ...              ...            ...   \n",
       "187            Vanuatu             21               18             11   \n",
       "188          Venezuela            333              100              3   \n",
       "189            Vietnam            111                2              1   \n",
       "191             Zambia             32               19              4   \n",
       "192           Zimbabwe             64               18              4   \n",
       "\n",
       "     total_litres_of_pure_alcohol continent  \n",
       "1                             4.9        EU  \n",
       "3                            12.4        EU  \n",
       "4                             5.9        AF  \n",
       "5                             4.9        NA  \n",
       "6                             8.3        SA  \n",
       "..                            ...       ...  \n",
       "187                           0.9        OC  \n",
       "188                           7.7        SA  \n",
       "189                           2.0        AS  \n",
       "191                           2.5        AF  \n",
       "192                           4.7        AF  \n",
       "\n",
       "[170 rows x 6 columns]"
      ]
     },
     "execution_count": 18,
     "metadata": {},
     "output_type": "execute_result"
    }
   ],
   "source": [
    "# Những Quốc gia có sử dụng rượu manh\n",
    "CountryThatUseSpirit = drinks[drinks.spirit_servings > 0]\n",
    "CountryThatUseSpirit"
   ]
  },
  {
   "cell_type": "code",
   "execution_count": 19,
   "id": "4574e343-37af-460f-b4be-5838f13a8900",
   "metadata": {},
   "outputs": [
    {
     "data": {
      "text/html": [
       "<div>\n",
       "<style scoped>\n",
       "    .dataframe tbody tr th:only-of-type {\n",
       "        vertical-align: middle;\n",
       "    }\n",
       "\n",
       "    .dataframe tbody tr th {\n",
       "        vertical-align: top;\n",
       "    }\n",
       "\n",
       "    .dataframe thead th {\n",
       "        text-align: right;\n",
       "    }\n",
       "</style>\n",
       "<table border=\"1\" class=\"dataframe\">\n",
       "  <thead>\n",
       "    <tr style=\"text-align: right;\">\n",
       "      <th></th>\n",
       "      <th>mean</th>\n",
       "      <th>min</th>\n",
       "      <th>max</th>\n",
       "    </tr>\n",
       "    <tr>\n",
       "      <th>continent</th>\n",
       "      <th></th>\n",
       "      <th></th>\n",
       "      <th></th>\n",
       "    </tr>\n",
       "  </thead>\n",
       "  <tbody>\n",
       "    <tr>\n",
       "      <th>AF</th>\n",
       "      <td>19.681818</td>\n",
       "      <td>1</td>\n",
       "      <td>152</td>\n",
       "    </tr>\n",
       "    <tr>\n",
       "      <th>AS</th>\n",
       "      <td>78.735294</td>\n",
       "      <td>1</td>\n",
       "      <td>326</td>\n",
       "    </tr>\n",
       "    <tr>\n",
       "      <th>EU</th>\n",
       "      <td>138.720930</td>\n",
       "      <td>27</td>\n",
       "      <td>373</td>\n",
       "    </tr>\n",
       "    <tr>\n",
       "      <th>NA</th>\n",
       "      <td>165.739130</td>\n",
       "      <td>68</td>\n",
       "      <td>438</td>\n",
       "    </tr>\n",
       "    <tr>\n",
       "      <th>OC</th>\n",
       "      <td>66.785714</td>\n",
       "      <td>11</td>\n",
       "      <td>254</td>\n",
       "    </tr>\n",
       "    <tr>\n",
       "      <th>SA</th>\n",
       "      <td>114.750000</td>\n",
       "      <td>25</td>\n",
       "      <td>302</td>\n",
       "    </tr>\n",
       "  </tbody>\n",
       "</table>\n",
       "</div>"
      ],
      "text/plain": [
       "                 mean  min  max\n",
       "continent                      \n",
       "AF          19.681818    1  152\n",
       "AS          78.735294    1  326\n",
       "EU         138.720930   27  373\n",
       "NA         165.739130   68  438\n",
       "OC          66.785714   11  254\n",
       "SA         114.750000   25  302"
      ]
     },
     "execution_count": 19,
     "metadata": {},
     "output_type": "execute_result"
    }
   ],
   "source": [
    "# Số lượng rượu mạnh tiêu thụ trung bình, lớn nhất, nhỏ nhất ở mỗi châu lục (chỉ tính những Quốc gia có sử dụng rượu mạnh)\n",
    "CountryThatUseSpirit.groupby('continent').spirit_servings.agg(['mean', 'min', 'max'])"
   ]
  },
  {
   "cell_type": "code",
   "execution_count": 20,
   "id": "407d398d-deae-4412-9678-8e7af09b2b93",
   "metadata": {},
   "outputs": [
    {
     "data": {
      "text/html": [
       "<div>\n",
       "<style scoped>\n",
       "    .dataframe tbody tr th:only-of-type {\n",
       "        vertical-align: middle;\n",
       "    }\n",
       "\n",
       "    .dataframe tbody tr th {\n",
       "        vertical-align: top;\n",
       "    }\n",
       "\n",
       "    .dataframe thead th {\n",
       "        text-align: right;\n",
       "    }\n",
       "</style>\n",
       "<table border=\"1\" class=\"dataframe\">\n",
       "  <thead>\n",
       "    <tr style=\"text-align: right;\">\n",
       "      <th></th>\n",
       "      <th>mean</th>\n",
       "      <th>min</th>\n",
       "      <th>max</th>\n",
       "    </tr>\n",
       "    <tr>\n",
       "      <th>continent</th>\n",
       "      <th></th>\n",
       "      <th></th>\n",
       "      <th></th>\n",
       "    </tr>\n",
       "  </thead>\n",
       "  <tbody>\n",
       "    <tr>\n",
       "      <th>AF</th>\n",
       "      <td>19.681818</td>\n",
       "      <td>1</td>\n",
       "      <td>152</td>\n",
       "    </tr>\n",
       "    <tr>\n",
       "      <th>AS</th>\n",
       "      <td>78.735294</td>\n",
       "      <td>1</td>\n",
       "      <td>326</td>\n",
       "    </tr>\n",
       "    <tr>\n",
       "      <th>EU</th>\n",
       "      <td>138.720930</td>\n",
       "      <td>27</td>\n",
       "      <td>373</td>\n",
       "    </tr>\n",
       "    <tr>\n",
       "      <th>NA</th>\n",
       "      <td>165.739130</td>\n",
       "      <td>68</td>\n",
       "      <td>438</td>\n",
       "    </tr>\n",
       "    <tr>\n",
       "      <th>OC</th>\n",
       "      <td>66.785714</td>\n",
       "      <td>11</td>\n",
       "      <td>254</td>\n",
       "    </tr>\n",
       "    <tr>\n",
       "      <th>SA</th>\n",
       "      <td>114.750000</td>\n",
       "      <td>25</td>\n",
       "      <td>302</td>\n",
       "    </tr>\n",
       "  </tbody>\n",
       "</table>\n",
       "</div>"
      ],
      "text/plain": [
       "                 mean  min  max\n",
       "continent                      \n",
       "AF          19.681818    1  152\n",
       "AS          78.735294    1  326\n",
       "EU         138.720930   27  373\n",
       "NA         165.739130   68  438\n",
       "OC          66.785714   11  254\n",
       "SA         114.750000   25  302"
      ]
     },
     "execution_count": 20,
     "metadata": {},
     "output_type": "execute_result"
    }
   ],
   "source": [
    "# Cách viết trên 1 dòng code :))\n",
    "drinks[drinks.spirit_servings > 0].groupby('continent').spirit_servings.agg(['mean', 'min', 'max'])"
   ]
  },
  {
   "cell_type": "markdown",
   "id": "719035b5-119c-49a7-bed0-44095aff0e75",
   "metadata": {
    "jp-MarkdownHeadingCollapsed": true
   },
   "source": [
    "### Yêu cầu 8:"
   ]
  },
  {
   "cell_type": "markdown",
   "id": "0eafc90b-859a-41ac-859e-2b4f991338cf",
   "metadata": {},
   "source": [
    "**a. Sắp xếp dữ liệu tăng dần (sort_values) theo số lượng bia tiêu thụ, chỉ tính ở các quốc gia có tiêu thụ bia**"
   ]
  },
  {
   "cell_type": "code",
   "execution_count": 21,
   "id": "a4514a05-9b85-4185-ad4a-9625bdf59888",
   "metadata": {},
   "outputs": [
    {
     "data": {
      "text/html": [
       "<div>\n",
       "<style scoped>\n",
       "    .dataframe tbody tr th:only-of-type {\n",
       "        vertical-align: middle;\n",
       "    }\n",
       "\n",
       "    .dataframe tbody tr th {\n",
       "        vertical-align: top;\n",
       "    }\n",
       "\n",
       "    .dataframe thead th {\n",
       "        text-align: right;\n",
       "    }\n",
       "</style>\n",
       "<table border=\"1\" class=\"dataframe\">\n",
       "  <thead>\n",
       "    <tr style=\"text-align: right;\">\n",
       "      <th></th>\n",
       "      <th>beer_servings</th>\n",
       "    </tr>\n",
       "    <tr>\n",
       "      <th>country</th>\n",
       "      <th></th>\n",
       "    </tr>\n",
       "  </thead>\n",
       "  <tbody>\n",
       "    <tr>\n",
       "      <th>Haiti</th>\n",
       "      <td>1.0</td>\n",
       "    </tr>\n",
       "    <tr>\n",
       "      <th>Qatar</th>\n",
       "      <td>1.0</td>\n",
       "    </tr>\n",
       "    <tr>\n",
       "      <th>Comoros</th>\n",
       "      <td>1.0</td>\n",
       "    </tr>\n",
       "    <tr>\n",
       "      <th>Timor-Leste</th>\n",
       "      <td>1.0</td>\n",
       "    </tr>\n",
       "    <tr>\n",
       "      <th>Tajikistan</th>\n",
       "      <td>2.0</td>\n",
       "    </tr>\n",
       "    <tr>\n",
       "      <th>...</th>\n",
       "      <td>...</td>\n",
       "    </tr>\n",
       "    <tr>\n",
       "      <th>Lithuania</th>\n",
       "      <td>343.0</td>\n",
       "    </tr>\n",
       "    <tr>\n",
       "      <th>Germany</th>\n",
       "      <td>346.0</td>\n",
       "    </tr>\n",
       "    <tr>\n",
       "      <th>Gabon</th>\n",
       "      <td>347.0</td>\n",
       "    </tr>\n",
       "    <tr>\n",
       "      <th>Czech Republic</th>\n",
       "      <td>361.0</td>\n",
       "    </tr>\n",
       "    <tr>\n",
       "      <th>Namibia</th>\n",
       "      <td>376.0</td>\n",
       "    </tr>\n",
       "  </tbody>\n",
       "</table>\n",
       "<p>178 rows × 1 columns</p>\n",
       "</div>"
      ],
      "text/plain": [
       "                beer_servings\n",
       "country                      \n",
       "Haiti                     1.0\n",
       "Qatar                     1.0\n",
       "Comoros                   1.0\n",
       "Timor-Leste               1.0\n",
       "Tajikistan                2.0\n",
       "...                       ...\n",
       "Lithuania               343.0\n",
       "Germany                 346.0\n",
       "Gabon                   347.0\n",
       "Czech Republic          361.0\n",
       "Namibia                 376.0\n",
       "\n",
       "[178 rows x 1 columns]"
      ]
     },
     "execution_count": 21,
     "metadata": {},
     "output_type": "execute_result"
    }
   ],
   "source": [
    "BeerServings = pd.DataFrame(drinks[drinks.beer_servings > 0].groupby('country').beer_servings.mean().sort_values())\n",
    "BeerServings"
   ]
  },
  {
   "cell_type": "markdown",
   "id": "9e8f7a9a-00b1-4650-9fe7-05a8a78a8ea4",
   "metadata": {},
   "source": [
    "**b. Cho biết 5 quốc gia có lượng tiêu thụ bia ít nhất**"
   ]
  },
  {
   "cell_type": "code",
   "execution_count": 22,
   "id": "3f7a664d-6476-4999-8016-0cde2c3b5d62",
   "metadata": {},
   "outputs": [
    {
     "data": {
      "text/html": [
       "<div>\n",
       "<style scoped>\n",
       "    .dataframe tbody tr th:only-of-type {\n",
       "        vertical-align: middle;\n",
       "    }\n",
       "\n",
       "    .dataframe tbody tr th {\n",
       "        vertical-align: top;\n",
       "    }\n",
       "\n",
       "    .dataframe thead th {\n",
       "        text-align: right;\n",
       "    }\n",
       "</style>\n",
       "<table border=\"1\" class=\"dataframe\">\n",
       "  <thead>\n",
       "    <tr style=\"text-align: right;\">\n",
       "      <th></th>\n",
       "      <th>beer_servings</th>\n",
       "    </tr>\n",
       "    <tr>\n",
       "      <th>country</th>\n",
       "      <th></th>\n",
       "    </tr>\n",
       "  </thead>\n",
       "  <tbody>\n",
       "    <tr>\n",
       "      <th>Haiti</th>\n",
       "      <td>1.0</td>\n",
       "    </tr>\n",
       "    <tr>\n",
       "      <th>Qatar</th>\n",
       "      <td>1.0</td>\n",
       "    </tr>\n",
       "    <tr>\n",
       "      <th>Comoros</th>\n",
       "      <td>1.0</td>\n",
       "    </tr>\n",
       "    <tr>\n",
       "      <th>Timor-Leste</th>\n",
       "      <td>1.0</td>\n",
       "    </tr>\n",
       "    <tr>\n",
       "      <th>Tajikistan</th>\n",
       "      <td>2.0</td>\n",
       "    </tr>\n",
       "  </tbody>\n",
       "</table>\n",
       "</div>"
      ],
      "text/plain": [
       "             beer_servings\n",
       "country                   \n",
       "Haiti                  1.0\n",
       "Qatar                  1.0\n",
       "Comoros                1.0\n",
       "Timor-Leste            1.0\n",
       "Tajikistan             2.0"
      ]
     },
     "execution_count": 22,
     "metadata": {},
     "output_type": "execute_result"
    }
   ],
   "source": [
    "BeerServings.head()"
   ]
  },
  {
   "cell_type": "markdown",
   "id": "a8b45b57-3f56-4639-a37b-ee336b298f33",
   "metadata": {},
   "source": [
    "**c. Cho biết 5 quốc gia có lượng tiêu thụ bia lớn nhất**"
   ]
  },
  {
   "cell_type": "code",
   "execution_count": 23,
   "id": "e997cc94-0873-4eb1-a23b-0c4b04842dc8",
   "metadata": {},
   "outputs": [
    {
     "data": {
      "text/html": [
       "<div>\n",
       "<style scoped>\n",
       "    .dataframe tbody tr th:only-of-type {\n",
       "        vertical-align: middle;\n",
       "    }\n",
       "\n",
       "    .dataframe tbody tr th {\n",
       "        vertical-align: top;\n",
       "    }\n",
       "\n",
       "    .dataframe thead th {\n",
       "        text-align: right;\n",
       "    }\n",
       "</style>\n",
       "<table border=\"1\" class=\"dataframe\">\n",
       "  <thead>\n",
       "    <tr style=\"text-align: right;\">\n",
       "      <th></th>\n",
       "      <th>beer_servings</th>\n",
       "    </tr>\n",
       "    <tr>\n",
       "      <th>country</th>\n",
       "      <th></th>\n",
       "    </tr>\n",
       "  </thead>\n",
       "  <tbody>\n",
       "    <tr>\n",
       "      <th>Lithuania</th>\n",
       "      <td>343.0</td>\n",
       "    </tr>\n",
       "    <tr>\n",
       "      <th>Germany</th>\n",
       "      <td>346.0</td>\n",
       "    </tr>\n",
       "    <tr>\n",
       "      <th>Gabon</th>\n",
       "      <td>347.0</td>\n",
       "    </tr>\n",
       "    <tr>\n",
       "      <th>Czech Republic</th>\n",
       "      <td>361.0</td>\n",
       "    </tr>\n",
       "    <tr>\n",
       "      <th>Namibia</th>\n",
       "      <td>376.0</td>\n",
       "    </tr>\n",
       "  </tbody>\n",
       "</table>\n",
       "</div>"
      ],
      "text/plain": [
       "                beer_servings\n",
       "country                      \n",
       "Lithuania               343.0\n",
       "Germany                 346.0\n",
       "Gabon                   347.0\n",
       "Czech Republic          361.0\n",
       "Namibia                 376.0"
      ]
     },
     "execution_count": 23,
     "metadata": {},
     "output_type": "execute_result"
    }
   ],
   "source": [
    "BeerServings.tail()"
   ]
  },
  {
   "cell_type": "markdown",
   "id": "d66d1e34-1075-40ea-ad04-47feede39574",
   "metadata": {},
   "source": [
    "**d. Vẽ biểu đồ Bar với 5 quốc gia có lượng tiêu thụ bia lớn nhất**"
   ]
  },
  {
   "cell_type": "code",
   "execution_count": 24,
   "id": "403b98e5-e495-47e8-9d9d-83801d7b57e0",
   "metadata": {},
   "outputs": [
    {
     "data": {
      "image/png": "[encoded data removed]",
      "text/plain": [
       "<Figure size 640x480 with 1 Axes>"
      ]
     },
     "metadata": {},
     "output_type": "display_data"
    }
   ],
   "source": [
    "BeerServings.tail().plot.bar();"
   ]
  },
  {
   "cell_type": "markdown",
   "id": "09a9c78e-e526-4c67-8d1e-49f44a1d7106",
   "metadata": {
    "jp-MarkdownHeadingCollapsed": true
   },
   "source": [
    "### Yêu cầu 9:"
   ]
  },
  {
   "cell_type": "markdown",
   "id": "36aed793-17ed-4d8f-858b-1525cb9f5237",
   "metadata": {},
   "source": [
    "**Cho biết 5 quốc gia ở Châu Á có lượng tiêu thụ bia ít nhất**"
   ]
  },
  {
   "cell_type": "code",
   "execution_count": 25,
   "id": "3de137f3-02d7-4418-8134-21eefd0b4d12",
   "metadata": {},
   "outputs": [
    {
     "data": {
      "text/html": [
       "<div>\n",
       "<style scoped>\n",
       "    .dataframe tbody tr th:only-of-type {\n",
       "        vertical-align: middle;\n",
       "    }\n",
       "\n",
       "    .dataframe tbody tr th {\n",
       "        vertical-align: top;\n",
       "    }\n",
       "\n",
       "    .dataframe thead th {\n",
       "        text-align: right;\n",
       "    }\n",
       "</style>\n",
       "<table border=\"1\" class=\"dataframe\">\n",
       "  <thead>\n",
       "    <tr style=\"text-align: right;\">\n",
       "      <th></th>\n",
       "      <th>country</th>\n",
       "      <th>beer_servings</th>\n",
       "      <th>spirit_servings</th>\n",
       "      <th>wine_servings</th>\n",
       "      <th>total_litres_of_pure_alcohol</th>\n",
       "      <th>continent</th>\n",
       "    </tr>\n",
       "  </thead>\n",
       "  <tbody>\n",
       "    <tr>\n",
       "      <th>137</th>\n",
       "      <td>Qatar</td>\n",
       "      <td>1</td>\n",
       "      <td>42</td>\n",
       "      <td>7</td>\n",
       "      <td>0.9</td>\n",
       "      <td>AS</td>\n",
       "    </tr>\n",
       "    <tr>\n",
       "      <th>171</th>\n",
       "      <td>Timor-Leste</td>\n",
       "      <td>1</td>\n",
       "      <td>1</td>\n",
       "      <td>4</td>\n",
       "      <td>0.1</td>\n",
       "      <td>AS</td>\n",
       "    </tr>\n",
       "    <tr>\n",
       "      <th>168</th>\n",
       "      <td>Tajikistan</td>\n",
       "      <td>2</td>\n",
       "      <td>15</td>\n",
       "      <td>0</td>\n",
       "      <td>0.3</td>\n",
       "      <td>AS</td>\n",
       "    </tr>\n",
       "    <tr>\n",
       "      <th>167</th>\n",
       "      <td>Syria</td>\n",
       "      <td>5</td>\n",
       "      <td>35</td>\n",
       "      <td>16</td>\n",
       "      <td>1.0</td>\n",
       "      <td>AS</td>\n",
       "    </tr>\n",
       "    <tr>\n",
       "      <th>119</th>\n",
       "      <td>Nepal</td>\n",
       "      <td>5</td>\n",
       "      <td>6</td>\n",
       "      <td>0</td>\n",
       "      <td>0.2</td>\n",
       "      <td>AS</td>\n",
       "    </tr>\n",
       "  </tbody>\n",
       "</table>\n",
       "</div>"
      ],
      "text/plain": [
       "         country  beer_servings  spirit_servings  wine_servings  \\\n",
       "137        Qatar              1               42              7   \n",
       "171  Timor-Leste              1                1              4   \n",
       "168   Tajikistan              2               15              0   \n",
       "167        Syria              5               35             16   \n",
       "119        Nepal              5                6              0   \n",
       "\n",
       "     total_litres_of_pure_alcohol continent  \n",
       "137                           0.9        AS  \n",
       "171                           0.1        AS  \n",
       "168                           0.3        AS  \n",
       "167                           1.0        AS  \n",
       "119                           0.2        AS  "
      ]
     },
     "execution_count": 25,
     "metadata": {},
     "output_type": "execute_result"
    }
   ],
   "source": [
    "# Hiện tất cả các cột\n",
    "CountriesInAsian = drinks[drinks.continent.str.contains('AS')].sort_values(by = 'beer_servings')\n",
    "CountriesInAsian[CountriesInAsian.beer_servings > 0].head()"
   ]
  },
  {
   "cell_type": "code",
   "execution_count": 26,
   "id": "f4a13dd2-7365-4996-8fb4-eb324ebacce2",
   "metadata": {},
   "outputs": [
    {
     "data": {
      "text/html": [
       "<div>\n",
       "<style scoped>\n",
       "    .dataframe tbody tr th:only-of-type {\n",
       "        vertical-align: middle;\n",
       "    }\n",
       "\n",
       "    .dataframe tbody tr th {\n",
       "        vertical-align: top;\n",
       "    }\n",
       "\n",
       "    .dataframe thead th {\n",
       "        text-align: right;\n",
       "    }\n",
       "</style>\n",
       "<table border=\"1\" class=\"dataframe\">\n",
       "  <thead>\n",
       "    <tr style=\"text-align: right;\">\n",
       "      <th></th>\n",
       "      <th>country</th>\n",
       "      <th>beer_servings</th>\n",
       "    </tr>\n",
       "  </thead>\n",
       "  <tbody>\n",
       "    <tr>\n",
       "      <th>137</th>\n",
       "      <td>Qatar</td>\n",
       "      <td>1</td>\n",
       "    </tr>\n",
       "    <tr>\n",
       "      <th>171</th>\n",
       "      <td>Timor-Leste</td>\n",
       "      <td>1</td>\n",
       "    </tr>\n",
       "    <tr>\n",
       "      <th>168</th>\n",
       "      <td>Tajikistan</td>\n",
       "      <td>2</td>\n",
       "    </tr>\n",
       "    <tr>\n",
       "      <th>167</th>\n",
       "      <td>Syria</td>\n",
       "      <td>5</td>\n",
       "    </tr>\n",
       "    <tr>\n",
       "      <th>119</th>\n",
       "      <td>Nepal</td>\n",
       "      <td>5</td>\n",
       "    </tr>\n",
       "  </tbody>\n",
       "</table>\n",
       "</div>"
      ],
      "text/plain": [
       "         country  beer_servings\n",
       "137        Qatar              1\n",
       "171  Timor-Leste              1\n",
       "168   Tajikistan              2\n",
       "167        Syria              5\n",
       "119        Nepal              5"
      ]
     },
     "execution_count": 26,
     "metadata": {},
     "output_type": "execute_result"
    }
   ],
   "source": [
    "# Chỉ hiện cột 'Country' và 'beer_servings'\n",
    "CountriesInAsian = drinks[drinks.continent.str.contains('AS')].sort_values(by = 'beer_servings')\n",
    "CountriesInAsian[CountriesInAsian.beer_servings > 0][['country', 'beer_servings']].head()"
   ]
  },
  {
   "cell_type": "markdown",
   "id": "3170539f-af6d-4c08-88fd-9cbd35388331",
   "metadata": {
    "jp-MarkdownHeadingCollapsed": true
   },
   "source": [
    "# CHAPTER 7 - EXERCISE 2: CHIPOTLE"
   ]
  },
  {
   "cell_type": "markdown",
   "id": "36007ddc-7212-41a4-8454-861e5b85c55a",
   "metadata": {
    "jp-MarkdownHeadingCollapsed": true
   },
   "source": [
    "## Ghi chú về dữ liệu:\n",
    "\n",
    "**Nhà hàng Chipotle cần phân tích dữ liệu bán được trong ngày diễn ra khuyến mãi để có thể điều chỉnh thực đơn và thực hiện các chương trình khuyến mãi phù hợp.**\n",
    "\n",
    "_Dữ liệu được cung cấp trong file chipotle.tsv, hãy thực hiện các yêu cầu sau:_"
   ]
  },
  {
   "cell_type": "code",
   "execution_count": 27,
   "id": "bb511091-8565-45f3-984a-01d30e399713",
   "metadata": {},
   "outputs": [],
   "source": [
    "import pandas as pd\n",
    "import numpy as np\n",
    "import warnings\n",
    "warnings.filterwarnings('ignore')"
   ]
  },
  {
   "cell_type": "markdown",
   "id": "5c101c18-3b49-4675-9c1d-7d4279364ae3",
   "metadata": {
    "jp-MarkdownHeadingCollapsed": true
   },
   "source": [
    "### Yêu cầu 1: Đọc và xem thông tin dữ liệu"
   ]
  },
  {
   "cell_type": "markdown",
   "id": "3f788474-a49c-4915-bdf9-40a7ff85f07a",
   "metadata": {},
   "source": [
    "**a. Đọc tập tin chipotle.tsv vào dataframe chipo**"
   ]
  },
  {
   "cell_type": "code",
   "execution_count": 28,
   "id": "719c9255-9fe7-4225-9c83-da7ebb91907f",
   "metadata": {},
   "outputs": [],
   "source": [
    "chipotle = pd.read_csv('data7/data/chipotle.tsv', sep='\\t')"
   ]
  },
  {
   "cell_type": "markdown",
   "id": "67cfc199-b6de-48a7-b8a8-08ad18df73a2",
   "metadata": {},
   "source": [
    "**b. Xem thông tin dữ liệu**"
   ]
  },
  {
   "cell_type": "code",
   "execution_count": 29,
   "id": "95319a10-ee11-4150-bcde-ebcce4e48823",
   "metadata": {},
   "outputs": [
    {
     "data": {
      "text/html": [
       "<div>\n",
       "<style scoped>\n",
       "    .dataframe tbody tr th:only-of-type {\n",
       "        vertical-align: middle;\n",
       "    }\n",
       "\n",
       "    .dataframe tbody tr th {\n",
       "        vertical-align: top;\n",
       "    }\n",
       "\n",
       "    .dataframe thead th {\n",
       "        text-align: right;\n",
       "    }\n",
       "</style>\n",
       "<table border=\"1\" class=\"dataframe\">\n",
       "  <thead>\n",
       "    <tr style=\"text-align: right;\">\n",
       "      <th></th>\n",
       "      <th>order_id</th>\n",
       "      <th>quantity</th>\n",
       "      <th>item_name</th>\n",
       "      <th>choice_description</th>\n",
       "      <th>item_price</th>\n",
       "    </tr>\n",
       "  </thead>\n",
       "  <tbody>\n",
       "    <tr>\n",
       "      <th>0</th>\n",
       "      <td>1</td>\n",
       "      <td>1</td>\n",
       "      <td>Chips and Fresh Tomato Salsa</td>\n",
       "      <td>NaN</td>\n",
       "      <td>$2.39</td>\n",
       "    </tr>\n",
       "    <tr>\n",
       "      <th>1</th>\n",
       "      <td>1</td>\n",
       "      <td>1</td>\n",
       "      <td>Izze</td>\n",
       "      <td>[Clementine]</td>\n",
       "      <td>$3.39</td>\n",
       "    </tr>\n",
       "    <tr>\n",
       "      <th>2</th>\n",
       "      <td>1</td>\n",
       "      <td>1</td>\n",
       "      <td>Nantucket Nectar</td>\n",
       "      <td>[Apple]</td>\n",
       "      <td>$3.39</td>\n",
       "    </tr>\n",
       "    <tr>\n",
       "      <th>3</th>\n",
       "      <td>1</td>\n",
       "      <td>1</td>\n",
       "      <td>Chips and Tomatillo-Green Chili Salsa</td>\n",
       "      <td>NaN</td>\n",
       "      <td>$2.39</td>\n",
       "    </tr>\n",
       "    <tr>\n",
       "      <th>4</th>\n",
       "      <td>2</td>\n",
       "      <td>2</td>\n",
       "      <td>Chicken Bowl</td>\n",
       "      <td>[Tomatillo-Red Chili Salsa (Hot), [Black Beans...</td>\n",
       "      <td>$16.98</td>\n",
       "    </tr>\n",
       "  </tbody>\n",
       "</table>\n",
       "</div>"
      ],
      "text/plain": [
       "   order_id  quantity                              item_name  \\\n",
       "0         1         1           Chips and Fresh Tomato Salsa   \n",
       "1         1         1                                   Izze   \n",
       "2         1         1                       Nantucket Nectar   \n",
       "3         1         1  Chips and Tomatillo-Green Chili Salsa   \n",
       "4         2         2                           Chicken Bowl   \n",
       "\n",
       "                                  choice_description item_price  \n",
       "0                                                NaN     $2.39   \n",
       "1                                       [Clementine]     $3.39   \n",
       "2                                            [Apple]     $3.39   \n",
       "3                                                NaN     $2.39   \n",
       "4  [Tomatillo-Red Chili Salsa (Hot), [Black Beans...    $16.98   "
      ]
     },
     "execution_count": 29,
     "metadata": {},
     "output_type": "execute_result"
    }
   ],
   "source": [
    "chipotle.head()"
   ]
  },
  {
   "cell_type": "code",
   "execution_count": 30,
   "id": "2e15a274-177a-4f1c-a045-041aea42b96d",
   "metadata": {},
   "outputs": [
    {
     "data": {
      "text/html": [
       "<div>\n",
       "<style scoped>\n",
       "    .dataframe tbody tr th:only-of-type {\n",
       "        vertical-align: middle;\n",
       "    }\n",
       "\n",
       "    .dataframe tbody tr th {\n",
       "        vertical-align: top;\n",
       "    }\n",
       "\n",
       "    .dataframe thead th {\n",
       "        text-align: right;\n",
       "    }\n",
       "</style>\n",
       "<table border=\"1\" class=\"dataframe\">\n",
       "  <thead>\n",
       "    <tr style=\"text-align: right;\">\n",
       "      <th></th>\n",
       "      <th>order_id</th>\n",
       "      <th>quantity</th>\n",
       "      <th>item_name</th>\n",
       "      <th>choice_description</th>\n",
       "      <th>item_price</th>\n",
       "    </tr>\n",
       "  </thead>\n",
       "  <tbody>\n",
       "    <tr>\n",
       "      <th>4617</th>\n",
       "      <td>1833</td>\n",
       "      <td>1</td>\n",
       "      <td>Steak Burrito</td>\n",
       "      <td>[Fresh Tomato Salsa, [Rice, Black Beans, Sour ...</td>\n",
       "      <td>$11.75</td>\n",
       "    </tr>\n",
       "    <tr>\n",
       "      <th>4618</th>\n",
       "      <td>1833</td>\n",
       "      <td>1</td>\n",
       "      <td>Steak Burrito</td>\n",
       "      <td>[Fresh Tomato Salsa, [Rice, Sour Cream, Cheese...</td>\n",
       "      <td>$11.75</td>\n",
       "    </tr>\n",
       "    <tr>\n",
       "      <th>4619</th>\n",
       "      <td>1834</td>\n",
       "      <td>1</td>\n",
       "      <td>Chicken Salad Bowl</td>\n",
       "      <td>[Fresh Tomato Salsa, [Fajita Vegetables, Pinto...</td>\n",
       "      <td>$11.25</td>\n",
       "    </tr>\n",
       "    <tr>\n",
       "      <th>4620</th>\n",
       "      <td>1834</td>\n",
       "      <td>1</td>\n",
       "      <td>Chicken Salad Bowl</td>\n",
       "      <td>[Fresh Tomato Salsa, [Fajita Vegetables, Lettu...</td>\n",
       "      <td>$8.75</td>\n",
       "    </tr>\n",
       "    <tr>\n",
       "      <th>4621</th>\n",
       "      <td>1834</td>\n",
       "      <td>1</td>\n",
       "      <td>Chicken Salad Bowl</td>\n",
       "      <td>[Fresh Tomato Salsa, [Fajita Vegetables, Pinto...</td>\n",
       "      <td>$8.75</td>\n",
       "    </tr>\n",
       "  </tbody>\n",
       "</table>\n",
       "</div>"
      ],
      "text/plain": [
       "      order_id  quantity           item_name  \\\n",
       "4617      1833         1       Steak Burrito   \n",
       "4618      1833         1       Steak Burrito   \n",
       "4619      1834         1  Chicken Salad Bowl   \n",
       "4620      1834         1  Chicken Salad Bowl   \n",
       "4621      1834         1  Chicken Salad Bowl   \n",
       "\n",
       "                                     choice_description item_price  \n",
       "4617  [Fresh Tomato Salsa, [Rice, Black Beans, Sour ...    $11.75   \n",
       "4618  [Fresh Tomato Salsa, [Rice, Sour Cream, Cheese...    $11.75   \n",
       "4619  [Fresh Tomato Salsa, [Fajita Vegetables, Pinto...    $11.25   \n",
       "4620  [Fresh Tomato Salsa, [Fajita Vegetables, Lettu...     $8.75   \n",
       "4621  [Fresh Tomato Salsa, [Fajita Vegetables, Pinto...     $8.75   "
      ]
     },
     "execution_count": 30,
     "metadata": {},
     "output_type": "execute_result"
    }
   ],
   "source": [
    "chipotle.tail()"
   ]
  },
  {
   "cell_type": "code",
   "execution_count": 31,
   "id": "f316cd21-52d0-4344-bd67-5a557473f3fe",
   "metadata": {},
   "outputs": [
    {
     "name": "stdout",
     "output_type": "stream",
     "text": [
      "<class 'pandas.core.frame.DataFrame'>\n",
      "RangeIndex: 4622 entries, 0 to 4621\n",
      "Data columns (total 5 columns):\n",
      " #   Column              Non-Null Count  Dtype \n",
      "---  ------              --------------  ----- \n",
      " 0   order_id            4622 non-null   int64 \n",
      " 1   quantity            4622 non-null   int64 \n",
      " 2   item_name           4622 non-null   object\n",
      " 3   choice_description  3376 non-null   object\n",
      " 4   item_price          4622 non-null   object\n",
      "dtypes: int64(2), object(3)\n",
      "memory usage: 180.7+ KB\n"
     ]
    }
   ],
   "source": [
    "chipotle.info()"
   ]
  },
  {
   "cell_type": "markdown",
   "id": "fe9cd098-c8dd-4461-b776-4807a02ef034",
   "metadata": {
    "jp-MarkdownHeadingCollapsed": true
   },
   "source": [
    "### Yêu cầu 2: Xử lý giá trị NULL"
   ]
  },
  {
   "cell_type": "markdown",
   "id": "53d4975e-44f2-498b-bdd2-d0af199bec65",
   "metadata": {},
   "source": [
    "**a. Cho biết số lượng NULL xuất hiện trong chipo**"
   ]
  },
  {
   "cell_type": "code",
   "execution_count": 32,
   "id": "252b0f30-64bf-4b49-9e69-b0f7e82b54a6",
   "metadata": {},
   "outputs": [
    {
     "data": {
      "text/plain": [
       "order_id                 0\n",
       "quantity                 0\n",
       "item_name                0\n",
       "choice_description    1246\n",
       "item_price               0\n",
       "dtype: int64"
      ]
     },
     "execution_count": 32,
     "metadata": {},
     "output_type": "execute_result"
    }
   ],
   "source": [
    "NULLcount = chipotle.isnull().sum()\n",
    "NULLcount"
   ]
  },
  {
   "cell_type": "markdown",
   "id": "fcca3e41-d582-4a9f-8bb7-12d6e0ce0595",
   "metadata": {},
   "source": [
    "**b. Cột 'choice_description' có số lượng NULL lớn và không được sử dụng để phân tích. Do đó, xóa cột 'choice_description' ra khỏi chipo**"
   ]
  },
  {
   "cell_type": "code",
   "execution_count": 33,
   "id": "b8d9ade8-dede-4ba3-9721-a7cfe3370c34",
   "metadata": {},
   "outputs": [],
   "source": [
    "chipotle.drop(['choice_description'], axis = 1, inplace = True)"
   ]
  },
  {
   "cell_type": "markdown",
   "id": "38d74840-0dae-41e3-8329-5d2d255400db",
   "metadata": {
    "jp-MarkdownHeadingCollapsed": true
   },
   "source": [
    "### Yêu cầu 3: Xử lý dữ liệu"
   ]
  },
  {
   "cell_type": "markdown",
   "id": "025df5da-5087-490c-b3ca-714f53826c39",
   "metadata": {},
   "source": [
    "**a. Chuyển kiểu cột item_price sang kiểu float**"
   ]
  },
  {
   "cell_type": "code",
   "execution_count": 34,
   "id": "bda261a9-9739-444d-aa2b-0a31d1516ae8",
   "metadata": {},
   "outputs": [],
   "source": [
    "chipotle['item_price'] = chipotle['item_price'].str.replace('$', '').astype(float)"
   ]
  },
  {
   "cell_type": "markdown",
   "id": "69f410e3-9d03-4ee2-9aea-d9e689508d91",
   "metadata": {},
   "source": [
    "**b. Tạo thêm cột 'revenue', với revenue = quantity*item_price**"
   ]
  },
  {
   "cell_type": "code",
   "execution_count": 35,
   "id": "ee3da51c-d3f9-44a6-ad41-78c8259556b0",
   "metadata": {},
   "outputs": [
    {
     "data": {
      "text/html": [
       "<div>\n",
       "<style scoped>\n",
       "    .dataframe tbody tr th:only-of-type {\n",
       "        vertical-align: middle;\n",
       "    }\n",
       "\n",
       "    .dataframe tbody tr th {\n",
       "        vertical-align: top;\n",
       "    }\n",
       "\n",
       "    .dataframe thead th {\n",
       "        text-align: right;\n",
       "    }\n",
       "</style>\n",
       "<table border=\"1\" class=\"dataframe\">\n",
       "  <thead>\n",
       "    <tr style=\"text-align: right;\">\n",
       "      <th></th>\n",
       "      <th>order_id</th>\n",
       "      <th>quantity</th>\n",
       "      <th>item_name</th>\n",
       "      <th>item_price</th>\n",
       "      <th>revenue</th>\n",
       "    </tr>\n",
       "  </thead>\n",
       "  <tbody>\n",
       "    <tr>\n",
       "      <th>0</th>\n",
       "      <td>1</td>\n",
       "      <td>1</td>\n",
       "      <td>Chips and Fresh Tomato Salsa</td>\n",
       "      <td>2.39</td>\n",
       "      <td>2.39</td>\n",
       "    </tr>\n",
       "    <tr>\n",
       "      <th>1</th>\n",
       "      <td>1</td>\n",
       "      <td>1</td>\n",
       "      <td>Izze</td>\n",
       "      <td>3.39</td>\n",
       "      <td>3.39</td>\n",
       "    </tr>\n",
       "    <tr>\n",
       "      <th>2</th>\n",
       "      <td>1</td>\n",
       "      <td>1</td>\n",
       "      <td>Nantucket Nectar</td>\n",
       "      <td>3.39</td>\n",
       "      <td>3.39</td>\n",
       "    </tr>\n",
       "    <tr>\n",
       "      <th>3</th>\n",
       "      <td>1</td>\n",
       "      <td>1</td>\n",
       "      <td>Chips and Tomatillo-Green Chili Salsa</td>\n",
       "      <td>2.39</td>\n",
       "      <td>2.39</td>\n",
       "    </tr>\n",
       "    <tr>\n",
       "      <th>4</th>\n",
       "      <td>2</td>\n",
       "      <td>2</td>\n",
       "      <td>Chicken Bowl</td>\n",
       "      <td>16.98</td>\n",
       "      <td>33.96</td>\n",
       "    </tr>\n",
       "  </tbody>\n",
       "</table>\n",
       "</div>"
      ],
      "text/plain": [
       "   order_id  quantity                              item_name  item_price  \\\n",
       "0         1         1           Chips and Fresh Tomato Salsa        2.39   \n",
       "1         1         1                                   Izze        3.39   \n",
       "2         1         1                       Nantucket Nectar        3.39   \n",
       "3         1         1  Chips and Tomatillo-Green Chili Salsa        2.39   \n",
       "4         2         2                           Chicken Bowl       16.98   \n",
       "\n",
       "   revenue  \n",
       "0     2.39  \n",
       "1     3.39  \n",
       "2     3.39  \n",
       "3     2.39  \n",
       "4    33.96  "
      ]
     },
     "execution_count": 35,
     "metadata": {},
     "output_type": "execute_result"
    }
   ],
   "source": [
    "chipotle['revenue'] = chipotle['quantity']*chipotle['item_price']\n",
    "chipotle.head()"
   ]
  },
  {
   "cell_type": "markdown",
   "id": "efe8d891-efa9-4ef1-9ad9-ae6aad219189",
   "metadata": {
    "jp-MarkdownHeadingCollapsed": true
   },
   "source": [
    "### Yêu cầu 4: Thống kê"
   ]
  },
  {
   "cell_type": "markdown",
   "id": "c3f209f2-2796-42e3-80a5-0ebeadd74d4d",
   "metadata": {},
   "source": [
    "**a. Thống kê đếm số món ăn trong mỗi đơn đặt hàng, sắp giảm dần theo đếm, in 5 dòng đầu tiên**"
   ]
  },
  {
   "cell_type": "code",
   "execution_count": 36,
   "id": "893fc8d3-8e7c-4450-b492-339d623a8f07",
   "metadata": {},
   "outputs": [
    {
     "data": {
      "text/html": [
       "<div>\n",
       "<style scoped>\n",
       "    .dataframe tbody tr th:only-of-type {\n",
       "        vertical-align: middle;\n",
       "    }\n",
       "\n",
       "    .dataframe tbody tr th {\n",
       "        vertical-align: top;\n",
       "    }\n",
       "\n",
       "    .dataframe thead th {\n",
       "        text-align: right;\n",
       "    }\n",
       "</style>\n",
       "<table border=\"1\" class=\"dataframe\">\n",
       "  <thead>\n",
       "    <tr style=\"text-align: right;\">\n",
       "      <th></th>\n",
       "      <th>quantity</th>\n",
       "    </tr>\n",
       "    <tr>\n",
       "      <th>order_id</th>\n",
       "      <th></th>\n",
       "    </tr>\n",
       "  </thead>\n",
       "  <tbody>\n",
       "    <tr>\n",
       "      <th>926</th>\n",
       "      <td>23</td>\n",
       "    </tr>\n",
       "    <tr>\n",
       "      <th>1483</th>\n",
       "      <td>14</td>\n",
       "    </tr>\n",
       "    <tr>\n",
       "      <th>205</th>\n",
       "      <td>12</td>\n",
       "    </tr>\n",
       "    <tr>\n",
       "      <th>759</th>\n",
       "      <td>11</td>\n",
       "    </tr>\n",
       "    <tr>\n",
       "      <th>1786</th>\n",
       "      <td>11</td>\n",
       "    </tr>\n",
       "  </tbody>\n",
       "</table>\n",
       "</div>"
      ],
      "text/plain": [
       "          quantity\n",
       "order_id          \n",
       "926             23\n",
       "1483            14\n",
       "205             12\n",
       "759             11\n",
       "1786            11"
      ]
     },
     "execution_count": 36,
     "metadata": {},
     "output_type": "execute_result"
    }
   ],
   "source": [
    "Stat = chipotle.groupby('order_id')['quantity'].count()\n",
    "pd.DataFrame(Stat.sort_values(ascending = False).head())"
   ]
  },
  {
   "cell_type": "markdown",
   "id": "cc3e70e7-8a19-4978-8c3a-17c04822e81d",
   "metadata": {},
   "source": [
    "**b. Thống kê chung (describe) cho 3 cột: 'quantity','item_price','revenue'**"
   ]
  },
  {
   "cell_type": "code",
   "execution_count": 37,
   "id": "7e5aaa70-97cb-42df-8d35-6c90277a6a64",
   "metadata": {},
   "outputs": [
    {
     "data": {
      "text/html": [
       "<div>\n",
       "<style scoped>\n",
       "    .dataframe tbody tr th:only-of-type {\n",
       "        vertical-align: middle;\n",
       "    }\n",
       "\n",
       "    .dataframe tbody tr th {\n",
       "        vertical-align: top;\n",
       "    }\n",
       "\n",
       "    .dataframe thead th {\n",
       "        text-align: right;\n",
       "    }\n",
       "</style>\n",
       "<table border=\"1\" class=\"dataframe\">\n",
       "  <thead>\n",
       "    <tr style=\"text-align: right;\">\n",
       "      <th></th>\n",
       "      <th>quantity</th>\n",
       "      <th>item_price</th>\n",
       "      <th>revenue</th>\n",
       "    </tr>\n",
       "  </thead>\n",
       "  <tbody>\n",
       "    <tr>\n",
       "      <th>count</th>\n",
       "      <td>4622.000000</td>\n",
       "      <td>4622.000000</td>\n",
       "      <td>4622.000000</td>\n",
       "    </tr>\n",
       "    <tr>\n",
       "      <th>mean</th>\n",
       "      <td>1.075725</td>\n",
       "      <td>7.464336</td>\n",
       "      <td>8.489186</td>\n",
       "    </tr>\n",
       "    <tr>\n",
       "      <th>std</th>\n",
       "      <td>0.410186</td>\n",
       "      <td>4.245557</td>\n",
       "      <td>12.632060</td>\n",
       "    </tr>\n",
       "    <tr>\n",
       "      <th>min</th>\n",
       "      <td>1.000000</td>\n",
       "      <td>1.090000</td>\n",
       "      <td>1.090000</td>\n",
       "    </tr>\n",
       "    <tr>\n",
       "      <th>25%</th>\n",
       "      <td>1.000000</td>\n",
       "      <td>3.390000</td>\n",
       "      <td>3.990000</td>\n",
       "    </tr>\n",
       "    <tr>\n",
       "      <th>50%</th>\n",
       "      <td>1.000000</td>\n",
       "      <td>8.750000</td>\n",
       "      <td>8.750000</td>\n",
       "    </tr>\n",
       "    <tr>\n",
       "      <th>75%</th>\n",
       "      <td>1.000000</td>\n",
       "      <td>9.250000</td>\n",
       "      <td>10.980000</td>\n",
       "    </tr>\n",
       "    <tr>\n",
       "      <th>max</th>\n",
       "      <td>15.000000</td>\n",
       "      <td>44.250000</td>\n",
       "      <td>663.750000</td>\n",
       "    </tr>\n",
       "  </tbody>\n",
       "</table>\n",
       "</div>"
      ],
      "text/plain": [
       "          quantity   item_price      revenue\n",
       "count  4622.000000  4622.000000  4622.000000\n",
       "mean      1.075725     7.464336     8.489186\n",
       "std       0.410186     4.245557    12.632060\n",
       "min       1.000000     1.090000     1.090000\n",
       "25%       1.000000     3.390000     3.990000\n",
       "50%       1.000000     8.750000     8.750000\n",
       "75%       1.000000     9.250000    10.980000\n",
       "max      15.000000    44.250000   663.750000"
      ]
     },
     "execution_count": 37,
     "metadata": {},
     "output_type": "execute_result"
    }
   ],
   "source": [
    "chipotle[['quantity', 'item_price', 'revenue']].describe()"
   ]
  },
  {
   "cell_type": "markdown",
   "id": "47a9c322-0b68-4ea4-b6e5-4df2b5fe6ef5",
   "metadata": {},
   "source": [
    "**c. Thống kê chung cột revenue nhóm theo item_name. In 5 dòng đầu tiên**"
   ]
  },
  {
   "cell_type": "code",
   "execution_count": 38,
   "id": "f285cd0b-e066-4004-873b-19a3a8a2b4c7",
   "metadata": {},
   "outputs": [
    {
     "data": {
      "text/html": [
       "<div>\n",
       "<style scoped>\n",
       "    .dataframe tbody tr th:only-of-type {\n",
       "        vertical-align: middle;\n",
       "    }\n",
       "\n",
       "    .dataframe tbody tr th {\n",
       "        vertical-align: top;\n",
       "    }\n",
       "\n",
       "    .dataframe thead th {\n",
       "        text-align: right;\n",
       "    }\n",
       "</style>\n",
       "<table border=\"1\" class=\"dataframe\">\n",
       "  <thead>\n",
       "    <tr style=\"text-align: right;\">\n",
       "      <th></th>\n",
       "      <th>count</th>\n",
       "      <th>mean</th>\n",
       "      <th>std</th>\n",
       "      <th>min</th>\n",
       "      <th>25%</th>\n",
       "      <th>50%</th>\n",
       "      <th>75%</th>\n",
       "      <th>max</th>\n",
       "    </tr>\n",
       "    <tr>\n",
       "      <th>item_name</th>\n",
       "      <th></th>\n",
       "      <th></th>\n",
       "      <th></th>\n",
       "      <th></th>\n",
       "      <th></th>\n",
       "      <th></th>\n",
       "      <th></th>\n",
       "      <th></th>\n",
       "    </tr>\n",
       "  </thead>\n",
       "  <tbody>\n",
       "    <tr>\n",
       "      <th>6 Pack Soft Drink</th>\n",
       "      <td>54.0</td>\n",
       "      <td>6.850556</td>\n",
       "      <td>2.649531</td>\n",
       "      <td>6.49</td>\n",
       "      <td>6.49</td>\n",
       "      <td>6.49</td>\n",
       "      <td>6.49</td>\n",
       "      <td>25.96</td>\n",
       "    </tr>\n",
       "    <tr>\n",
       "      <th>Barbacoa Bowl</th>\n",
       "      <td>66.0</td>\n",
       "      <td>10.187273</td>\n",
       "      <td>1.260994</td>\n",
       "      <td>8.69</td>\n",
       "      <td>9.25</td>\n",
       "      <td>9.25</td>\n",
       "      <td>11.75</td>\n",
       "      <td>11.75</td>\n",
       "    </tr>\n",
       "    <tr>\n",
       "      <th>Barbacoa Burrito</th>\n",
       "      <td>91.0</td>\n",
       "      <td>9.832418</td>\n",
       "      <td>1.139519</td>\n",
       "      <td>8.69</td>\n",
       "      <td>9.25</td>\n",
       "      <td>9.25</td>\n",
       "      <td>11.28</td>\n",
       "      <td>11.75</td>\n",
       "    </tr>\n",
       "    <tr>\n",
       "      <th>Barbacoa Crispy Tacos</th>\n",
       "      <td>11.0</td>\n",
       "      <td>12.610000</td>\n",
       "      <td>8.183734</td>\n",
       "      <td>8.99</td>\n",
       "      <td>9.25</td>\n",
       "      <td>9.25</td>\n",
       "      <td>11.75</td>\n",
       "      <td>37.00</td>\n",
       "    </tr>\n",
       "    <tr>\n",
       "      <th>Barbacoa Salad Bowl</th>\n",
       "      <td>10.0</td>\n",
       "      <td>10.640000</td>\n",
       "      <td>1.317616</td>\n",
       "      <td>9.39</td>\n",
       "      <td>9.39</td>\n",
       "      <td>10.64</td>\n",
       "      <td>11.89</td>\n",
       "      <td>11.89</td>\n",
       "    </tr>\n",
       "  </tbody>\n",
       "</table>\n",
       "</div>"
      ],
      "text/plain": [
       "                       count       mean       std   min   25%    50%    75%  \\\n",
       "item_name                                                                     \n",
       "6 Pack Soft Drink       54.0   6.850556  2.649531  6.49  6.49   6.49   6.49   \n",
       "Barbacoa Bowl           66.0  10.187273  1.260994  8.69  9.25   9.25  11.75   \n",
       "Barbacoa Burrito        91.0   9.832418  1.139519  8.69  9.25   9.25  11.28   \n",
       "Barbacoa Crispy Tacos   11.0  12.610000  8.183734  8.99  9.25   9.25  11.75   \n",
       "Barbacoa Salad Bowl     10.0  10.640000  1.317616  9.39  9.39  10.64  11.89   \n",
       "\n",
       "                         max  \n",
       "item_name                     \n",
       "6 Pack Soft Drink      25.96  \n",
       "Barbacoa Bowl          11.75  \n",
       "Barbacoa Burrito       11.75  \n",
       "Barbacoa Crispy Tacos  37.00  \n",
       "Barbacoa Salad Bowl    11.89  "
      ]
     },
     "execution_count": 38,
     "metadata": {},
     "output_type": "execute_result"
    }
   ],
   "source": [
    "chipotle.groupby('item_name').revenue.describe().head()"
   ]
  },
  {
   "cell_type": "markdown",
   "id": "3c25e483-b22b-4cee-ab8d-875b772b3835",
   "metadata": {},
   "source": [
    "**d. Cho biết tổng thành tiền của mỗi hóa đơn. In 5 hóa đơn đầu tiên**"
   ]
  },
  {
   "cell_type": "code",
   "execution_count": 39,
   "id": "9c85effa-5451-436d-a721-51b160c8a3a9",
   "metadata": {},
   "outputs": [
    {
     "data": {
      "text/html": [
       "<div>\n",
       "<style scoped>\n",
       "    .dataframe tbody tr th:only-of-type {\n",
       "        vertical-align: middle;\n",
       "    }\n",
       "\n",
       "    .dataframe tbody tr th {\n",
       "        vertical-align: top;\n",
       "    }\n",
       "\n",
       "    .dataframe thead th {\n",
       "        text-align: right;\n",
       "    }\n",
       "</style>\n",
       "<table border=\"1\" class=\"dataframe\">\n",
       "  <thead>\n",
       "    <tr style=\"text-align: right;\">\n",
       "      <th></th>\n",
       "      <th>revenue</th>\n",
       "    </tr>\n",
       "    <tr>\n",
       "      <th>order_id</th>\n",
       "      <th></th>\n",
       "    </tr>\n",
       "  </thead>\n",
       "  <tbody>\n",
       "    <tr>\n",
       "      <th>1</th>\n",
       "      <td>11.56</td>\n",
       "    </tr>\n",
       "    <tr>\n",
       "      <th>2</th>\n",
       "      <td>33.96</td>\n",
       "    </tr>\n",
       "    <tr>\n",
       "      <th>3</th>\n",
       "      <td>12.67</td>\n",
       "    </tr>\n",
       "    <tr>\n",
       "      <th>4</th>\n",
       "      <td>21.00</td>\n",
       "    </tr>\n",
       "    <tr>\n",
       "      <th>5</th>\n",
       "      <td>13.70</td>\n",
       "    </tr>\n",
       "  </tbody>\n",
       "</table>\n",
       "</div>"
      ],
      "text/plain": [
       "          revenue\n",
       "order_id         \n",
       "1           11.56\n",
       "2           33.96\n",
       "3           12.67\n",
       "4           21.00\n",
       "5           13.70"
      ]
     },
     "execution_count": 39,
     "metadata": {},
     "output_type": "execute_result"
    }
   ],
   "source": [
    "InvoiceByOrderID = chipotle.groupby('order_id').revenue.sum()\n",
    "pd.DataFrame(InvoiceByOrderID.head())"
   ]
  },
  {
   "cell_type": "markdown",
   "id": "dc165eb3-a584-4ce1-8336-bd48851e1cf1",
   "metadata": {},
   "source": [
    "**e. Cho biết 5 hóa đơn có tổng thành tiền lớn nhất**"
   ]
  },
  {
   "cell_type": "code",
   "execution_count": 40,
   "id": "336d5960-0030-4266-b9b1-f3daf1363947",
   "metadata": {},
   "outputs": [
    {
     "data": {
      "text/html": [
       "<div>\n",
       "<style scoped>\n",
       "    .dataframe tbody tr th:only-of-type {\n",
       "        vertical-align: middle;\n",
       "    }\n",
       "\n",
       "    .dataframe tbody tr th {\n",
       "        vertical-align: top;\n",
       "    }\n",
       "\n",
       "    .dataframe thead th {\n",
       "        text-align: right;\n",
       "    }\n",
       "</style>\n",
       "<table border=\"1\" class=\"dataframe\">\n",
       "  <thead>\n",
       "    <tr style=\"text-align: right;\">\n",
       "      <th></th>\n",
       "      <th>revenue</th>\n",
       "    </tr>\n",
       "    <tr>\n",
       "      <th>order_id</th>\n",
       "      <th></th>\n",
       "    </tr>\n",
       "  </thead>\n",
       "  <tbody>\n",
       "    <tr>\n",
       "      <th>1443</th>\n",
       "      <td>1074.24</td>\n",
       "    </tr>\n",
       "    <tr>\n",
       "      <th>511</th>\n",
       "      <td>315.29</td>\n",
       "    </tr>\n",
       "    <tr>\n",
       "      <th>1559</th>\n",
       "      <td>246.00</td>\n",
       "    </tr>\n",
       "    <tr>\n",
       "      <th>1660</th>\n",
       "      <td>222.75</td>\n",
       "    </tr>\n",
       "    <tr>\n",
       "      <th>926</th>\n",
       "      <td>205.25</td>\n",
       "    </tr>\n",
       "  </tbody>\n",
       "</table>\n",
       "</div>"
      ],
      "text/plain": [
       "          revenue\n",
       "order_id         \n",
       "1443      1074.24\n",
       "511        315.29\n",
       "1559       246.00\n",
       "1660       222.75\n",
       "926        205.25"
      ]
     },
     "execution_count": 40,
     "metadata": {},
     "output_type": "execute_result"
    }
   ],
   "source": [
    "pd.DataFrame(InvoiceByOrderID.sort_values(ascending = False).head())"
   ]
  },
  {
   "cell_type": "markdown",
   "id": "7b41dbb0-b533-4992-846f-ec92339528b3",
   "metadata": {},
   "source": [
    "**f. Cho biết 5 món ăn có tổng thành tiền lớn nhất. Vẽ biểu đồ Bar**"
   ]
  },
  {
   "cell_type": "code",
   "execution_count": 41,
   "id": "6ffb5770-9bdf-4645-b3ab-cef0ddd054b4",
   "metadata": {},
   "outputs": [
    {
     "data": {
      "image/png": "[encoded data removed]",
      "text/plain": [
       "<Figure size 640x480 with 1 Axes>"
      ]
     },
     "metadata": {},
     "output_type": "display_data"
    }
   ],
   "source": [
    "Top5_ItemName_ByRevenue = chipotle.groupby('item_name').revenue.sum().sort_values(ascending = False).head()\n",
    "Top5_ItemName_ByRevenue\n",
    "Top5_ItemName_ByRevenue.plot.bar();"
   ]
  },
  {
   "cell_type": "markdown",
   "id": "067fc996-19a3-4c8a-9bb4-78d9d21b8ab6",
   "metadata": {},
   "source": [
    "**g. Cho biết 5 món ăn được đặt nhiều nhất. Vẽ biểu đồ Bar**"
   ]
  },
  {
   "cell_type": "code",
   "execution_count": 42,
   "id": "c3f8416b-1e89-4c2e-a8f2-32e3eae6b955",
   "metadata": {},
   "outputs": [
    {
     "data": {
      "image/png": "[encoded data removed]",
      "text/plain": [
       "<Figure size 640x480 with 1 Axes>"
      ]
     },
     "metadata": {},
     "output_type": "display_data"
    }
   ],
   "source": [
    "Top5_ItemName_ByQuantity = chipotle.groupby('item_name').quantity.sum().sort_values(ascending = False).head()\n",
    "Top5_ItemName_ByQuantity\n",
    "Top5_ItemName_ByQuantity.plot.bar();"
   ]
  },
  {
   "cell_type": "markdown",
   "id": "a53cca74-fd80-4d38-86bc-e20453767a11",
   "metadata": {},
   "source": [
    "**h. Cho biết tổng doanh thu trong ngày**"
   ]
  },
  {
   "cell_type": "code",
   "execution_count": 43,
   "id": "f7e53540-a10c-468b-a687-2d569477876a",
   "metadata": {},
   "outputs": [
    {
     "data": {
      "text/plain": [
       "39237.02"
      ]
     },
     "execution_count": 43,
     "metadata": {},
     "output_type": "execute_result"
    }
   ],
   "source": [
    "SumRevenue = chipotle.revenue.sum()\n",
    "SumRevenue"
   ]
  },
  {
   "cell_type": "markdown",
   "id": "858b98de-8725-4ec4-9b4f-09c40ee9dd70",
   "metadata": {},
   "source": [
    "**i. Cho biết món ăn nào được đặt nhiều nhất**"
   ]
  },
  {
   "cell_type": "code",
   "execution_count": 44,
   "id": "c91e6e2b-9a24-4f49-a629-a3a7919e9479",
   "metadata": {},
   "outputs": [
    {
     "data": {
      "text/html": [
       "<div>\n",
       "<style scoped>\n",
       "    .dataframe tbody tr th:only-of-type {\n",
       "        vertical-align: middle;\n",
       "    }\n",
       "\n",
       "    .dataframe tbody tr th {\n",
       "        vertical-align: top;\n",
       "    }\n",
       "\n",
       "    .dataframe thead th {\n",
       "        text-align: right;\n",
       "    }\n",
       "</style>\n",
       "<table border=\"1\" class=\"dataframe\">\n",
       "  <thead>\n",
       "    <tr style=\"text-align: right;\">\n",
       "      <th></th>\n",
       "      <th>quantity</th>\n",
       "    </tr>\n",
       "    <tr>\n",
       "      <th>item_name</th>\n",
       "      <th></th>\n",
       "    </tr>\n",
       "  </thead>\n",
       "  <tbody>\n",
       "    <tr>\n",
       "      <th>Chicken Bowl</th>\n",
       "      <td>761</td>\n",
       "    </tr>\n",
       "  </tbody>\n",
       "</table>\n",
       "</div>"
      ],
      "text/plain": [
       "              quantity\n",
       "item_name             \n",
       "Chicken Bowl       761"
      ]
     },
     "execution_count": 44,
     "metadata": {},
     "output_type": "execute_result"
    }
   ],
   "source": [
    "Mode_ItemName = chipotle.groupby('item_name').quantity.sum().sort_values(ascending = False).head(1)\n",
    "pd.DataFrame(Mode_ItemName)"
   ]
  },
  {
   "cell_type": "markdown",
   "id": "47720c00-be63-4c1b-984f-f0861d7b34c1",
   "metadata": {},
   "source": [
    "**j. Cho biết thành tiền nhỏ nhất, lớn nhất và trung bình của các hóa đơn**"
   ]
  },
  {
   "cell_type": "code",
   "execution_count": 45,
   "id": "27e5218a-b46b-4632-a3bf-55c7cec23b22",
   "metadata": {},
   "outputs": [
    {
     "data": {
      "text/html": [
       "<div>\n",
       "<style scoped>\n",
       "    .dataframe tbody tr th:only-of-type {\n",
       "        vertical-align: middle;\n",
       "    }\n",
       "\n",
       "    .dataframe tbody tr th {\n",
       "        vertical-align: top;\n",
       "    }\n",
       "\n",
       "    .dataframe thead th {\n",
       "        text-align: right;\n",
       "    }\n",
       "</style>\n",
       "<table border=\"1\" class=\"dataframe\">\n",
       "  <thead>\n",
       "    <tr style=\"text-align: right;\">\n",
       "      <th></th>\n",
       "      <th>revenue</th>\n",
       "    </tr>\n",
       "  </thead>\n",
       "  <tbody>\n",
       "    <tr>\n",
       "      <th>max</th>\n",
       "      <td>1074.240000</td>\n",
       "    </tr>\n",
       "    <tr>\n",
       "      <th>min</th>\n",
       "      <td>10.080000</td>\n",
       "    </tr>\n",
       "    <tr>\n",
       "      <th>mean</th>\n",
       "      <td>21.394231</td>\n",
       "    </tr>\n",
       "  </tbody>\n",
       "</table>\n",
       "</div>"
      ],
      "text/plain": [
       "          revenue\n",
       "max   1074.240000\n",
       "min     10.080000\n",
       "mean    21.394231"
      ]
     },
     "execution_count": 45,
     "metadata": {},
     "output_type": "execute_result"
    }
   ],
   "source": [
    "RevenueMaxMinMean = chipotle.groupby('order_id').revenue.sum().agg(['max', 'min', 'mean'])\n",
    "pd.DataFrame(RevenueMaxMinMean)"
   ]
  },
  {
   "cell_type": "markdown",
   "id": "c11c9887-5803-4d27-8dab-4fd072f5ad55",
   "metadata": {},
   "source": [
    "**k. Biểu đồ barh thể hiện giá trung bình của 5 món ăn được đặt nhiều nhất**"
   ]
  },
  {
   "cell_type": "code",
   "execution_count": 46,
   "id": "e4ec536a-d9f5-41ad-abdb-79c190a1394f",
   "metadata": {},
   "outputs": [
    {
     "data": {
      "text/plain": [
       "Index(['Chicken Bowl', 'Chicken Burrito', 'Chips and Guacamole',\n",
       "       'Steak Burrito', 'Canned Soft Drink'],\n",
       "      dtype='object', name='item_name')"
      ]
     },
     "execution_count": 46,
     "metadata": {},
     "output_type": "execute_result"
    }
   ],
   "source": [
    "Top5_ItemName_ByQuantity.index"
   ]
  },
  {
   "cell_type": "code",
   "execution_count": 47,
   "id": "676aa939-774a-4364-bfd0-59c4659ac24c",
   "metadata": {},
   "outputs": [
    {
     "data": {
      "image/png": "[encoded data removed]",
      "text/plain": [
       "<Figure size 640x480 with 1 Axes>"
      ]
     },
     "metadata": {},
     "output_type": "display_data"
    }
   ],
   "source": [
    "Top5_MeanItemPrice_OfItemName_ByQuantity = chipotle[chipotle.item_name.isin(Top5_ItemName_ByQuantity.index)]\\\n",
    "                                                                      .groupby('item_name').item_price.mean()\\\n",
    "                                                                      .sort_values()\n",
    "Top5_MeanItemPrice_OfItemName_ByQuantity.plot.barh();"
   ]
  },
  {
   "cell_type": "markdown",
   "id": "5b754011-c76c-424c-8ca9-3528d7f2bf0c",
   "metadata": {},
   "source": [
    "**l. Biểu đồ barh thể hiện trung bình revenue của 5 món ăn được đặt nhiều nhất**"
   ]
  },
  {
   "cell_type": "code",
   "execution_count": 48,
   "id": "5a342506-90f6-488e-888a-429e3b9963f9",
   "metadata": {},
   "outputs": [
    {
     "data": {
      "text/plain": [
       "<Axes: ylabel='item_name'>"
      ]
     },
     "execution_count": 48,
     "metadata": {},
     "output_type": "execute_result"
    },
    {
     "data": {
      "image/png": "[encoded data removed]",
      "text/plain": [
       "<Figure size 640x480 with 1 Axes>"
      ]
     },
     "metadata": {},
     "output_type": "display_data"
    }
   ],
   "source": [
    "Top5_MeanRevenue_OfItemName_ByQuantity = chipotle[chipotle.item_name.isin(Top5_ItemName_ByQuantity.index)]\\\n",
    "                                                                    .groupby('item_name').revenue.mean()\\\n",
    "                                                                    .sort_values()\n",
    "Top5_MeanRevenue_OfItemName_ByQuantity.plot.barh()"
   ]
  },
  {
   "cell_type": "markdown",
   "id": "c8a2d1cd-b061-41e4-8c08-26878fe3c403",
   "metadata": {},
   "source": [
    "**m. Nhóm các đơn hàng theo order_id, và tính tổng số lượng gọi và tổng giá trị của mỗi đơn hàng**"
   ]
  },
  {
   "cell_type": "code",
   "execution_count": 49,
   "id": "07240f70-7e4a-44bd-a978-95cb93f5f161",
   "metadata": {},
   "outputs": [
    {
     "data": {
      "text/html": [
       "<div>\n",
       "<style scoped>\n",
       "    .dataframe tbody tr th:only-of-type {\n",
       "        vertical-align: middle;\n",
       "    }\n",
       "\n",
       "    .dataframe tbody tr th {\n",
       "        vertical-align: top;\n",
       "    }\n",
       "\n",
       "    .dataframe thead th {\n",
       "        text-align: right;\n",
       "    }\n",
       "</style>\n",
       "<table border=\"1\" class=\"dataframe\">\n",
       "  <thead>\n",
       "    <tr style=\"text-align: right;\">\n",
       "      <th></th>\n",
       "      <th>quantity</th>\n",
       "      <th>revenue</th>\n",
       "    </tr>\n",
       "    <tr>\n",
       "      <th>order_id</th>\n",
       "      <th></th>\n",
       "      <th></th>\n",
       "    </tr>\n",
       "  </thead>\n",
       "  <tbody>\n",
       "    <tr>\n",
       "      <th>1</th>\n",
       "      <td>4</td>\n",
       "      <td>11.56</td>\n",
       "    </tr>\n",
       "    <tr>\n",
       "      <th>2</th>\n",
       "      <td>2</td>\n",
       "      <td>33.96</td>\n",
       "    </tr>\n",
       "    <tr>\n",
       "      <th>3</th>\n",
       "      <td>2</td>\n",
       "      <td>12.67</td>\n",
       "    </tr>\n",
       "    <tr>\n",
       "      <th>4</th>\n",
       "      <td>2</td>\n",
       "      <td>21.00</td>\n",
       "    </tr>\n",
       "    <tr>\n",
       "      <th>5</th>\n",
       "      <td>2</td>\n",
       "      <td>13.70</td>\n",
       "    </tr>\n",
       "    <tr>\n",
       "      <th>...</th>\n",
       "      <td>...</td>\n",
       "      <td>...</td>\n",
       "    </tr>\n",
       "    <tr>\n",
       "      <th>1830</th>\n",
       "      <td>2</td>\n",
       "      <td>23.00</td>\n",
       "    </tr>\n",
       "    <tr>\n",
       "      <th>1831</th>\n",
       "      <td>3</td>\n",
       "      <td>12.90</td>\n",
       "    </tr>\n",
       "    <tr>\n",
       "      <th>1832</th>\n",
       "      <td>2</td>\n",
       "      <td>13.20</td>\n",
       "    </tr>\n",
       "    <tr>\n",
       "      <th>1833</th>\n",
       "      <td>2</td>\n",
       "      <td>23.50</td>\n",
       "    </tr>\n",
       "    <tr>\n",
       "      <th>1834</th>\n",
       "      <td>3</td>\n",
       "      <td>28.75</td>\n",
       "    </tr>\n",
       "  </tbody>\n",
       "</table>\n",
       "<p>1834 rows × 2 columns</p>\n",
       "</div>"
      ],
      "text/plain": [
       "          quantity  revenue\n",
       "order_id                   \n",
       "1                4    11.56\n",
       "2                2    33.96\n",
       "3                2    12.67\n",
       "4                2    21.00\n",
       "5                2    13.70\n",
       "...            ...      ...\n",
       "1830             2    23.00\n",
       "1831             3    12.90\n",
       "1832             2    13.20\n",
       "1833             2    23.50\n",
       "1834             3    28.75\n",
       "\n",
       "[1834 rows x 2 columns]"
      ]
     },
     "execution_count": 49,
     "metadata": {},
     "output_type": "execute_result"
    }
   ],
   "source": [
    "QuantityAndRevenue_EachOrder = chipotle.groupby('order_id')[['quantity','revenue']].sum()\n",
    "QuantityAndRevenue_EachOrder"
   ]
  },
  {
   "cell_type": "markdown",
   "id": "c2b07caf-d6c2-45de-bfd2-04b57ccf39b7",
   "metadata": {},
   "source": [
    "**n. Vẽ biểu đồ scatter thể hiện tương quan giữa revenue và quantity của mỗi đơn hàng**"
   ]
  },
  {
   "cell_type": "markdown",
   "id": "55e4bb50-a5ad-4d02-9153-90402fcdc0cc",
   "metadata": {},
   "source": [
    "**Ghi chú:** _**logx = True** trong phương thức scatter() của Matplotlib được sử dụng để thiết lập trục hoành (trục x) của biểu đồ theo độ logarithm. Khi **logx = True**, đồ thị sẽ sử dụng độ logarithm cho các giá trị trên trục hoành, điều này có thể giúp hiển thị dữ liệu có phạm vi rộng hơn một cách dễ nhìn và phân tích._\n",
    "\n",
    "_Trong trường hợp của bạn, khi bạn đặt **logx = True**, trục hoành (trục x) của biểu đồ sẽ sử dụng độ logarithm, nghĩa là các giá trị trên trục này sẽ được hiển thị dưới dạng logarithm, giúp làm nổi bật những giá trị nhỏ và giảm độ phân tách giữa các giá trị lớn._"
   ]
  },
  {
   "cell_type": "code",
   "execution_count": 50,
   "id": "48860ee0-6c59-44b7-ada5-6db22b6217c5",
   "metadata": {},
   "outputs": [
    {
     "data": {
      "image/png": "[encoded data removed]",
      "text/plain": [
       "<Figure size 640x480 with 1 Axes>"
      ]
     },
     "metadata": {},
     "output_type": "display_data"
    }
   ],
   "source": [
    "QuantityAndRevenue_EachOrder.plot.scatter(x = 'revenue', y = 'quantity', logx = True);"
   ]
  },
  {
   "cell_type": "markdown",
   "id": "d3c992b9-3403-41d0-a195-73ae8cc385e9",
   "metadata": {},
   "source": [
    "**o. Vẽ biểu đồ boxplot thể hiện phân bố revenue của mỗi đơn hàng**"
   ]
  },
  {
   "cell_type": "markdown",
   "id": "f110bfa4-adbf-43ea-a6a1-962a660d1a0d",
   "metadata": {},
   "source": [
    "Giới hạn ylim = (0, 100) để dễ quan sát hơn."
   ]
  },
  {
   "cell_type": "code",
   "execution_count": 51,
   "id": "c6d0f869-5ea7-489d-9759-468d8df50ff9",
   "metadata": {},
   "outputs": [
    {
     "data": {
      "image/png": "[encoded data removed]",
      "text/plain": [
       "<Figure size 640x480 with 1 Axes>"
      ]
     },
     "metadata": {},
     "output_type": "display_data"
    }
   ],
   "source": [
    "QuantityAndRevenue_EachOrder.plot.box(x = 'revenue');"
   ]
  },
  {
   "cell_type": "markdown",
   "id": "e43f841f-7f05-42cb-9dda-a069391e7a62",
   "metadata": {},
   "source": [
    "**p. Thống kê chung về revenue của mỗi đơn hàng**"
   ]
  },
  {
   "cell_type": "code",
   "execution_count": 52,
   "id": "6b2c69d5-fb51-43e7-aa92-316cee460970",
   "metadata": {},
   "outputs": [
    {
     "data": {
      "text/html": [
       "<div>\n",
       "<style scoped>\n",
       "    .dataframe tbody tr th:only-of-type {\n",
       "        vertical-align: middle;\n",
       "    }\n",
       "\n",
       "    .dataframe tbody tr th {\n",
       "        vertical-align: top;\n",
       "    }\n",
       "\n",
       "    .dataframe thead th {\n",
       "        text-align: right;\n",
       "    }\n",
       "</style>\n",
       "<table border=\"1\" class=\"dataframe\">\n",
       "  <thead>\n",
       "    <tr style=\"text-align: right;\">\n",
       "      <th></th>\n",
       "      <th>count</th>\n",
       "      <th>mean</th>\n",
       "      <th>std</th>\n",
       "      <th>min</th>\n",
       "      <th>25%</th>\n",
       "      <th>50%</th>\n",
       "      <th>75%</th>\n",
       "      <th>max</th>\n",
       "    </tr>\n",
       "    <tr>\n",
       "      <th>order_id</th>\n",
       "      <th></th>\n",
       "      <th></th>\n",
       "      <th></th>\n",
       "      <th></th>\n",
       "      <th></th>\n",
       "      <th></th>\n",
       "      <th></th>\n",
       "      <th></th>\n",
       "    </tr>\n",
       "  </thead>\n",
       "  <tbody>\n",
       "    <tr>\n",
       "      <th>1</th>\n",
       "      <td>4.0</td>\n",
       "      <td>2.890000</td>\n",
       "      <td>0.577350</td>\n",
       "      <td>2.39</td>\n",
       "      <td>2.3900</td>\n",
       "      <td>2.890</td>\n",
       "      <td>3.3900</td>\n",
       "      <td>3.39</td>\n",
       "    </tr>\n",
       "    <tr>\n",
       "      <th>2</th>\n",
       "      <td>1.0</td>\n",
       "      <td>33.960000</td>\n",
       "      <td>NaN</td>\n",
       "      <td>33.96</td>\n",
       "      <td>33.9600</td>\n",
       "      <td>33.960</td>\n",
       "      <td>33.9600</td>\n",
       "      <td>33.96</td>\n",
       "    </tr>\n",
       "    <tr>\n",
       "      <th>3</th>\n",
       "      <td>2.0</td>\n",
       "      <td>6.335000</td>\n",
       "      <td>6.569022</td>\n",
       "      <td>1.69</td>\n",
       "      <td>4.0125</td>\n",
       "      <td>6.335</td>\n",
       "      <td>8.6575</td>\n",
       "      <td>10.98</td>\n",
       "    </tr>\n",
       "    <tr>\n",
       "      <th>4</th>\n",
       "      <td>2.0</td>\n",
       "      <td>10.500000</td>\n",
       "      <td>1.767767</td>\n",
       "      <td>9.25</td>\n",
       "      <td>9.8750</td>\n",
       "      <td>10.500</td>\n",
       "      <td>11.1250</td>\n",
       "      <td>11.75</td>\n",
       "    </tr>\n",
       "    <tr>\n",
       "      <th>5</th>\n",
       "      <td>2.0</td>\n",
       "      <td>6.850000</td>\n",
       "      <td>3.394113</td>\n",
       "      <td>4.45</td>\n",
       "      <td>5.6500</td>\n",
       "      <td>6.850</td>\n",
       "      <td>8.0500</td>\n",
       "      <td>9.25</td>\n",
       "    </tr>\n",
       "    <tr>\n",
       "      <th>...</th>\n",
       "      <td>...</td>\n",
       "      <td>...</td>\n",
       "      <td>...</td>\n",
       "      <td>...</td>\n",
       "      <td>...</td>\n",
       "      <td>...</td>\n",
       "      <td>...</td>\n",
       "      <td>...</td>\n",
       "    </tr>\n",
       "    <tr>\n",
       "      <th>1830</th>\n",
       "      <td>2.0</td>\n",
       "      <td>11.500000</td>\n",
       "      <td>0.353553</td>\n",
       "      <td>11.25</td>\n",
       "      <td>11.3750</td>\n",
       "      <td>11.500</td>\n",
       "      <td>11.6250</td>\n",
       "      <td>11.75</td>\n",
       "    </tr>\n",
       "    <tr>\n",
       "      <th>1831</th>\n",
       "      <td>3.0</td>\n",
       "      <td>4.300000</td>\n",
       "      <td>4.299128</td>\n",
       "      <td>1.50</td>\n",
       "      <td>1.8250</td>\n",
       "      <td>2.150</td>\n",
       "      <td>5.7000</td>\n",
       "      <td>9.25</td>\n",
       "    </tr>\n",
       "    <tr>\n",
       "      <th>1832</th>\n",
       "      <td>2.0</td>\n",
       "      <td>6.600000</td>\n",
       "      <td>3.040559</td>\n",
       "      <td>4.45</td>\n",
       "      <td>5.5250</td>\n",
       "      <td>6.600</td>\n",
       "      <td>7.6750</td>\n",
       "      <td>8.75</td>\n",
       "    </tr>\n",
       "    <tr>\n",
       "      <th>1833</th>\n",
       "      <td>2.0</td>\n",
       "      <td>11.750000</td>\n",
       "      <td>0.000000</td>\n",
       "      <td>11.75</td>\n",
       "      <td>11.7500</td>\n",
       "      <td>11.750</td>\n",
       "      <td>11.7500</td>\n",
       "      <td>11.75</td>\n",
       "    </tr>\n",
       "    <tr>\n",
       "      <th>1834</th>\n",
       "      <td>3.0</td>\n",
       "      <td>9.583333</td>\n",
       "      <td>1.443376</td>\n",
       "      <td>8.75</td>\n",
       "      <td>8.7500</td>\n",
       "      <td>8.750</td>\n",
       "      <td>10.0000</td>\n",
       "      <td>11.25</td>\n",
       "    </tr>\n",
       "  </tbody>\n",
       "</table>\n",
       "<p>1834 rows × 8 columns</p>\n",
       "</div>"
      ],
      "text/plain": [
       "          count       mean       std    min      25%     50%      75%    max\n",
       "order_id                                                                    \n",
       "1           4.0   2.890000  0.577350   2.39   2.3900   2.890   3.3900   3.39\n",
       "2           1.0  33.960000       NaN  33.96  33.9600  33.960  33.9600  33.96\n",
       "3           2.0   6.335000  6.569022   1.69   4.0125   6.335   8.6575  10.98\n",
       "4           2.0  10.500000  1.767767   9.25   9.8750  10.500  11.1250  11.75\n",
       "5           2.0   6.850000  3.394113   4.45   5.6500   6.850   8.0500   9.25\n",
       "...         ...        ...       ...    ...      ...     ...      ...    ...\n",
       "1830        2.0  11.500000  0.353553  11.25  11.3750  11.500  11.6250  11.75\n",
       "1831        3.0   4.300000  4.299128   1.50   1.8250   2.150   5.7000   9.25\n",
       "1832        2.0   6.600000  3.040559   4.45   5.5250   6.600   7.6750   8.75\n",
       "1833        2.0  11.750000  0.000000  11.75  11.7500  11.750  11.7500  11.75\n",
       "1834        3.0   9.583333  1.443376   8.75   8.7500   8.750  10.0000  11.25\n",
       "\n",
       "[1834 rows x 8 columns]"
      ]
     },
     "execution_count": 52,
     "metadata": {},
     "output_type": "execute_result"
    }
   ],
   "source": [
    "chipotle.groupby('order_id').revenue.describe()"
   ]
  },
  {
   "cell_type": "markdown",
   "id": "b480781c-47eb-408a-a3b2-223a1b7c227d",
   "metadata": {},
   "source": [
    "**q. Vẽ biểu đồ boxplot thể hiện phân bố quantity của chipo**"
   ]
  },
  {
   "cell_type": "code",
   "execution_count": 53,
   "id": "f43a92a6-87f6-4b38-9e3c-f859472f2f4d",
   "metadata": {},
   "outputs": [
    {
     "data": {
      "image/png": "[encoded data removed]",
      "text/plain": [
       "<Figure size 640x480 with 1 Axes>"
      ]
     },
     "metadata": {},
     "output_type": "display_data"
    }
   ],
   "source": [
    "chipotle.quantity.plot.box(ylim = (0, 20));"
   ]
  },
  {
   "cell_type": "markdown",
   "id": "2af123cf-ff61-49e6-9efa-650b84c05726",
   "metadata": {},
   "source": [
    "**r. Thống kê chung về quantity của chipo**"
   ]
  },
  {
   "cell_type": "code",
   "execution_count": 54,
   "id": "b4dd1173-1095-405d-8354-5285e3fb508b",
   "metadata": {},
   "outputs": [
    {
     "data": {
      "text/plain": [
       "count    4622.000000\n",
       "mean        1.075725\n",
       "std         0.410186\n",
       "min         1.000000\n",
       "25%         1.000000\n",
       "50%         1.000000\n",
       "75%         1.000000\n",
       "max        15.000000\n",
       "Name: quantity, dtype: float64"
      ]
     },
     "execution_count": 54,
     "metadata": {},
     "output_type": "execute_result"
    }
   ],
   "source": [
    "chipotle.quantity.describe()"
   ]
  },
  {
   "cell_type": "markdown",
   "id": "474d4f6b-dfc8-4c31-98ca-c18abeb4fb7b",
   "metadata": {},
   "source": [
    "**s. Vẽ biểu đồ histogram thể hiện phân phối item_price của chipo**"
   ]
  },
  {
   "cell_type": "code",
   "execution_count": 55,
   "id": "357f2112-932f-47a1-876f-fdea834de688",
   "metadata": {},
   "outputs": [
    {
     "data": {
      "text/plain": [
       "<Axes: >"
      ]
     },
     "execution_count": 55,
     "metadata": {},
     "output_type": "execute_result"
    },
    {
     "data": {
      "image/png": "[encoded data removed]",
      "text/plain": [
       "<Figure size 640x480 with 1 Axes>"
      ]
     },
     "metadata": {},
     "output_type": "display_data"
    }
   ],
   "source": [
    "chipotle.item_price.hist()"
   ]
  },
  {
   "cell_type": "code",
   "execution_count": 56,
   "id": "85349f68-9c38-4d55-a574-0c8bed1a23ac",
   "metadata": {},
   "outputs": [
    {
     "data": {
      "text/plain": [
       "<Axes: ylabel='Frequency'>"
      ]
     },
     "execution_count": 56,
     "metadata": {},
     "output_type": "execute_result"
    },
    {
     "data": {
      "image/png": "[encoded data removed]",
      "text/plain": [
       "<Figure size 640x480 with 1 Axes>"
      ]
     },
     "metadata": {},
     "output_type": "display_data"
    }
   ],
   "source": [
    "#HOẶC \n",
    "chipotle.item_price.plot.hist()"
   ]
  },
  {
   "cell_type": "markdown",
   "id": "8c61f141-9895-459e-9162-9eca4594b7bb",
   "metadata": {
    "jp-MarkdownHeadingCollapsed": true
   },
   "source": [
    "# CHAPTER 7 - EXERCISE 3: ĐIỂM THI THPT QUỐC GIA 2016"
   ]
  },
  {
   "cell_type": "markdown",
   "id": "a0720b5f-b459-4a34-a59b-f24517347ac2",
   "metadata": {
    "jp-MarkdownHeadingCollapsed": true
   },
   "source": [
    "## Ghi chú về dữ liệu:\n",
    "\n",
    "Cho tập tin Diemthi_thpt_quocgia_2016.xlsx chứa bộ dữ liệu điểm thi THPT Quốc gia năm 2016 của gần 35.000 thí sinh.\n",
    "\n",
    "**Danh sách các môn thi là:** 'Toán', 'Ngữ văn', 'Địa lí', 'Lịch sử', 'Tiếng Anh', 'Sinh học', 'Vật lí', 'Hóa học'. \n",
    "\n",
    "_Một thí sinh chỉ thi các môn bắt buộc chung còn các môn tự chọn có thể khác nhau._"
   ]
  },
  {
   "cell_type": "code",
   "execution_count": 57,
   "id": "e092dbfe-ed0a-4755-8b3c-b02cc8b964c8",
   "metadata": {},
   "outputs": [],
   "source": [
    "import pandas as pd\n",
    "import warnings\n",
    "warnings.filterwarnings('ignore')"
   ]
  },
  {
   "cell_type": "markdown",
   "id": "f7460c28-c089-4efb-9b67-e37d6287b679",
   "metadata": {
    "jp-MarkdownHeadingCollapsed": true
   },
   "source": [
    "### Yêu cầu 1: Đọc dữ liệu, xem thông tin dữ liệu"
   ]
  },
  {
   "cell_type": "markdown",
   "id": "756efd85-6c1a-45bc-878e-c2a0967effb0",
   "metadata": {},
   "source": [
    "**a. Đọc dữ liệu**"
   ]
  },
  {
   "cell_type": "code",
   "execution_count": 58,
   "id": "8c84f020-f523-4aab-b70e-375dbc89a319",
   "metadata": {},
   "outputs": [],
   "source": [
    "DiemThi = pd.read_excel('data7/data/Diemthi_thpt_quocgia_2016.xlsx')"
   ]
  },
  {
   "cell_type": "markdown",
   "id": "1eec9110-862c-440b-9445-0df175684b5e",
   "metadata": {},
   "source": [
    "**b. Xem thông tin dữ liệu**"
   ]
  },
  {
   "cell_type": "code",
   "execution_count": 59,
   "id": "7dbb0de1-b539-4306-9ad4-8d97f915a96e",
   "metadata": {},
   "outputs": [
    {
     "data": {
      "text/html": [
       "<div>\n",
       "<style scoped>\n",
       "    .dataframe tbody tr th:only-of-type {\n",
       "        vertical-align: middle;\n",
       "    }\n",
       "\n",
       "    .dataframe tbody tr th {\n",
       "        vertical-align: top;\n",
       "    }\n",
       "\n",
       "    .dataframe thead th {\n",
       "        text-align: right;\n",
       "    }\n",
       "</style>\n",
       "<table border=\"1\" class=\"dataframe\">\n",
       "  <thead>\n",
       "    <tr style=\"text-align: right;\">\n",
       "      <th></th>\n",
       "      <th>SOBAODANH</th>\n",
       "      <th>HO_TEN</th>\n",
       "      <th>NGAY_SINH</th>\n",
       "      <th>TEN_CUMTHI</th>\n",
       "      <th>GIOI_TINH</th>\n",
       "      <th>DIEM_THI</th>\n",
       "    </tr>\n",
       "  </thead>\n",
       "  <tbody>\n",
       "    <tr>\n",
       "      <th>0</th>\n",
       "      <td>018000001</td>\n",
       "      <td>DƯƠNG VIỆT AN</td>\n",
       "      <td>12/03/1998</td>\n",
       "      <td>Sở GDĐT Bắc Giang</td>\n",
       "      <td>Nam</td>\n",
       "      <td>Toán:   2.00   Ngữ văn:   5.50   Lịch sử:   3....</td>\n",
       "    </tr>\n",
       "    <tr>\n",
       "      <th>1</th>\n",
       "      <td>018000002</td>\n",
       "      <td>ĐỖ VĂN AN</td>\n",
       "      <td>09/12/1998</td>\n",
       "      <td>Sở GDĐT Bắc Giang</td>\n",
       "      <td>Nam</td>\n",
       "      <td>Toán:   5.50   Ngữ văn:   5.25   Địa lí:   5.5...</td>\n",
       "    </tr>\n",
       "    <tr>\n",
       "      <th>2</th>\n",
       "      <td>018000003</td>\n",
       "      <td>ĐỖ XUÂN AN</td>\n",
       "      <td>12/08/1997</td>\n",
       "      <td>Sở GDĐT Bắc Giang</td>\n",
       "      <td>Nam</td>\n",
       "      <td>Toán:   4.50   Ngữ văn:   5.50   Địa lí:   3.7...</td>\n",
       "    </tr>\n",
       "    <tr>\n",
       "      <th>3</th>\n",
       "      <td>018000004</td>\n",
       "      <td>ĐẶNG PHÚC AN</td>\n",
       "      <td>19/03/1998</td>\n",
       "      <td>Sở GDĐT Bắc Giang</td>\n",
       "      <td>Nữ</td>\n",
       "      <td>Toán:   3.00   Ngữ văn:   6.00   Địa lí:   5.5...</td>\n",
       "    </tr>\n",
       "    <tr>\n",
       "      <th>4</th>\n",
       "      <td>018000005</td>\n",
       "      <td>ĐẶNG VĂN AN</td>\n",
       "      <td>25/10/1998</td>\n",
       "      <td>Sở GDĐT Bắc Giang</td>\n",
       "      <td>Nam</td>\n",
       "      <td>Toán:   2.25   Ngữ văn:   4.75   Địa lí:   5.2...</td>\n",
       "    </tr>\n",
       "  </tbody>\n",
       "</table>\n",
       "</div>"
      ],
      "text/plain": [
       "   SOBAODANH         HO_TEN   NGAY_SINH         TEN_CUMTHI GIOI_TINH  \\\n",
       "0  018000001  DƯƠNG VIỆT AN  12/03/1998  Sở GDĐT Bắc Giang       Nam   \n",
       "1  018000002      ĐỖ VĂN AN  09/12/1998  Sở GDĐT Bắc Giang       Nam   \n",
       "2  018000003     ĐỖ XUÂN AN  12/08/1997  Sở GDĐT Bắc Giang       Nam   \n",
       "3  018000004   ĐẶNG PHÚC AN  19/03/1998  Sở GDĐT Bắc Giang        Nữ   \n",
       "4  018000005    ĐẶNG VĂN AN  25/10/1998  Sở GDĐT Bắc Giang       Nam   \n",
       "\n",
       "                                            DIEM_THI  \n",
       "0  Toán:   2.00   Ngữ văn:   5.50   Lịch sử:   3....  \n",
       "1  Toán:   5.50   Ngữ văn:   5.25   Địa lí:   5.5...  \n",
       "2  Toán:   4.50   Ngữ văn:   5.50   Địa lí:   3.7...  \n",
       "3  Toán:   3.00   Ngữ văn:   6.00   Địa lí:   5.5...  \n",
       "4  Toán:   2.25   Ngữ văn:   4.75   Địa lí:   5.2...  "
      ]
     },
     "execution_count": 59,
     "metadata": {},
     "output_type": "execute_result"
    }
   ],
   "source": [
    "DiemThi.head()"
   ]
  },
  {
   "cell_type": "markdown",
   "id": "f7efb9f7-efe2-4eec-ac99-a24a59f717a1",
   "metadata": {},
   "source": [
    "**c. Xem thông tin info()**"
   ]
  },
  {
   "cell_type": "code",
   "execution_count": 60,
   "id": "b71a19d3-89a8-42c1-987a-5e95d27d2842",
   "metadata": {},
   "outputs": [
    {
     "name": "stdout",
     "output_type": "stream",
     "text": [
      "<class 'pandas.core.frame.DataFrame'>\n",
      "RangeIndex: 34826 entries, 0 to 34825\n",
      "Data columns (total 6 columns):\n",
      " #   Column      Non-Null Count  Dtype \n",
      "---  ------      --------------  ----- \n",
      " 0   SOBAODANH   34826 non-null  object\n",
      " 1   HO_TEN      34826 non-null  object\n",
      " 2   NGAY_SINH   34826 non-null  object\n",
      " 3   TEN_CUMTHI  34826 non-null  object\n",
      " 4   GIOI_TINH   34826 non-null  object\n",
      " 5   DIEM_THI    34826 non-null  object\n",
      "dtypes: object(6)\n",
      "memory usage: 1.6+ MB\n"
     ]
    }
   ],
   "source": [
    "DiemThi.info()"
   ]
  },
  {
   "cell_type": "markdown",
   "id": "cb43bf72-5491-408c-b792-7d29af587cd3",
   "metadata": {
    "jp-MarkdownHeadingCollapsed": true
   },
   "source": [
    "### Yêu cầu 2: Với dữ liệu hiện tại, cột \"DIEM_THI\" là chuỗi chứa điểm thi của tất cả các môn thi của một thí sinh.\n",
    "Như vậy chúng ta sẽ không phân tích được điểm thi của các thí sinh. Do đó, việc đầu tiên là cần phải tiền xử lý dữ liệu.\n",
    "Từ dữ liệu cột \"DIEM_THI\", hãy tạo ra các cột tương ứng với danh sách các môn thi nói trên và đưa điểm của thí sinh từ chuỗi vào các cột, môn nào thí sinh không thi thì sẽ để NaN."
   ]
  },
  {
   "cell_type": "markdown",
   "id": "eca751cf-f4dc-44b0-8365-dee1adbd14ae",
   "metadata": {},
   "source": [
    "**a. Xem dòng 0, cột 'DIEM_THI' để biết cú pháp của chuỗi**"
   ]
  },
  {
   "cell_type": "code",
   "execution_count": 61,
   "id": "ad22bd29-1fdb-4413-a790-555cbf3c1c56",
   "metadata": {},
   "outputs": [
    {
     "data": {
      "text/plain": [
       "'Toán:   2.00   Ngữ văn:   5.50   Lịch sử:   3.00   Địa lí:   5.00'"
      ]
     },
     "execution_count": 61,
     "metadata": {},
     "output_type": "execute_result"
    }
   ],
   "source": [
    "DiemThi.loc[0, 'DIEM_THI']"
   ]
  },
  {
   "cell_type": "markdown",
   "id": "9f5e244b-21a6-4428-9db4-cfaea54513de",
   "metadata": {},
   "source": [
    "**b. Tạo danh sách các môn tổ chức thi**"
   ]
  },
  {
   "cell_type": "code",
   "execution_count": 62,
   "id": "89ce5da1-d66d-49fc-ad23-fdc136978b57",
   "metadata": {},
   "outputs": [],
   "source": [
    "MonThi = ['Toán', 'Ngữ văn', 'Địa lí', 'Lịch sử', 'Tiếng Anh', 'Sinh học', 'Vật lí', 'Hóa học']"
   ]
  },
  {
   "cell_type": "markdown",
   "id": "08d591af-95f2-4018-928a-4cee8d2f559e",
   "metadata": {},
   "source": [
    "**c. Đưa điểm của thí sinh từ chuỗi vào các cột môn thi**"
   ]
  },
  {
   "cell_type": "code",
   "execution_count": 63,
   "id": "5e98390f-d36a-4149-a08c-f66298ad9473",
   "metadata": {},
   "outputs": [
    {
     "data": {
      "text/html": [
       "<div>\n",
       "<style scoped>\n",
       "    .dataframe tbody tr th:only-of-type {\n",
       "        vertical-align: middle;\n",
       "    }\n",
       "\n",
       "    .dataframe tbody tr th {\n",
       "        vertical-align: top;\n",
       "    }\n",
       "\n",
       "    .dataframe thead th {\n",
       "        text-align: right;\n",
       "    }\n",
       "</style>\n",
       "<table border=\"1\" class=\"dataframe\">\n",
       "  <thead>\n",
       "    <tr style=\"text-align: right;\">\n",
       "      <th></th>\n",
       "      <th>SOBAODANH</th>\n",
       "      <th>HO_TEN</th>\n",
       "      <th>NGAY_SINH</th>\n",
       "      <th>TEN_CUMTHI</th>\n",
       "      <th>GIOI_TINH</th>\n",
       "      <th>DIEM_THI</th>\n",
       "      <th>Toán</th>\n",
       "      <th>Ngữ văn</th>\n",
       "      <th>Địa lí</th>\n",
       "      <th>Lịch sử</th>\n",
       "      <th>Tiếng Anh</th>\n",
       "      <th>Sinh học</th>\n",
       "      <th>Vật lí</th>\n",
       "      <th>Hóa học</th>\n",
       "    </tr>\n",
       "  </thead>\n",
       "  <tbody>\n",
       "    <tr>\n",
       "      <th>0</th>\n",
       "      <td>018000001</td>\n",
       "      <td>DƯƠNG VIỆT AN</td>\n",
       "      <td>12/03/1998</td>\n",
       "      <td>Sở GDĐT Bắc Giang</td>\n",
       "      <td>Nam</td>\n",
       "      <td>Toán:   2.00   Ngữ văn:   5.50   Lịch sử:   3....</td>\n",
       "      <td>2.00</td>\n",
       "      <td>5.50</td>\n",
       "      <td>5.00</td>\n",
       "      <td>3.00</td>\n",
       "      <td>NaN</td>\n",
       "      <td>NaN</td>\n",
       "      <td>NaN</td>\n",
       "      <td>NaN</td>\n",
       "    </tr>\n",
       "    <tr>\n",
       "      <th>1</th>\n",
       "      <td>018000002</td>\n",
       "      <td>ĐỖ VĂN AN</td>\n",
       "      <td>09/12/1998</td>\n",
       "      <td>Sở GDĐT Bắc Giang</td>\n",
       "      <td>Nam</td>\n",
       "      <td>Toán:   5.50   Ngữ văn:   5.25   Địa lí:   5.5...</td>\n",
       "      <td>5.50</td>\n",
       "      <td>5.25</td>\n",
       "      <td>5.50</td>\n",
       "      <td>NaN</td>\n",
       "      <td>3.68</td>\n",
       "      <td>NaN</td>\n",
       "      <td>NaN</td>\n",
       "      <td>NaN</td>\n",
       "    </tr>\n",
       "    <tr>\n",
       "      <th>2</th>\n",
       "      <td>018000003</td>\n",
       "      <td>ĐỖ XUÂN AN</td>\n",
       "      <td>12/08/1997</td>\n",
       "      <td>Sở GDĐT Bắc Giang</td>\n",
       "      <td>Nam</td>\n",
       "      <td>Toán:   4.50   Ngữ văn:   5.50   Địa lí:   3.7...</td>\n",
       "      <td>4.50</td>\n",
       "      <td>5.50</td>\n",
       "      <td>3.75</td>\n",
       "      <td>NaN</td>\n",
       "      <td>2.25</td>\n",
       "      <td>NaN</td>\n",
       "      <td>NaN</td>\n",
       "      <td>NaN</td>\n",
       "    </tr>\n",
       "    <tr>\n",
       "      <th>3</th>\n",
       "      <td>018000004</td>\n",
       "      <td>ĐẶNG PHÚC AN</td>\n",
       "      <td>19/03/1998</td>\n",
       "      <td>Sở GDĐT Bắc Giang</td>\n",
       "      <td>Nữ</td>\n",
       "      <td>Toán:   3.00   Ngữ văn:   6.00   Địa lí:   5.5...</td>\n",
       "      <td>3.00</td>\n",
       "      <td>6.00</td>\n",
       "      <td>5.50</td>\n",
       "      <td>NaN</td>\n",
       "      <td>1.50</td>\n",
       "      <td>NaN</td>\n",
       "      <td>NaN</td>\n",
       "      <td>NaN</td>\n",
       "    </tr>\n",
       "    <tr>\n",
       "      <th>4</th>\n",
       "      <td>018000005</td>\n",
       "      <td>ĐẶNG VĂN AN</td>\n",
       "      <td>25/10/1998</td>\n",
       "      <td>Sở GDĐT Bắc Giang</td>\n",
       "      <td>Nam</td>\n",
       "      <td>Toán:   2.25   Ngữ văn:   4.75   Địa lí:   5.2...</td>\n",
       "      <td>2.25</td>\n",
       "      <td>4.75</td>\n",
       "      <td>5.25</td>\n",
       "      <td>NaN</td>\n",
       "      <td>2.00</td>\n",
       "      <td>NaN</td>\n",
       "      <td>NaN</td>\n",
       "      <td>NaN</td>\n",
       "    </tr>\n",
       "  </tbody>\n",
       "</table>\n",
       "</div>"
      ],
      "text/plain": [
       "   SOBAODANH         HO_TEN   NGAY_SINH         TEN_CUMTHI GIOI_TINH  \\\n",
       "0  018000001  DƯƠNG VIỆT AN  12/03/1998  Sở GDĐT Bắc Giang       Nam   \n",
       "1  018000002      ĐỖ VĂN AN  09/12/1998  Sở GDĐT Bắc Giang       Nam   \n",
       "2  018000003     ĐỖ XUÂN AN  12/08/1997  Sở GDĐT Bắc Giang       Nam   \n",
       "3  018000004   ĐẶNG PHÚC AN  19/03/1998  Sở GDĐT Bắc Giang        Nữ   \n",
       "4  018000005    ĐẶNG VĂN AN  25/10/1998  Sở GDĐT Bắc Giang       Nam   \n",
       "\n",
       "                                            DIEM_THI  Toán Ngữ văn Địa lí  \\\n",
       "0  Toán:   2.00   Ngữ văn:   5.50   Lịch sử:   3....  2.00    5.50   5.00   \n",
       "1  Toán:   5.50   Ngữ văn:   5.25   Địa lí:   5.5...  5.50    5.25   5.50   \n",
       "2  Toán:   4.50   Ngữ văn:   5.50   Địa lí:   3.7...  4.50    5.50   3.75   \n",
       "3  Toán:   3.00   Ngữ văn:   6.00   Địa lí:   5.5...  3.00    6.00   5.50   \n",
       "4  Toán:   2.25   Ngữ văn:   4.75   Địa lí:   5.2...  2.25    4.75   5.25   \n",
       "\n",
       "  Lịch sử Tiếng Anh Sinh học Vật lí Hóa học  \n",
       "0    3.00       NaN      NaN    NaN     NaN  \n",
       "1     NaN      3.68      NaN    NaN     NaN  \n",
       "2     NaN      2.25      NaN    NaN     NaN  \n",
       "3     NaN      1.50      NaN    NaN     NaN  \n",
       "4     NaN      2.00      NaN    NaN     NaN  "
      ]
     },
     "execution_count": 63,
     "metadata": {},
     "output_type": "execute_result"
    }
   ],
   "source": [
    "import re\n",
    "for Mon in MonThi:\n",
    "    DiemThi[Mon] = DiemThi['DIEM_THI'].str.extract(fr'{Mon}:\\s*([\\d.]+)', expand=False)\n",
    "DiemThi.head()"
   ]
  },
  {
   "cell_type": "markdown",
   "id": "da3c276a-68b8-47fe-b967-d805b177358e",
   "metadata": {},
   "source": [
    "**d. Xem thông tin info()**"
   ]
  },
  {
   "cell_type": "code",
   "execution_count": 64,
   "id": "ed658ac2-355b-4fd6-a40f-c568b891d546",
   "metadata": {},
   "outputs": [
    {
     "name": "stdout",
     "output_type": "stream",
     "text": [
      "<class 'pandas.core.frame.DataFrame'>\n",
      "RangeIndex: 34826 entries, 0 to 34825\n",
      "Data columns (total 14 columns):\n",
      " #   Column      Non-Null Count  Dtype \n",
      "---  ------      --------------  ----- \n",
      " 0   SOBAODANH   34826 non-null  object\n",
      " 1   HO_TEN      34826 non-null  object\n",
      " 2   NGAY_SINH   34826 non-null  object\n",
      " 3   TEN_CUMTHI  34826 non-null  object\n",
      " 4   GIOI_TINH   34826 non-null  object\n",
      " 5   DIEM_THI    34826 non-null  object\n",
      " 6   Toán        34500 non-null  object\n",
      " 7   Ngữ văn     33894 non-null  object\n",
      " 8   Địa lí      22171 non-null  object\n",
      " 9   Lịch sử     3235 non-null   object\n",
      " 10  Tiếng Anh   30200 non-null  object\n",
      " 11  Sinh học    3573 non-null   object\n",
      " 12  Vật lí      10157 non-null  object\n",
      " 13  Hóa học     8098 non-null   object\n",
      "dtypes: object(14)\n",
      "memory usage: 3.7+ MB\n"
     ]
    }
   ],
   "source": [
    "DiemThi.info()"
   ]
  },
  {
   "cell_type": "markdown",
   "id": "cf9aa2d3-201c-4f1b-b228-64836670027f",
   "metadata": {},
   "source": [
    "**_Nhận xét sơ bộ:_**\n",
    "\n",
    "+ Toán, Ngữ văn và Tiếng Anh là 3 môn bắt buộc nên nhiều thí sinh dự thi nhất\n",
    "+ Lịch sử và Sinh học ít thí sinh dự thi nhất\n",
    "+ Các cột điểm đang ở kiểu dữ liệu object"
   ]
  },
  {
   "cell_type": "markdown",
   "id": "7f4b8214-4288-429d-acac-b3227fdf3a29",
   "metadata": {},
   "source": [
    "**e. Chuyển các cột thành dạng số để phân tích**"
   ]
  },
  {
   "cell_type": "code",
   "execution_count": 65,
   "id": "3f2a3c75-ad06-47ab-ba62-07e688873345",
   "metadata": {},
   "outputs": [
    {
     "name": "stdout",
     "output_type": "stream",
     "text": [
      "<class 'pandas.core.frame.DataFrame'>\n",
      "RangeIndex: 34826 entries, 0 to 34825\n",
      "Data columns (total 14 columns):\n",
      " #   Column      Non-Null Count  Dtype  \n",
      "---  ------      --------------  -----  \n",
      " 0   SOBAODANH   34826 non-null  object \n",
      " 1   HO_TEN      34826 non-null  object \n",
      " 2   NGAY_SINH   34826 non-null  object \n",
      " 3   TEN_CUMTHI  34826 non-null  object \n",
      " 4   GIOI_TINH   34826 non-null  object \n",
      " 5   DIEM_THI    34826 non-null  object \n",
      " 6   Toán        34500 non-null  float64\n",
      " 7   Ngữ văn     33894 non-null  float64\n",
      " 8   Địa lí      22171 non-null  float64\n",
      " 9   Lịch sử     3235 non-null   float64\n",
      " 10  Tiếng Anh   30200 non-null  float64\n",
      " 11  Sinh học    3573 non-null   float64\n",
      " 12  Vật lí      10157 non-null  float64\n",
      " 13  Hóa học     8098 non-null   float64\n",
      "dtypes: float64(8), object(6)\n",
      "memory usage: 3.7+ MB\n"
     ]
    }
   ],
   "source": [
    "DiemThi[['Toán', 'Ngữ văn', 'Địa lí', 'Lịch sử', 'Tiếng Anh', 'Sinh học', 'Vật lí', 'Hóa học']]\\\n",
    "        = DiemThi[['Toán', 'Ngữ văn', 'Địa lí', 'Lịch sử', 'Tiếng Anh', 'Sinh học', 'Vật lí', 'Hóa học']].astype(float)\n",
    "DiemThi.info()"
   ]
  },
  {
   "cell_type": "markdown",
   "id": "9862c440-409d-44ef-9277-ffe21d7541f5",
   "metadata": {
    "jp-MarkdownHeadingCollapsed": true
   },
   "source": [
    "### Yêu cầu 3: Chuyển cột \"NGAY_SINH\" sang kiểu dữ liệu datetime."
   ]
  },
  {
   "cell_type": "markdown",
   "id": "8f5711fb-7fd5-4e83-b6d3-6d65776d35b8",
   "metadata": {},
   "source": [
    "**a. Tạo cột 'ngaysinh' là kiểu dữ liệu datetime từ cột 'NGAY_SINH'**\n",
    "\n",
    "_Gợi ý: dayfirst=True, errors = 'coerce'_"
   ]
  },
  {
   "cell_type": "code",
   "execution_count": 66,
   "id": "b608a127-fa2f-43dc-8eec-cb20808a9421",
   "metadata": {},
   "outputs": [
    {
     "data": {
      "text/html": [
       "<div>\n",
       "<style scoped>\n",
       "    .dataframe tbody tr th:only-of-type {\n",
       "        vertical-align: middle;\n",
       "    }\n",
       "\n",
       "    .dataframe tbody tr th {\n",
       "        vertical-align: top;\n",
       "    }\n",
       "\n",
       "    .dataframe thead th {\n",
       "        text-align: right;\n",
       "    }\n",
       "</style>\n",
       "<table border=\"1\" class=\"dataframe\">\n",
       "  <thead>\n",
       "    <tr style=\"text-align: right;\">\n",
       "      <th></th>\n",
       "      <th>SOBAODANH</th>\n",
       "      <th>HO_TEN</th>\n",
       "      <th>NGAY_SINH</th>\n",
       "      <th>TEN_CUMTHI</th>\n",
       "      <th>GIOI_TINH</th>\n",
       "      <th>DIEM_THI</th>\n",
       "      <th>Toán</th>\n",
       "      <th>Ngữ văn</th>\n",
       "      <th>Địa lí</th>\n",
       "      <th>Lịch sử</th>\n",
       "      <th>Tiếng Anh</th>\n",
       "      <th>Sinh học</th>\n",
       "      <th>Vật lí</th>\n",
       "      <th>Hóa học</th>\n",
       "      <th>ngaysinh</th>\n",
       "    </tr>\n",
       "  </thead>\n",
       "  <tbody>\n",
       "    <tr>\n",
       "      <th>0</th>\n",
       "      <td>018000001</td>\n",
       "      <td>DƯƠNG VIỆT AN</td>\n",
       "      <td>12/03/1998</td>\n",
       "      <td>Sở GDĐT Bắc Giang</td>\n",
       "      <td>Nam</td>\n",
       "      <td>Toán:   2.00   Ngữ văn:   5.50   Lịch sử:   3....</td>\n",
       "      <td>2.00</td>\n",
       "      <td>5.50</td>\n",
       "      <td>5.00</td>\n",
       "      <td>3.0</td>\n",
       "      <td>NaN</td>\n",
       "      <td>NaN</td>\n",
       "      <td>NaN</td>\n",
       "      <td>NaN</td>\n",
       "      <td>NaT</td>\n",
       "    </tr>\n",
       "    <tr>\n",
       "      <th>1</th>\n",
       "      <td>018000002</td>\n",
       "      <td>ĐỖ VĂN AN</td>\n",
       "      <td>09/12/1998</td>\n",
       "      <td>Sở GDĐT Bắc Giang</td>\n",
       "      <td>Nam</td>\n",
       "      <td>Toán:   5.50   Ngữ văn:   5.25   Địa lí:   5.5...</td>\n",
       "      <td>5.50</td>\n",
       "      <td>5.25</td>\n",
       "      <td>5.50</td>\n",
       "      <td>NaN</td>\n",
       "      <td>3.68</td>\n",
       "      <td>NaN</td>\n",
       "      <td>NaN</td>\n",
       "      <td>NaN</td>\n",
       "      <td>NaT</td>\n",
       "    </tr>\n",
       "    <tr>\n",
       "      <th>2</th>\n",
       "      <td>018000003</td>\n",
       "      <td>ĐỖ XUÂN AN</td>\n",
       "      <td>12/08/1997</td>\n",
       "      <td>Sở GDĐT Bắc Giang</td>\n",
       "      <td>Nam</td>\n",
       "      <td>Toán:   4.50   Ngữ văn:   5.50   Địa lí:   3.7...</td>\n",
       "      <td>4.50</td>\n",
       "      <td>5.50</td>\n",
       "      <td>3.75</td>\n",
       "      <td>NaN</td>\n",
       "      <td>2.25</td>\n",
       "      <td>NaN</td>\n",
       "      <td>NaN</td>\n",
       "      <td>NaN</td>\n",
       "      <td>NaT</td>\n",
       "    </tr>\n",
       "    <tr>\n",
       "      <th>3</th>\n",
       "      <td>018000004</td>\n",
       "      <td>ĐẶNG PHÚC AN</td>\n",
       "      <td>19/03/1998</td>\n",
       "      <td>Sở GDĐT Bắc Giang</td>\n",
       "      <td>Nữ</td>\n",
       "      <td>Toán:   3.00   Ngữ văn:   6.00   Địa lí:   5.5...</td>\n",
       "      <td>3.00</td>\n",
       "      <td>6.00</td>\n",
       "      <td>5.50</td>\n",
       "      <td>NaN</td>\n",
       "      <td>1.50</td>\n",
       "      <td>NaN</td>\n",
       "      <td>NaN</td>\n",
       "      <td>NaN</td>\n",
       "      <td>NaT</td>\n",
       "    </tr>\n",
       "    <tr>\n",
       "      <th>4</th>\n",
       "      <td>018000005</td>\n",
       "      <td>ĐẶNG VĂN AN</td>\n",
       "      <td>25/10/1998</td>\n",
       "      <td>Sở GDĐT Bắc Giang</td>\n",
       "      <td>Nam</td>\n",
       "      <td>Toán:   2.25   Ngữ văn:   4.75   Địa lí:   5.2...</td>\n",
       "      <td>2.25</td>\n",
       "      <td>4.75</td>\n",
       "      <td>5.25</td>\n",
       "      <td>NaN</td>\n",
       "      <td>2.00</td>\n",
       "      <td>NaN</td>\n",
       "      <td>NaN</td>\n",
       "      <td>NaN</td>\n",
       "      <td>NaT</td>\n",
       "    </tr>\n",
       "  </tbody>\n",
       "</table>\n",
       "</div>"
      ],
      "text/plain": [
       "   SOBAODANH         HO_TEN   NGAY_SINH         TEN_CUMTHI GIOI_TINH  \\\n",
       "0  018000001  DƯƠNG VIỆT AN  12/03/1998  Sở GDĐT Bắc Giang       Nam   \n",
       "1  018000002      ĐỖ VĂN AN  09/12/1998  Sở GDĐT Bắc Giang       Nam   \n",
       "2  018000003     ĐỖ XUÂN AN  12/08/1997  Sở GDĐT Bắc Giang       Nam   \n",
       "3  018000004   ĐẶNG PHÚC AN  19/03/1998  Sở GDĐT Bắc Giang        Nữ   \n",
       "4  018000005    ĐẶNG VĂN AN  25/10/1998  Sở GDĐT Bắc Giang       Nam   \n",
       "\n",
       "                                            DIEM_THI  Toán  Ngữ văn  Địa lí  \\\n",
       "0  Toán:   2.00   Ngữ văn:   5.50   Lịch sử:   3....  2.00     5.50    5.00   \n",
       "1  Toán:   5.50   Ngữ văn:   5.25   Địa lí:   5.5...  5.50     5.25    5.50   \n",
       "2  Toán:   4.50   Ngữ văn:   5.50   Địa lí:   3.7...  4.50     5.50    3.75   \n",
       "3  Toán:   3.00   Ngữ văn:   6.00   Địa lí:   5.5...  3.00     6.00    5.50   \n",
       "4  Toán:   2.25   Ngữ văn:   4.75   Địa lí:   5.2...  2.25     4.75    5.25   \n",
       "\n",
       "   Lịch sử  Tiếng Anh  Sinh học  Vật lí  Hóa học ngaysinh  \n",
       "0      3.0        NaN       NaN     NaN      NaN      NaT  \n",
       "1      NaN       3.68       NaN     NaN      NaN      NaT  \n",
       "2      NaN       2.25       NaN     NaN      NaN      NaT  \n",
       "3      NaN       1.50       NaN     NaN      NaN      NaT  \n",
       "4      NaN       2.00       NaN     NaN      NaN      NaT  "
      ]
     },
     "execution_count": 66,
     "metadata": {},
     "output_type": "execute_result"
    }
   ],
   "source": [
    "DiemThi['ngaysinh'] = pd.to_datetime(DiemThi['NGAY_SINH'], dayfirst=True, errors = 'coerce', format = '%d,%m,%y')\n",
    "DiemThi.head()"
   ]
  },
  {
   "cell_type": "markdown",
   "id": "af3214bc-1492-41f5-956a-4328a909e93d",
   "metadata": {},
   "source": [
    "**b. Kiểm tra số dòng dữ liệu null ở 2 cột 'NGAY_SINH', 'ngaysinh'**"
   ]
  },
  {
   "cell_type": "code",
   "execution_count": 67,
   "id": "0f2dd6c2-148d-4a4d-bfe6-b9b9416ce3e6",
   "metadata": {},
   "outputs": [
    {
     "data": {
      "text/plain": [
       "NGAY_SINH        0\n",
       "ngaysinh     34826\n",
       "dtype: int64"
      ]
     },
     "execution_count": 67,
     "metadata": {},
     "output_type": "execute_result"
    }
   ],
   "source": [
    "DiemThi[['NGAY_SINH', 'ngaysinh']].isnull().sum()"
   ]
  },
  {
   "cell_type": "markdown",
   "id": "8c5f40a2-ce10-4932-ad56-929aa5f18ae5",
   "metadata": {},
   "source": [
    "**c. Xem các dòng có null ở cột 'ngaysinh' xem dữ liệu có vấn đề gì?**"
   ]
  },
  {
   "cell_type": "code",
   "execution_count": 68,
   "id": "72f415f8-86fb-4cb7-a0a7-94ee3366a021",
   "metadata": {},
   "outputs": [
    {
     "data": {
      "text/html": [
       "<div>\n",
       "<style scoped>\n",
       "    .dataframe tbody tr th:only-of-type {\n",
       "        vertical-align: middle;\n",
       "    }\n",
       "\n",
       "    .dataframe tbody tr th {\n",
       "        vertical-align: top;\n",
       "    }\n",
       "\n",
       "    .dataframe thead th {\n",
       "        text-align: right;\n",
       "    }\n",
       "</style>\n",
       "<table border=\"1\" class=\"dataframe\">\n",
       "  <thead>\n",
       "    <tr style=\"text-align: right;\">\n",
       "      <th></th>\n",
       "      <th>SOBAODANH</th>\n",
       "      <th>HO_TEN</th>\n",
       "      <th>NGAY_SINH</th>\n",
       "      <th>TEN_CUMTHI</th>\n",
       "      <th>GIOI_TINH</th>\n",
       "      <th>DIEM_THI</th>\n",
       "      <th>Toán</th>\n",
       "      <th>Ngữ văn</th>\n",
       "      <th>Địa lí</th>\n",
       "      <th>Lịch sử</th>\n",
       "      <th>Tiếng Anh</th>\n",
       "      <th>Sinh học</th>\n",
       "      <th>Vật lí</th>\n",
       "      <th>Hóa học</th>\n",
       "      <th>ngaysinh</th>\n",
       "    </tr>\n",
       "  </thead>\n",
       "  <tbody>\n",
       "    <tr>\n",
       "      <th>0</th>\n",
       "      <td>018000001</td>\n",
       "      <td>DƯƠNG VIỆT AN</td>\n",
       "      <td>12/03/1998</td>\n",
       "      <td>Sở GDĐT Bắc Giang</td>\n",
       "      <td>Nam</td>\n",
       "      <td>Toán:   2.00   Ngữ văn:   5.50   Lịch sử:   3....</td>\n",
       "      <td>2.00</td>\n",
       "      <td>5.50</td>\n",
       "      <td>5.00</td>\n",
       "      <td>3.0</td>\n",
       "      <td>NaN</td>\n",
       "      <td>NaN</td>\n",
       "      <td>NaN</td>\n",
       "      <td>NaN</td>\n",
       "      <td>NaT</td>\n",
       "    </tr>\n",
       "    <tr>\n",
       "      <th>1</th>\n",
       "      <td>018000002</td>\n",
       "      <td>ĐỖ VĂN AN</td>\n",
       "      <td>09/12/1998</td>\n",
       "      <td>Sở GDĐT Bắc Giang</td>\n",
       "      <td>Nam</td>\n",
       "      <td>Toán:   5.50   Ngữ văn:   5.25   Địa lí:   5.5...</td>\n",
       "      <td>5.50</td>\n",
       "      <td>5.25</td>\n",
       "      <td>5.50</td>\n",
       "      <td>NaN</td>\n",
       "      <td>3.68</td>\n",
       "      <td>NaN</td>\n",
       "      <td>NaN</td>\n",
       "      <td>NaN</td>\n",
       "      <td>NaT</td>\n",
       "    </tr>\n",
       "    <tr>\n",
       "      <th>2</th>\n",
       "      <td>018000003</td>\n",
       "      <td>ĐỖ XUÂN AN</td>\n",
       "      <td>12/08/1997</td>\n",
       "      <td>Sở GDĐT Bắc Giang</td>\n",
       "      <td>Nam</td>\n",
       "      <td>Toán:   4.50   Ngữ văn:   5.50   Địa lí:   3.7...</td>\n",
       "      <td>4.50</td>\n",
       "      <td>5.50</td>\n",
       "      <td>3.75</td>\n",
       "      <td>NaN</td>\n",
       "      <td>2.25</td>\n",
       "      <td>NaN</td>\n",
       "      <td>NaN</td>\n",
       "      <td>NaN</td>\n",
       "      <td>NaT</td>\n",
       "    </tr>\n",
       "    <tr>\n",
       "      <th>3</th>\n",
       "      <td>018000004</td>\n",
       "      <td>ĐẶNG PHÚC AN</td>\n",
       "      <td>19/03/1998</td>\n",
       "      <td>Sở GDĐT Bắc Giang</td>\n",
       "      <td>Nữ</td>\n",
       "      <td>Toán:   3.00   Ngữ văn:   6.00   Địa lí:   5.5...</td>\n",
       "      <td>3.00</td>\n",
       "      <td>6.00</td>\n",
       "      <td>5.50</td>\n",
       "      <td>NaN</td>\n",
       "      <td>1.50</td>\n",
       "      <td>NaN</td>\n",
       "      <td>NaN</td>\n",
       "      <td>NaN</td>\n",
       "      <td>NaT</td>\n",
       "    </tr>\n",
       "    <tr>\n",
       "      <th>4</th>\n",
       "      <td>018000005</td>\n",
       "      <td>ĐẶNG VĂN AN</td>\n",
       "      <td>25/10/1998</td>\n",
       "      <td>Sở GDĐT Bắc Giang</td>\n",
       "      <td>Nam</td>\n",
       "      <td>Toán:   2.25   Ngữ văn:   4.75   Địa lí:   5.2...</td>\n",
       "      <td>2.25</td>\n",
       "      <td>4.75</td>\n",
       "      <td>5.25</td>\n",
       "      <td>NaN</td>\n",
       "      <td>2.00</td>\n",
       "      <td>NaN</td>\n",
       "      <td>NaN</td>\n",
       "      <td>NaN</td>\n",
       "      <td>NaT</td>\n",
       "    </tr>\n",
       "    <tr>\n",
       "      <th>...</th>\n",
       "      <td>...</td>\n",
       "      <td>...</td>\n",
       "      <td>...</td>\n",
       "      <td>...</td>\n",
       "      <td>...</td>\n",
       "      <td>...</td>\n",
       "      <td>...</td>\n",
       "      <td>...</td>\n",
       "      <td>...</td>\n",
       "      <td>...</td>\n",
       "      <td>...</td>\n",
       "      <td>...</td>\n",
       "      <td>...</td>\n",
       "      <td>...</td>\n",
       "      <td>...</td>\n",
       "    </tr>\n",
       "    <tr>\n",
       "      <th>34821</th>\n",
       "      <td>HUI014539</td>\n",
       "      <td>VÒNG NGỌC YẾN</td>\n",
       "      <td>15/05/1998</td>\n",
       "      <td>Trường Đại học Công nghiệp Tp. HCM</td>\n",
       "      <td>Nữ</td>\n",
       "      <td>Toán:   0.75   Ngữ văn:   5.00   Hóa học:   4....</td>\n",
       "      <td>0.75</td>\n",
       "      <td>5.00</td>\n",
       "      <td>NaN</td>\n",
       "      <td>NaN</td>\n",
       "      <td>NaN</td>\n",
       "      <td>5.2</td>\n",
       "      <td>NaN</td>\n",
       "      <td>4.8</td>\n",
       "      <td>NaT</td>\n",
       "    </tr>\n",
       "    <tr>\n",
       "      <th>34822</th>\n",
       "      <td>HUI014540</td>\n",
       "      <td>VÒNG THANH YẾN</td>\n",
       "      <td>09/09/1998</td>\n",
       "      <td>Trường Đại học Công nghiệp Tp. HCM</td>\n",
       "      <td>Nữ</td>\n",
       "      <td>Toán:   4.75   Ngữ văn:   5.75   Vật lí:   6.8...</td>\n",
       "      <td>4.75</td>\n",
       "      <td>5.75</td>\n",
       "      <td>NaN</td>\n",
       "      <td>NaN</td>\n",
       "      <td>3.33</td>\n",
       "      <td>4.6</td>\n",
       "      <td>6.8</td>\n",
       "      <td>4.6</td>\n",
       "      <td>NaT</td>\n",
       "    </tr>\n",
       "    <tr>\n",
       "      <th>34823</th>\n",
       "      <td>HUI014541</td>\n",
       "      <td>VŨ THỊ BẢO YẾN</td>\n",
       "      <td>19/05/1998</td>\n",
       "      <td>Trường Đại học Công nghiệp Tp. HCM</td>\n",
       "      <td>Nữ</td>\n",
       "      <td>Toán:   4.00   Ngữ văn:   5.50   Vật lí:   5.6...</td>\n",
       "      <td>4.00</td>\n",
       "      <td>5.50</td>\n",
       "      <td>NaN</td>\n",
       "      <td>NaN</td>\n",
       "      <td>3.60</td>\n",
       "      <td>NaN</td>\n",
       "      <td>5.6</td>\n",
       "      <td>NaN</td>\n",
       "      <td>NaT</td>\n",
       "    </tr>\n",
       "    <tr>\n",
       "      <th>34824</th>\n",
       "      <td>HUI014542</td>\n",
       "      <td>VŨ THỊ YẾN</td>\n",
       "      <td>13/01/1998</td>\n",
       "      <td>Trường Đại học Công nghiệp Tp. HCM</td>\n",
       "      <td>Nữ</td>\n",
       "      <td>Toán:   5.75   Ngữ văn:   6.00   Vật lí:   7.4...</td>\n",
       "      <td>5.75</td>\n",
       "      <td>6.00</td>\n",
       "      <td>NaN</td>\n",
       "      <td>NaN</td>\n",
       "      <td>2.88</td>\n",
       "      <td>NaN</td>\n",
       "      <td>7.4</td>\n",
       "      <td>4.8</td>\n",
       "      <td>NaT</td>\n",
       "    </tr>\n",
       "    <tr>\n",
       "      <th>34825</th>\n",
       "      <td>HUI014543</td>\n",
       "      <td>VƯƠNG THỊ YẾN</td>\n",
       "      <td>05/02/1998</td>\n",
       "      <td>Trường Đại học Công nghiệp Tp. HCM</td>\n",
       "      <td>Nữ</td>\n",
       "      <td>Toán:   2.50   Ngữ văn:   4.25   Vật lí:   4.2...</td>\n",
       "      <td>2.50</td>\n",
       "      <td>4.25</td>\n",
       "      <td>NaN</td>\n",
       "      <td>NaN</td>\n",
       "      <td>3.00</td>\n",
       "      <td>4.4</td>\n",
       "      <td>4.2</td>\n",
       "      <td>4.4</td>\n",
       "      <td>NaT</td>\n",
       "    </tr>\n",
       "  </tbody>\n",
       "</table>\n",
       "<p>34826 rows × 15 columns</p>\n",
       "</div>"
      ],
      "text/plain": [
       "       SOBAODANH          HO_TEN   NGAY_SINH  \\\n",
       "0      018000001   DƯƠNG VIỆT AN  12/03/1998   \n",
       "1      018000002       ĐỖ VĂN AN  09/12/1998   \n",
       "2      018000003      ĐỖ XUÂN AN  12/08/1997   \n",
       "3      018000004    ĐẶNG PHÚC AN  19/03/1998   \n",
       "4      018000005     ĐẶNG VĂN AN  25/10/1998   \n",
       "...          ...             ...         ...   \n",
       "34821  HUI014539   VÒNG NGỌC YẾN  15/05/1998   \n",
       "34822  HUI014540  VÒNG THANH YẾN  09/09/1998   \n",
       "34823  HUI014541  VŨ THỊ BẢO YẾN  19/05/1998   \n",
       "34824  HUI014542      VŨ THỊ YẾN  13/01/1998   \n",
       "34825  HUI014543   VƯƠNG THỊ YẾN  05/02/1998   \n",
       "\n",
       "                               TEN_CUMTHI GIOI_TINH  \\\n",
       "0                       Sở GDĐT Bắc Giang       Nam   \n",
       "1                       Sở GDĐT Bắc Giang       Nam   \n",
       "2                       Sở GDĐT Bắc Giang       Nam   \n",
       "3                       Sở GDĐT Bắc Giang        Nữ   \n",
       "4                       Sở GDĐT Bắc Giang       Nam   \n",
       "...                                   ...       ...   \n",
       "34821  Trường Đại học Công nghiệp Tp. HCM        Nữ   \n",
       "34822  Trường Đại học Công nghiệp Tp. HCM        Nữ   \n",
       "34823  Trường Đại học Công nghiệp Tp. HCM        Nữ   \n",
       "34824  Trường Đại học Công nghiệp Tp. HCM        Nữ   \n",
       "34825  Trường Đại học Công nghiệp Tp. HCM        Nữ   \n",
       "\n",
       "                                                DIEM_THI  Toán  Ngữ văn  \\\n",
       "0      Toán:   2.00   Ngữ văn:   5.50   Lịch sử:   3....  2.00     5.50   \n",
       "1      Toán:   5.50   Ngữ văn:   5.25   Địa lí:   5.5...  5.50     5.25   \n",
       "2      Toán:   4.50   Ngữ văn:   5.50   Địa lí:   3.7...  4.50     5.50   \n",
       "3      Toán:   3.00   Ngữ văn:   6.00   Địa lí:   5.5...  3.00     6.00   \n",
       "4      Toán:   2.25   Ngữ văn:   4.75   Địa lí:   5.2...  2.25     4.75   \n",
       "...                                                  ...   ...      ...   \n",
       "34821  Toán:   0.75   Ngữ văn:   5.00   Hóa học:   4....  0.75     5.00   \n",
       "34822  Toán:   4.75   Ngữ văn:   5.75   Vật lí:   6.8...  4.75     5.75   \n",
       "34823  Toán:   4.00   Ngữ văn:   5.50   Vật lí:   5.6...  4.00     5.50   \n",
       "34824  Toán:   5.75   Ngữ văn:   6.00   Vật lí:   7.4...  5.75     6.00   \n",
       "34825  Toán:   2.50   Ngữ văn:   4.25   Vật lí:   4.2...  2.50     4.25   \n",
       "\n",
       "       Địa lí  Lịch sử  Tiếng Anh  Sinh học  Vật lí  Hóa học ngaysinh  \n",
       "0        5.00      3.0        NaN       NaN     NaN      NaN      NaT  \n",
       "1        5.50      NaN       3.68       NaN     NaN      NaN      NaT  \n",
       "2        3.75      NaN       2.25       NaN     NaN      NaN      NaT  \n",
       "3        5.50      NaN       1.50       NaN     NaN      NaN      NaT  \n",
       "4        5.25      NaN       2.00       NaN     NaN      NaN      NaT  \n",
       "...       ...      ...        ...       ...     ...      ...      ...  \n",
       "34821     NaN      NaN        NaN       5.2     NaN      4.8      NaT  \n",
       "34822     NaN      NaN       3.33       4.6     6.8      4.6      NaT  \n",
       "34823     NaN      NaN       3.60       NaN     5.6      NaN      NaT  \n",
       "34824     NaN      NaN       2.88       NaN     7.4      4.8      NaT  \n",
       "34825     NaN      NaN       3.00       4.4     4.2      4.4      NaT  \n",
       "\n",
       "[34826 rows x 15 columns]"
      ]
     },
     "execution_count": 68,
     "metadata": {},
     "output_type": "execute_result"
    }
   ],
   "source": [
    "DiemThi[DiemThi.ngaysinh.isnull()]"
   ]
  },
  {
   "cell_type": "code",
   "execution_count": 69,
   "id": "4d04be63-3350-4d2a-91af-f7ffcb7ee909",
   "metadata": {},
   "outputs": [
    {
     "data": {
      "text/html": [
       "<div>\n",
       "<style scoped>\n",
       "    .dataframe tbody tr th:only-of-type {\n",
       "        vertical-align: middle;\n",
       "    }\n",
       "\n",
       "    .dataframe tbody tr th {\n",
       "        vertical-align: top;\n",
       "    }\n",
       "\n",
       "    .dataframe thead th {\n",
       "        text-align: right;\n",
       "    }\n",
       "</style>\n",
       "<table border=\"1\" class=\"dataframe\">\n",
       "  <thead>\n",
       "    <tr style=\"text-align: right;\">\n",
       "      <th></th>\n",
       "      <th>SOBAODANH</th>\n",
       "      <th>HO_TEN</th>\n",
       "      <th>NGAY_SINH</th>\n",
       "      <th>TEN_CUMTHI</th>\n",
       "      <th>GIOI_TINH</th>\n",
       "      <th>DIEM_THI</th>\n",
       "      <th>Toán</th>\n",
       "      <th>Ngữ văn</th>\n",
       "      <th>Địa lí</th>\n",
       "      <th>Lịch sử</th>\n",
       "      <th>Tiếng Anh</th>\n",
       "      <th>Sinh học</th>\n",
       "      <th>Vật lí</th>\n",
       "      <th>Hóa học</th>\n",
       "      <th>ngaysinh</th>\n",
       "    </tr>\n",
       "  </thead>\n",
       "  <tbody>\n",
       "    <tr>\n",
       "      <th>0</th>\n",
       "      <td>018000001</td>\n",
       "      <td>DƯƠNG VIỆT AN</td>\n",
       "      <td>12/03/1998</td>\n",
       "      <td>Sở GDĐT Bắc Giang</td>\n",
       "      <td>Nam</td>\n",
       "      <td>Toán:   2.00   Ngữ văn:   5.50   Lịch sử:   3....</td>\n",
       "      <td>2.00</td>\n",
       "      <td>5.50</td>\n",
       "      <td>5.00</td>\n",
       "      <td>3.0</td>\n",
       "      <td>NaN</td>\n",
       "      <td>NaN</td>\n",
       "      <td>NaN</td>\n",
       "      <td>NaN</td>\n",
       "      <td>NaT</td>\n",
       "    </tr>\n",
       "    <tr>\n",
       "      <th>1</th>\n",
       "      <td>018000002</td>\n",
       "      <td>ĐỖ VĂN AN</td>\n",
       "      <td>09/12/1998</td>\n",
       "      <td>Sở GDĐT Bắc Giang</td>\n",
       "      <td>Nam</td>\n",
       "      <td>Toán:   5.50   Ngữ văn:   5.25   Địa lí:   5.5...</td>\n",
       "      <td>5.50</td>\n",
       "      <td>5.25</td>\n",
       "      <td>5.50</td>\n",
       "      <td>NaN</td>\n",
       "      <td>3.68</td>\n",
       "      <td>NaN</td>\n",
       "      <td>NaN</td>\n",
       "      <td>NaN</td>\n",
       "      <td>NaT</td>\n",
       "    </tr>\n",
       "    <tr>\n",
       "      <th>2</th>\n",
       "      <td>018000003</td>\n",
       "      <td>ĐỖ XUÂN AN</td>\n",
       "      <td>12/08/1997</td>\n",
       "      <td>Sở GDĐT Bắc Giang</td>\n",
       "      <td>Nam</td>\n",
       "      <td>Toán:   4.50   Ngữ văn:   5.50   Địa lí:   3.7...</td>\n",
       "      <td>4.50</td>\n",
       "      <td>5.50</td>\n",
       "      <td>3.75</td>\n",
       "      <td>NaN</td>\n",
       "      <td>2.25</td>\n",
       "      <td>NaN</td>\n",
       "      <td>NaN</td>\n",
       "      <td>NaN</td>\n",
       "      <td>NaT</td>\n",
       "    </tr>\n",
       "    <tr>\n",
       "      <th>3</th>\n",
       "      <td>018000004</td>\n",
       "      <td>ĐẶNG PHÚC AN</td>\n",
       "      <td>19/03/1998</td>\n",
       "      <td>Sở GDĐT Bắc Giang</td>\n",
       "      <td>Nữ</td>\n",
       "      <td>Toán:   3.00   Ngữ văn:   6.00   Địa lí:   5.5...</td>\n",
       "      <td>3.00</td>\n",
       "      <td>6.00</td>\n",
       "      <td>5.50</td>\n",
       "      <td>NaN</td>\n",
       "      <td>1.50</td>\n",
       "      <td>NaN</td>\n",
       "      <td>NaN</td>\n",
       "      <td>NaN</td>\n",
       "      <td>NaT</td>\n",
       "    </tr>\n",
       "    <tr>\n",
       "      <th>4</th>\n",
       "      <td>018000005</td>\n",
       "      <td>ĐẶNG VĂN AN</td>\n",
       "      <td>25/10/1998</td>\n",
       "      <td>Sở GDĐT Bắc Giang</td>\n",
       "      <td>Nam</td>\n",
       "      <td>Toán:   2.25   Ngữ văn:   4.75   Địa lí:   5.2...</td>\n",
       "      <td>2.25</td>\n",
       "      <td>4.75</td>\n",
       "      <td>5.25</td>\n",
       "      <td>NaN</td>\n",
       "      <td>2.00</td>\n",
       "      <td>NaN</td>\n",
       "      <td>NaN</td>\n",
       "      <td>NaN</td>\n",
       "      <td>NaT</td>\n",
       "    </tr>\n",
       "    <tr>\n",
       "      <th>...</th>\n",
       "      <td>...</td>\n",
       "      <td>...</td>\n",
       "      <td>...</td>\n",
       "      <td>...</td>\n",
       "      <td>...</td>\n",
       "      <td>...</td>\n",
       "      <td>...</td>\n",
       "      <td>...</td>\n",
       "      <td>...</td>\n",
       "      <td>...</td>\n",
       "      <td>...</td>\n",
       "      <td>...</td>\n",
       "      <td>...</td>\n",
       "      <td>...</td>\n",
       "      <td>...</td>\n",
       "    </tr>\n",
       "    <tr>\n",
       "      <th>34821</th>\n",
       "      <td>HUI014539</td>\n",
       "      <td>VÒNG NGỌC YẾN</td>\n",
       "      <td>15/05/1998</td>\n",
       "      <td>Trường Đại học Công nghiệp Tp. HCM</td>\n",
       "      <td>Nữ</td>\n",
       "      <td>Toán:   0.75   Ngữ văn:   5.00   Hóa học:   4....</td>\n",
       "      <td>0.75</td>\n",
       "      <td>5.00</td>\n",
       "      <td>NaN</td>\n",
       "      <td>NaN</td>\n",
       "      <td>NaN</td>\n",
       "      <td>5.2</td>\n",
       "      <td>NaN</td>\n",
       "      <td>4.8</td>\n",
       "      <td>NaT</td>\n",
       "    </tr>\n",
       "    <tr>\n",
       "      <th>34822</th>\n",
       "      <td>HUI014540</td>\n",
       "      <td>VÒNG THANH YẾN</td>\n",
       "      <td>09/09/1998</td>\n",
       "      <td>Trường Đại học Công nghiệp Tp. HCM</td>\n",
       "      <td>Nữ</td>\n",
       "      <td>Toán:   4.75   Ngữ văn:   5.75   Vật lí:   6.8...</td>\n",
       "      <td>4.75</td>\n",
       "      <td>5.75</td>\n",
       "      <td>NaN</td>\n",
       "      <td>NaN</td>\n",
       "      <td>3.33</td>\n",
       "      <td>4.6</td>\n",
       "      <td>6.8</td>\n",
       "      <td>4.6</td>\n",
       "      <td>NaT</td>\n",
       "    </tr>\n",
       "    <tr>\n",
       "      <th>34823</th>\n",
       "      <td>HUI014541</td>\n",
       "      <td>VŨ THỊ BẢO YẾN</td>\n",
       "      <td>19/05/1998</td>\n",
       "      <td>Trường Đại học Công nghiệp Tp. HCM</td>\n",
       "      <td>Nữ</td>\n",
       "      <td>Toán:   4.00   Ngữ văn:   5.50   Vật lí:   5.6...</td>\n",
       "      <td>4.00</td>\n",
       "      <td>5.50</td>\n",
       "      <td>NaN</td>\n",
       "      <td>NaN</td>\n",
       "      <td>3.60</td>\n",
       "      <td>NaN</td>\n",
       "      <td>5.6</td>\n",
       "      <td>NaN</td>\n",
       "      <td>NaT</td>\n",
       "    </tr>\n",
       "    <tr>\n",
       "      <th>34824</th>\n",
       "      <td>HUI014542</td>\n",
       "      <td>VŨ THỊ YẾN</td>\n",
       "      <td>13/01/1998</td>\n",
       "      <td>Trường Đại học Công nghiệp Tp. HCM</td>\n",
       "      <td>Nữ</td>\n",
       "      <td>Toán:   5.75   Ngữ văn:   6.00   Vật lí:   7.4...</td>\n",
       "      <td>5.75</td>\n",
       "      <td>6.00</td>\n",
       "      <td>NaN</td>\n",
       "      <td>NaN</td>\n",
       "      <td>2.88</td>\n",
       "      <td>NaN</td>\n",
       "      <td>7.4</td>\n",
       "      <td>4.8</td>\n",
       "      <td>NaT</td>\n",
       "    </tr>\n",
       "    <tr>\n",
       "      <th>34825</th>\n",
       "      <td>HUI014543</td>\n",
       "      <td>VƯƠNG THỊ YẾN</td>\n",
       "      <td>05/02/1998</td>\n",
       "      <td>Trường Đại học Công nghiệp Tp. HCM</td>\n",
       "      <td>Nữ</td>\n",
       "      <td>Toán:   2.50   Ngữ văn:   4.25   Vật lí:   4.2...</td>\n",
       "      <td>2.50</td>\n",
       "      <td>4.25</td>\n",
       "      <td>NaN</td>\n",
       "      <td>NaN</td>\n",
       "      <td>3.00</td>\n",
       "      <td>4.4</td>\n",
       "      <td>4.2</td>\n",
       "      <td>4.4</td>\n",
       "      <td>NaT</td>\n",
       "    </tr>\n",
       "  </tbody>\n",
       "</table>\n",
       "<p>34826 rows × 15 columns</p>\n",
       "</div>"
      ],
      "text/plain": [
       "       SOBAODANH          HO_TEN   NGAY_SINH  \\\n",
       "0      018000001   DƯƠNG VIỆT AN  12/03/1998   \n",
       "1      018000002       ĐỖ VĂN AN  09/12/1998   \n",
       "2      018000003      ĐỖ XUÂN AN  12/08/1997   \n",
       "3      018000004    ĐẶNG PHÚC AN  19/03/1998   \n",
       "4      018000005     ĐẶNG VĂN AN  25/10/1998   \n",
       "...          ...             ...         ...   \n",
       "34821  HUI014539   VÒNG NGỌC YẾN  15/05/1998   \n",
       "34822  HUI014540  VÒNG THANH YẾN  09/09/1998   \n",
       "34823  HUI014541  VŨ THỊ BẢO YẾN  19/05/1998   \n",
       "34824  HUI014542      VŨ THỊ YẾN  13/01/1998   \n",
       "34825  HUI014543   VƯƠNG THỊ YẾN  05/02/1998   \n",
       "\n",
       "                               TEN_CUMTHI GIOI_TINH  \\\n",
       "0                       Sở GDĐT Bắc Giang       Nam   \n",
       "1                       Sở GDĐT Bắc Giang       Nam   \n",
       "2                       Sở GDĐT Bắc Giang       Nam   \n",
       "3                       Sở GDĐT Bắc Giang        Nữ   \n",
       "4                       Sở GDĐT Bắc Giang       Nam   \n",
       "...                                   ...       ...   \n",
       "34821  Trường Đại học Công nghiệp Tp. HCM        Nữ   \n",
       "34822  Trường Đại học Công nghiệp Tp. HCM        Nữ   \n",
       "34823  Trường Đại học Công nghiệp Tp. HCM        Nữ   \n",
       "34824  Trường Đại học Công nghiệp Tp. HCM        Nữ   \n",
       "34825  Trường Đại học Công nghiệp Tp. HCM        Nữ   \n",
       "\n",
       "                                                DIEM_THI  Toán  Ngữ văn  \\\n",
       "0      Toán:   2.00   Ngữ văn:   5.50   Lịch sử:   3....  2.00     5.50   \n",
       "1      Toán:   5.50   Ngữ văn:   5.25   Địa lí:   5.5...  5.50     5.25   \n",
       "2      Toán:   4.50   Ngữ văn:   5.50   Địa lí:   3.7...  4.50     5.50   \n",
       "3      Toán:   3.00   Ngữ văn:   6.00   Địa lí:   5.5...  3.00     6.00   \n",
       "4      Toán:   2.25   Ngữ văn:   4.75   Địa lí:   5.2...  2.25     4.75   \n",
       "...                                                  ...   ...      ...   \n",
       "34821  Toán:   0.75   Ngữ văn:   5.00   Hóa học:   4....  0.75     5.00   \n",
       "34822  Toán:   4.75   Ngữ văn:   5.75   Vật lí:   6.8...  4.75     5.75   \n",
       "34823  Toán:   4.00   Ngữ văn:   5.50   Vật lí:   5.6...  4.00     5.50   \n",
       "34824  Toán:   5.75   Ngữ văn:   6.00   Vật lí:   7.4...  5.75     6.00   \n",
       "34825  Toán:   2.50   Ngữ văn:   4.25   Vật lí:   4.2...  2.50     4.25   \n",
       "\n",
       "       Địa lí  Lịch sử  Tiếng Anh  Sinh học  Vật lí  Hóa học ngaysinh  \n",
       "0        5.00      3.0        NaN       NaN     NaN      NaN      NaT  \n",
       "1        5.50      NaN       3.68       NaN     NaN      NaN      NaT  \n",
       "2        3.75      NaN       2.25       NaN     NaN      NaN      NaT  \n",
       "3        5.50      NaN       1.50       NaN     NaN      NaN      NaT  \n",
       "4        5.25      NaN       2.00       NaN     NaN      NaN      NaT  \n",
       "...       ...      ...        ...       ...     ...      ...      ...  \n",
       "34821     NaN      NaN        NaN       5.2     NaN      4.8      NaT  \n",
       "34822     NaN      NaN       3.33       4.6     6.8      4.6      NaT  \n",
       "34823     NaN      NaN       3.60       NaN     5.6      NaN      NaT  \n",
       "34824     NaN      NaN       2.88       NaN     7.4      4.8      NaT  \n",
       "34825     NaN      NaN       3.00       4.4     4.2      4.4      NaT  \n",
       "\n",
       "[34826 rows x 15 columns]"
      ]
     },
     "execution_count": 69,
     "metadata": {},
     "output_type": "execute_result"
    }
   ],
   "source": [
    "idx = DiemThi[DiemThi.ngaysinh.isnull()].index\n",
    "DiemThi.iloc[idx]"
   ]
  },
  {
   "cell_type": "markdown",
   "id": "bb0e9abd-2cc0-4bc6-a259-11286441e8f6",
   "metadata": {},
   "source": [
    "**d. Thay thế ngày không hợp lệ: '00' => '01'; '31/11/1997' => '30/11/1997', '29/02' => '28/02'**"
   ]
  },
  {
   "cell_type": "code",
   "execution_count": null,
   "id": "666c49df-53ae-436f-a24a-7dcc9267b69c",
   "metadata": {},
   "outputs": [],
   "source": [
    "DiemThi['NGAY_SINH'] = DiemThi['NGAY_SINH'].str.replace('00', '01')\\\n",
    "                                           .str.replace('31/11/1997', '30/11/1997')\\\n",
    "                                           .str.replace('29/02', '28/02')"
   ]
  },
  {
   "cell_type": "markdown",
   "id": "25482e5d-edd6-4964-822f-c7220fd7ba64",
   "metadata": {},
   "source": [
    "**e. Chuyển cột 'NGAY_SINH' về kiểu datetime**"
   ]
  },
  {
   "cell_type": "code",
   "execution_count": null,
   "id": "bdcc7f4e-ec40-4736-813c-6d8a0567f06f",
   "metadata": {},
   "outputs": [],
   "source": [
    "DiemThi['NGAY_SINH'] = pd.to_datetime(DiemThi['NGAY_SINH'], dayfirst = True)"
   ]
  },
  {
   "cell_type": "markdown",
   "id": "0181cee7-7147-42cd-97b3-7e84bf7a5e99",
   "metadata": {},
   "source": [
    "**f. Xóa cột 'DIEM_THI', 'ngaysinh' khỏi dataframe diem_thi**"
   ]
  },
  {
   "cell_type": "code",
   "execution_count": null,
   "id": "097b8df5-eb30-4259-b402-65e2dd69fd94",
   "metadata": {},
   "outputs": [],
   "source": [
    "DiemThi = DiemThi.drop('ngaysinh', axis = 1)"
   ]
  },
  {
   "cell_type": "code",
   "execution_count": 77,
   "id": "447c63b1-7c38-4e20-8b12-fb56cd37907d",
   "metadata": {},
   "outputs": [
    {
     "data": {
      "text/html": [
       "<div>\n",
       "<style scoped>\n",
       "    .dataframe tbody tr th:only-of-type {\n",
       "        vertical-align: middle;\n",
       "    }\n",
       "\n",
       "    .dataframe tbody tr th {\n",
       "        vertical-align: top;\n",
       "    }\n",
       "\n",
       "    .dataframe thead th {\n",
       "        text-align: right;\n",
       "    }\n",
       "</style>\n",
       "<table border=\"1\" class=\"dataframe\">\n",
       "  <thead>\n",
       "    <tr style=\"text-align: right;\">\n",
       "      <th></th>\n",
       "      <th>SOBAODANH</th>\n",
       "      <th>HO_TEN</th>\n",
       "      <th>NGAY_SINH</th>\n",
       "      <th>TEN_CUMTHI</th>\n",
       "      <th>GIOI_TINH</th>\n",
       "      <th>DIEM_THI</th>\n",
       "      <th>Toán</th>\n",
       "      <th>Ngữ văn</th>\n",
       "      <th>Địa lí</th>\n",
       "      <th>Lịch sử</th>\n",
       "      <th>Tiếng Anh</th>\n",
       "      <th>Sinh học</th>\n",
       "      <th>Vật lí</th>\n",
       "      <th>Hóa học</th>\n",
       "    </tr>\n",
       "  </thead>\n",
       "  <tbody>\n",
       "    <tr>\n",
       "      <th>0</th>\n",
       "      <td>018000001</td>\n",
       "      <td>DƯƠNG VIỆT AN</td>\n",
       "      <td>1998-03-12</td>\n",
       "      <td>Sở GDĐT Bắc Giang</td>\n",
       "      <td>Nam</td>\n",
       "      <td>Toán:   2.00   Ngữ văn:   5.50   Lịch sử:   3....</td>\n",
       "      <td>2.00</td>\n",
       "      <td>5.50</td>\n",
       "      <td>5.00</td>\n",
       "      <td>3.0</td>\n",
       "      <td>NaN</td>\n",
       "      <td>NaN</td>\n",
       "      <td>NaN</td>\n",
       "      <td>NaN</td>\n",
       "    </tr>\n",
       "    <tr>\n",
       "      <th>1</th>\n",
       "      <td>018000002</td>\n",
       "      <td>ĐỖ VĂN AN</td>\n",
       "      <td>1998-12-09</td>\n",
       "      <td>Sở GDĐT Bắc Giang</td>\n",
       "      <td>Nam</td>\n",
       "      <td>Toán:   5.50   Ngữ văn:   5.25   Địa lí:   5.5...</td>\n",
       "      <td>5.50</td>\n",
       "      <td>5.25</td>\n",
       "      <td>5.50</td>\n",
       "      <td>NaN</td>\n",
       "      <td>3.68</td>\n",
       "      <td>NaN</td>\n",
       "      <td>NaN</td>\n",
       "      <td>NaN</td>\n",
       "    </tr>\n",
       "    <tr>\n",
       "      <th>2</th>\n",
       "      <td>018000003</td>\n",
       "      <td>ĐỖ XUÂN AN</td>\n",
       "      <td>1997-08-12</td>\n",
       "      <td>Sở GDĐT Bắc Giang</td>\n",
       "      <td>Nam</td>\n",
       "      <td>Toán:   4.50   Ngữ văn:   5.50   Địa lí:   3.7...</td>\n",
       "      <td>4.50</td>\n",
       "      <td>5.50</td>\n",
       "      <td>3.75</td>\n",
       "      <td>NaN</td>\n",
       "      <td>2.25</td>\n",
       "      <td>NaN</td>\n",
       "      <td>NaN</td>\n",
       "      <td>NaN</td>\n",
       "    </tr>\n",
       "    <tr>\n",
       "      <th>3</th>\n",
       "      <td>018000004</td>\n",
       "      <td>ĐẶNG PHÚC AN</td>\n",
       "      <td>1998-03-19</td>\n",
       "      <td>Sở GDĐT Bắc Giang</td>\n",
       "      <td>Nữ</td>\n",
       "      <td>Toán:   3.00   Ngữ văn:   6.00   Địa lí:   5.5...</td>\n",
       "      <td>3.00</td>\n",
       "      <td>6.00</td>\n",
       "      <td>5.50</td>\n",
       "      <td>NaN</td>\n",
       "      <td>1.50</td>\n",
       "      <td>NaN</td>\n",
       "      <td>NaN</td>\n",
       "      <td>NaN</td>\n",
       "    </tr>\n",
       "    <tr>\n",
       "      <th>4</th>\n",
       "      <td>018000005</td>\n",
       "      <td>ĐẶNG VĂN AN</td>\n",
       "      <td>1998-10-25</td>\n",
       "      <td>Sở GDĐT Bắc Giang</td>\n",
       "      <td>Nam</td>\n",
       "      <td>Toán:   2.25   Ngữ văn:   4.75   Địa lí:   5.2...</td>\n",
       "      <td>2.25</td>\n",
       "      <td>4.75</td>\n",
       "      <td>5.25</td>\n",
       "      <td>NaN</td>\n",
       "      <td>2.00</td>\n",
       "      <td>NaN</td>\n",
       "      <td>NaN</td>\n",
       "      <td>NaN</td>\n",
       "    </tr>\n",
       "    <tr>\n",
       "      <th>...</th>\n",
       "      <td>...</td>\n",
       "      <td>...</td>\n",
       "      <td>...</td>\n",
       "      <td>...</td>\n",
       "      <td>...</td>\n",
       "      <td>...</td>\n",
       "      <td>...</td>\n",
       "      <td>...</td>\n",
       "      <td>...</td>\n",
       "      <td>...</td>\n",
       "      <td>...</td>\n",
       "      <td>...</td>\n",
       "      <td>...</td>\n",
       "      <td>...</td>\n",
       "    </tr>\n",
       "    <tr>\n",
       "      <th>34821</th>\n",
       "      <td>HUI014539</td>\n",
       "      <td>VÒNG NGỌC YẾN</td>\n",
       "      <td>1998-05-15</td>\n",
       "      <td>Trường Đại học Công nghiệp Tp. HCM</td>\n",
       "      <td>Nữ</td>\n",
       "      <td>Toán:   0.75   Ngữ văn:   5.00   Hóa học:   4....</td>\n",
       "      <td>0.75</td>\n",
       "      <td>5.00</td>\n",
       "      <td>NaN</td>\n",
       "      <td>NaN</td>\n",
       "      <td>NaN</td>\n",
       "      <td>5.2</td>\n",
       "      <td>NaN</td>\n",
       "      <td>4.8</td>\n",
       "    </tr>\n",
       "    <tr>\n",
       "      <th>34822</th>\n",
       "      <td>HUI014540</td>\n",
       "      <td>VÒNG THANH YẾN</td>\n",
       "      <td>1998-09-09</td>\n",
       "      <td>Trường Đại học Công nghiệp Tp. HCM</td>\n",
       "      <td>Nữ</td>\n",
       "      <td>Toán:   4.75   Ngữ văn:   5.75   Vật lí:   6.8...</td>\n",
       "      <td>4.75</td>\n",
       "      <td>5.75</td>\n",
       "      <td>NaN</td>\n",
       "      <td>NaN</td>\n",
       "      <td>3.33</td>\n",
       "      <td>4.6</td>\n",
       "      <td>6.8</td>\n",
       "      <td>4.6</td>\n",
       "    </tr>\n",
       "    <tr>\n",
       "      <th>34823</th>\n",
       "      <td>HUI014541</td>\n",
       "      <td>VŨ THỊ BẢO YẾN</td>\n",
       "      <td>1998-05-19</td>\n",
       "      <td>Trường Đại học Công nghiệp Tp. HCM</td>\n",
       "      <td>Nữ</td>\n",
       "      <td>Toán:   4.00   Ngữ văn:   5.50   Vật lí:   5.6...</td>\n",
       "      <td>4.00</td>\n",
       "      <td>5.50</td>\n",
       "      <td>NaN</td>\n",
       "      <td>NaN</td>\n",
       "      <td>3.60</td>\n",
       "      <td>NaN</td>\n",
       "      <td>5.6</td>\n",
       "      <td>NaN</td>\n",
       "    </tr>\n",
       "    <tr>\n",
       "      <th>34824</th>\n",
       "      <td>HUI014542</td>\n",
       "      <td>VŨ THỊ YẾN</td>\n",
       "      <td>1998-01-13</td>\n",
       "      <td>Trường Đại học Công nghiệp Tp. HCM</td>\n",
       "      <td>Nữ</td>\n",
       "      <td>Toán:   5.75   Ngữ văn:   6.00   Vật lí:   7.4...</td>\n",
       "      <td>5.75</td>\n",
       "      <td>6.00</td>\n",
       "      <td>NaN</td>\n",
       "      <td>NaN</td>\n",
       "      <td>2.88</td>\n",
       "      <td>NaN</td>\n",
       "      <td>7.4</td>\n",
       "      <td>4.8</td>\n",
       "    </tr>\n",
       "    <tr>\n",
       "      <th>34825</th>\n",
       "      <td>HUI014543</td>\n",
       "      <td>VƯƠNG THỊ YẾN</td>\n",
       "      <td>1998-02-05</td>\n",
       "      <td>Trường Đại học Công nghiệp Tp. HCM</td>\n",
       "      <td>Nữ</td>\n",
       "      <td>Toán:   2.50   Ngữ văn:   4.25   Vật lí:   4.2...</td>\n",
       "      <td>2.50</td>\n",
       "      <td>4.25</td>\n",
       "      <td>NaN</td>\n",
       "      <td>NaN</td>\n",
       "      <td>3.00</td>\n",
       "      <td>4.4</td>\n",
       "      <td>4.2</td>\n",
       "      <td>4.4</td>\n",
       "    </tr>\n",
       "  </tbody>\n",
       "</table>\n",
       "<p>34826 rows × 14 columns</p>\n",
       "</div>"
      ],
      "text/plain": [
       "       SOBAODANH          HO_TEN  NGAY_SINH  \\\n",
       "0      018000001   DƯƠNG VIỆT AN 1998-03-12   \n",
       "1      018000002       ĐỖ VĂN AN 1998-12-09   \n",
       "2      018000003      ĐỖ XUÂN AN 1997-08-12   \n",
       "3      018000004    ĐẶNG PHÚC AN 1998-03-19   \n",
       "4      018000005     ĐẶNG VĂN AN 1998-10-25   \n",
       "...          ...             ...        ...   \n",
       "34821  HUI014539   VÒNG NGỌC YẾN 1998-05-15   \n",
       "34822  HUI014540  VÒNG THANH YẾN 1998-09-09   \n",
       "34823  HUI014541  VŨ THỊ BẢO YẾN 1998-05-19   \n",
       "34824  HUI014542      VŨ THỊ YẾN 1998-01-13   \n",
       "34825  HUI014543   VƯƠNG THỊ YẾN 1998-02-05   \n",
       "\n",
       "                               TEN_CUMTHI GIOI_TINH  \\\n",
       "0                       Sở GDĐT Bắc Giang       Nam   \n",
       "1                       Sở GDĐT Bắc Giang       Nam   \n",
       "2                       Sở GDĐT Bắc Giang       Nam   \n",
       "3                       Sở GDĐT Bắc Giang        Nữ   \n",
       "4                       Sở GDĐT Bắc Giang       Nam   \n",
       "...                                   ...       ...   \n",
       "34821  Trường Đại học Công nghiệp Tp. HCM        Nữ   \n",
       "34822  Trường Đại học Công nghiệp Tp. HCM        Nữ   \n",
       "34823  Trường Đại học Công nghiệp Tp. HCM        Nữ   \n",
       "34824  Trường Đại học Công nghiệp Tp. HCM        Nữ   \n",
       "34825  Trường Đại học Công nghiệp Tp. HCM        Nữ   \n",
       "\n",
       "                                                DIEM_THI  Toán  Ngữ văn  \\\n",
       "0      Toán:   2.00   Ngữ văn:   5.50   Lịch sử:   3....  2.00     5.50   \n",
       "1      Toán:   5.50   Ngữ văn:   5.25   Địa lí:   5.5...  5.50     5.25   \n",
       "2      Toán:   4.50   Ngữ văn:   5.50   Địa lí:   3.7...  4.50     5.50   \n",
       "3      Toán:   3.00   Ngữ văn:   6.00   Địa lí:   5.5...  3.00     6.00   \n",
       "4      Toán:   2.25   Ngữ văn:   4.75   Địa lí:   5.2...  2.25     4.75   \n",
       "...                                                  ...   ...      ...   \n",
       "34821  Toán:   0.75   Ngữ văn:   5.00   Hóa học:   4....  0.75     5.00   \n",
       "34822  Toán:   4.75   Ngữ văn:   5.75   Vật lí:   6.8...  4.75     5.75   \n",
       "34823  Toán:   4.00   Ngữ văn:   5.50   Vật lí:   5.6...  4.00     5.50   \n",
       "34824  Toán:   5.75   Ngữ văn:   6.00   Vật lí:   7.4...  5.75     6.00   \n",
       "34825  Toán:   2.50   Ngữ văn:   4.25   Vật lí:   4.2...  2.50     4.25   \n",
       "\n",
       "       Địa lí  Lịch sử  Tiếng Anh  Sinh học  Vật lí  Hóa học  \n",
       "0        5.00      3.0        NaN       NaN     NaN      NaN  \n",
       "1        5.50      NaN       3.68       NaN     NaN      NaN  \n",
       "2        3.75      NaN       2.25       NaN     NaN      NaN  \n",
       "3        5.50      NaN       1.50       NaN     NaN      NaN  \n",
       "4        5.25      NaN       2.00       NaN     NaN      NaN  \n",
       "...       ...      ...        ...       ...     ...      ...  \n",
       "34821     NaN      NaN        NaN       5.2     NaN      4.8  \n",
       "34822     NaN      NaN       3.33       4.6     6.8      4.6  \n",
       "34823     NaN      NaN       3.60       NaN     5.6      NaN  \n",
       "34824     NaN      NaN       2.88       NaN     7.4      4.8  \n",
       "34825     NaN      NaN       3.00       4.4     4.2      4.4  \n",
       "\n",
       "[34826 rows x 14 columns]"
      ]
     },
     "execution_count": 77,
     "metadata": {},
     "output_type": "execute_result"
    }
   ],
   "source": [
    "DiemThi"
   ]
  },
  {
   "cell_type": "markdown",
   "id": "5aa124d5-b366-48d0-9385-9b84bdf13d8d",
   "metadata": {
    "jp-MarkdownHeadingCollapsed": true
   },
   "source": [
    "### Yêu cầu 4: Hãy vẽ biểu đồ phân phối tần suất điểm thi, mỗi điểm thi là 1 biểu đồ, nhận xét trên từng biểu đồ."
   ]
  },
  {
   "cell_type": "markdown",
   "id": "27c7f98e-c760-4766-bd59-70fad8d9784b",
   "metadata": {},
   "source": [
    "**Môn Toán**"
   ]
  },
  {
   "cell_type": "code",
   "execution_count": 79,
   "id": "1f77c5e9-fe8e-4949-aa96-d2134e108b1f",
   "metadata": {},
   "outputs": [
    {
     "data": {
      "image/png": "[encoded data removed]",
      "text/plain": [
       "<Figure size 500x400 with 1 Axes>"
      ]
     },
     "metadata": {},
     "output_type": "display_data"
    },
    {
     "data": {
      "image/png": "[encoded data removed]",
      "text/plain": [
       "<Figure size 500x400 with 1 Axes>"
      ]
     },
     "metadata": {},
     "output_type": "display_data"
    }
   ],
   "source": [
    "DiemThi.plot.hist(y = 'Toán', figsize=(5,4), legend = False);\n",
    "DiemThi.plot(y = 'Toán', kind = 'kde', xlim = (0, 10), figsize=(5,4), legend = False);"
   ]
  },
  {
   "cell_type": "markdown",
   "id": "681d2fef-38db-406e-be6a-78812af219fc",
   "metadata": {},
   "source": [
    "**Ngữ Văn**"
   ]
  },
  {
   "cell_type": "code",
   "execution_count": 82,
   "id": "59d67059-732b-4b6e-b52f-075bf4b1ff09",
   "metadata": {},
   "outputs": [
    {
     "data": {
      "image/png": "[encoded data removed]",
      "text/plain": [
       "<Figure size 500x400 with 1 Axes>"
      ]
     },
     "metadata": {},
     "output_type": "display_data"
    },
    {
     "data": {
      "image/png": "[encoded data removed]",
      "text/plain": [
       "<Figure size 500x400 with 1 Axes>"
      ]
     },
     "metadata": {},
     "output_type": "display_data"
    }
   ],
   "source": [
    "DiemThi.plot.hist(y = 'Ngữ văn', figsize=(5,4), legend = False);\n",
    "DiemThi.plot(y = 'Ngữ văn', kind = 'kde', xlim = (0, 10), figsize=(5,4), legend = False);"
   ]
  },
  {
   "cell_type": "markdown",
   "id": "f69f6762-be8e-4dfd-b8b6-111094451300",
   "metadata": {},
   "source": [
    "**Địa lí**"
   ]
  },
  {
   "cell_type": "code",
   "execution_count": 83,
   "id": "1235c276-7ad4-4ce3-8f59-d67843be4e2c",
   "metadata": {},
   "outputs": [
    {
     "data": {
      "image/png": "[encoded data removed]",
      "text/plain": [
       "<Figure size 500x400 with 1 Axes>"
      ]
     },
     "metadata": {},
     "output_type": "display_data"
    },
    {
     "data": {
      "image/png": "[encoded data removed]",
      "text/plain": [
       "<Figure size 500x400 with 1 Axes>"
      ]
     },
     "metadata": {},
     "output_type": "display_data"
    }
   ],
   "source": [
    "DiemThi.plot.hist(y = 'Địa lí', figsize=(5,4), legend = False);\n",
    "DiemThi.plot(y = 'Địa lí', kind = 'kde', xlim = (0, 10), figsize=(5,4), legend = False);"
   ]
  },
  {
   "cell_type": "markdown",
   "id": "886d6209-d159-437d-9e68-c79bb1270880",
   "metadata": {},
   "source": [
    "**Lịch sử**"
   ]
  },
  {
   "cell_type": "code",
   "execution_count": 84,
   "id": "74df8fbb-9501-4084-9347-133f3e070129",
   "metadata": {},
   "outputs": [
    {
     "data": {
      "image/png": "[encoded data removed]",
      "text/plain": [
       "<Figure size 500x400 with 1 Axes>"
      ]
     },
     "metadata": {},
     "output_type": "display_data"
    },
    {
     "data": {
      "image/png": "[encoded data removed]",
      "text/plain": [
       "<Figure size 500x400 with 1 Axes>"
      ]
     },
     "metadata": {},
     "output_type": "display_data"
    }
   ],
   "source": [
    "DiemThi.plot.hist(y = 'Lịch sử', figsize=(5,4), legend = False);\n",
    "DiemThi.plot(y = 'Lịch sử', kind = 'kde', xlim = (0, 10), figsize=(5,4), legend = False);"
   ]
  },
  {
   "cell_type": "markdown",
   "id": "9ae6cd34-2410-4a1f-a1cf-0218e8e40a50",
   "metadata": {},
   "source": [
    "**Tiếng Anh**"
   ]
  },
  {
   "cell_type": "code",
   "execution_count": 85,
   "id": "50f756d4-2f5f-455a-827d-a4f67fe564be",
   "metadata": {},
   "outputs": [
    {
     "data": {
      "image/png": "[encoded data removed]",
      "text/plain": [
       "<Figure size 500x400 with 1 Axes>"
      ]
     },
     "metadata": {},
     "output_type": "display_data"
    },
    {
     "data": {
      "image/png": "[encoded data removed]",
      "text/plain": [
       "<Figure size 500x400 with 1 Axes>"
      ]
     },
     "metadata": {},
     "output_type": "display_data"
    }
   ],
   "source": [
    "DiemThi.plot.hist(y = 'Tiếng Anh', figsize=(5,4), legend = False);\n",
    "DiemThi.plot(y = 'Tiếng Anh', kind = 'kde', xlim = (0, 10), figsize=(5,4), legend = False);"
   ]
  },
  {
   "cell_type": "markdown",
   "id": "7a3a7a92-f3a8-40f3-9408-a1031a21a305",
   "metadata": {},
   "source": [
    "**Sinh học**"
   ]
  },
  {
   "cell_type": "code",
   "execution_count": 86,
   "id": "10bce10d-0d6d-4d3f-a41c-459960b076d6",
   "metadata": {},
   "outputs": [
    {
     "data": {
      "image/png": "[encoded data removed]",
      "text/plain": [
       "<Figure size 500x400 with 1 Axes>"
      ]
     },
     "metadata": {},
     "output_type": "display_data"
    },
    {
     "data": {
      "image/png": "[encoded data removed]",
      "text/plain": [
       "<Figure size 500x400 with 1 Axes>"
      ]
     },
     "metadata": {},
     "output_type": "display_data"
    }
   ],
   "source": [
    "DiemThi.plot.hist(y = 'Sinh học', figsize=(5,4), legend = False);\n",
    "DiemThi.plot(y = 'Sinh học', kind = 'kde', xlim = (0, 10), figsize=(5,4), legend = False);"
   ]
  },
  {
   "cell_type": "markdown",
   "id": "922a8f81-d2bf-4cc3-91fa-9eb09fba3903",
   "metadata": {},
   "source": [
    "**Vật lí**"
   ]
  },
  {
   "cell_type": "code",
   "execution_count": 87,
   "id": "1458ba02-3576-45ad-9309-cb1ea820e09c",
   "metadata": {},
   "outputs": [
    {
     "data": {
      "image/png": "[encoded data removed]",
      "text/plain": [
       "<Figure size 500x400 with 1 Axes>"
      ]
     },
     "metadata": {},
     "output_type": "display_data"
    },
    {
     "data": {
      "image/png": "[encoded data removed]",
      "text/plain": [
       "<Figure size 500x400 with 1 Axes>"
      ]
     },
     "metadata": {},
     "output_type": "display_data"
    }
   ],
   "source": [
    "DiemThi.plot.hist(y = 'Vật lí', figsize=(5,4), legend = False);\n",
    "DiemThi.plot(y = 'Vật lí', kind = 'kde', xlim = (0, 10), figsize=(5,4), legend = False);"
   ]
  },
  {
   "cell_type": "markdown",
   "id": "7e0a5d83-51cc-47a4-9521-dbdd6193cfed",
   "metadata": {},
   "source": [
    "**Hóa học**"
   ]
  },
  {
   "cell_type": "code",
   "execution_count": 88,
   "id": "431c7bba-d569-433e-977b-d107d5b76025",
   "metadata": {},
   "outputs": [
    {
     "data": {
      "image/png": "[encoded data removed]",
      "text/plain": [
       "<Figure size 500x400 with 1 Axes>"
      ]
     },
     "metadata": {},
     "output_type": "display_data"
    },
    {
     "data": {
      "image/png": "[encoded data removed]",
      "text/plain": [
       "<Figure size 500x400 with 1 Axes>"
      ]
     },
     "metadata": {},
     "output_type": "display_data"
    }
   ],
   "source": [
    "DiemThi.plot.hist(y = 'Hóa học', figsize=(5,4), legend = False);\n",
    "DiemThi.plot(y = 'Hóa học', kind = 'kde', xlim = (0, 10), figsize=(5,4), legend = False);"
   ]
  },
  {
   "cell_type": "markdown",
   "id": "4368a4c5-f7d0-4c36-832f-9da0d4dae865",
   "metadata": {},
   "source": [
    "### Yêu cầu 5: Lưu lại dữ liệu sau khi đã chuẩn hóa để sử dụng."
   ]
  },
  {
   "cell_type": "code",
   "execution_count": 89,
   "id": "39bbd509-a160-427b-90c9-b9e4ffb73c6f",
   "metadata": {},
   "outputs": [],
   "source": [
    "DiemThi.to_excel('data7/data/Diem_thi_THPT_2016_new.xlsx')"
   ]
  }
 ],
 "metadata": {
  "kernelspec": {
   "display_name": "Python 3 (ipykernel)",
   "language": "python",
   "name": "python3"
  },
  "language_info": {
   "codemirror_mode": {
    "name": "ipython",
    "version": 3
   },
   "file_extension": ".py",
   "mimetype": "text/x-python",
   "name": "python",
   "nbconvert_exporter": "python",
   "pygments_lexer": "ipython3",
   "version": "3.11.8"
  }
 },
 "nbformat": 4,
 "nbformat_minor": 5
}
